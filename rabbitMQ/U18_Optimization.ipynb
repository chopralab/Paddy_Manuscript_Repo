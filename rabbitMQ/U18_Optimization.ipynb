{
 "cells": [
  {
   "cell_type": "markdown",
   "metadata": {},
   "source": [
    "# Continuous Flow Reaction Optimization Notebook"
   ]
  },
  {
   "cell_type": "markdown",
   "metadata": {},
   "source": [
    "### Import all packages to use for the model"
   ]
  },
  {
   "cell_type": "code",
   "execution_count": 1,
   "metadata": {},
   "outputs": [],
   "source": [
    "'''\n",
    "Steps to get EDBOplus working:\n",
    "1)Create and activate a conda environment\n",
    "2)Download and navigate to the edbopaper directory in a terminal window (or Anaconda prompt window) and pip install -r requirements.txt\n",
    "3)Put this .ipynb file in ANY directory (doesn't matter where it is).\n",
    "4)Set the path to edbopaper in sys.path.append below\n",
    "5)...\n",
    "6)Profit.\n",
    "\n",
    "'''\n",
    "\n",
    "import sys\n",
    "import numpy as np\n",
    "import pandas as pd\n",
    "import matplotlib.pyplot as plt\n",
    "import plotly.express as px\n",
    "import plotly.graph_objects as go\n",
    "\n",
    "# /mnt/c/Users/sanjay iyer\n",
    "import os\n",
    "import shutil\n",
    "import subprocess\n",
    "import time\n",
    "\n",
    "\n",
    "sys.path.append('/home/sanjay/github/Paddy2/Paddy_Manuscript_Repo/rabbitMQ')"
   ]
  },
  {
   "cell_type": "markdown",
   "metadata": {},
   "source": [
    "## Import EDBO_plus model"
   ]
  },
  {
   "cell_type": "code",
   "execution_count": 90,
   "metadata": {},
   "outputs": [],
   "source": [
    "#import EDBOplus\n",
    "sys.path.append('/home/sanjay/github/AFRL/git_edbo/edbopaper/edbo/')\n",
    "from plus.optimizer_botorch import EDBOplus"
   ]
  },
  {
   "cell_type": "markdown",
   "metadata": {},
   "source": [
    "## Parameters \n",
    "\n",
    "#### Parameters are your input values for the model. Here we will create a range of values for each set of parameters "
   ]
  },
  {
   "cell_type": "code",
   "execution_count": 95,
   "metadata": {},
   "outputs": [],
   "source": [
    "#setting up reaction components\n",
    "#np.arange creates a list of numbers from (start,stop,stepsize)\n",
    "components = {\n",
    "              'enzyme_conc':[0,0.25, 0.5,1,2,4,8,16],   # Discrete grid of concentrations\n",
    "              'substrate_conc': [0,0.125,0.25,0.5,1,2,4,8],\n",
    "              'incubation_time': [5,15,30,60,120,180,240,480]}\n",
    "\n",
    "# enzyme_conc = (0,0.25, 0.5,1,2,4,8,16) #nM\n",
    "# substrate_conc = (0,0.125,0.25,0.5,1,2,4,8) #uM\n",
    "# incubation_time = (5,15,30,60,120,180,240,480) #min"
   ]
  },
  {
   "cell_type": "code",
   "execution_count": 96,
   "metadata": {},
   "outputs": [
    {
     "name": "stdout",
     "output_type": "stream",
     "text": [
      "Generating reaction scope...\n"
     ]
    }
   ],
   "source": [
    "# need to generage the data scope first\n",
    "scope = EDBOplus.generate_reaction_scope(components=components)"
   ]
  },
  {
   "cell_type": "markdown",
   "metadata": {},
   "source": [
    "## Intialize EDBOplus\n",
    "\n",
    "#### This cell only needs to be run once at the start. Or if you restart the notebook"
   ]
  },
  {
   "cell_type": "code",
   "execution_count": 97,
   "metadata": {},
   "outputs": [],
   "source": [
    "#Initialize EDBOplus class that will store predicted means, variances, etc.\n",
    "bo = EDBOplus()\n",
    "\n",
    "args = {'objectives': ['assay_optimization_score'], 'objective_mode': ['max'], 'batch': 1, 'seed': 42}\n"
   ]
  },
  {
   "cell_type": "markdown",
   "metadata": {},
   "source": [
    "## Run EDBOplus\n",
    "\n",
    "#### This runs EDBOplus. Run this cell each round after you update the excel spreadsheet with new data."
   ]
  },
  {
   "cell_type": "code",
   "execution_count": 105,
   "metadata": {},
   "outputs": [
    {
     "name": "stdout",
     "output_type": "stream",
     "text": [
      "Using EHVI acquisition function.\n",
      "Using hyperparameters optimized for continuous variables.\n",
      "Number of QMC samples: 512\n",
      "Acquisition function optimized.\n",
      "Predictions obtained and expected improvement obtained.\n"
     ]
    },
    {
     "data": {
      "text/html": [
       "<div>\n",
       "<style scoped>\n",
       "    .dataframe tbody tr th:only-of-type {\n",
       "        vertical-align: middle;\n",
       "    }\n",
       "\n",
       "    .dataframe tbody tr th {\n",
       "        vertical-align: top;\n",
       "    }\n",
       "\n",
       "    .dataframe thead th {\n",
       "        text-align: right;\n",
       "    }\n",
       "</style>\n",
       "<table border=\"1\" class=\"dataframe\">\n",
       "  <thead>\n",
       "    <tr style=\"text-align: right;\">\n",
       "      <th></th>\n",
       "      <th>Unnamed: 0</th>\n",
       "      <th>enzyme_conc</th>\n",
       "      <th>substrate_conc</th>\n",
       "      <th>incubation_time</th>\n",
       "      <th>assay_optimization_score</th>\n",
       "      <th>priority</th>\n",
       "    </tr>\n",
       "  </thead>\n",
       "  <tbody>\n",
       "    <tr>\n",
       "      <th>478</th>\n",
       "      <td>478</td>\n",
       "      <td>0.5</td>\n",
       "      <td>0.0</td>\n",
       "      <td>30</td>\n",
       "      <td>PENDING</td>\n",
       "      <td>1.0</td>\n",
       "    </tr>\n",
       "    <tr>\n",
       "      <th>511</th>\n",
       "      <td>511</td>\n",
       "      <td>16.0</td>\n",
       "      <td>8.0</td>\n",
       "      <td>480</td>\n",
       "      <td>PENDING</td>\n",
       "      <td>0.0</td>\n",
       "    </tr>\n",
       "    <tr>\n",
       "      <th>510</th>\n",
       "      <td>510</td>\n",
       "      <td>0.5</td>\n",
       "      <td>1.0</td>\n",
       "      <td>30</td>\n",
       "      <td>PENDING</td>\n",
       "      <td>0.0</td>\n",
       "    </tr>\n",
       "    <tr>\n",
       "      <th>509</th>\n",
       "      <td>509</td>\n",
       "      <td>0.5</td>\n",
       "      <td>1.0</td>\n",
       "      <td>60</td>\n",
       "      <td>PENDING</td>\n",
       "      <td>0.0</td>\n",
       "    </tr>\n",
       "    <tr>\n",
       "      <th>508</th>\n",
       "      <td>508</td>\n",
       "      <td>0.5</td>\n",
       "      <td>1.0</td>\n",
       "      <td>120</td>\n",
       "      <td>PENDING</td>\n",
       "      <td>0.0</td>\n",
       "    </tr>\n",
       "    <tr>\n",
       "      <th>...</th>\n",
       "      <td>...</td>\n",
       "      <td>...</td>\n",
       "      <td>...</td>\n",
       "      <td>...</td>\n",
       "      <td>...</td>\n",
       "      <td>...</td>\n",
       "    </tr>\n",
       "    <tr>\n",
       "      <th>4</th>\n",
       "      <td>4</td>\n",
       "      <td>4.0</td>\n",
       "      <td>0.5</td>\n",
       "      <td>120</td>\n",
       "      <td>PENDING</td>\n",
       "      <td>0.0</td>\n",
       "    </tr>\n",
       "    <tr>\n",
       "      <th>3</th>\n",
       "      <td>3</td>\n",
       "      <td>4.0</td>\n",
       "      <td>0.5</td>\n",
       "      <td>180</td>\n",
       "      <td>PENDING</td>\n",
       "      <td>0.0</td>\n",
       "    </tr>\n",
       "    <tr>\n",
       "      <th>2</th>\n",
       "      <td>2</td>\n",
       "      <td>4.0</td>\n",
       "      <td>0.5</td>\n",
       "      <td>240</td>\n",
       "      <td>PENDING</td>\n",
       "      <td>0.0</td>\n",
       "    </tr>\n",
       "    <tr>\n",
       "      <th>1</th>\n",
       "      <td>1</td>\n",
       "      <td>4.0</td>\n",
       "      <td>0.0</td>\n",
       "      <td>15</td>\n",
       "      <td>PENDING</td>\n",
       "      <td>0.0</td>\n",
       "    </tr>\n",
       "    <tr>\n",
       "      <th>0</th>\n",
       "      <td>0</td>\n",
       "      <td>2.0</td>\n",
       "      <td>4.0</td>\n",
       "      <td>5</td>\n",
       "      <td>3.3333333333333335</td>\n",
       "      <td>-1.0</td>\n",
       "    </tr>\n",
       "  </tbody>\n",
       "</table>\n",
       "<p>512 rows × 6 columns</p>\n",
       "</div>"
      ],
      "text/plain": [
       "     Unnamed: 0  enzyme_conc  substrate_conc  incubation_time  \\\n",
       "478         478          0.5             0.0               30   \n",
       "511         511         16.0             8.0              480   \n",
       "510         510          0.5             1.0               30   \n",
       "509         509          0.5             1.0               60   \n",
       "508         508          0.5             1.0              120   \n",
       "..          ...          ...             ...              ...   \n",
       "4             4          4.0             0.5              120   \n",
       "3             3          4.0             0.5              180   \n",
       "2             2          4.0             0.5              240   \n",
       "1             1          4.0             0.0               15   \n",
       "0             0          2.0             4.0                5   \n",
       "\n",
       "    assay_optimization_score  priority  \n",
       "478                  PENDING       1.0  \n",
       "511                  PENDING       0.0  \n",
       "510                  PENDING       0.0  \n",
       "509                  PENDING       0.0  \n",
       "508                  PENDING       0.0  \n",
       "..                       ...       ...  \n",
       "4                    PENDING       0.0  \n",
       "3                    PENDING       0.0  \n",
       "2                    PENDING       0.0  \n",
       "1                    PENDING       0.0  \n",
       "0         3.3333333333333335      -1.0  \n",
       "\n",
       "[512 rows x 6 columns]"
      ]
     },
     "execution_count": 105,
     "metadata": {},
     "output_type": "execute_result"
    }
   ],
   "source": [
    "#Run this cell on scope data (csv file called reaction.csv)\n",
    "bo.run(**args)\n",
    "\n",
    "#Timer.sleep to setup a delay "
   ]
  },
  {
   "attachments": {},
   "cell_type": "markdown",
   "metadata": {},
   "source": [
    "Instrument Optimization functions"
   ]
  },
  {
   "cell_type": "code",
   "execution_count": 104,
   "metadata": {},
   "outputs": [
    {
     "name": "stdout",
     "output_type": "stream",
     "text": [
      "aos input =(2.0, 4.0, 5)\n",
      "aos = 3.3333333333333335\n",
      "global aos = [3.3333333333333335]\n",
      "df before update    enzyme_conc  substrate_conc  incubation_time assay_optimization_score  \\\n",
      "0          2.0             4.0                5                  PENDING   \n",
      "\n",
      "   priority  \n",
      "0         1  \n",
      "df after update    enzyme_conc  substrate_conc  incubation_time assay_optimization_score  \\\n",
      "0          2.0             4.0                5                 3.333333   \n",
      "\n",
      "   priority  \n",
      "0         1  \n"
     ]
    },
    {
     "name": "stderr",
     "output_type": "stream",
     "text": [
      "/home/sanjay/anaconda3/envs/edbo/lib/python3.7/site-packages/ipykernel_launcher.py:25: SettingWithCopyWarning: \n",
      "A value is trying to be set on a copy of a slice from a DataFrame\n",
      "\n",
      "See the caveats in the documentation: https://pandas.pydata.org/pandas-docs/stable/user_guide/indexing.html#returning-a-view-versus-a-copy\n"
     ]
    }
   ],
   "source": [
    "#create df from reaction csv\n",
    "df = pd.read_csv('reaction.csv')\n",
    "aos_global = [0]\n",
    "\n",
    "#step 1 take in df as input and return optimized parameters for instrument to run\n",
    "def aos_input(df):\n",
    "    aos_input = (df['enzyme_conc'][0],df['substrate_conc'][0],df['incubation_time'][0])\n",
    "    print('aos input ={}'.format(aos_input))\n",
    "    return aos_input\n",
    "\n",
    "#Step 2 take in aos_input and calculate AOS   \n",
    "#update csv\n",
    "#enzyme_conc, substrate_conc, incubation_time\n",
    "def assay_optimization_score(aos_input):\n",
    "    aos = 10000*min(max(0.52-0.495,0),0.025)/((25*df['enzyme_conc'][0]) + (5*df['substrate_conc'][0]) + (df['incubation_time'][0]))\n",
    "    #z < 0.52 undesirable\n",
    "    print('aos = {}'.format(aos))\n",
    "    #time.sleep(1)\n",
    "    aos_global[0] = aos\n",
    "    print('global aos = {}'.format(aos_global))\n",
    "    return aos\n",
    "#step 3 update results with aos\n",
    "def results_update():\n",
    "    print('df before update',df.iloc[[0]])\n",
    "    df['assay_optimization_score'][0] = float(aos_global[0])\n",
    "    print('df after update', df.iloc[[0]])\n",
    "    df.to_csv('reaction.csv', index=False)\n",
    "    \n",
    "def run_all():\n",
    "    aos_input(df)\n",
    "    assay_optimization_score(aos_input)\n",
    "    results_update()\n",
    "\n",
    "run_all()\n",
    "# aos_input(df)\n",
    "\n",
    "# results_update()\n",
    "# df.iloc[[0]]"
   ]
  },
  {
   "cell_type": "markdown",
   "metadata": {},
   "source": [
    "## Copy data to excel\n",
    "\n",
    "#### Copies data from the notebook to an excel spreadsheet in a specified folder "
   ]
  },
  {
   "cell_type": "code",
   "execution_count": 12,
   "metadata": {},
   "outputs": [
    {
     "data": {
      "text/plain": [
       "'test/reaction.csv'"
      ]
     },
     "execution_count": 12,
     "metadata": {},
     "output_type": "execute_result"
    }
   ],
   "source": [
    "# copy reaction data to folder\n",
    "# Edit the excel file in this folder and upload back to the edbo folder   \n",
    "shutil.copyfile('reaction.csv', 'test/reaction.csv')\n",
    "# shutil.copyfile('reaction.csv', 'test2/reaction.csv')\n",
    "\n",
    "# /mnt/c/Users/sanja/OneDrive - purdue.edu/Desktop/Purdue/Chopra/Projects/AFRL/edbo_plus/git_edbo/edbopaper/edbo/"
   ]
  },
  {
   "cell_type": "markdown",
   "metadata": {},
   "source": [
    "## Upload excel spreadsheet\n",
    "\n",
    "#### After you have added the new data into the excel spreadsheet, run this cell to upload the data to the notebook."
   ]
  },
  {
   "cell_type": "code",
   "execution_count": 13,
   "metadata": {},
   "outputs": [
    {
     "data": {
      "text/plain": [
       "'reaction.csv'"
      ]
     },
     "execution_count": 13,
     "metadata": {},
     "output_type": "execute_result"
    }
   ],
   "source": [
    "#after editing the excel file run this cell\n",
    "#This will copy the data you updated in your excel sheet to the csv for the model \n",
    "shutil.copyfile('test/reaction.csv','reaction.csv')"
   ]
  },
  {
   "cell_type": "markdown",
   "metadata": {},
   "source": [
    "## Create a dataframe\n",
    "\n",
    "#### Prepares data to be parsed"
   ]
  },
  {
   "cell_type": "code",
   "execution_count": 74,
   "metadata": {},
   "outputs": [],
   "source": [
    "#convert csv into df\n",
    "\n",
    "#df of reaction data\n",
    "df = pd.read_csv('reaction.csv')\n",
    "#df of reaction data + predictions\n",
    "# df2 = pd.read_csv('pred_reaction.csv')\n"
   ]
  },
  {
   "cell_type": "markdown",
   "metadata": {},
   "source": [
    "## Parse Data\n",
    "\n",
    "#### Data is parsed"
   ]
  },
  {
   "cell_type": "code",
   "execution_count": 26,
   "metadata": {},
   "outputs": [],
   "source": [
    "#convert csv into df\n",
    "\n",
    "#df of reaction data\n",
    "df = pd.read_csv('reaction.csv')\n",
    "\n",
    "#Create a df to plot points \n",
    "\n",
    "#turn all pending data to NaN\n",
    "df = df.replace('PENDING',pd.NaT)\n",
    "#delete all the NaN data points \n",
    "df = df.dropna(axis=0)\n",
    "\n",
    "\n",
    "#turn data from string to numeric (the pending made them strings)\n",
    "df['assay_optimiation_score'] = df['assay_optimiation_score'].apply(pd.to_numeric)\n",
    "\n",
    "#df['round'] = df['round'].apply(pd.to_numeric)\n",
    "# df = df.sort_values(by='round', ascending=True)\n",
    "\n",
    "#print(df.iloc[10,6])\n",
    "#length of results\n",
    "results_length = []\n",
    "#loop through all results (-1 means it is a result)\n",
    "for i in range(len(df['priority']==-1)):\n",
    "    results_length.append(i)\n",
    "#max value of yield and production\n",
    "max_value_aos = df['assay_optimiation_score'].max()\n",
    "# max_value_production_rate = df['assay_optimiation_score'].max()\n",
    "\n",
    "# #convert to numpy array for plotting in plotly\n",
    "# pareto_x = df['assay_optimiation_score'].to_numpy()\n",
    "# pareto_y =df['assay_optimiation_score'].to_numpy()\n"
   ]
  },
  {
   "cell_type": "code",
   "execution_count": 41,
   "metadata": {},
   "outputs": [
    {
     "data": {
      "text/html": [
       "<div>\n",
       "<style scoped>\n",
       "    .dataframe tbody tr th:only-of-type {\n",
       "        vertical-align: middle;\n",
       "    }\n",
       "\n",
       "    .dataframe tbody tr th {\n",
       "        vertical-align: top;\n",
       "    }\n",
       "\n",
       "    .dataframe thead th {\n",
       "        text-align: right;\n",
       "    }\n",
       "</style>\n",
       "<table border=\"1\" class=\"dataframe\">\n",
       "  <thead>\n",
       "    <tr style=\"text-align: right;\">\n",
       "      <th></th>\n",
       "      <th>enzyme_conc</th>\n",
       "      <th>substrate_conc</th>\n",
       "      <th>incubation_time</th>\n",
       "      <th>assay_optimiation_score</th>\n",
       "      <th>priority</th>\n",
       "    </tr>\n",
       "  </thead>\n",
       "  <tbody>\n",
       "    <tr>\n",
       "      <th>504</th>\n",
       "      <td>16.00</td>\n",
       "      <td>8.000</td>\n",
       "      <td>480</td>\n",
       "      <td>8</td>\n",
       "      <td>-1.0</td>\n",
       "    </tr>\n",
       "    <tr>\n",
       "      <th>505</th>\n",
       "      <td>16.00</td>\n",
       "      <td>8.000</td>\n",
       "      <td>30</td>\n",
       "      <td>11</td>\n",
       "      <td>-1.0</td>\n",
       "    </tr>\n",
       "    <tr>\n",
       "      <th>506</th>\n",
       "      <td>16.00</td>\n",
       "      <td>8.000</td>\n",
       "      <td>5</td>\n",
       "      <td>2</td>\n",
       "      <td>-1.0</td>\n",
       "    </tr>\n",
       "    <tr>\n",
       "      <th>507</th>\n",
       "      <td>16.00</td>\n",
       "      <td>2.000</td>\n",
       "      <td>480</td>\n",
       "      <td>8</td>\n",
       "      <td>-1.0</td>\n",
       "    </tr>\n",
       "    <tr>\n",
       "      <th>508</th>\n",
       "      <td>16.00</td>\n",
       "      <td>0.000</td>\n",
       "      <td>480</td>\n",
       "      <td>6</td>\n",
       "      <td>-1.0</td>\n",
       "    </tr>\n",
       "    <tr>\n",
       "      <th>509</th>\n",
       "      <td>8.00</td>\n",
       "      <td>4.000</td>\n",
       "      <td>480</td>\n",
       "      <td>7</td>\n",
       "      <td>-1.0</td>\n",
       "    </tr>\n",
       "    <tr>\n",
       "      <th>510</th>\n",
       "      <td>2.00</td>\n",
       "      <td>4.000</td>\n",
       "      <td>5</td>\n",
       "      <td>6</td>\n",
       "      <td>-1.0</td>\n",
       "    </tr>\n",
       "    <tr>\n",
       "      <th>511</th>\n",
       "      <td>0.25</td>\n",
       "      <td>0.125</td>\n",
       "      <td>480</td>\n",
       "      <td>14</td>\n",
       "      <td>-1.0</td>\n",
       "    </tr>\n",
       "  </tbody>\n",
       "</table>\n",
       "</div>"
      ],
      "text/plain": [
       "     enzyme_conc  substrate_conc  incubation_time  assay_optimiation_score  \\\n",
       "504        16.00           8.000              480                        8   \n",
       "505        16.00           8.000               30                       11   \n",
       "506        16.00           8.000                5                        2   \n",
       "507        16.00           2.000              480                        8   \n",
       "508        16.00           0.000              480                        6   \n",
       "509         8.00           4.000              480                        7   \n",
       "510         2.00           4.000                5                        6   \n",
       "511         0.25           0.125              480                       14   \n",
       "\n",
       "     priority  \n",
       "504      -1.0  \n",
       "505      -1.0  \n",
       "506      -1.0  \n",
       "507      -1.0  \n",
       "508      -1.0  \n",
       "509      -1.0  \n",
       "510      -1.0  \n",
       "511      -1.0  "
      ]
     },
     "execution_count": 41,
     "metadata": {},
     "output_type": "execute_result"
    },
    {
     "data": {
      "image/png": "[encoded data removed]",
      "text/plain": [
       "<Figure size 640x480 with 1 Axes>"
      ]
     },
     "metadata": {},
     "output_type": "display_data"
    },
    {
     "data": {
      "image/png": "[encoded data removed]",
      "text/plain": [
       "<Figure size 640x480 with 1 Axes>"
      ]
     },
     "metadata": {},
     "output_type": "display_data"
    },
    {
     "data": {
      "image/png": "[encoded data removed]",
      "text/plain": [
       "<Figure size 640x480 with 1 Axes>"
      ]
     },
     "metadata": {},
     "output_type": "display_data"
    }
   ],
   "source": [
    "df.plot.scatter('enzyme_conc','assay_optimiation_score')\n",
    "df.plot.scatter('substrate_conc','assay_optimiation_score')\n",
    "df.plot.scatter('incubation_time','assay_optimiation_score')\n",
    "\n",
    "\n",
    "df.head(15)"
   ]
  },
  {
   "cell_type": "markdown",
   "metadata": {},
   "source": [
    "## Plot Function\n",
    "\n",
    "#### This is the code for the plot. Run this cell before you run the plot cell."
   ]
  },
  {
   "cell_type": "code",
   "execution_count": 8,
   "metadata": {},
   "outputs": [],
   "source": [
    "#plotly scatter plot with pareto front\n",
    "\n",
    "def plot_pareto_frontier(Xs, Ys, maxX=True, maxY=True):\n",
    "    '''Pareto frontier selection process'''\n",
    "    sorted_list = sorted([[Xs[i], Ys[i]] for i in range(len(Xs))], reverse=maxY)\n",
    "    pareto_front = [sorted_list[0]]\n",
    "    for pair in sorted_list[1:]:\n",
    "        if maxY:\n",
    "            if pair[1] >= pareto_front[-1][1]:\n",
    "                pareto_front.append(pair)\n",
    "        else:\n",
    "            if pair[1] <= pareto_front[-1][1]:\n",
    "                pareto_front.append(pair)\n",
    "    pf_X = [pair[0] for pair in pareto_front]\n",
    "    pf_Y = [pair[1] for pair in pareto_front]\n",
    "\n",
    "    fig = px.scatter(df,x='yield', y='production_rate_(g/hr)',\n",
    "   size='size',\n",
    "   color='round',\n",
    "   #animation_frame='round',\n",
    "    color_discrete_sequence= px.colors.sequential.gray_r,#px.colors.diverging.balance,\n",
    "     color_continuous_scale=px.colors.sequential.Greys,\n",
    "    hover_data=['temperature','time','mfp'],\n",
    "    labels={'yield':'Yield (%)','production_rate_(g/hr)':'Production Rate (g/hr)'})\n",
    "    fig.add_trace(go.Scatter(x=pf_X, y=pf_Y, name= 'Pareto Front',\n",
    "                    line=dict(color='firebrick', width=2)))\n",
    "    fig.update_yaxes(range=[0,3])\n",
    "    fig.update_xaxes(range=[0,100])\n",
    "    fig.update_layout(\n",
    "        title={\n",
    "            'text': \"Multiobjective Optimization of a Continuous Flow Reaction\",\n",
    "            'y':0.9,\n",
    "            'x':0.5,\n",
    "            'xanchor': 'center',\n",
    "            'yanchor': 'top'},\n",
    "            title_y=0.95,\n",
    "           \n",
    "            )\n",
    "    fig.update_traces(marker=dict(line=dict(width=2,color='darkgreen')))\n",
    "    fig.show()\n",
    "    print('Highest yield is {}%'.format(df['yield'].max()))\n",
    "    print('Highest production rate is {}g/hr'.format(df['production_rate_(g/hr)'].max()))\n",
    "    if not os.path.exists(\"plots\"):\n",
    "        os.mkdir(\"plots\")\n",
    "    for i in range(0,20):\n",
    "        if not os.path.exists(\"plots/fig{}.png\".format(i)):\n",
    "            fig.write_image(\"plots/fig{}.png\".format(i))\n",
    "            break\n",
    "        else:\n",
    "            print('iteration {} already exists'.format(i))\n",
    "\n",
    "\n",
    "    "
   ]
  },
  {
   "cell_type": "markdown",
   "metadata": {},
   "source": [
    "# Plot the data!!\n",
    "\n",
    "#### Run this cell to visualize the data in a scatter plot. X-axis is the Yield % and the Y-axis is the Production Rate (g/hr). The rounds are color coded. The better the yield, the bigger the data point. The pareto front is plotted with a red line. This shows the predicted parteo front of this multi-objective optimization function. "
   ]
  },
  {
   "cell_type": "code",
   "execution_count": 12,
   "metadata": {},
   "outputs": [
    {
     "data": {
      "application/vnd.plotly.v1+json": {
       "config": {
        "plotlyServerURL": "https://plot.ly"
       },
       "data": [
        {
         "customdata": [
          [
           85,
           23,
           0.5
          ],
          [
           85,
           23,
           0.5
          ],
          [
           85,
           23,
           0.5
          ],
          [
           85,
           23,
           0.5
          ]
         ],
         "hovertemplate": "round=0<br>Yield (%)=%{x}<br>Production Rate (g/hr)=%{y}<br>size=%{marker.size}<br>temperature=%{customdata[0]}<br>time=%{customdata[1]}<br>mfp=%{customdata[2]}<extra></extra>",
         "legendgroup": "0",
         "marker": {
          "color": "rgb(254, 254, 253)",
          "line": {
           "color": "darkgreen",
           "width": 2
          },
          "size": [
           5,
           5,
           5,
           5
          ],
          "sizemode": "area",
          "sizeref": 0.0125,
          "symbol": "circle"
         },
         "mode": "markers",
         "name": "0",
         "orientation": "v",
         "showlegend": true,
         "type": "scatter",
         "x": [
          17.78,
          15.23,
          13.92,
          13.21
         ],
         "xaxis": "x",
         "y": [
          0.2506,
          0.2146,
          0.1962,
          0.1862
         ],
         "yaxis": "y"
        },
        {
         "customdata": [
          [
           135,
           23,
           0.36
          ],
          [
           132,
           3,
           0.36
          ],
          [
           123,
           23,
           0.46
          ]
         ],
         "hovertemplate": "round=1<br>Yield (%)=%{x}<br>Production Rate (g/hr)=%{y}<br>size=%{marker.size}<br>temperature=%{customdata[0]}<br>time=%{customdata[1]}<br>mfp=%{customdata[2]}<extra></extra>",
         "legendgroup": "1",
         "marker": {
          "color": "rgb(224, 224, 223)",
          "line": {
           "color": "darkgreen",
           "width": 2
          },
          "size": [
           5,
           5,
           5
          ],
          "sizemode": "area",
          "sizeref": 0.0125,
          "symbol": "circle"
         },
         "mode": "markers",
         "name": "1",
         "orientation": "v",
         "showlegend": true,
         "type": "scatter",
         "x": [
          77.16,
          21.22,
          56.93
         ],
         "xaxis": "x",
         "y": [
          0.7788,
          1.638,
          0.7327
         ],
         "yaxis": "y"
        },
        {
         "customdata": [
          [
           135,
           29,
           0.63
          ],
          [
           138,
           13,
           0.63
          ],
          [
           138,
           15,
           0.56
          ]
         ],
         "hovertemplate": "round=2<br>Yield (%)=%{x}<br>Production Rate (g/hr)=%{y}<br>size=%{marker.size}<br>temperature=%{customdata[0]}<br>time=%{customdata[1]}<br>mfp=%{customdata[2]}<extra></extra>",
         "legendgroup": "2",
         "marker": {
          "color": "rgb(197, 197, 195)",
          "line": {
           "color": "darkgreen",
           "width": 2
          },
          "size": [
           5,
           5,
           5
          ],
          "sizemode": "area",
          "sizeref": 0.0125,
          "symbol": "circle"
         },
         "mode": "markers",
         "name": "2",
         "orientation": "v",
         "showlegend": true,
         "type": "scatter",
         "x": [
          87.6,
          70.98,
          67.86
         ],
         "xaxis": "x",
         "y": [
          0.7245,
          1.3091,
          1.2948
         ],
         "yaxis": "y"
        },
        {
         "customdata": [
          [
           138,
           41,
           0.48
          ],
          [
           138,
           5,
           0.66
          ],
          [
           135,
           1,
           0.63
          ]
         ],
         "hovertemplate": "round=3<br>Yield (%)=%{x}<br>Production Rate (g/hr)=%{y}<br>size=%{marker.size}<br>temperature=%{customdata[0]}<br>time=%{customdata[1]}<br>mfp=%{customdata[2]}<extra></extra>",
         "legendgroup": "3",
         "marker": {
          "color": "rgb(171, 171, 170)",
          "line": {
           "color": "darkgreen",
           "width": 2
          },
          "size": [
           5,
           5,
           5
          ],
          "sizemode": "area",
          "sizeref": 0.0125,
          "symbol": "circle"
         },
         "mode": "markers",
         "name": "3",
         "orientation": "v",
         "showlegend": true,
         "type": "scatter",
         "x": [
          81.59,
          41.12,
          9.252
         ],
         "xaxis": "x",
         "y": [
          0.6239,
          1.8241,
          2.22
         ],
         "yaxis": "y"
        },
        {
         "customdata": [
          [
           138,
           21,
           0.66
          ],
          [
           138,
           3,
           0.66
          ],
          [
           135,
           13,
           0.61
          ]
         ],
         "hovertemplate": "round=4<br>Yield (%)=%{x}<br>Production Rate (g/hr)=%{y}<br>size=%{marker.size}<br>temperature=%{customdata[0]}<br>time=%{customdata[1]}<br>mfp=%{customdata[2]}<extra></extra>",
         "legendgroup": "4",
         "marker": {
          "color": "rgb(146, 146, 145)",
          "line": {
           "color": "darkgreen",
           "width": 2
          },
          "size": [
           5,
           5,
           5
          ],
          "sizemode": "area",
          "sizeref": 0.0125,
          "symbol": "circle"
         },
         "mode": "markers",
         "name": "4",
         "orientation": "v",
         "showlegend": true,
         "type": "scatter",
         "x": [
          85.86,
          26.38,
          62.9
         ],
         "xaxis": "x",
         "y": [
          0.9024,
          1.9502,
          1.2306
         ],
         "yaxis": "y"
        },
        {
         "customdata": [
          [
           138,
           5,
           0.51
          ],
          [
           138,
           15,
           0.48
          ],
          [
           138,
           9,
           0.48
          ]
         ],
         "hovertemplate": "round=5<br>Yield (%)=%{x}<br>Production Rate (g/hr)=%{y}<br>size=%{marker.size}<br>temperature=%{customdata[0]}<br>time=%{customdata[1]}<br>mfp=%{customdata[2]}<extra></extra>",
         "legendgroup": "5",
         "marker": {
          "color": "rgb(124, 123, 122)",
          "line": {
           "color": "darkgreen",
           "width": 2
          },
          "size": [
           5,
           5,
           5
          ],
          "sizemode": "area",
          "sizeref": 0.0125,
          "symbol": "circle"
         },
         "mode": "markers",
         "name": "5",
         "orientation": "v",
         "showlegend": true,
         "type": "scatter",
         "x": [
          32.96,
          66.05,
          51.14
         ],
         "xaxis": "x",
         "y": [
          2.1045,
          1.3728,
          1.7707
         ],
         "yaxis": "y"
        },
        {
         "customdata": [
          [
           138,
           29,
           0.66
          ],
          [
           75,
           3,
           0.58
          ],
          [
           51,
           1,
           0.56
          ]
         ],
         "hovertemplate": "round=6<br>Yield (%)=%{x}<br>Production Rate (g/hr)=%{y}<br>size=%{marker.size}<br>temperature=%{customdata[0]}<br>time=%{customdata[1]}<br>mfp=%{customdata[2]}<extra></extra>",
         "legendgroup": "6",
         "marker": {
          "color": "rgb(102, 101, 101)",
          "line": {
           "color": "darkgreen",
           "width": 2
          },
          "size": [
           5,
           5,
           5
          ],
          "sizemode": "area",
          "sizeref": 0.0125,
          "symbol": "circle"
         },
         "mode": "markers",
         "name": "6",
         "orientation": "v",
         "showlegend": true,
         "type": "scatter",
         "x": [
          86.31,
          1.61,
          1.73
         ],
         "xaxis": "x",
         "y": [
          0.6619,
          0.1463,
          0.4962
         ],
         "yaxis": "y"
        },
        {
         "customdata": [
          [
           63,
           33,
           0.56
          ],
          [
           54,
           41,
           0.51
          ],
          [
           45,
           35,
           0.61
          ]
         ],
         "hovertemplate": "round=7<br>Yield (%)=%{x}<br>Production Rate (g/hr)=%{y}<br>size=%{marker.size}<br>temperature=%{customdata[0]}<br>time=%{customdata[1]}<br>mfp=%{customdata[2]}<extra></extra>",
         "legendgroup": "7",
         "marker": {
          "color": "rgb(81, 80, 80)",
          "line": {
           "color": "darkgreen",
           "width": 2
          },
          "size": [
           5,
           5,
           5
          ],
          "sizemode": "area",
          "sizeref": 0.0125,
          "symbol": "circle"
         },
         "mode": "markers",
         "name": "7",
         "orientation": "v",
         "showlegend": true,
         "type": "scatter",
         "x": [
          8.49,
          6.1,
          5.62
         ],
         "xaxis": "x",
         "y": [
          0.0736,
          0.0474,
          0.0408
         ],
         "yaxis": "y"
        },
        {
         "customdata": [
          [
           138,
           15,
           0.43
          ],
          [
           138,
           13,
           0.48
          ],
          [
           138,
           1,
           0.33
          ]
         ],
         "hovertemplate": "round=8<br>Yield (%)=%{x}<br>Production Rate (g/hr)=%{y}<br>size=%{marker.size}<br>temperature=%{customdata[0]}<br>time=%{customdata[1]}<br>mfp=%{customdata[2]}<extra></extra>",
         "legendgroup": "8",
         "marker": {
          "color": "rgb(59, 59, 59)",
          "line": {
           "color": "darkgreen",
           "width": 2
          },
          "size": [
           5,
           5,
           5
          ],
          "sizemode": "area",
          "sizeref": 0.0125,
          "symbol": "circle"
         },
         "mode": "markers",
         "name": "8",
         "orientation": "v",
         "showlegend": true,
         "type": "scatter",
         "x": [
          73.57,
          62.52,
          10.32
         ],
         "xaxis": "x",
         "y": [
          1.3657,
          1.4984,
          2.2082
         ],
         "yaxis": "y"
        },
        {
         "customdata": [
          [
           138,
           33,
           0.63
          ],
          [
           138,
           23,
           0.41
          ],
          [
           138,
           13,
           0.41
          ]
         ],
         "hovertemplate": "round=9<br>Yield (%)=%{x}<br>Production Rate (g/hr)=%{y}<br>size=%{marker.size}<br>temperature=%{customdata[0]}<br>time=%{customdata[1]}<br>mfp=%{customdata[2]}<extra></extra>",
         "legendgroup": "9",
         "marker": {
          "color": "rgb(38, 38, 38)",
          "line": {
           "color": "darkgreen",
           "width": 2
          },
          "size": [
           5,
           5,
           5
          ],
          "sizemode": "area",
          "sizeref": 0.0125,
          "symbol": "circle"
         },
         "mode": "markers",
         "name": "9",
         "orientation": "v",
         "showlegend": true,
         "type": "scatter",
         "x": [
          90.24,
          77.41,
          69.79
         ],
         "xaxis": "x",
         "y": [
          0.6575,
          0.885,
          1.4285
         ],
         "yaxis": "y"
        },
        {
         "customdata": [
          [
           138,
           11,
           0.58
          ],
          [
           138,
           19,
           0.56
          ],
          [
           138,
           7,
           0.56
          ]
         ],
         "hovertemplate": "round=Final Round<br>Yield (%)=%{x}<br>Production Rate (g/hr)=%{y}<br>size=%{marker.size}<br>temperature=%{customdata[0]}<br>time=%{customdata[1]}<br>mfp=%{customdata[2]}<extra></extra>",
         "legendgroup": "Final Round",
         "marker": {
          "color": "rgb(16, 16, 16)",
          "line": {
           "color": "darkgreen",
           "width": 2
          },
          "size": [
           5,
           5,
           5
          ],
          "sizemode": "area",
          "sizeref": 0.0125,
          "symbol": "circle"
         },
         "mode": "markers",
         "name": "Final Round",
         "orientation": "v",
         "showlegend": true,
         "type": "scatter",
         "x": [
          64.76,
          76.14,
          49.38
         ],
         "xaxis": "x",
         "y": [
          1.6026,
          1.1462,
          2.0117
         ],
         "yaxis": "y"
        },
        {
         "line": {
          "color": "firebrick",
          "width": 2
         },
         "marker": {
          "line": {
           "color": "darkgreen",
           "width": 2
          }
         },
         "name": "Pareto Front",
         "type": "scatter",
         "x": [
          90.24,
          87.6,
          85.86,
          76.14,
          73.57,
          69.79,
          64.76,
          51.14,
          49.38,
          32.96,
          10.32,
          9.252
         ],
         "y": [
          0.6575,
          0.7245,
          0.9024,
          1.1462,
          1.3657,
          1.4285,
          1.6026,
          1.7707,
          2.0117,
          2.1045,
          2.2082,
          2.22
         ]
        }
       ],
       "layout": {
        "legend": {
         "itemsizing": "constant",
         "title": {
          "text": "round"
         },
         "tracegroupgap": 0
        },
        "margin": {
         "t": 60
        },
        "template": {
         "data": {
          "bar": [
           {
            "error_x": {
             "color": "#2a3f5f"
            },
            "error_y": {
             "color": "#2a3f5f"
            },
            "marker": {
             "line": {
              "color": "#E5ECF6",
              "width": 0.5
             },
             "pattern": {
              "fillmode": "overlay",
              "size": 10,
              "solidity": 0.2
             }
            },
            "type": "bar"
           }
          ],
          "barpolar": [
           {
            "marker": {
             "line": {
              "color": "#E5ECF6",
              "width": 0.5
             },
             "pattern": {
              "fillmode": "overlay",
              "size": 10,
              "solidity": 0.2
             }
            },
            "type": "barpolar"
           }
          ],
          "carpet": [
           {
            "aaxis": {
             "endlinecolor": "#2a3f5f",
             "gridcolor": "white",
             "linecolor": "white",
             "minorgridcolor": "white",
             "startlinecolor": "#2a3f5f"
            },
            "baxis": {
             "endlinecolor": "#2a3f5f",
             "gridcolor": "white",
             "linecolor": "white",
             "minorgridcolor": "white",
             "startlinecolor": "#2a3f5f"
            },
            "type": "carpet"
           }
          ],
          "choropleth": [
           {
            "colorbar": {
             "outlinewidth": 0,
             "ticks": ""
            },
            "type": "choropleth"
           }
          ],
          "contour": [
           {
            "colorbar": {
             "outlinewidth": 0,
             "ticks": ""
            },
            "colorscale": [
             [
              0,
              "#0d0887"
             ],
             [
              0.1111111111111111,
              "#46039f"
             ],
             [
              0.2222222222222222,
              "#7201a8"
             ],
             [
              0.3333333333333333,
              "#9c179e"
             ],
             [
              0.4444444444444444,
              "#bd3786"
             ],
             [
              0.5555555555555556,
              "#d8576b"
             ],
             [
              0.6666666666666666,
              "#ed7953"
             ],
             [
              0.7777777777777778,
              "#fb9f3a"
             ],
             [
              0.8888888888888888,
              "#fdca26"
             ],
             [
              1,
              "#f0f921"
             ]
            ],
            "type": "contour"
           }
          ],
          "contourcarpet": [
           {
            "colorbar": {
             "outlinewidth": 0,
             "ticks": ""
            },
            "type": "contourcarpet"
           }
          ],
          "heatmap": [
           {
            "colorbar": {
             "outlinewidth": 0,
             "ticks": ""
            },
            "colorscale": [
             [
              0,
              "#0d0887"
             ],
             [
              0.1111111111111111,
              "#46039f"
             ],
             [
              0.2222222222222222,
              "#7201a8"
             ],
             [
              0.3333333333333333,
              "#9c179e"
             ],
             [
              0.4444444444444444,
              "#bd3786"
             ],
             [
              0.5555555555555556,
              "#d8576b"
             ],
             [
              0.6666666666666666,
              "#ed7953"
             ],
             [
              0.7777777777777778,
              "#fb9f3a"
             ],
             [
              0.8888888888888888,
              "#fdca26"
             ],
             [
              1,
              "#f0f921"
             ]
            ],
            "type": "heatmap"
           }
          ],
          "heatmapgl": [
           {
            "colorbar": {
             "outlinewidth": 0,
             "ticks": ""
            },
            "colorscale": [
             [
              0,
              "#0d0887"
             ],
             [
              0.1111111111111111,
              "#46039f"
             ],
             [
              0.2222222222222222,
              "#7201a8"
             ],
             [
              0.3333333333333333,
              "#9c179e"
             ],
             [
              0.4444444444444444,
              "#bd3786"
             ],
             [
              0.5555555555555556,
              "#d8576b"
             ],
             [
              0.6666666666666666,
              "#ed7953"
             ],
             [
              0.7777777777777778,
              "#fb9f3a"
             ],
             [
              0.8888888888888888,
              "#fdca26"
             ],
             [
              1,
              "#f0f921"
             ]
            ],
            "type": "heatmapgl"
           }
          ],
          "histogram": [
           {
            "marker": {
             "pattern": {
              "fillmode": "overlay",
              "size": 10,
              "solidity": 0.2
             }
            },
            "type": "histogram"
           }
          ],
          "histogram2d": [
           {
            "colorbar": {
             "outlinewidth": 0,
             "ticks": ""
            },
            "colorscale": [
             [
              0,
              "#0d0887"
             ],
             [
              0.1111111111111111,
              "#46039f"
             ],
             [
              0.2222222222222222,
              "#7201a8"
             ],
             [
              0.3333333333333333,
              "#9c179e"
             ],
             [
              0.4444444444444444,
              "#bd3786"
             ],
             [
              0.5555555555555556,
              "#d8576b"
             ],
             [
              0.6666666666666666,
              "#ed7953"
             ],
             [
              0.7777777777777778,
              "#fb9f3a"
             ],
             [
              0.8888888888888888,
              "#fdca26"
             ],
             [
              1,
              "#f0f921"
             ]
            ],
            "type": "histogram2d"
           }
          ],
          "histogram2dcontour": [
           {
            "colorbar": {
             "outlinewidth": 0,
             "ticks": ""
            },
            "colorscale": [
             [
              0,
              "#0d0887"
             ],
             [
              0.1111111111111111,
              "#46039f"
             ],
             [
              0.2222222222222222,
              "#7201a8"
             ],
             [
              0.3333333333333333,
              "#9c179e"
             ],
             [
              0.4444444444444444,
              "#bd3786"
             ],
             [
              0.5555555555555556,
              "#d8576b"
             ],
             [
              0.6666666666666666,
              "#ed7953"
             ],
             [
              0.7777777777777778,
              "#fb9f3a"
             ],
             [
              0.8888888888888888,
              "#fdca26"
             ],
             [
              1,
              "#f0f921"
             ]
            ],
            "type": "histogram2dcontour"
           }
          ],
          "mesh3d": [
           {
            "colorbar": {
             "outlinewidth": 0,
             "ticks": ""
            },
            "type": "mesh3d"
           }
          ],
          "parcoords": [
           {
            "line": {
             "colorbar": {
              "outlinewidth": 0,
              "ticks": ""
             }
            },
            "type": "parcoords"
           }
          ],
          "pie": [
           {
            "automargin": true,
            "type": "pie"
           }
          ],
          "scatter": [
           {
            "fillpattern": {
             "fillmode": "overlay",
             "size": 10,
             "solidity": 0.2
            },
            "type": "scatter"
           }
          ],
          "scatter3d": [
           {
            "line": {
             "colorbar": {
              "outlinewidth": 0,
              "ticks": ""
             }
            },
            "marker": {
             "colorbar": {
              "outlinewidth": 0,
              "ticks": ""
             }
            },
            "type": "scatter3d"
           }
          ],
          "scattercarpet": [
           {
            "marker": {
             "colorbar": {
              "outlinewidth": 0,
              "ticks": ""
             }
            },
            "type": "scattercarpet"
           }
          ],
          "scattergeo": [
           {
            "marker": {
             "colorbar": {
              "outlinewidth": 0,
              "ticks": ""
             }
            },
            "type": "scattergeo"
           }
          ],
          "scattergl": [
           {
            "marker": {
             "colorbar": {
              "outlinewidth": 0,
              "ticks": ""
             }
            },
            "type": "scattergl"
           }
          ],
          "scattermapbox": [
           {
            "marker": {
             "colorbar": {
              "outlinewidth": 0,
              "ticks": ""
             }
            },
            "type": "scattermapbox"
           }
          ],
          "scatterpolar": [
           {
            "marker": {
             "colorbar": {
              "outlinewidth": 0,
              "ticks": ""
             }
            },
            "type": "scatterpolar"
           }
          ],
          "scatterpolargl": [
           {
            "marker": {
             "colorbar": {
              "outlinewidth": 0,
              "ticks": ""
             }
            },
            "type": "scatterpolargl"
           }
          ],
          "scatterternary": [
           {
            "marker": {
             "colorbar": {
              "outlinewidth": 0,
              "ticks": ""
             }
            },
            "type": "scatterternary"
           }
          ],
          "surface": [
           {
            "colorbar": {
             "outlinewidth": 0,
             "ticks": ""
            },
            "colorscale": [
             [
              0,
              "#0d0887"
             ],
             [
              0.1111111111111111,
              "#46039f"
             ],
             [
              0.2222222222222222,
              "#7201a8"
             ],
             [
              0.3333333333333333,
              "#9c179e"
             ],
             [
              0.4444444444444444,
              "#bd3786"
             ],
             [
              0.5555555555555556,
              "#d8576b"
             ],
             [
              0.6666666666666666,
              "#ed7953"
             ],
             [
              0.7777777777777778,
              "#fb9f3a"
             ],
             [
              0.8888888888888888,
              "#fdca26"
             ],
             [
              1,
              "#f0f921"
             ]
            ],
            "type": "surface"
           }
          ],
          "table": [
           {
            "cells": {
             "fill": {
              "color": "#EBF0F8"
             },
             "line": {
              "color": "white"
             }
            },
            "header": {
             "fill": {
              "color": "#C8D4E3"
             },
             "line": {
              "color": "white"
             }
            },
            "type": "table"
           }
          ]
         },
         "layout": {
          "annotationdefaults": {
           "arrowcolor": "#2a3f5f",
           "arrowhead": 0,
           "arrowwidth": 1
          },
          "autotypenumbers": "strict",
          "coloraxis": {
           "colorbar": {
            "outlinewidth": 0,
            "ticks": ""
           }
          },
          "colorscale": {
           "diverging": [
            [
             0,
             "#8e0152"
            ],
            [
             0.1,
             "#c51b7d"
            ],
            [
             0.2,
             "#de77ae"
            ],
            [
             0.3,
             "#f1b6da"
            ],
            [
             0.4,
             "#fde0ef"
            ],
            [
             0.5,
             "#f7f7f7"
            ],
            [
             0.6,
             "#e6f5d0"
            ],
            [
             0.7,
             "#b8e186"
            ],
            [
             0.8,
             "#7fbc41"
            ],
            [
             0.9,
             "#4d9221"
            ],
            [
             1,
             "#276419"
            ]
           ],
           "sequential": [
            [
             0,
             "#0d0887"
            ],
            [
             0.1111111111111111,
             "#46039f"
            ],
            [
             0.2222222222222222,
             "#7201a8"
            ],
            [
             0.3333333333333333,
             "#9c179e"
            ],
            [
             0.4444444444444444,
             "#bd3786"
            ],
            [
             0.5555555555555556,
             "#d8576b"
            ],
            [
             0.6666666666666666,
             "#ed7953"
            ],
            [
             0.7777777777777778,
             "#fb9f3a"
            ],
            [
             0.8888888888888888,
             "#fdca26"
            ],
            [
             1,
             "#f0f921"
            ]
           ],
           "sequentialminus": [
            [
             0,
             "#0d0887"
            ],
            [
             0.1111111111111111,
             "#46039f"
            ],
            [
             0.2222222222222222,
             "#7201a8"
            ],
            [
             0.3333333333333333,
             "#9c179e"
            ],
            [
             0.4444444444444444,
             "#bd3786"
            ],
            [
             0.5555555555555556,
             "#d8576b"
            ],
            [
             0.6666666666666666,
             "#ed7953"
            ],
            [
             0.7777777777777778,
             "#fb9f3a"
            ],
            [
             0.8888888888888888,
             "#fdca26"
            ],
            [
             1,
             "#f0f921"
            ]
           ]
          },
          "colorway": [
           "#636efa",
           "#EF553B",
           "#00cc96",
           "#ab63fa",
           "#FFA15A",
           "#19d3f3",
           "#FF6692",
           "#B6E880",
           "#FF97FF",
           "#FECB52"
          ],
          "font": {
           "color": "#2a3f5f"
          },
          "geo": {
           "bgcolor": "white",
           "lakecolor": "white",
           "landcolor": "#E5ECF6",
           "showlakes": true,
           "showland": true,
           "subunitcolor": "white"
          },
          "hoverlabel": {
           "align": "left"
          },
          "hovermode": "closest",
          "mapbox": {
           "style": "light"
          },
          "paper_bgcolor": "white",
          "plot_bgcolor": "#E5ECF6",
          "polar": {
           "angularaxis": {
            "gridcolor": "white",
            "linecolor": "white",
            "ticks": ""
           },
           "bgcolor": "#E5ECF6",
           "radialaxis": {
            "gridcolor": "white",
            "linecolor": "white",
            "ticks": ""
           }
          },
          "scene": {
           "xaxis": {
            "backgroundcolor": "#E5ECF6",
            "gridcolor": "white",
            "gridwidth": 2,
            "linecolor": "white",
            "showbackground": true,
            "ticks": "",
            "zerolinecolor": "white"
           },
           "yaxis": {
            "backgroundcolor": "#E5ECF6",
            "gridcolor": "white",
            "gridwidth": 2,
            "linecolor": "white",
            "showbackground": true,
            "ticks": "",
            "zerolinecolor": "white"
           },
           "zaxis": {
            "backgroundcolor": "#E5ECF6",
            "gridcolor": "white",
            "gridwidth": 2,
            "linecolor": "white",
            "showbackground": true,
            "ticks": "",
            "zerolinecolor": "white"
           }
          },
          "shapedefaults": {
           "line": {
            "color": "#2a3f5f"
           }
          },
          "ternary": {
           "aaxis": {
            "gridcolor": "white",
            "linecolor": "white",
            "ticks": ""
           },
           "baxis": {
            "gridcolor": "white",
            "linecolor": "white",
            "ticks": ""
           },
           "bgcolor": "#E5ECF6",
           "caxis": {
            "gridcolor": "white",
            "linecolor": "white",
            "ticks": ""
           }
          },
          "title": {
           "x": 0.05
          },
          "xaxis": {
           "automargin": true,
           "gridcolor": "white",
           "linecolor": "white",
           "ticks": "",
           "title": {
            "standoff": 15
           },
           "zerolinecolor": "white",
           "zerolinewidth": 2
          },
          "yaxis": {
           "automargin": true,
           "gridcolor": "white",
           "linecolor": "white",
           "ticks": "",
           "title": {
            "standoff": 15
           },
           "zerolinecolor": "white",
           "zerolinewidth": 2
          }
         }
        },
        "title": {
         "text": "Multiobjective Optimization of a Continuous Flow Reaction",
         "x": 0.5,
         "xanchor": "center",
         "y": 0.95,
         "yanchor": "top"
        },
        "xaxis": {
         "anchor": "y",
         "domain": [
          0,
          1
         ],
         "range": [
          0,
          100
         ],
         "title": {
          "text": "Yield (%)"
         }
        },
        "yaxis": {
         "anchor": "x",
         "domain": [
          0,
          1
         ],
         "range": [
          0,
          3
         ],
         "title": {
          "text": "Production Rate (g/hr)"
         }
        }
       }
      }
     },
     "metadata": {},
     "output_type": "display_data"
    },
    {
     "name": "stdout",
     "output_type": "stream",
     "text": [
      "Highest yield is 90.24%\n",
      "Highest production rate is 2.22g/hr\n",
      "iteration 0 already exists\n",
      "iteration 1 already exists\n",
      "iteration 2 already exists\n",
      "iteration 3 already exists\n",
      "iteration 4 already exists\n",
      "iteration 5 already exists\n",
      "iteration 6 already exists\n",
      "iteration 7 already exists\n",
      "iteration 8 already exists\n",
      "iteration 9 already exists\n",
      "iteration 10 already exists\n",
      "iteration 11 already exists\n",
      "iteration 12 already exists\n",
      "iteration 13 already exists\n"
     ]
    }
   ],
   "source": [
    "#View plots\n",
    "plot_pareto_frontier(pareto_x, pareto_y)\n",
    "\n",
    "#Red line is the pareto front\n",
    "#Colors show the different rounds\n",
    "#Size based off the yield \n",
    "\n",
    "#Ideal optimization is somewhere in the middle (top right) of the pareto front. \n",
    "\n",
    "#TODO\n",
    "# correlation plot (understand how it works)\n",
    "# 3d plot of inputs  (mostly done)\n",
    "# PLOTS x-axis round and y axis yield or production rate (mostly done)\n",
    "# Can you build a model out of it? \n",
    "\n",
    "\n",
    "### TO DO\n",
    "#Make a for loop to print out a plot at each round\n",
    "#Make a gif of all the images (2 sec delay) (static x and y)\n"
   ]
  },
  {
   "cell_type": "code",
   "execution_count": 6,
   "metadata": {},
   "outputs": [
    {
     "data": {
      "application/vnd.plotly.v1+json": {
       "config": {
        "plotlyServerURL": "https://plot.ly"
       },
       "data": [
        {
         "customdata": [
          [
           17.78
          ],
          [
           15.23
          ],
          [
           13.92
          ],
          [
           13.21
          ]
         ],
         "hovertemplate": "<b>%{hovertext}</b><br><br>round=0<br>temperature=%{x}<br>time=%{y}<br>mfp=%{z}<br>yield=%{marker.color}<extra></extra>",
         "hovertext": [
          17.78,
          15.23,
          13.92,
          13.21
         ],
         "legendgroup": "",
         "marker": {
          "color": [
           17.78,
           15.23,
           13.92,
           13.21
          ],
          "coloraxis": "coloraxis",
          "size": 7,
          "symbol": "circle"
         },
         "mode": "markers",
         "name": "",
         "scene": "scene",
         "showlegend": false,
         "type": "scatter3d",
         "x": [
          85,
          85,
          85,
          85
         ],
         "y": [
          23,
          23,
          23,
          23
         ],
         "z": [
          0.5,
          0.5,
          0.5,
          0.5
         ]
        }
       ],
       "frames": [
        {
         "data": [
          {
           "customdata": [
            [
             17.78
            ],
            [
             15.23
            ],
            [
             13.92
            ],
            [
             13.21
            ]
           ],
           "hovertemplate": "<b>%{hovertext}</b><br><br>round=0<br>temperature=%{x}<br>time=%{y}<br>mfp=%{z}<br>yield=%{marker.color}<extra></extra>",
           "hovertext": [
            17.78,
            15.23,
            13.92,
            13.21
           ],
           "legendgroup": "",
           "marker": {
            "color": [
             17.78,
             15.23,
             13.92,
             13.21
            ],
            "coloraxis": "coloraxis",
            "symbol": "circle"
           },
           "mode": "markers",
           "name": "",
           "scene": "scene",
           "showlegend": false,
           "type": "scatter3d",
           "x": [
            85,
            85,
            85,
            85
           ],
           "y": [
            23,
            23,
            23,
            23
           ],
           "z": [
            0.5,
            0.5,
            0.5,
            0.5
           ]
          }
         ],
         "name": "0"
        },
        {
         "data": [
          {
           "customdata": [
            [
             77.16
            ],
            [
             21.22
            ],
            [
             56.93
            ]
           ],
           "hovertemplate": "<b>%{hovertext}</b><br><br>round=1<br>temperature=%{x}<br>time=%{y}<br>mfp=%{z}<br>yield=%{marker.color}<extra></extra>",
           "hovertext": [
            77.16,
            21.22,
            56.93
           ],
           "legendgroup": "",
           "marker": {
            "color": [
             77.16,
             21.22,
             56.93
            ],
            "coloraxis": "coloraxis",
            "symbol": "circle"
           },
           "mode": "markers",
           "name": "",
           "scene": "scene",
           "showlegend": false,
           "type": "scatter3d",
           "x": [
            135,
            132,
            123
           ],
           "y": [
            23,
            3,
            23
           ],
           "z": [
            0.36,
            0.36,
            0.46
           ]
          }
         ],
         "name": "1"
        },
        {
         "data": [
          {
           "customdata": [
            [
             87.6
            ],
            [
             70.98
            ],
            [
             67.86
            ]
           ],
           "hovertemplate": "<b>%{hovertext}</b><br><br>round=2<br>temperature=%{x}<br>time=%{y}<br>mfp=%{z}<br>yield=%{marker.color}<extra></extra>",
           "hovertext": [
            87.6,
            70.98,
            67.86
           ],
           "legendgroup": "",
           "marker": {
            "color": [
             87.6,
             70.98,
             67.86
            ],
            "coloraxis": "coloraxis",
            "symbol": "circle"
           },
           "mode": "markers",
           "name": "",
           "scene": "scene",
           "showlegend": false,
           "type": "scatter3d",
           "x": [
            135,
            138,
            138
           ],
           "y": [
            29,
            13,
            15
           ],
           "z": [
            0.63,
            0.63,
            0.56
           ]
          }
         ],
         "name": "2"
        },
        {
         "data": [
          {
           "customdata": [
            [
             81.59
            ],
            [
             41.12
            ],
            [
             9.252
            ]
           ],
           "hovertemplate": "<b>%{hovertext}</b><br><br>round=3<br>temperature=%{x}<br>time=%{y}<br>mfp=%{z}<br>yield=%{marker.color}<extra></extra>",
           "hovertext": [
            81.59,
            41.12,
            9.252
           ],
           "legendgroup": "",
           "marker": {
            "color": [
             81.59,
             41.12,
             9.252
            ],
            "coloraxis": "coloraxis",
            "symbol": "circle"
           },
           "mode": "markers",
           "name": "",
           "scene": "scene",
           "showlegend": false,
           "type": "scatter3d",
           "x": [
            138,
            138,
            135
           ],
           "y": [
            41,
            5,
            1
           ],
           "z": [
            0.48,
            0.66,
            0.63
           ]
          }
         ],
         "name": "3"
        },
        {
         "data": [
          {
           "customdata": [
            [
             85.86
            ],
            [
             26.38
            ],
            [
             62.9
            ]
           ],
           "hovertemplate": "<b>%{hovertext}</b><br><br>round=4<br>temperature=%{x}<br>time=%{y}<br>mfp=%{z}<br>yield=%{marker.color}<extra></extra>",
           "hovertext": [
            85.86,
            26.38,
            62.9
           ],
           "legendgroup": "",
           "marker": {
            "color": [
             85.86,
             26.38,
             62.9
            ],
            "coloraxis": "coloraxis",
            "symbol": "circle"
           },
           "mode": "markers",
           "name": "",
           "scene": "scene",
           "showlegend": false,
           "type": "scatter3d",
           "x": [
            138,
            138,
            135
           ],
           "y": [
            21,
            3,
            13
           ],
           "z": [
            0.66,
            0.66,
            0.61
           ]
          }
         ],
         "name": "4"
        },
        {
         "data": [
          {
           "customdata": [
            [
             32.96
            ],
            [
             66.05
            ],
            [
             51.14
            ]
           ],
           "hovertemplate": "<b>%{hovertext}</b><br><br>round=5<br>temperature=%{x}<br>time=%{y}<br>mfp=%{z}<br>yield=%{marker.color}<extra></extra>",
           "hovertext": [
            32.96,
            66.05,
            51.14
           ],
           "legendgroup": "",
           "marker": {
            "color": [
             32.96,
             66.05,
             51.14
            ],
            "coloraxis": "coloraxis",
            "symbol": "circle"
           },
           "mode": "markers",
           "name": "",
           "scene": "scene",
           "showlegend": false,
           "type": "scatter3d",
           "x": [
            138,
            138,
            138
           ],
           "y": [
            5,
            15,
            9
           ],
           "z": [
            0.51,
            0.48,
            0.48
           ]
          }
         ],
         "name": "5"
        },
        {
         "data": [
          {
           "customdata": [
            [
             86.31
            ],
            [
             1.61
            ],
            [
             1.73
            ]
           ],
           "hovertemplate": "<b>%{hovertext}</b><br><br>round=6<br>temperature=%{x}<br>time=%{y}<br>mfp=%{z}<br>yield=%{marker.color}<extra></extra>",
           "hovertext": [
            86.31,
            1.61,
            1.73
           ],
           "legendgroup": "",
           "marker": {
            "color": [
             86.31,
             1.61,
             1.73
            ],
            "coloraxis": "coloraxis",
            "symbol": "circle"
           },
           "mode": "markers",
           "name": "",
           "scene": "scene",
           "showlegend": false,
           "type": "scatter3d",
           "x": [
            138,
            75,
            51
           ],
           "y": [
            29,
            3,
            1
           ],
           "z": [
            0.66,
            0.58,
            0.56
           ]
          }
         ],
         "name": "6"
        },
        {
         "data": [
          {
           "customdata": [
            [
             8.49
            ],
            [
             6.1
            ],
            [
             5.62
            ]
           ],
           "hovertemplate": "<b>%{hovertext}</b><br><br>round=7<br>temperature=%{x}<br>time=%{y}<br>mfp=%{z}<br>yield=%{marker.color}<extra></extra>",
           "hovertext": [
            8.49,
            6.1,
            5.62
           ],
           "legendgroup": "",
           "marker": {
            "color": [
             8.49,
             6.1,
             5.62
            ],
            "coloraxis": "coloraxis",
            "symbol": "circle"
           },
           "mode": "markers",
           "name": "",
           "scene": "scene",
           "showlegend": false,
           "type": "scatter3d",
           "x": [
            63,
            54,
            45
           ],
           "y": [
            33,
            41,
            35
           ],
           "z": [
            0.56,
            0.51,
            0.61
           ]
          }
         ],
         "name": "7"
        },
        {
         "data": [
          {
           "customdata": [
            [
             73.57
            ],
            [
             62.52
            ],
            [
             10.32
            ]
           ],
           "hovertemplate": "<b>%{hovertext}</b><br><br>round=8<br>temperature=%{x}<br>time=%{y}<br>mfp=%{z}<br>yield=%{marker.color}<extra></extra>",
           "hovertext": [
            73.57,
            62.52,
            10.32
           ],
           "legendgroup": "",
           "marker": {
            "color": [
             73.57,
             62.52,
             10.32
            ],
            "coloraxis": "coloraxis",
            "symbol": "circle"
           },
           "mode": "markers",
           "name": "",
           "scene": "scene",
           "showlegend": false,
           "type": "scatter3d",
           "x": [
            138,
            138,
            138
           ],
           "y": [
            15,
            13,
            1
           ],
           "z": [
            0.43,
            0.48,
            0.33
           ]
          }
         ],
         "name": "8"
        },
        {
         "data": [
          {
           "customdata": [
            [
             90.24
            ],
            [
             77.41
            ],
            [
             69.79
            ]
           ],
           "hovertemplate": "<b>%{hovertext}</b><br><br>round=9<br>temperature=%{x}<br>time=%{y}<br>mfp=%{z}<br>yield=%{marker.color}<extra></extra>",
           "hovertext": [
            90.24,
            77.41,
            69.79
           ],
           "legendgroup": "",
           "marker": {
            "color": [
             90.24,
             77.41,
             69.79
            ],
            "coloraxis": "coloraxis",
            "symbol": "circle"
           },
           "mode": "markers",
           "name": "",
           "scene": "scene",
           "showlegend": false,
           "type": "scatter3d",
           "x": [
            138,
            138,
            138
           ],
           "y": [
            33,
            23,
            13
           ],
           "z": [
            0.63,
            0.41,
            0.41
           ]
          }
         ],
         "name": "9"
        },
        {
         "data": [
          {
           "customdata": [
            [
             64.76
            ],
            [
             76.14
            ],
            [
             49.38
            ]
           ],
           "hovertemplate": "<b>%{hovertext}</b><br><br>round=Final Round<br>temperature=%{x}<br>time=%{y}<br>mfp=%{z}<br>yield=%{marker.color}<extra></extra>",
           "hovertext": [
            64.76,
            76.14,
            49.38
           ],
           "legendgroup": "",
           "marker": {
            "color": [
             64.76,
             76.14,
             49.38
            ],
            "coloraxis": "coloraxis",
            "symbol": "circle"
           },
           "mode": "markers",
           "name": "",
           "scene": "scene",
           "showlegend": false,
           "type": "scatter3d",
           "x": [
            138,
            138,
            138
           ],
           "y": [
            11,
            19,
            7
           ],
           "z": [
            0.58,
            0.56,
            0.56
           ]
          }
         ],
         "name": "Final Round"
        }
       ],
       "layout": {
        "coloraxis": {
         "colorbar": {
          "title": {
           "text": "yield"
          }
         },
         "colorscale": [
          [
           0,
           "#0d0887"
          ],
          [
           0.1111111111111111,
           "#46039f"
          ],
          [
           0.2222222222222222,
           "#7201a8"
          ],
          [
           0.3333333333333333,
           "#9c179e"
          ],
          [
           0.4444444444444444,
           "#bd3786"
          ],
          [
           0.5555555555555556,
           "#d8576b"
          ],
          [
           0.6666666666666666,
           "#ed7953"
          ],
          [
           0.7777777777777778,
           "#fb9f3a"
          ],
          [
           0.8888888888888888,
           "#fdca26"
          ],
          [
           1,
           "#f0f921"
          ]
         ]
        },
        "legend": {
         "tracegroupgap": 0
        },
        "margin": {
         "b": 0,
         "l": 0,
         "r": 0,
         "t": 1
        },
        "scene": {
         "domain": {
          "x": [
           0,
           1
          ],
          "y": [
           0,
           1
          ]
         },
         "xaxis": {
          "nticks": 6,
          "range": [
           140,
           30
          ],
          "title": {
           "text": "temperature"
          }
         },
         "yaxis": {
          "nticks": 6,
          "range": [
           45,
           1
          ],
          "title": {
           "text": "time"
          }
         },
         "zaxis": {
          "nticks": 6,
          "range": [
           0.33,
           0.66
          ],
          "title": {
           "text": "mfp"
          }
         }
        },
        "sliders": [
         {
          "active": 0,
          "currentvalue": {
           "prefix": "round="
          },
          "len": 0.9,
          "pad": {
           "b": 10,
           "t": 60
          },
          "steps": [
           {
            "args": [
             [
              "0"
             ],
             {
              "frame": {
               "duration": 0,
               "redraw": true
              },
              "fromcurrent": true,
              "mode": "immediate",
              "transition": {
               "duration": 0,
               "easing": "linear"
              }
             }
            ],
            "label": "0",
            "method": "animate"
           },
           {
            "args": [
             [
              "1"
             ],
             {
              "frame": {
               "duration": 0,
               "redraw": true
              },
              "fromcurrent": true,
              "mode": "immediate",
              "transition": {
               "duration": 0,
               "easing": "linear"
              }
             }
            ],
            "label": "1",
            "method": "animate"
           },
           {
            "args": [
             [
              "2"
             ],
             {
              "frame": {
               "duration": 0,
               "redraw": true
              },
              "fromcurrent": true,
              "mode": "immediate",
              "transition": {
               "duration": 0,
               "easing": "linear"
              }
             }
            ],
            "label": "2",
            "method": "animate"
           },
           {
            "args": [
             [
              "3"
             ],
             {
              "frame": {
               "duration": 0,
               "redraw": true
              },
              "fromcurrent": true,
              "mode": "immediate",
              "transition": {
               "duration": 0,
               "easing": "linear"
              }
             }
            ],
            "label": "3",
            "method": "animate"
           },
           {
            "args": [
             [
              "4"
             ],
             {
              "frame": {
               "duration": 0,
               "redraw": true
              },
              "fromcurrent": true,
              "mode": "immediate",
              "transition": {
               "duration": 0,
               "easing": "linear"
              }
             }
            ],
            "label": "4",
            "method": "animate"
           },
           {
            "args": [
             [
              "5"
             ],
             {
              "frame": {
               "duration": 0,
               "redraw": true
              },
              "fromcurrent": true,
              "mode": "immediate",
              "transition": {
               "duration": 0,
               "easing": "linear"
              }
             }
            ],
            "label": "5",
            "method": "animate"
           },
           {
            "args": [
             [
              "6"
             ],
             {
              "frame": {
               "duration": 0,
               "redraw": true
              },
              "fromcurrent": true,
              "mode": "immediate",
              "transition": {
               "duration": 0,
               "easing": "linear"
              }
             }
            ],
            "label": "6",
            "method": "animate"
           },
           {
            "args": [
             [
              "7"
             ],
             {
              "frame": {
               "duration": 0,
               "redraw": true
              },
              "fromcurrent": true,
              "mode": "immediate",
              "transition": {
               "duration": 0,
               "easing": "linear"
              }
             }
            ],
            "label": "7",
            "method": "animate"
           },
           {
            "args": [
             [
              "8"
             ],
             {
              "frame": {
               "duration": 0,
               "redraw": true
              },
              "fromcurrent": true,
              "mode": "immediate",
              "transition": {
               "duration": 0,
               "easing": "linear"
              }
             }
            ],
            "label": "8",
            "method": "animate"
           },
           {
            "args": [
             [
              "9"
             ],
             {
              "frame": {
               "duration": 0,
               "redraw": true
              },
              "fromcurrent": true,
              "mode": "immediate",
              "transition": {
               "duration": 0,
               "easing": "linear"
              }
             }
            ],
            "label": "9",
            "method": "animate"
           },
           {
            "args": [
             [
              "Final Round"
             ],
             {
              "frame": {
               "duration": 0,
               "redraw": true
              },
              "fromcurrent": true,
              "mode": "immediate",
              "transition": {
               "duration": 0,
               "easing": "linear"
              }
             }
            ],
            "label": "Final Round",
            "method": "animate"
           }
          ],
          "x": 0.1,
          "xanchor": "left",
          "y": 0,
          "yanchor": "top"
         }
        ],
        "template": {
         "data": {
          "bar": [
           {
            "error_x": {
             "color": "#2a3f5f"
            },
            "error_y": {
             "color": "#2a3f5f"
            },
            "marker": {
             "line": {
              "color": "#E5ECF6",
              "width": 0.5
             },
             "pattern": {
              "fillmode": "overlay",
              "size": 10,
              "solidity": 0.2
             }
            },
            "type": "bar"
           }
          ],
          "barpolar": [
           {
            "marker": {
             "line": {
              "color": "#E5ECF6",
              "width": 0.5
             },
             "pattern": {
              "fillmode": "overlay",
              "size": 10,
              "solidity": 0.2
             }
            },
            "type": "barpolar"
           }
          ],
          "carpet": [
           {
            "aaxis": {
             "endlinecolor": "#2a3f5f",
             "gridcolor": "white",
             "linecolor": "white",
             "minorgridcolor": "white",
             "startlinecolor": "#2a3f5f"
            },
            "baxis": {
             "endlinecolor": "#2a3f5f",
             "gridcolor": "white",
             "linecolor": "white",
             "minorgridcolor": "white",
             "startlinecolor": "#2a3f5f"
            },
            "type": "carpet"
           }
          ],
          "choropleth": [
           {
            "colorbar": {
             "outlinewidth": 0,
             "ticks": ""
            },
            "type": "choropleth"
           }
          ],
          "contour": [
           {
            "colorbar": {
             "outlinewidth": 0,
             "ticks": ""
            },
            "colorscale": [
             [
              0,
              "#0d0887"
             ],
             [
              0.1111111111111111,
              "#46039f"
             ],
             [
              0.2222222222222222,
              "#7201a8"
             ],
             [
              0.3333333333333333,
              "#9c179e"
             ],
             [
              0.4444444444444444,
              "#bd3786"
             ],
             [
              0.5555555555555556,
              "#d8576b"
             ],
             [
              0.6666666666666666,
              "#ed7953"
             ],
             [
              0.7777777777777778,
              "#fb9f3a"
             ],
             [
              0.8888888888888888,
              "#fdca26"
             ],
             [
              1,
              "#f0f921"
             ]
            ],
            "type": "contour"
           }
          ],
          "contourcarpet": [
           {
            "colorbar": {
             "outlinewidth": 0,
             "ticks": ""
            },
            "type": "contourcarpet"
           }
          ],
          "heatmap": [
           {
            "colorbar": {
             "outlinewidth": 0,
             "ticks": ""
            },
            "colorscale": [
             [
              0,
              "#0d0887"
             ],
             [
              0.1111111111111111,
              "#46039f"
             ],
             [
              0.2222222222222222,
              "#7201a8"
             ],
             [
              0.3333333333333333,
              "#9c179e"
             ],
             [
              0.4444444444444444,
              "#bd3786"
             ],
             [
              0.5555555555555556,
              "#d8576b"
             ],
             [
              0.6666666666666666,
              "#ed7953"
             ],
             [
              0.7777777777777778,
              "#fb9f3a"
             ],
             [
              0.8888888888888888,
              "#fdca26"
             ],
             [
              1,
              "#f0f921"
             ]
            ],
            "type": "heatmap"
           }
          ],
          "heatmapgl": [
           {
            "colorbar": {
             "outlinewidth": 0,
             "ticks": ""
            },
            "colorscale": [
             [
              0,
              "#0d0887"
             ],
             [
              0.1111111111111111,
              "#46039f"
             ],
             [
              0.2222222222222222,
              "#7201a8"
             ],
             [
              0.3333333333333333,
              "#9c179e"
             ],
             [
              0.4444444444444444,
              "#bd3786"
             ],
             [
              0.5555555555555556,
              "#d8576b"
             ],
             [
              0.6666666666666666,
              "#ed7953"
             ],
             [
              0.7777777777777778,
              "#fb9f3a"
             ],
             [
              0.8888888888888888,
              "#fdca26"
             ],
             [
              1,
              "#f0f921"
             ]
            ],
            "type": "heatmapgl"
           }
          ],
          "histogram": [
           {
            "marker": {
             "pattern": {
              "fillmode": "overlay",
              "size": 10,
              "solidity": 0.2
             }
            },
            "type": "histogram"
           }
          ],
          "histogram2d": [
           {
            "colorbar": {
             "outlinewidth": 0,
             "ticks": ""
            },
            "colorscale": [
             [
              0,
              "#0d0887"
             ],
             [
              0.1111111111111111,
              "#46039f"
             ],
             [
              0.2222222222222222,
              "#7201a8"
             ],
             [
              0.3333333333333333,
              "#9c179e"
             ],
             [
              0.4444444444444444,
              "#bd3786"
             ],
             [
              0.5555555555555556,
              "#d8576b"
             ],
             [
              0.6666666666666666,
              "#ed7953"
             ],
             [
              0.7777777777777778,
              "#fb9f3a"
             ],
             [
              0.8888888888888888,
              "#fdca26"
             ],
             [
              1,
              "#f0f921"
             ]
            ],
            "type": "histogram2d"
           }
          ],
          "histogram2dcontour": [
           {
            "colorbar": {
             "outlinewidth": 0,
             "ticks": ""
            },
            "colorscale": [
             [
              0,
              "#0d0887"
             ],
             [
              0.1111111111111111,
              "#46039f"
             ],
             [
              0.2222222222222222,
              "#7201a8"
             ],
             [
              0.3333333333333333,
              "#9c179e"
             ],
             [
              0.4444444444444444,
              "#bd3786"
             ],
             [
              0.5555555555555556,
              "#d8576b"
             ],
             [
              0.6666666666666666,
              "#ed7953"
             ],
             [
              0.7777777777777778,
              "#fb9f3a"
             ],
             [
              0.8888888888888888,
              "#fdca26"
             ],
             [
              1,
              "#f0f921"
             ]
            ],
            "type": "histogram2dcontour"
           }
          ],
          "mesh3d": [
           {
            "colorbar": {
             "outlinewidth": 0,
             "ticks": ""
            },
            "type": "mesh3d"
           }
          ],
          "parcoords": [
           {
            "line": {
             "colorbar": {
              "outlinewidth": 0,
              "ticks": ""
             }
            },
            "type": "parcoords"
           }
          ],
          "pie": [
           {
            "automargin": true,
            "type": "pie"
           }
          ],
          "scatter": [
           {
            "fillpattern": {
             "fillmode": "overlay",
             "size": 10,
             "solidity": 0.2
            },
            "type": "scatter"
           }
          ],
          "scatter3d": [
           {
            "line": {
             "colorbar": {
              "outlinewidth": 0,
              "ticks": ""
             }
            },
            "marker": {
             "colorbar": {
              "outlinewidth": 0,
              "ticks": ""
             }
            },
            "type": "scatter3d"
           }
          ],
          "scattercarpet": [
           {
            "marker": {
             "colorbar": {
              "outlinewidth": 0,
              "ticks": ""
             }
            },
            "type": "scattercarpet"
           }
          ],
          "scattergeo": [
           {
            "marker": {
             "colorbar": {
              "outlinewidth": 0,
              "ticks": ""
             }
            },
            "type": "scattergeo"
           }
          ],
          "scattergl": [
           {
            "marker": {
             "colorbar": {
              "outlinewidth": 0,
              "ticks": ""
             }
            },
            "type": "scattergl"
           }
          ],
          "scattermapbox": [
           {
            "marker": {
             "colorbar": {
              "outlinewidth": 0,
              "ticks": ""
             }
            },
            "type": "scattermapbox"
           }
          ],
          "scatterpolar": [
           {
            "marker": {
             "colorbar": {
              "outlinewidth": 0,
              "ticks": ""
             }
            },
            "type": "scatterpolar"
           }
          ],
          "scatterpolargl": [
           {
            "marker": {
             "colorbar": {
              "outlinewidth": 0,
              "ticks": ""
             }
            },
            "type": "scatterpolargl"
           }
          ],
          "scatterternary": [
           {
            "marker": {
             "colorbar": {
              "outlinewidth": 0,
              "ticks": ""
             }
            },
            "type": "scatterternary"
           }
          ],
          "surface": [
           {
            "colorbar": {
             "outlinewidth": 0,
             "ticks": ""
            },
            "colorscale": [
             [
              0,
              "#0d0887"
             ],
             [
              0.1111111111111111,
              "#46039f"
             ],
             [
              0.2222222222222222,
              "#7201a8"
             ],
             [
              0.3333333333333333,
              "#9c179e"
             ],
             [
              0.4444444444444444,
              "#bd3786"
             ],
             [
              0.5555555555555556,
              "#d8576b"
             ],
             [
              0.6666666666666666,
              "#ed7953"
             ],
             [
              0.7777777777777778,
              "#fb9f3a"
             ],
             [
              0.8888888888888888,
              "#fdca26"
             ],
             [
              1,
              "#f0f921"
             ]
            ],
            "type": "surface"
           }
          ],
          "table": [
           {
            "cells": {
             "fill": {
              "color": "#EBF0F8"
             },
             "line": {
              "color": "white"
             }
            },
            "header": {
             "fill": {
              "color": "#C8D4E3"
             },
             "line": {
              "color": "white"
             }
            },
            "type": "table"
           }
          ]
         },
         "layout": {
          "annotationdefaults": {
           "arrowcolor": "#2a3f5f",
           "arrowhead": 0,
           "arrowwidth": 1
          },
          "autotypenumbers": "strict",
          "coloraxis": {
           "colorbar": {
            "outlinewidth": 0,
            "ticks": ""
           }
          },
          "colorscale": {
           "diverging": [
            [
             0,
             "#8e0152"
            ],
            [
             0.1,
             "#c51b7d"
            ],
            [
             0.2,
             "#de77ae"
            ],
            [
             0.3,
             "#f1b6da"
            ],
            [
             0.4,
             "#fde0ef"
            ],
            [
             0.5,
             "#f7f7f7"
            ],
            [
             0.6,
             "#e6f5d0"
            ],
            [
             0.7,
             "#b8e186"
            ],
            [
             0.8,
             "#7fbc41"
            ],
            [
             0.9,
             "#4d9221"
            ],
            [
             1,
             "#276419"
            ]
           ],
           "sequential": [
            [
             0,
             "#0d0887"
            ],
            [
             0.1111111111111111,
             "#46039f"
            ],
            [
             0.2222222222222222,
             "#7201a8"
            ],
            [
             0.3333333333333333,
             "#9c179e"
            ],
            [
             0.4444444444444444,
             "#bd3786"
            ],
            [
             0.5555555555555556,
             "#d8576b"
            ],
            [
             0.6666666666666666,
             "#ed7953"
            ],
            [
             0.7777777777777778,
             "#fb9f3a"
            ],
            [
             0.8888888888888888,
             "#fdca26"
            ],
            [
             1,
             "#f0f921"
            ]
           ],
           "sequentialminus": [
            [
             0,
             "#0d0887"
            ],
            [
             0.1111111111111111,
             "#46039f"
            ],
            [
             0.2222222222222222,
             "#7201a8"
            ],
            [
             0.3333333333333333,
             "#9c179e"
            ],
            [
             0.4444444444444444,
             "#bd3786"
            ],
            [
             0.5555555555555556,
             "#d8576b"
            ],
            [
             0.6666666666666666,
             "#ed7953"
            ],
            [
             0.7777777777777778,
             "#fb9f3a"
            ],
            [
             0.8888888888888888,
             "#fdca26"
            ],
            [
             1,
             "#f0f921"
            ]
           ]
          },
          "colorway": [
           "#636efa",
           "#EF553B",
           "#00cc96",
           "#ab63fa",
           "#FFA15A",
           "#19d3f3",
           "#FF6692",
           "#B6E880",
           "#FF97FF",
           "#FECB52"
          ],
          "font": {
           "color": "#2a3f5f"
          },
          "geo": {
           "bgcolor": "white",
           "lakecolor": "white",
           "landcolor": "#E5ECF6",
           "showlakes": true,
           "showland": true,
           "subunitcolor": "white"
          },
          "hoverlabel": {
           "align": "left"
          },
          "hovermode": "closest",
          "mapbox": {
           "style": "light"
          },
          "paper_bgcolor": "white",
          "plot_bgcolor": "#E5ECF6",
          "polar": {
           "angularaxis": {
            "gridcolor": "white",
            "linecolor": "white",
            "ticks": ""
           },
           "bgcolor": "#E5ECF6",
           "radialaxis": {
            "gridcolor": "white",
            "linecolor": "white",
            "ticks": ""
           }
          },
          "scene": {
           "xaxis": {
            "backgroundcolor": "#E5ECF6",
            "gridcolor": "white",
            "gridwidth": 2,
            "linecolor": "white",
            "showbackground": true,
            "ticks": "",
            "zerolinecolor": "white"
           },
           "yaxis": {
            "backgroundcolor": "#E5ECF6",
            "gridcolor": "white",
            "gridwidth": 2,
            "linecolor": "white",
            "showbackground": true,
            "ticks": "",
            "zerolinecolor": "white"
           },
           "zaxis": {
            "backgroundcolor": "#E5ECF6",
            "gridcolor": "white",
            "gridwidth": 2,
            "linecolor": "white",
            "showbackground": true,
            "ticks": "",
            "zerolinecolor": "white"
           }
          },
          "shapedefaults": {
           "line": {
            "color": "#2a3f5f"
           }
          },
          "ternary": {
           "aaxis": {
            "gridcolor": "white",
            "linecolor": "white",
            "ticks": ""
           },
           "baxis": {
            "gridcolor": "white",
            "linecolor": "white",
            "ticks": ""
           },
           "bgcolor": "#E5ECF6",
           "caxis": {
            "gridcolor": "white",
            "linecolor": "white",
            "ticks": ""
           }
          },
          "title": {
           "x": 0.05
          },
          "xaxis": {
           "automargin": true,
           "gridcolor": "white",
           "linecolor": "white",
           "ticks": "",
           "title": {
            "standoff": 15
           },
           "zerolinecolor": "white",
           "zerolinewidth": 2
          },
          "yaxis": {
           "automargin": true,
           "gridcolor": "white",
           "linecolor": "white",
           "ticks": "",
           "title": {
            "standoff": 15
           },
           "zerolinecolor": "white",
           "zerolinewidth": 2
          }
         }
        },
        "title": {
         "text": "3D Plot of the Inputs for the Continuous Flow Reaction",
         "x": 0.5,
         "xanchor": "center",
         "y": 0.95,
         "yanchor": "top"
        },
        "updatemenus": [
         {
          "buttons": [
           {
            "args": [
             null,
             {
              "frame": {
               "duration": 500,
               "redraw": true
              },
              "fromcurrent": true,
              "mode": "immediate",
              "transition": {
               "duration": 500,
               "easing": "linear"
              }
             }
            ],
            "label": "&#9654;",
            "method": "animate"
           },
           {
            "args": [
             [
              null
             ],
             {
              "frame": {
               "duration": 0,
               "redraw": true
              },
              "fromcurrent": true,
              "mode": "immediate",
              "transition": {
               "duration": 0,
               "easing": "linear"
              }
             }
            ],
            "label": "&#9724;",
            "method": "animate"
           }
          ],
          "direction": "left",
          "pad": {
           "r": 10,
           "t": 70
          },
          "showactive": false,
          "type": "buttons",
          "x": 0.1,
          "xanchor": "right",
          "y": 0,
          "yanchor": "top"
         }
        ]
       }
      },
      "text/html": [
       "<div>                            <div id=\"0abd9bbd-2b15-4570-8b92-aace1fa12d52\" class=\"plotly-graph-div\" style=\"height:525px; width:100%;\"></div>            <script type=\"text/javascript\">                require([\"plotly\"], function(Plotly) {                    window.PLOTLYENV=window.PLOTLYENV || {};                                    if (document.getElementById(\"0abd9bbd-2b15-4570-8b92-aace1fa12d52\")) {                    Plotly.newPlot(                        \"0abd9bbd-2b15-4570-8b92-aace1fa12d52\",                        [{\"customdata\":[[17.78],[15.23],[13.92],[13.21]],\"hovertemplate\":\"<b>%{hovertext}</b><br><br>round=0<br>temperature=%{x}<br>time=%{y}<br>mfp=%{z}<br>yield=%{marker.color}<extra></extra>\",\"hovertext\":[17.78,15.23,13.92,13.21],\"legendgroup\":\"\",\"marker\":{\"color\":[17.78,15.23,13.92,13.21],\"coloraxis\":\"coloraxis\",\"symbol\":\"circle\",\"size\":7},\"mode\":\"markers\",\"name\":\"\",\"scene\":\"scene\",\"showlegend\":false,\"x\":[85,85,85,85],\"y\":[23,23,23,23],\"z\":[0.5,0.5,0.5,0.5],\"type\":\"scatter3d\"}],                        {\"template\":{\"data\":{\"histogram2dcontour\":[{\"type\":\"histogram2dcontour\",\"colorbar\":{\"outlinewidth\":0,\"ticks\":\"\"},\"colorscale\":[[0.0,\"#0d0887\"],[0.1111111111111111,\"#46039f\"],[0.2222222222222222,\"#7201a8\"],[0.3333333333333333,\"#9c179e\"],[0.4444444444444444,\"#bd3786\"],[0.5555555555555556,\"#d8576b\"],[0.6666666666666666,\"#ed7953\"],[0.7777777777777778,\"#fb9f3a\"],[0.8888888888888888,\"#fdca26\"],[1.0,\"#f0f921\"]]}],\"choropleth\":[{\"type\":\"choropleth\",\"colorbar\":{\"outlinewidth\":0,\"ticks\":\"\"}}],\"histogram2d\":[{\"type\":\"histogram2d\",\"colorbar\":{\"outlinewidth\":0,\"ticks\":\"\"},\"colorscale\":[[0.0,\"#0d0887\"],[0.1111111111111111,\"#46039f\"],[0.2222222222222222,\"#7201a8\"],[0.3333333333333333,\"#9c179e\"],[0.4444444444444444,\"#bd3786\"],[0.5555555555555556,\"#d8576b\"],[0.6666666666666666,\"#ed7953\"],[0.7777777777777778,\"#fb9f3a\"],[0.8888888888888888,\"#fdca26\"],[1.0,\"#f0f921\"]]}],\"heatmap\":[{\"type\":\"heatmap\",\"colorbar\":{\"outlinewidth\":0,\"ticks\":\"\"},\"colorscale\":[[0.0,\"#0d0887\"],[0.1111111111111111,\"#46039f\"],[0.2222222222222222,\"#7201a8\"],[0.3333333333333333,\"#9c179e\"],[0.4444444444444444,\"#bd3786\"],[0.5555555555555556,\"#d8576b\"],[0.6666666666666666,\"#ed7953\"],[0.7777777777777778,\"#fb9f3a\"],[0.8888888888888888,\"#fdca26\"],[1.0,\"#f0f921\"]]}],\"heatmapgl\":[{\"type\":\"heatmapgl\",\"colorbar\":{\"outlinewidth\":0,\"ticks\":\"\"},\"colorscale\":[[0.0,\"#0d0887\"],[0.1111111111111111,\"#46039f\"],[0.2222222222222222,\"#7201a8\"],[0.3333333333333333,\"#9c179e\"],[0.4444444444444444,\"#bd3786\"],[0.5555555555555556,\"#d8576b\"],[0.6666666666666666,\"#ed7953\"],[0.7777777777777778,\"#fb9f3a\"],[0.8888888888888888,\"#fdca26\"],[1.0,\"#f0f921\"]]}],\"contourcarpet\":[{\"type\":\"contourcarpet\",\"colorbar\":{\"outlinewidth\":0,\"ticks\":\"\"}}],\"contour\":[{\"type\":\"contour\",\"colorbar\":{\"outlinewidth\":0,\"ticks\":\"\"},\"colorscale\":[[0.0,\"#0d0887\"],[0.1111111111111111,\"#46039f\"],[0.2222222222222222,\"#7201a8\"],[0.3333333333333333,\"#9c179e\"],[0.4444444444444444,\"#bd3786\"],[0.5555555555555556,\"#d8576b\"],[0.6666666666666666,\"#ed7953\"],[0.7777777777777778,\"#fb9f3a\"],[0.8888888888888888,\"#fdca26\"],[1.0,\"#f0f921\"]]}],\"surface\":[{\"type\":\"surface\",\"colorbar\":{\"outlinewidth\":0,\"ticks\":\"\"},\"colorscale\":[[0.0,\"#0d0887\"],[0.1111111111111111,\"#46039f\"],[0.2222222222222222,\"#7201a8\"],[0.3333333333333333,\"#9c179e\"],[0.4444444444444444,\"#bd3786\"],[0.5555555555555556,\"#d8576b\"],[0.6666666666666666,\"#ed7953\"],[0.7777777777777778,\"#fb9f3a\"],[0.8888888888888888,\"#fdca26\"],[1.0,\"#f0f921\"]]}],\"mesh3d\":[{\"type\":\"mesh3d\",\"colorbar\":{\"outlinewidth\":0,\"ticks\":\"\"}}],\"scatter\":[{\"fillpattern\":{\"fillmode\":\"overlay\",\"size\":10,\"solidity\":0.2},\"type\":\"scatter\"}],\"parcoords\":[{\"type\":\"parcoords\",\"line\":{\"colorbar\":{\"outlinewidth\":0,\"ticks\":\"\"}}}],\"scatterpolargl\":[{\"type\":\"scatterpolargl\",\"marker\":{\"colorbar\":{\"outlinewidth\":0,\"ticks\":\"\"}}}],\"bar\":[{\"error_x\":{\"color\":\"#2a3f5f\"},\"error_y\":{\"color\":\"#2a3f5f\"},\"marker\":{\"line\":{\"color\":\"#E5ECF6\",\"width\":0.5},\"pattern\":{\"fillmode\":\"overlay\",\"size\":10,\"solidity\":0.2}},\"type\":\"bar\"}],\"scattergeo\":[{\"type\":\"scattergeo\",\"marker\":{\"colorbar\":{\"outlinewidth\":0,\"ticks\":\"\"}}}],\"scatterpolar\":[{\"type\":\"scatterpolar\",\"marker\":{\"colorbar\":{\"outlinewidth\":0,\"ticks\":\"\"}}}],\"histogram\":[{\"marker\":{\"pattern\":{\"fillmode\":\"overlay\",\"size\":10,\"solidity\":0.2}},\"type\":\"histogram\"}],\"scattergl\":[{\"type\":\"scattergl\",\"marker\":{\"colorbar\":{\"outlinewidth\":0,\"ticks\":\"\"}}}],\"scatter3d\":[{\"type\":\"scatter3d\",\"line\":{\"colorbar\":{\"outlinewidth\":0,\"ticks\":\"\"}},\"marker\":{\"colorbar\":{\"outlinewidth\":0,\"ticks\":\"\"}}}],\"scattermapbox\":[{\"type\":\"scattermapbox\",\"marker\":{\"colorbar\":{\"outlinewidth\":0,\"ticks\":\"\"}}}],\"scatterternary\":[{\"type\":\"scatterternary\",\"marker\":{\"colorbar\":{\"outlinewidth\":0,\"ticks\":\"\"}}}],\"scattercarpet\":[{\"type\":\"scattercarpet\",\"marker\":{\"colorbar\":{\"outlinewidth\":0,\"ticks\":\"\"}}}],\"carpet\":[{\"aaxis\":{\"endlinecolor\":\"#2a3f5f\",\"gridcolor\":\"white\",\"linecolor\":\"white\",\"minorgridcolor\":\"white\",\"startlinecolor\":\"#2a3f5f\"},\"baxis\":{\"endlinecolor\":\"#2a3f5f\",\"gridcolor\":\"white\",\"linecolor\":\"white\",\"minorgridcolor\":\"white\",\"startlinecolor\":\"#2a3f5f\"},\"type\":\"carpet\"}],\"table\":[{\"cells\":{\"fill\":{\"color\":\"#EBF0F8\"},\"line\":{\"color\":\"white\"}},\"header\":{\"fill\":{\"color\":\"#C8D4E3\"},\"line\":{\"color\":\"white\"}},\"type\":\"table\"}],\"barpolar\":[{\"marker\":{\"line\":{\"color\":\"#E5ECF6\",\"width\":0.5},\"pattern\":{\"fillmode\":\"overlay\",\"size\":10,\"solidity\":0.2}},\"type\":\"barpolar\"}],\"pie\":[{\"automargin\":true,\"type\":\"pie\"}]},\"layout\":{\"autotypenumbers\":\"strict\",\"colorway\":[\"#636efa\",\"#EF553B\",\"#00cc96\",\"#ab63fa\",\"#FFA15A\",\"#19d3f3\",\"#FF6692\",\"#B6E880\",\"#FF97FF\",\"#FECB52\"],\"font\":{\"color\":\"#2a3f5f\"},\"hovermode\":\"closest\",\"hoverlabel\":{\"align\":\"left\"},\"paper_bgcolor\":\"white\",\"plot_bgcolor\":\"#E5ECF6\",\"polar\":{\"bgcolor\":\"#E5ECF6\",\"angularaxis\":{\"gridcolor\":\"white\",\"linecolor\":\"white\",\"ticks\":\"\"},\"radialaxis\":{\"gridcolor\":\"white\",\"linecolor\":\"white\",\"ticks\":\"\"}},\"ternary\":{\"bgcolor\":\"#E5ECF6\",\"aaxis\":{\"gridcolor\":\"white\",\"linecolor\":\"white\",\"ticks\":\"\"},\"baxis\":{\"gridcolor\":\"white\",\"linecolor\":\"white\",\"ticks\":\"\"},\"caxis\":{\"gridcolor\":\"white\",\"linecolor\":\"white\",\"ticks\":\"\"}},\"coloraxis\":{\"colorbar\":{\"outlinewidth\":0,\"ticks\":\"\"}},\"colorscale\":{\"sequential\":[[0.0,\"#0d0887\"],[0.1111111111111111,\"#46039f\"],[0.2222222222222222,\"#7201a8\"],[0.3333333333333333,\"#9c179e\"],[0.4444444444444444,\"#bd3786\"],[0.5555555555555556,\"#d8576b\"],[0.6666666666666666,\"#ed7953\"],[0.7777777777777778,\"#fb9f3a\"],[0.8888888888888888,\"#fdca26\"],[1.0,\"#f0f921\"]],\"sequentialminus\":[[0.0,\"#0d0887\"],[0.1111111111111111,\"#46039f\"],[0.2222222222222222,\"#7201a8\"],[0.3333333333333333,\"#9c179e\"],[0.4444444444444444,\"#bd3786\"],[0.5555555555555556,\"#d8576b\"],[0.6666666666666666,\"#ed7953\"],[0.7777777777777778,\"#fb9f3a\"],[0.8888888888888888,\"#fdca26\"],[1.0,\"#f0f921\"]],\"diverging\":[[0,\"#8e0152\"],[0.1,\"#c51b7d\"],[0.2,\"#de77ae\"],[0.3,\"#f1b6da\"],[0.4,\"#fde0ef\"],[0.5,\"#f7f7f7\"],[0.6,\"#e6f5d0\"],[0.7,\"#b8e186\"],[0.8,\"#7fbc41\"],[0.9,\"#4d9221\"],[1,\"#276419\"]]},\"xaxis\":{\"gridcolor\":\"white\",\"linecolor\":\"white\",\"ticks\":\"\",\"title\":{\"standoff\":15},\"zerolinecolor\":\"white\",\"automargin\":true,\"zerolinewidth\":2},\"yaxis\":{\"gridcolor\":\"white\",\"linecolor\":\"white\",\"ticks\":\"\",\"title\":{\"standoff\":15},\"zerolinecolor\":\"white\",\"automargin\":true,\"zerolinewidth\":2},\"scene\":{\"xaxis\":{\"backgroundcolor\":\"#E5ECF6\",\"gridcolor\":\"white\",\"linecolor\":\"white\",\"showbackground\":true,\"ticks\":\"\",\"zerolinecolor\":\"white\",\"gridwidth\":2},\"yaxis\":{\"backgroundcolor\":\"#E5ECF6\",\"gridcolor\":\"white\",\"linecolor\":\"white\",\"showbackground\":true,\"ticks\":\"\",\"zerolinecolor\":\"white\",\"gridwidth\":2},\"zaxis\":{\"backgroundcolor\":\"#E5ECF6\",\"gridcolor\":\"white\",\"linecolor\":\"white\",\"showbackground\":true,\"ticks\":\"\",\"zerolinecolor\":\"white\",\"gridwidth\":2}},\"shapedefaults\":{\"line\":{\"color\":\"#2a3f5f\"}},\"annotationdefaults\":{\"arrowcolor\":\"#2a3f5f\",\"arrowhead\":0,\"arrowwidth\":1},\"geo\":{\"bgcolor\":\"white\",\"landcolor\":\"#E5ECF6\",\"subunitcolor\":\"white\",\"showland\":true,\"showlakes\":true,\"lakecolor\":\"white\"},\"title\":{\"x\":0.05},\"mapbox\":{\"style\":\"light\"}}},\"scene\":{\"domain\":{\"x\":[0.0,1.0],\"y\":[0.0,1.0]},\"xaxis\":{\"title\":{\"text\":\"temperature\"},\"nticks\":6,\"range\":[140,30]},\"yaxis\":{\"title\":{\"text\":\"time\"},\"nticks\":6,\"range\":[45,1]},\"zaxis\":{\"title\":{\"text\":\"mfp\"},\"nticks\":6,\"range\":[0.33,0.66]}},\"coloraxis\":{\"colorbar\":{\"title\":{\"text\":\"yield\"}},\"colorscale\":[[0.0,\"#0d0887\"],[0.1111111111111111,\"#46039f\"],[0.2222222222222222,\"#7201a8\"],[0.3333333333333333,\"#9c179e\"],[0.4444444444444444,\"#bd3786\"],[0.5555555555555556,\"#d8576b\"],[0.6666666666666666,\"#ed7953\"],[0.7777777777777778,\"#fb9f3a\"],[0.8888888888888888,\"#fdca26\"],[1.0,\"#f0f921\"]]},\"legend\":{\"tracegroupgap\":0},\"margin\":{\"t\":1,\"l\":0,\"r\":0,\"b\":0},\"updatemenus\":[{\"buttons\":[{\"args\":[null,{\"frame\":{\"duration\":500,\"redraw\":true},\"mode\":\"immediate\",\"fromcurrent\":true,\"transition\":{\"duration\":500,\"easing\":\"linear\"}}],\"label\":\"&#9654;\",\"method\":\"animate\"},{\"args\":[[null],{\"frame\":{\"duration\":0,\"redraw\":true},\"mode\":\"immediate\",\"fromcurrent\":true,\"transition\":{\"duration\":0,\"easing\":\"linear\"}}],\"label\":\"&#9724;\",\"method\":\"animate\"}],\"direction\":\"left\",\"pad\":{\"r\":10,\"t\":70},\"showactive\":false,\"type\":\"buttons\",\"x\":0.1,\"xanchor\":\"right\",\"y\":0,\"yanchor\":\"top\"}],\"sliders\":[{\"active\":0,\"currentvalue\":{\"prefix\":\"round=\"},\"len\":0.9,\"pad\":{\"b\":10,\"t\":60},\"steps\":[{\"args\":[[\"0\"],{\"frame\":{\"duration\":0,\"redraw\":true},\"mode\":\"immediate\",\"fromcurrent\":true,\"transition\":{\"duration\":0,\"easing\":\"linear\"}}],\"label\":\"0\",\"method\":\"animate\"},{\"args\":[[\"1\"],{\"frame\":{\"duration\":0,\"redraw\":true},\"mode\":\"immediate\",\"fromcurrent\":true,\"transition\":{\"duration\":0,\"easing\":\"linear\"}}],\"label\":\"1\",\"method\":\"animate\"},{\"args\":[[\"2\"],{\"frame\":{\"duration\":0,\"redraw\":true},\"mode\":\"immediate\",\"fromcurrent\":true,\"transition\":{\"duration\":0,\"easing\":\"linear\"}}],\"label\":\"2\",\"method\":\"animate\"},{\"args\":[[\"3\"],{\"frame\":{\"duration\":0,\"redraw\":true},\"mode\":\"immediate\",\"fromcurrent\":true,\"transition\":{\"duration\":0,\"easing\":\"linear\"}}],\"label\":\"3\",\"method\":\"animate\"},{\"args\":[[\"4\"],{\"frame\":{\"duration\":0,\"redraw\":true},\"mode\":\"immediate\",\"fromcurrent\":true,\"transition\":{\"duration\":0,\"easing\":\"linear\"}}],\"label\":\"4\",\"method\":\"animate\"},{\"args\":[[\"5\"],{\"frame\":{\"duration\":0,\"redraw\":true},\"mode\":\"immediate\",\"fromcurrent\":true,\"transition\":{\"duration\":0,\"easing\":\"linear\"}}],\"label\":\"5\",\"method\":\"animate\"},{\"args\":[[\"6\"],{\"frame\":{\"duration\":0,\"redraw\":true},\"mode\":\"immediate\",\"fromcurrent\":true,\"transition\":{\"duration\":0,\"easing\":\"linear\"}}],\"label\":\"6\",\"method\":\"animate\"},{\"args\":[[\"7\"],{\"frame\":{\"duration\":0,\"redraw\":true},\"mode\":\"immediate\",\"fromcurrent\":true,\"transition\":{\"duration\":0,\"easing\":\"linear\"}}],\"label\":\"7\",\"method\":\"animate\"},{\"args\":[[\"8\"],{\"frame\":{\"duration\":0,\"redraw\":true},\"mode\":\"immediate\",\"fromcurrent\":true,\"transition\":{\"duration\":0,\"easing\":\"linear\"}}],\"label\":\"8\",\"method\":\"animate\"},{\"args\":[[\"9\"],{\"frame\":{\"duration\":0,\"redraw\":true},\"mode\":\"immediate\",\"fromcurrent\":true,\"transition\":{\"duration\":0,\"easing\":\"linear\"}}],\"label\":\"9\",\"method\":\"animate\"},{\"args\":[[\"Final Round\"],{\"frame\":{\"duration\":0,\"redraw\":true},\"mode\":\"immediate\",\"fromcurrent\":true,\"transition\":{\"duration\":0,\"easing\":\"linear\"}}],\"label\":\"Final Round\",\"method\":\"animate\"}],\"x\":0.1,\"xanchor\":\"left\",\"y\":0,\"yanchor\":\"top\"}],\"title\":{\"text\":\"3D Plot of the Inputs for the Continuous Flow Reaction\",\"y\":0.95,\"x\":0.5,\"xanchor\":\"center\",\"yanchor\":\"top\"}},                        {\"responsive\": true}                    ).then(function(){\n",
       "                            Plotly.addFrames('0abd9bbd-2b15-4570-8b92-aace1fa12d52', [{\"data\":[{\"customdata\":[[17.78],[15.23],[13.92],[13.21]],\"hovertemplate\":\"<b>%{hovertext}</b><br><br>round=0<br>temperature=%{x}<br>time=%{y}<br>mfp=%{z}<br>yield=%{marker.color}<extra></extra>\",\"hovertext\":[17.78,15.23,13.92,13.21],\"legendgroup\":\"\",\"marker\":{\"color\":[17.78,15.23,13.92,13.21],\"coloraxis\":\"coloraxis\",\"symbol\":\"circle\"},\"mode\":\"markers\",\"name\":\"\",\"scene\":\"scene\",\"showlegend\":false,\"x\":[85,85,85,85],\"y\":[23,23,23,23],\"z\":[0.5,0.5,0.5,0.5],\"type\":\"scatter3d\"}],\"name\":\"0\"},{\"data\":[{\"customdata\":[[77.16],[21.22],[56.93]],\"hovertemplate\":\"<b>%{hovertext}</b><br><br>round=1<br>temperature=%{x}<br>time=%{y}<br>mfp=%{z}<br>yield=%{marker.color}<extra></extra>\",\"hovertext\":[77.16,21.22,56.93],\"legendgroup\":\"\",\"marker\":{\"color\":[77.16,21.22,56.93],\"coloraxis\":\"coloraxis\",\"symbol\":\"circle\"},\"mode\":\"markers\",\"name\":\"\",\"scene\":\"scene\",\"showlegend\":false,\"x\":[135,132,123],\"y\":[23,3,23],\"z\":[0.36,0.36,0.46],\"type\":\"scatter3d\"}],\"name\":\"1\"},{\"data\":[{\"customdata\":[[87.6],[70.98],[67.86]],\"hovertemplate\":\"<b>%{hovertext}</b><br><br>round=2<br>temperature=%{x}<br>time=%{y}<br>mfp=%{z}<br>yield=%{marker.color}<extra></extra>\",\"hovertext\":[87.6,70.98,67.86],\"legendgroup\":\"\",\"marker\":{\"color\":[87.6,70.98,67.86],\"coloraxis\":\"coloraxis\",\"symbol\":\"circle\"},\"mode\":\"markers\",\"name\":\"\",\"scene\":\"scene\",\"showlegend\":false,\"x\":[135,138,138],\"y\":[29,13,15],\"z\":[0.63,0.63,0.56],\"type\":\"scatter3d\"}],\"name\":\"2\"},{\"data\":[{\"customdata\":[[81.59],[41.12],[9.252]],\"hovertemplate\":\"<b>%{hovertext}</b><br><br>round=3<br>temperature=%{x}<br>time=%{y}<br>mfp=%{z}<br>yield=%{marker.color}<extra></extra>\",\"hovertext\":[81.59,41.12,9.252],\"legendgroup\":\"\",\"marker\":{\"color\":[81.59,41.12,9.252],\"coloraxis\":\"coloraxis\",\"symbol\":\"circle\"},\"mode\":\"markers\",\"name\":\"\",\"scene\":\"scene\",\"showlegend\":false,\"x\":[138,138,135],\"y\":[41,5,1],\"z\":[0.48,0.66,0.63],\"type\":\"scatter3d\"}],\"name\":\"3\"},{\"data\":[{\"customdata\":[[85.86],[26.38],[62.9]],\"hovertemplate\":\"<b>%{hovertext}</b><br><br>round=4<br>temperature=%{x}<br>time=%{y}<br>mfp=%{z}<br>yield=%{marker.color}<extra></extra>\",\"hovertext\":[85.86,26.38,62.9],\"legendgroup\":\"\",\"marker\":{\"color\":[85.86,26.38,62.9],\"coloraxis\":\"coloraxis\",\"symbol\":\"circle\"},\"mode\":\"markers\",\"name\":\"\",\"scene\":\"scene\",\"showlegend\":false,\"x\":[138,138,135],\"y\":[21,3,13],\"z\":[0.66,0.66,0.61],\"type\":\"scatter3d\"}],\"name\":\"4\"},{\"data\":[{\"customdata\":[[32.96],[66.05],[51.14]],\"hovertemplate\":\"<b>%{hovertext}</b><br><br>round=5<br>temperature=%{x}<br>time=%{y}<br>mfp=%{z}<br>yield=%{marker.color}<extra></extra>\",\"hovertext\":[32.96,66.05,51.14],\"legendgroup\":\"\",\"marker\":{\"color\":[32.96,66.05,51.14],\"coloraxis\":\"coloraxis\",\"symbol\":\"circle\"},\"mode\":\"markers\",\"name\":\"\",\"scene\":\"scene\",\"showlegend\":false,\"x\":[138,138,138],\"y\":[5,15,9],\"z\":[0.51,0.48,0.48],\"type\":\"scatter3d\"}],\"name\":\"5\"},{\"data\":[{\"customdata\":[[86.31],[1.61],[1.73]],\"hovertemplate\":\"<b>%{hovertext}</b><br><br>round=6<br>temperature=%{x}<br>time=%{y}<br>mfp=%{z}<br>yield=%{marker.color}<extra></extra>\",\"hovertext\":[86.31,1.61,1.73],\"legendgroup\":\"\",\"marker\":{\"color\":[86.31,1.61,1.73],\"coloraxis\":\"coloraxis\",\"symbol\":\"circle\"},\"mode\":\"markers\",\"name\":\"\",\"scene\":\"scene\",\"showlegend\":false,\"x\":[138,75,51],\"y\":[29,3,1],\"z\":[0.66,0.58,0.56],\"type\":\"scatter3d\"}],\"name\":\"6\"},{\"data\":[{\"customdata\":[[8.49],[6.1],[5.62]],\"hovertemplate\":\"<b>%{hovertext}</b><br><br>round=7<br>temperature=%{x}<br>time=%{y}<br>mfp=%{z}<br>yield=%{marker.color}<extra></extra>\",\"hovertext\":[8.49,6.1,5.62],\"legendgroup\":\"\",\"marker\":{\"color\":[8.49,6.1,5.62],\"coloraxis\":\"coloraxis\",\"symbol\":\"circle\"},\"mode\":\"markers\",\"name\":\"\",\"scene\":\"scene\",\"showlegend\":false,\"x\":[63,54,45],\"y\":[33,41,35],\"z\":[0.56,0.51,0.61],\"type\":\"scatter3d\"}],\"name\":\"7\"},{\"data\":[{\"customdata\":[[73.57],[62.52],[10.32]],\"hovertemplate\":\"<b>%{hovertext}</b><br><br>round=8<br>temperature=%{x}<br>time=%{y}<br>mfp=%{z}<br>yield=%{marker.color}<extra></extra>\",\"hovertext\":[73.57,62.52,10.32],\"legendgroup\":\"\",\"marker\":{\"color\":[73.57,62.52,10.32],\"coloraxis\":\"coloraxis\",\"symbol\":\"circle\"},\"mode\":\"markers\",\"name\":\"\",\"scene\":\"scene\",\"showlegend\":false,\"x\":[138,138,138],\"y\":[15,13,1],\"z\":[0.43,0.48,0.33],\"type\":\"scatter3d\"}],\"name\":\"8\"},{\"data\":[{\"customdata\":[[90.24],[77.41],[69.79]],\"hovertemplate\":\"<b>%{hovertext}</b><br><br>round=9<br>temperature=%{x}<br>time=%{y}<br>mfp=%{z}<br>yield=%{marker.color}<extra></extra>\",\"hovertext\":[90.24,77.41,69.79],\"legendgroup\":\"\",\"marker\":{\"color\":[90.24,77.41,69.79],\"coloraxis\":\"coloraxis\",\"symbol\":\"circle\"},\"mode\":\"markers\",\"name\":\"\",\"scene\":\"scene\",\"showlegend\":false,\"x\":[138,138,138],\"y\":[33,23,13],\"z\":[0.63,0.41,0.41],\"type\":\"scatter3d\"}],\"name\":\"9\"},{\"data\":[{\"customdata\":[[64.76],[76.14],[49.38]],\"hovertemplate\":\"<b>%{hovertext}</b><br><br>round=Final Round<br>temperature=%{x}<br>time=%{y}<br>mfp=%{z}<br>yield=%{marker.color}<extra></extra>\",\"hovertext\":[64.76,76.14,49.38],\"legendgroup\":\"\",\"marker\":{\"color\":[64.76,76.14,49.38],\"coloraxis\":\"coloraxis\",\"symbol\":\"circle\"},\"mode\":\"markers\",\"name\":\"\",\"scene\":\"scene\",\"showlegend\":false,\"x\":[138,138,138],\"y\":[11,19,7],\"z\":[0.58,0.56,0.56],\"type\":\"scatter3d\"}],\"name\":\"Final Round\"}]);\n",
       "                        }).then(function(){\n",
       "                            \n",
       "var gd = document.getElementById('0abd9bbd-2b15-4570-8b92-aace1fa12d52');\n",
       "var x = new MutationObserver(function (mutations, observer) {{\n",
       "        var display = window.getComputedStyle(gd).display;\n",
       "        if (!display || display === 'none') {{\n",
       "            console.log([gd, 'removed!']);\n",
       "            Plotly.purge(gd);\n",
       "            observer.disconnect();\n",
       "        }}\n",
       "}});\n",
       "\n",
       "// Listen for the removal of the full notebook cells\n",
       "var notebookContainer = gd.closest('#notebook-container');\n",
       "if (notebookContainer) {{\n",
       "    x.observe(notebookContainer, {childList: true});\n",
       "}}\n",
       "\n",
       "// Listen for the clearing of the current output cell\n",
       "var outputEl = gd.closest('.output');\n",
       "if (outputEl) {{\n",
       "    x.observe(outputEl, {childList: true});\n",
       "}}\n",
       "\n",
       "                        })                };                });            </script>        </div>"
      ]
     },
     "metadata": {},
     "output_type": "display_data"
    },
    {
     "data": {
      "application/vnd.plotly.v1+json": {
       "config": {
        "plotlyServerURL": "https://plot.ly"
       },
       "data": [
        {
         "customdata": [
          [
           85,
           23,
           0.5
          ],
          [
           85,
           23,
           0.5
          ],
          [
           85,
           23,
           0.5
          ],
          [
           85,
           23,
           0.5
          ]
         ],
         "hovertemplate": "round=%{x}<br>Yield (%)=%{y}<br>size=%{marker.size}<br>temperature=%{customdata[0]}<br>time=%{customdata[1]}<br>mfp=%{customdata[2]}<extra></extra>",
         "legendgroup": "0",
         "marker": {
          "color": "rgb(254, 254, 253)",
          "size": [
           5,
           5,
           5,
           5
          ],
          "sizemode": "area",
          "sizeref": 0.0125,
          "symbol": "circle"
         },
         "mode": "markers",
         "name": "0",
         "orientation": "v",
         "showlegend": true,
         "type": "scatter",
         "x": [
          "0",
          "0",
          "0",
          "0"
         ],
         "xaxis": "x",
         "y": [
          17.78,
          15.23,
          13.92,
          13.21
         ],
         "yaxis": "y"
        },
        {
         "customdata": [
          [
           135,
           23,
           0.36
          ],
          [
           132,
           3,
           0.36
          ],
          [
           123,
           23,
           0.46
          ]
         ],
         "hovertemplate": "round=%{x}<br>Yield (%)=%{y}<br>size=%{marker.size}<br>temperature=%{customdata[0]}<br>time=%{customdata[1]}<br>mfp=%{customdata[2]}<extra></extra>",
         "legendgroup": "1",
         "marker": {
          "color": "rgb(224, 224, 223)",
          "size": [
           5,
           5,
           5
          ],
          "sizemode": "area",
          "sizeref": 0.0125,
          "symbol": "circle"
         },
         "mode": "markers",
         "name": "1",
         "orientation": "v",
         "showlegend": true,
         "type": "scatter",
         "x": [
          "1",
          "1",
          "1"
         ],
         "xaxis": "x",
         "y": [
          77.16,
          21.22,
          56.93
         ],
         "yaxis": "y"
        },
        {
         "customdata": [
          [
           135,
           29,
           0.63
          ],
          [
           138,
           13,
           0.63
          ],
          [
           138,
           15,
           0.56
          ]
         ],
         "hovertemplate": "round=%{x}<br>Yield (%)=%{y}<br>size=%{marker.size}<br>temperature=%{customdata[0]}<br>time=%{customdata[1]}<br>mfp=%{customdata[2]}<extra></extra>",
         "legendgroup": "2",
         "marker": {
          "color": "rgb(197, 197, 195)",
          "size": [
           5,
           5,
           5
          ],
          "sizemode": "area",
          "sizeref": 0.0125,
          "symbol": "circle"
         },
         "mode": "markers",
         "name": "2",
         "orientation": "v",
         "showlegend": true,
         "type": "scatter",
         "x": [
          "2",
          "2",
          "2"
         ],
         "xaxis": "x",
         "y": [
          87.6,
          70.98,
          67.86
         ],
         "yaxis": "y"
        },
        {
         "customdata": [
          [
           138,
           41,
           0.48
          ],
          [
           138,
           5,
           0.66
          ],
          [
           135,
           1,
           0.63
          ]
         ],
         "hovertemplate": "round=%{x}<br>Yield (%)=%{y}<br>size=%{marker.size}<br>temperature=%{customdata[0]}<br>time=%{customdata[1]}<br>mfp=%{customdata[2]}<extra></extra>",
         "legendgroup": "3",
         "marker": {
          "color": "rgb(171, 171, 170)",
          "size": [
           5,
           5,
           5
          ],
          "sizemode": "area",
          "sizeref": 0.0125,
          "symbol": "circle"
         },
         "mode": "markers",
         "name": "3",
         "orientation": "v",
         "showlegend": true,
         "type": "scatter",
         "x": [
          "3",
          "3",
          "3"
         ],
         "xaxis": "x",
         "y": [
          81.59,
          41.12,
          9.252
         ],
         "yaxis": "y"
        },
        {
         "customdata": [
          [
           138,
           21,
           0.66
          ],
          [
           138,
           3,
           0.66
          ],
          [
           135,
           13,
           0.61
          ]
         ],
         "hovertemplate": "round=%{x}<br>Yield (%)=%{y}<br>size=%{marker.size}<br>temperature=%{customdata[0]}<br>time=%{customdata[1]}<br>mfp=%{customdata[2]}<extra></extra>",
         "legendgroup": "4",
         "marker": {
          "color": "rgb(146, 146, 145)",
          "size": [
           5,
           5,
           5
          ],
          "sizemode": "area",
          "sizeref": 0.0125,
          "symbol": "circle"
         },
         "mode": "markers",
         "name": "4",
         "orientation": "v",
         "showlegend": true,
         "type": "scatter",
         "x": [
          "4",
          "4",
          "4"
         ],
         "xaxis": "x",
         "y": [
          85.86,
          26.38,
          62.9
         ],
         "yaxis": "y"
        },
        {
         "customdata": [
          [
           138,
           5,
           0.51
          ],
          [
           138,
           15,
           0.48
          ],
          [
           138,
           9,
           0.48
          ]
         ],
         "hovertemplate": "round=%{x}<br>Yield (%)=%{y}<br>size=%{marker.size}<br>temperature=%{customdata[0]}<br>time=%{customdata[1]}<br>mfp=%{customdata[2]}<extra></extra>",
         "legendgroup": "5",
         "marker": {
          "color": "rgb(124, 123, 122)",
          "size": [
           5,
           5,
           5
          ],
          "sizemode": "area",
          "sizeref": 0.0125,
          "symbol": "circle"
         },
         "mode": "markers",
         "name": "5",
         "orientation": "v",
         "showlegend": true,
         "type": "scatter",
         "x": [
          "5",
          "5",
          "5"
         ],
         "xaxis": "x",
         "y": [
          32.96,
          66.05,
          51.14
         ],
         "yaxis": "y"
        },
        {
         "customdata": [
          [
           138,
           29,
           0.66
          ],
          [
           75,
           3,
           0.58
          ],
          [
           51,
           1,
           0.56
          ]
         ],
         "hovertemplate": "round=%{x}<br>Yield (%)=%{y}<br>size=%{marker.size}<br>temperature=%{customdata[0]}<br>time=%{customdata[1]}<br>mfp=%{customdata[2]}<extra></extra>",
         "legendgroup": "6",
         "marker": {
          "color": "rgb(102, 101, 101)",
          "size": [
           5,
           5,
           5
          ],
          "sizemode": "area",
          "sizeref": 0.0125,
          "symbol": "circle"
         },
         "mode": "markers",
         "name": "6",
         "orientation": "v",
         "showlegend": true,
         "type": "scatter",
         "x": [
          "6",
          "6",
          "6"
         ],
         "xaxis": "x",
         "y": [
          86.31,
          1.61,
          1.73
         ],
         "yaxis": "y"
        },
        {
         "customdata": [
          [
           63,
           33,
           0.56
          ],
          [
           54,
           41,
           0.51
          ],
          [
           45,
           35,
           0.61
          ]
         ],
         "hovertemplate": "round=%{x}<br>Yield (%)=%{y}<br>size=%{marker.size}<br>temperature=%{customdata[0]}<br>time=%{customdata[1]}<br>mfp=%{customdata[2]}<extra></extra>",
         "legendgroup": "7",
         "marker": {
          "color": "rgb(81, 80, 80)",
          "size": [
           5,
           5,
           5
          ],
          "sizemode": "area",
          "sizeref": 0.0125,
          "symbol": "circle"
         },
         "mode": "markers",
         "name": "7",
         "orientation": "v",
         "showlegend": true,
         "type": "scatter",
         "x": [
          "7",
          "7",
          "7"
         ],
         "xaxis": "x",
         "y": [
          8.49,
          6.1,
          5.62
         ],
         "yaxis": "y"
        },
        {
         "customdata": [
          [
           138,
           15,
           0.43
          ],
          [
           138,
           13,
           0.48
          ],
          [
           138,
           1,
           0.33
          ]
         ],
         "hovertemplate": "round=%{x}<br>Yield (%)=%{y}<br>size=%{marker.size}<br>temperature=%{customdata[0]}<br>time=%{customdata[1]}<br>mfp=%{customdata[2]}<extra></extra>",
         "legendgroup": "8",
         "marker": {
          "color": "rgb(59, 59, 59)",
          "size": [
           5,
           5,
           5
          ],
          "sizemode": "area",
          "sizeref": 0.0125,
          "symbol": "circle"
         },
         "mode": "markers",
         "name": "8",
         "orientation": "v",
         "showlegend": true,
         "type": "scatter",
         "x": [
          "8",
          "8",
          "8"
         ],
         "xaxis": "x",
         "y": [
          73.57,
          62.52,
          10.32
         ],
         "yaxis": "y"
        },
        {
         "customdata": [
          [
           138,
           33,
           0.63
          ],
          [
           138,
           23,
           0.41
          ],
          [
           138,
           13,
           0.41
          ]
         ],
         "hovertemplate": "round=%{x}<br>Yield (%)=%{y}<br>size=%{marker.size}<br>temperature=%{customdata[0]}<br>time=%{customdata[1]}<br>mfp=%{customdata[2]}<extra></extra>",
         "legendgroup": "9",
         "marker": {
          "color": "rgb(38, 38, 38)",
          "size": [
           5,
           5,
           5
          ],
          "sizemode": "area",
          "sizeref": 0.0125,
          "symbol": "circle"
         },
         "mode": "markers",
         "name": "9",
         "orientation": "v",
         "showlegend": true,
         "type": "scatter",
         "x": [
          "9",
          "9",
          "9"
         ],
         "xaxis": "x",
         "y": [
          90.24,
          77.41,
          69.79
         ],
         "yaxis": "y"
        },
        {
         "customdata": [
          [
           138,
           11,
           0.58
          ],
          [
           138,
           19,
           0.56
          ],
          [
           138,
           7,
           0.56
          ]
         ],
         "hovertemplate": "round=%{x}<br>Yield (%)=%{y}<br>size=%{marker.size}<br>temperature=%{customdata[0]}<br>time=%{customdata[1]}<br>mfp=%{customdata[2]}<extra></extra>",
         "legendgroup": "Final Round",
         "marker": {
          "color": "rgb(16, 16, 16)",
          "size": [
           5,
           5,
           5
          ],
          "sizemode": "area",
          "sizeref": 0.0125,
          "symbol": "circle"
         },
         "mode": "markers",
         "name": "Final Round",
         "orientation": "v",
         "showlegend": true,
         "type": "scatter",
         "x": [
          "Final Round",
          "Final Round",
          "Final Round"
         ],
         "xaxis": "x",
         "y": [
          64.76,
          76.14,
          49.38
         ],
         "yaxis": "y"
        }
       ],
       "layout": {
        "legend": {
         "itemsizing": "constant",
         "title": {
          "text": "round"
         },
         "tracegroupgap": 0
        },
        "margin": {
         "t": 60
        },
        "template": {
         "data": {
          "bar": [
           {
            "error_x": {
             "color": "#2a3f5f"
            },
            "error_y": {
             "color": "#2a3f5f"
            },
            "marker": {
             "line": {
              "color": "#E5ECF6",
              "width": 0.5
             },
             "pattern": {
              "fillmode": "overlay",
              "size": 10,
              "solidity": 0.2
             }
            },
            "type": "bar"
           }
          ],
          "barpolar": [
           {
            "marker": {
             "line": {
              "color": "#E5ECF6",
              "width": 0.5
             },
             "pattern": {
              "fillmode": "overlay",
              "size": 10,
              "solidity": 0.2
             }
            },
            "type": "barpolar"
           }
          ],
          "carpet": [
           {
            "aaxis": {
             "endlinecolor": "#2a3f5f",
             "gridcolor": "white",
             "linecolor": "white",
             "minorgridcolor": "white",
             "startlinecolor": "#2a3f5f"
            },
            "baxis": {
             "endlinecolor": "#2a3f5f",
             "gridcolor": "white",
             "linecolor": "white",
             "minorgridcolor": "white",
             "startlinecolor": "#2a3f5f"
            },
            "type": "carpet"
           }
          ],
          "choropleth": [
           {
            "colorbar": {
             "outlinewidth": 0,
             "ticks": ""
            },
            "type": "choropleth"
           }
          ],
          "contour": [
           {
            "colorbar": {
             "outlinewidth": 0,
             "ticks": ""
            },
            "colorscale": [
             [
              0,
              "#0d0887"
             ],
             [
              0.1111111111111111,
              "#46039f"
             ],
             [
              0.2222222222222222,
              "#7201a8"
             ],
             [
              0.3333333333333333,
              "#9c179e"
             ],
             [
              0.4444444444444444,
              "#bd3786"
             ],
             [
              0.5555555555555556,
              "#d8576b"
             ],
             [
              0.6666666666666666,
              "#ed7953"
             ],
             [
              0.7777777777777778,
              "#fb9f3a"
             ],
             [
              0.8888888888888888,
              "#fdca26"
             ],
             [
              1,
              "#f0f921"
             ]
            ],
            "type": "contour"
           }
          ],
          "contourcarpet": [
           {
            "colorbar": {
             "outlinewidth": 0,
             "ticks": ""
            },
            "type": "contourcarpet"
           }
          ],
          "heatmap": [
           {
            "colorbar": {
             "outlinewidth": 0,
             "ticks": ""
            },
            "colorscale": [
             [
              0,
              "#0d0887"
             ],
             [
              0.1111111111111111,
              "#46039f"
             ],
             [
              0.2222222222222222,
              "#7201a8"
             ],
             [
              0.3333333333333333,
              "#9c179e"
             ],
             [
              0.4444444444444444,
              "#bd3786"
             ],
             [
              0.5555555555555556,
              "#d8576b"
             ],
             [
              0.6666666666666666,
              "#ed7953"
             ],
             [
              0.7777777777777778,
              "#fb9f3a"
             ],
             [
              0.8888888888888888,
              "#fdca26"
             ],
             [
              1,
              "#f0f921"
             ]
            ],
            "type": "heatmap"
           }
          ],
          "heatmapgl": [
           {
            "colorbar": {
             "outlinewidth": 0,
             "ticks": ""
            },
            "colorscale": [
             [
              0,
              "#0d0887"
             ],
             [
              0.1111111111111111,
              "#46039f"
             ],
             [
              0.2222222222222222,
              "#7201a8"
             ],
             [
              0.3333333333333333,
              "#9c179e"
             ],
             [
              0.4444444444444444,
              "#bd3786"
             ],
             [
              0.5555555555555556,
              "#d8576b"
             ],
             [
              0.6666666666666666,
              "#ed7953"
             ],
             [
              0.7777777777777778,
              "#fb9f3a"
             ],
             [
              0.8888888888888888,
              "#fdca26"
             ],
             [
              1,
              "#f0f921"
             ]
            ],
            "type": "heatmapgl"
           }
          ],
          "histogram": [
           {
            "marker": {
             "pattern": {
              "fillmode": "overlay",
              "size": 10,
              "solidity": 0.2
             }
            },
            "type": "histogram"
           }
          ],
          "histogram2d": [
           {
            "colorbar": {
             "outlinewidth": 0,
             "ticks": ""
            },
            "colorscale": [
             [
              0,
              "#0d0887"
             ],
             [
              0.1111111111111111,
              "#46039f"
             ],
             [
              0.2222222222222222,
              "#7201a8"
             ],
             [
              0.3333333333333333,
              "#9c179e"
             ],
             [
              0.4444444444444444,
              "#bd3786"
             ],
             [
              0.5555555555555556,
              "#d8576b"
             ],
             [
              0.6666666666666666,
              "#ed7953"
             ],
             [
              0.7777777777777778,
              "#fb9f3a"
             ],
             [
              0.8888888888888888,
              "#fdca26"
             ],
             [
              1,
              "#f0f921"
             ]
            ],
            "type": "histogram2d"
           }
          ],
          "histogram2dcontour": [
           {
            "colorbar": {
             "outlinewidth": 0,
             "ticks": ""
            },
            "colorscale": [
             [
              0,
              "#0d0887"
             ],
             [
              0.1111111111111111,
              "#46039f"
             ],
             [
              0.2222222222222222,
              "#7201a8"
             ],
             [
              0.3333333333333333,
              "#9c179e"
             ],
             [
              0.4444444444444444,
              "#bd3786"
             ],
             [
              0.5555555555555556,
              "#d8576b"
             ],
             [
              0.6666666666666666,
              "#ed7953"
             ],
             [
              0.7777777777777778,
              "#fb9f3a"
             ],
             [
              0.8888888888888888,
              "#fdca26"
             ],
             [
              1,
              "#f0f921"
             ]
            ],
            "type": "histogram2dcontour"
           }
          ],
          "mesh3d": [
           {
            "colorbar": {
             "outlinewidth": 0,
             "ticks": ""
            },
            "type": "mesh3d"
           }
          ],
          "parcoords": [
           {
            "line": {
             "colorbar": {
              "outlinewidth": 0,
              "ticks": ""
             }
            },
            "type": "parcoords"
           }
          ],
          "pie": [
           {
            "automargin": true,
            "type": "pie"
           }
          ],
          "scatter": [
           {
            "fillpattern": {
             "fillmode": "overlay",
             "size": 10,
             "solidity": 0.2
            },
            "type": "scatter"
           }
          ],
          "scatter3d": [
           {
            "line": {
             "colorbar": {
              "outlinewidth": 0,
              "ticks": ""
             }
            },
            "marker": {
             "colorbar": {
              "outlinewidth": 0,
              "ticks": ""
             }
            },
            "type": "scatter3d"
           }
          ],
          "scattercarpet": [
           {
            "marker": {
             "colorbar": {
              "outlinewidth": 0,
              "ticks": ""
             }
            },
            "type": "scattercarpet"
           }
          ],
          "scattergeo": [
           {
            "marker": {
             "colorbar": {
              "outlinewidth": 0,
              "ticks": ""
             }
            },
            "type": "scattergeo"
           }
          ],
          "scattergl": [
           {
            "marker": {
             "colorbar": {
              "outlinewidth": 0,
              "ticks": ""
             }
            },
            "type": "scattergl"
           }
          ],
          "scattermapbox": [
           {
            "marker": {
             "colorbar": {
              "outlinewidth": 0,
              "ticks": ""
             }
            },
            "type": "scattermapbox"
           }
          ],
          "scatterpolar": [
           {
            "marker": {
             "colorbar": {
              "outlinewidth": 0,
              "ticks": ""
             }
            },
            "type": "scatterpolar"
           }
          ],
          "scatterpolargl": [
           {
            "marker": {
             "colorbar": {
              "outlinewidth": 0,
              "ticks": ""
             }
            },
            "type": "scatterpolargl"
           }
          ],
          "scatterternary": [
           {
            "marker": {
             "colorbar": {
              "outlinewidth": 0,
              "ticks": ""
             }
            },
            "type": "scatterternary"
           }
          ],
          "surface": [
           {
            "colorbar": {
             "outlinewidth": 0,
             "ticks": ""
            },
            "colorscale": [
             [
              0,
              "#0d0887"
             ],
             [
              0.1111111111111111,
              "#46039f"
             ],
             [
              0.2222222222222222,
              "#7201a8"
             ],
             [
              0.3333333333333333,
              "#9c179e"
             ],
             [
              0.4444444444444444,
              "#bd3786"
             ],
             [
              0.5555555555555556,
              "#d8576b"
             ],
             [
              0.6666666666666666,
              "#ed7953"
             ],
             [
              0.7777777777777778,
              "#fb9f3a"
             ],
             [
              0.8888888888888888,
              "#fdca26"
             ],
             [
              1,
              "#f0f921"
             ]
            ],
            "type": "surface"
           }
          ],
          "table": [
           {
            "cells": {
             "fill": {
              "color": "#EBF0F8"
             },
             "line": {
              "color": "white"
             }
            },
            "header": {
             "fill": {
              "color": "#C8D4E3"
             },
             "line": {
              "color": "white"
             }
            },
            "type": "table"
           }
          ]
         },
         "layout": {
          "annotationdefaults": {
           "arrowcolor": "#2a3f5f",
           "arrowhead": 0,
           "arrowwidth": 1
          },
          "autotypenumbers": "strict",
          "coloraxis": {
           "colorbar": {
            "outlinewidth": 0,
            "ticks": ""
           }
          },
          "colorscale": {
           "diverging": [
            [
             0,
             "#8e0152"
            ],
            [
             0.1,
             "#c51b7d"
            ],
            [
             0.2,
             "#de77ae"
            ],
            [
             0.3,
             "#f1b6da"
            ],
            [
             0.4,
             "#fde0ef"
            ],
            [
             0.5,
             "#f7f7f7"
            ],
            [
             0.6,
             "#e6f5d0"
            ],
            [
             0.7,
             "#b8e186"
            ],
            [
             0.8,
             "#7fbc41"
            ],
            [
             0.9,
             "#4d9221"
            ],
            [
             1,
             "#276419"
            ]
           ],
           "sequential": [
            [
             0,
             "#0d0887"
            ],
            [
             0.1111111111111111,
             "#46039f"
            ],
            [
             0.2222222222222222,
             "#7201a8"
            ],
            [
             0.3333333333333333,
             "#9c179e"
            ],
            [
             0.4444444444444444,
             "#bd3786"
            ],
            [
             0.5555555555555556,
             "#d8576b"
            ],
            [
             0.6666666666666666,
             "#ed7953"
            ],
            [
             0.7777777777777778,
             "#fb9f3a"
            ],
            [
             0.8888888888888888,
             "#fdca26"
            ],
            [
             1,
             "#f0f921"
            ]
           ],
           "sequentialminus": [
            [
             0,
             "#0d0887"
            ],
            [
             0.1111111111111111,
             "#46039f"
            ],
            [
             0.2222222222222222,
             "#7201a8"
            ],
            [
             0.3333333333333333,
             "#9c179e"
            ],
            [
             0.4444444444444444,
             "#bd3786"
            ],
            [
             0.5555555555555556,
             "#d8576b"
            ],
            [
             0.6666666666666666,
             "#ed7953"
            ],
            [
             0.7777777777777778,
             "#fb9f3a"
            ],
            [
             0.8888888888888888,
             "#fdca26"
            ],
            [
             1,
             "#f0f921"
            ]
           ]
          },
          "colorway": [
           "#636efa",
           "#EF553B",
           "#00cc96",
           "#ab63fa",
           "#FFA15A",
           "#19d3f3",
           "#FF6692",
           "#B6E880",
           "#FF97FF",
           "#FECB52"
          ],
          "font": {
           "color": "#2a3f5f"
          },
          "geo": {
           "bgcolor": "white",
           "lakecolor": "white",
           "landcolor": "#E5ECF6",
           "showlakes": true,
           "showland": true,
           "subunitcolor": "white"
          },
          "hoverlabel": {
           "align": "left"
          },
          "hovermode": "closest",
          "mapbox": {
           "style": "light"
          },
          "paper_bgcolor": "white",
          "plot_bgcolor": "#E5ECF6",
          "polar": {
           "angularaxis": {
            "gridcolor": "white",
            "linecolor": "white",
            "ticks": ""
           },
           "bgcolor": "#E5ECF6",
           "radialaxis": {
            "gridcolor": "white",
            "linecolor": "white",
            "ticks": ""
           }
          },
          "scene": {
           "xaxis": {
            "backgroundcolor": "#E5ECF6",
            "gridcolor": "white",
            "gridwidth": 2,
            "linecolor": "white",
            "showbackground": true,
            "ticks": "",
            "zerolinecolor": "white"
           },
           "yaxis": {
            "backgroundcolor": "#E5ECF6",
            "gridcolor": "white",
            "gridwidth": 2,
            "linecolor": "white",
            "showbackground": true,
            "ticks": "",
            "zerolinecolor": "white"
           },
           "zaxis": {
            "backgroundcolor": "#E5ECF6",
            "gridcolor": "white",
            "gridwidth": 2,
            "linecolor": "white",
            "showbackground": true,
            "ticks": "",
            "zerolinecolor": "white"
           }
          },
          "shapedefaults": {
           "line": {
            "color": "#2a3f5f"
           }
          },
          "ternary": {
           "aaxis": {
            "gridcolor": "white",
            "linecolor": "white",
            "ticks": ""
           },
           "baxis": {
            "gridcolor": "white",
            "linecolor": "white",
            "ticks": ""
           },
           "bgcolor": "#E5ECF6",
           "caxis": {
            "gridcolor": "white",
            "linecolor": "white",
            "ticks": ""
           }
          },
          "title": {
           "x": 0.05
          },
          "xaxis": {
           "automargin": true,
           "gridcolor": "white",
           "linecolor": "white",
           "ticks": "",
           "title": {
            "standoff": 15
           },
           "zerolinecolor": "white",
           "zerolinewidth": 2
          },
          "yaxis": {
           "automargin": true,
           "gridcolor": "white",
           "linecolor": "white",
           "ticks": "",
           "title": {
            "standoff": 15
           },
           "zerolinecolor": "white",
           "zerolinewidth": 2
          }
         }
        },
        "title": {
         "text": "Yield of Each Iteration for the Continuous Flow Reaction",
         "x": 0.5,
         "xanchor": "center",
         "y": 0.95,
         "yanchor": "top"
        },
        "xaxis": {
         "anchor": "y",
         "categoryarray": [
          "0",
          "1",
          "2",
          "3",
          "4",
          "5",
          "6",
          "7",
          "8",
          "9",
          "Final Round"
         ],
         "categoryorder": "array",
         "domain": [
          0,
          1
         ],
         "title": {
          "text": "round"
         }
        },
        "yaxis": {
         "anchor": "x",
         "domain": [
          0,
          1
         ],
         "title": {
          "text": "Yield (%)"
         }
        }
       }
      },
      "text/html": [
       "<div>                            <div id=\"118d4b68-a2b6-4232-9c8b-61450e15597d\" class=\"plotly-graph-div\" style=\"height:525px; width:100%;\"></div>            <script type=\"text/javascript\">                require([\"plotly\"], function(Plotly) {                    window.PLOTLYENV=window.PLOTLYENV || {};                                    if (document.getElementById(\"118d4b68-a2b6-4232-9c8b-61450e15597d\")) {                    Plotly.newPlot(                        \"118d4b68-a2b6-4232-9c8b-61450e15597d\",                        [{\"customdata\":[[85.0,23.0,0.5],[85.0,23.0,0.5],[85.0,23.0,0.5],[85.0,23.0,0.5]],\"hovertemplate\":\"round=%{x}<br>Yield (%)=%{y}<br>size=%{marker.size}<br>temperature=%{customdata[0]}<br>time=%{customdata[1]}<br>mfp=%{customdata[2]}<extra></extra>\",\"legendgroup\":\"0\",\"marker\":{\"color\":\"rgb(254, 254, 253)\",\"size\":[5.0,5.0,5.0,5.0],\"sizemode\":\"area\",\"sizeref\":0.0125,\"symbol\":\"circle\"},\"mode\":\"markers\",\"name\":\"0\",\"orientation\":\"v\",\"showlegend\":true,\"x\":[\"0\",\"0\",\"0\",\"0\"],\"xaxis\":\"x\",\"y\":[17.78,15.23,13.92,13.21],\"yaxis\":\"y\",\"type\":\"scatter\"},{\"customdata\":[[135.0,23.0,0.36],[132.0,3.0,0.36],[123.0,23.0,0.46]],\"hovertemplate\":\"round=%{x}<br>Yield (%)=%{y}<br>size=%{marker.size}<br>temperature=%{customdata[0]}<br>time=%{customdata[1]}<br>mfp=%{customdata[2]}<extra></extra>\",\"legendgroup\":\"1\",\"marker\":{\"color\":\"rgb(224, 224, 223)\",\"size\":[5.0,5.0,5.0],\"sizemode\":\"area\",\"sizeref\":0.0125,\"symbol\":\"circle\"},\"mode\":\"markers\",\"name\":\"1\",\"orientation\":\"v\",\"showlegend\":true,\"x\":[\"1\",\"1\",\"1\"],\"xaxis\":\"x\",\"y\":[77.16,21.22,56.93],\"yaxis\":\"y\",\"type\":\"scatter\"},{\"customdata\":[[135.0,29.0,0.63],[138.0,13.0,0.63],[138.0,15.0,0.56]],\"hovertemplate\":\"round=%{x}<br>Yield (%)=%{y}<br>size=%{marker.size}<br>temperature=%{customdata[0]}<br>time=%{customdata[1]}<br>mfp=%{customdata[2]}<extra></extra>\",\"legendgroup\":\"2\",\"marker\":{\"color\":\"rgb(197, 197, 195)\",\"size\":[5.0,5.0,5.0],\"sizemode\":\"area\",\"sizeref\":0.0125,\"symbol\":\"circle\"},\"mode\":\"markers\",\"name\":\"2\",\"orientation\":\"v\",\"showlegend\":true,\"x\":[\"2\",\"2\",\"2\"],\"xaxis\":\"x\",\"y\":[87.6,70.98,67.86],\"yaxis\":\"y\",\"type\":\"scatter\"},{\"customdata\":[[138.0,41.0,0.48],[138.0,5.0,0.66],[135.0,1.0,0.63]],\"hovertemplate\":\"round=%{x}<br>Yield (%)=%{y}<br>size=%{marker.size}<br>temperature=%{customdata[0]}<br>time=%{customdata[1]}<br>mfp=%{customdata[2]}<extra></extra>\",\"legendgroup\":\"3\",\"marker\":{\"color\":\"rgb(171, 171, 170)\",\"size\":[5.0,5.0,5.0],\"sizemode\":\"area\",\"sizeref\":0.0125,\"symbol\":\"circle\"},\"mode\":\"markers\",\"name\":\"3\",\"orientation\":\"v\",\"showlegend\":true,\"x\":[\"3\",\"3\",\"3\"],\"xaxis\":\"x\",\"y\":[81.59,41.12,9.252],\"yaxis\":\"y\",\"type\":\"scatter\"},{\"customdata\":[[138.0,21.0,0.66],[138.0,3.0,0.66],[135.0,13.0,0.61]],\"hovertemplate\":\"round=%{x}<br>Yield (%)=%{y}<br>size=%{marker.size}<br>temperature=%{customdata[0]}<br>time=%{customdata[1]}<br>mfp=%{customdata[2]}<extra></extra>\",\"legendgroup\":\"4\",\"marker\":{\"color\":\"rgb(146, 146, 145)\",\"size\":[5.0,5.0,5.0],\"sizemode\":\"area\",\"sizeref\":0.0125,\"symbol\":\"circle\"},\"mode\":\"markers\",\"name\":\"4\",\"orientation\":\"v\",\"showlegend\":true,\"x\":[\"4\",\"4\",\"4\"],\"xaxis\":\"x\",\"y\":[85.86,26.38,62.9],\"yaxis\":\"y\",\"type\":\"scatter\"},{\"customdata\":[[138.0,5.0,0.51],[138.0,15.0,0.48],[138.0,9.0,0.48]],\"hovertemplate\":\"round=%{x}<br>Yield (%)=%{y}<br>size=%{marker.size}<br>temperature=%{customdata[0]}<br>time=%{customdata[1]}<br>mfp=%{customdata[2]}<extra></extra>\",\"legendgroup\":\"5\",\"marker\":{\"color\":\"rgb(124, 123, 122)\",\"size\":[5.0,5.0,5.0],\"sizemode\":\"area\",\"sizeref\":0.0125,\"symbol\":\"circle\"},\"mode\":\"markers\",\"name\":\"5\",\"orientation\":\"v\",\"showlegend\":true,\"x\":[\"5\",\"5\",\"5\"],\"xaxis\":\"x\",\"y\":[32.96,66.05,51.14],\"yaxis\":\"y\",\"type\":\"scatter\"},{\"customdata\":[[138.0,29.0,0.66],[75.0,3.0,0.58],[51.0,1.0,0.56]],\"hovertemplate\":\"round=%{x}<br>Yield (%)=%{y}<br>size=%{marker.size}<br>temperature=%{customdata[0]}<br>time=%{customdata[1]}<br>mfp=%{customdata[2]}<extra></extra>\",\"legendgroup\":\"6\",\"marker\":{\"color\":\"rgb(102, 101, 101)\",\"size\":[5.0,5.0,5.0],\"sizemode\":\"area\",\"sizeref\":0.0125,\"symbol\":\"circle\"},\"mode\":\"markers\",\"name\":\"6\",\"orientation\":\"v\",\"showlegend\":true,\"x\":[\"6\",\"6\",\"6\"],\"xaxis\":\"x\",\"y\":[86.31,1.61,1.73],\"yaxis\":\"y\",\"type\":\"scatter\"},{\"customdata\":[[63.0,33.0,0.56],[54.0,41.0,0.51],[45.0,35.0,0.61]],\"hovertemplate\":\"round=%{x}<br>Yield (%)=%{y}<br>size=%{marker.size}<br>temperature=%{customdata[0]}<br>time=%{customdata[1]}<br>mfp=%{customdata[2]}<extra></extra>\",\"legendgroup\":\"7\",\"marker\":{\"color\":\"rgb(81, 80, 80)\",\"size\":[5.0,5.0,5.0],\"sizemode\":\"area\",\"sizeref\":0.0125,\"symbol\":\"circle\"},\"mode\":\"markers\",\"name\":\"7\",\"orientation\":\"v\",\"showlegend\":true,\"x\":[\"7\",\"7\",\"7\"],\"xaxis\":\"x\",\"y\":[8.49,6.1,5.62],\"yaxis\":\"y\",\"type\":\"scatter\"},{\"customdata\":[[138.0,15.0,0.43],[138.0,13.0,0.48],[138.0,1.0,0.33]],\"hovertemplate\":\"round=%{x}<br>Yield (%)=%{y}<br>size=%{marker.size}<br>temperature=%{customdata[0]}<br>time=%{customdata[1]}<br>mfp=%{customdata[2]}<extra></extra>\",\"legendgroup\":\"8\",\"marker\":{\"color\":\"rgb(59, 59, 59)\",\"size\":[5.0,5.0,5.0],\"sizemode\":\"area\",\"sizeref\":0.0125,\"symbol\":\"circle\"},\"mode\":\"markers\",\"name\":\"8\",\"orientation\":\"v\",\"showlegend\":true,\"x\":[\"8\",\"8\",\"8\"],\"xaxis\":\"x\",\"y\":[73.57,62.52,10.32],\"yaxis\":\"y\",\"type\":\"scatter\"},{\"customdata\":[[138.0,33.0,0.63],[138.0,23.0,0.41],[138.0,13.0,0.41]],\"hovertemplate\":\"round=%{x}<br>Yield (%)=%{y}<br>size=%{marker.size}<br>temperature=%{customdata[0]}<br>time=%{customdata[1]}<br>mfp=%{customdata[2]}<extra></extra>\",\"legendgroup\":\"9\",\"marker\":{\"color\":\"rgb(38, 38, 38)\",\"size\":[5.0,5.0,5.0],\"sizemode\":\"area\",\"sizeref\":0.0125,\"symbol\":\"circle\"},\"mode\":\"markers\",\"name\":\"9\",\"orientation\":\"v\",\"showlegend\":true,\"x\":[\"9\",\"9\",\"9\"],\"xaxis\":\"x\",\"y\":[90.24,77.41,69.79],\"yaxis\":\"y\",\"type\":\"scatter\"},{\"customdata\":[[138.0,11.0,0.58],[138.0,19.0,0.56],[138.0,7.0,0.56]],\"hovertemplate\":\"round=%{x}<br>Yield (%)=%{y}<br>size=%{marker.size}<br>temperature=%{customdata[0]}<br>time=%{customdata[1]}<br>mfp=%{customdata[2]}<extra></extra>\",\"legendgroup\":\"Final Round\",\"marker\":{\"color\":\"rgb(16, 16, 16)\",\"size\":[5.0,5.0,5.0],\"sizemode\":\"area\",\"sizeref\":0.0125,\"symbol\":\"circle\"},\"mode\":\"markers\",\"name\":\"Final Round\",\"orientation\":\"v\",\"showlegend\":true,\"x\":[\"Final Round\",\"Final Round\",\"Final Round\"],\"xaxis\":\"x\",\"y\":[64.76,76.14,49.38],\"yaxis\":\"y\",\"type\":\"scatter\"}],                        {\"template\":{\"data\":{\"histogram2dcontour\":[{\"type\":\"histogram2dcontour\",\"colorbar\":{\"outlinewidth\":0,\"ticks\":\"\"},\"colorscale\":[[0.0,\"#0d0887\"],[0.1111111111111111,\"#46039f\"],[0.2222222222222222,\"#7201a8\"],[0.3333333333333333,\"#9c179e\"],[0.4444444444444444,\"#bd3786\"],[0.5555555555555556,\"#d8576b\"],[0.6666666666666666,\"#ed7953\"],[0.7777777777777778,\"#fb9f3a\"],[0.8888888888888888,\"#fdca26\"],[1.0,\"#f0f921\"]]}],\"choropleth\":[{\"type\":\"choropleth\",\"colorbar\":{\"outlinewidth\":0,\"ticks\":\"\"}}],\"histogram2d\":[{\"type\":\"histogram2d\",\"colorbar\":{\"outlinewidth\":0,\"ticks\":\"\"},\"colorscale\":[[0.0,\"#0d0887\"],[0.1111111111111111,\"#46039f\"],[0.2222222222222222,\"#7201a8\"],[0.3333333333333333,\"#9c179e\"],[0.4444444444444444,\"#bd3786\"],[0.5555555555555556,\"#d8576b\"],[0.6666666666666666,\"#ed7953\"],[0.7777777777777778,\"#fb9f3a\"],[0.8888888888888888,\"#fdca26\"],[1.0,\"#f0f921\"]]}],\"heatmap\":[{\"type\":\"heatmap\",\"colorbar\":{\"outlinewidth\":0,\"ticks\":\"\"},\"colorscale\":[[0.0,\"#0d0887\"],[0.1111111111111111,\"#46039f\"],[0.2222222222222222,\"#7201a8\"],[0.3333333333333333,\"#9c179e\"],[0.4444444444444444,\"#bd3786\"],[0.5555555555555556,\"#d8576b\"],[0.6666666666666666,\"#ed7953\"],[0.7777777777777778,\"#fb9f3a\"],[0.8888888888888888,\"#fdca26\"],[1.0,\"#f0f921\"]]}],\"heatmapgl\":[{\"type\":\"heatmapgl\",\"colorbar\":{\"outlinewidth\":0,\"ticks\":\"\"},\"colorscale\":[[0.0,\"#0d0887\"],[0.1111111111111111,\"#46039f\"],[0.2222222222222222,\"#7201a8\"],[0.3333333333333333,\"#9c179e\"],[0.4444444444444444,\"#bd3786\"],[0.5555555555555556,\"#d8576b\"],[0.6666666666666666,\"#ed7953\"],[0.7777777777777778,\"#fb9f3a\"],[0.8888888888888888,\"#fdca26\"],[1.0,\"#f0f921\"]]}],\"contourcarpet\":[{\"type\":\"contourcarpet\",\"colorbar\":{\"outlinewidth\":0,\"ticks\":\"\"}}],\"contour\":[{\"type\":\"contour\",\"colorbar\":{\"outlinewidth\":0,\"ticks\":\"\"},\"colorscale\":[[0.0,\"#0d0887\"],[0.1111111111111111,\"#46039f\"],[0.2222222222222222,\"#7201a8\"],[0.3333333333333333,\"#9c179e\"],[0.4444444444444444,\"#bd3786\"],[0.5555555555555556,\"#d8576b\"],[0.6666666666666666,\"#ed7953\"],[0.7777777777777778,\"#fb9f3a\"],[0.8888888888888888,\"#fdca26\"],[1.0,\"#f0f921\"]]}],\"surface\":[{\"type\":\"surface\",\"colorbar\":{\"outlinewidth\":0,\"ticks\":\"\"},\"colorscale\":[[0.0,\"#0d0887\"],[0.1111111111111111,\"#46039f\"],[0.2222222222222222,\"#7201a8\"],[0.3333333333333333,\"#9c179e\"],[0.4444444444444444,\"#bd3786\"],[0.5555555555555556,\"#d8576b\"],[0.6666666666666666,\"#ed7953\"],[0.7777777777777778,\"#fb9f3a\"],[0.8888888888888888,\"#fdca26\"],[1.0,\"#f0f921\"]]}],\"mesh3d\":[{\"type\":\"mesh3d\",\"colorbar\":{\"outlinewidth\":0,\"ticks\":\"\"}}],\"scatter\":[{\"fillpattern\":{\"fillmode\":\"overlay\",\"size\":10,\"solidity\":0.2},\"type\":\"scatter\"}],\"parcoords\":[{\"type\":\"parcoords\",\"line\":{\"colorbar\":{\"outlinewidth\":0,\"ticks\":\"\"}}}],\"scatterpolargl\":[{\"type\":\"scatterpolargl\",\"marker\":{\"colorbar\":{\"outlinewidth\":0,\"ticks\":\"\"}}}],\"bar\":[{\"error_x\":{\"color\":\"#2a3f5f\"},\"error_y\":{\"color\":\"#2a3f5f\"},\"marker\":{\"line\":{\"color\":\"#E5ECF6\",\"width\":0.5},\"pattern\":{\"fillmode\":\"overlay\",\"size\":10,\"solidity\":0.2}},\"type\":\"bar\"}],\"scattergeo\":[{\"type\":\"scattergeo\",\"marker\":{\"colorbar\":{\"outlinewidth\":0,\"ticks\":\"\"}}}],\"scatterpolar\":[{\"type\":\"scatterpolar\",\"marker\":{\"colorbar\":{\"outlinewidth\":0,\"ticks\":\"\"}}}],\"histogram\":[{\"marker\":{\"pattern\":{\"fillmode\":\"overlay\",\"size\":10,\"solidity\":0.2}},\"type\":\"histogram\"}],\"scattergl\":[{\"type\":\"scattergl\",\"marker\":{\"colorbar\":{\"outlinewidth\":0,\"ticks\":\"\"}}}],\"scatter3d\":[{\"type\":\"scatter3d\",\"line\":{\"colorbar\":{\"outlinewidth\":0,\"ticks\":\"\"}},\"marker\":{\"colorbar\":{\"outlinewidth\":0,\"ticks\":\"\"}}}],\"scattermapbox\":[{\"type\":\"scattermapbox\",\"marker\":{\"colorbar\":{\"outlinewidth\":0,\"ticks\":\"\"}}}],\"scatterternary\":[{\"type\":\"scatterternary\",\"marker\":{\"colorbar\":{\"outlinewidth\":0,\"ticks\":\"\"}}}],\"scattercarpet\":[{\"type\":\"scattercarpet\",\"marker\":{\"colorbar\":{\"outlinewidth\":0,\"ticks\":\"\"}}}],\"carpet\":[{\"aaxis\":{\"endlinecolor\":\"#2a3f5f\",\"gridcolor\":\"white\",\"linecolor\":\"white\",\"minorgridcolor\":\"white\",\"startlinecolor\":\"#2a3f5f\"},\"baxis\":{\"endlinecolor\":\"#2a3f5f\",\"gridcolor\":\"white\",\"linecolor\":\"white\",\"minorgridcolor\":\"white\",\"startlinecolor\":\"#2a3f5f\"},\"type\":\"carpet\"}],\"table\":[{\"cells\":{\"fill\":{\"color\":\"#EBF0F8\"},\"line\":{\"color\":\"white\"}},\"header\":{\"fill\":{\"color\":\"#C8D4E3\"},\"line\":{\"color\":\"white\"}},\"type\":\"table\"}],\"barpolar\":[{\"marker\":{\"line\":{\"color\":\"#E5ECF6\",\"width\":0.5},\"pattern\":{\"fillmode\":\"overlay\",\"size\":10,\"solidity\":0.2}},\"type\":\"barpolar\"}],\"pie\":[{\"automargin\":true,\"type\":\"pie\"}]},\"layout\":{\"autotypenumbers\":\"strict\",\"colorway\":[\"#636efa\",\"#EF553B\",\"#00cc96\",\"#ab63fa\",\"#FFA15A\",\"#19d3f3\",\"#FF6692\",\"#B6E880\",\"#FF97FF\",\"#FECB52\"],\"font\":{\"color\":\"#2a3f5f\"},\"hovermode\":\"closest\",\"hoverlabel\":{\"align\":\"left\"},\"paper_bgcolor\":\"white\",\"plot_bgcolor\":\"#E5ECF6\",\"polar\":{\"bgcolor\":\"#E5ECF6\",\"angularaxis\":{\"gridcolor\":\"white\",\"linecolor\":\"white\",\"ticks\":\"\"},\"radialaxis\":{\"gridcolor\":\"white\",\"linecolor\":\"white\",\"ticks\":\"\"}},\"ternary\":{\"bgcolor\":\"#E5ECF6\",\"aaxis\":{\"gridcolor\":\"white\",\"linecolor\":\"white\",\"ticks\":\"\"},\"baxis\":{\"gridcolor\":\"white\",\"linecolor\":\"white\",\"ticks\":\"\"},\"caxis\":{\"gridcolor\":\"white\",\"linecolor\":\"white\",\"ticks\":\"\"}},\"coloraxis\":{\"colorbar\":{\"outlinewidth\":0,\"ticks\":\"\"}},\"colorscale\":{\"sequential\":[[0.0,\"#0d0887\"],[0.1111111111111111,\"#46039f\"],[0.2222222222222222,\"#7201a8\"],[0.3333333333333333,\"#9c179e\"],[0.4444444444444444,\"#bd3786\"],[0.5555555555555556,\"#d8576b\"],[0.6666666666666666,\"#ed7953\"],[0.7777777777777778,\"#fb9f3a\"],[0.8888888888888888,\"#fdca26\"],[1.0,\"#f0f921\"]],\"sequentialminus\":[[0.0,\"#0d0887\"],[0.1111111111111111,\"#46039f\"],[0.2222222222222222,\"#7201a8\"],[0.3333333333333333,\"#9c179e\"],[0.4444444444444444,\"#bd3786\"],[0.5555555555555556,\"#d8576b\"],[0.6666666666666666,\"#ed7953\"],[0.7777777777777778,\"#fb9f3a\"],[0.8888888888888888,\"#fdca26\"],[1.0,\"#f0f921\"]],\"diverging\":[[0,\"#8e0152\"],[0.1,\"#c51b7d\"],[0.2,\"#de77ae\"],[0.3,\"#f1b6da\"],[0.4,\"#fde0ef\"],[0.5,\"#f7f7f7\"],[0.6,\"#e6f5d0\"],[0.7,\"#b8e186\"],[0.8,\"#7fbc41\"],[0.9,\"#4d9221\"],[1,\"#276419\"]]},\"xaxis\":{\"gridcolor\":\"white\",\"linecolor\":\"white\",\"ticks\":\"\",\"title\":{\"standoff\":15},\"zerolinecolor\":\"white\",\"automargin\":true,\"zerolinewidth\":2},\"yaxis\":{\"gridcolor\":\"white\",\"linecolor\":\"white\",\"ticks\":\"\",\"title\":{\"standoff\":15},\"zerolinecolor\":\"white\",\"automargin\":true,\"zerolinewidth\":2},\"scene\":{\"xaxis\":{\"backgroundcolor\":\"#E5ECF6\",\"gridcolor\":\"white\",\"linecolor\":\"white\",\"showbackground\":true,\"ticks\":\"\",\"zerolinecolor\":\"white\",\"gridwidth\":2},\"yaxis\":{\"backgroundcolor\":\"#E5ECF6\",\"gridcolor\":\"white\",\"linecolor\":\"white\",\"showbackground\":true,\"ticks\":\"\",\"zerolinecolor\":\"white\",\"gridwidth\":2},\"zaxis\":{\"backgroundcolor\":\"#E5ECF6\",\"gridcolor\":\"white\",\"linecolor\":\"white\",\"showbackground\":true,\"ticks\":\"\",\"zerolinecolor\":\"white\",\"gridwidth\":2}},\"shapedefaults\":{\"line\":{\"color\":\"#2a3f5f\"}},\"annotationdefaults\":{\"arrowcolor\":\"#2a3f5f\",\"arrowhead\":0,\"arrowwidth\":1},\"geo\":{\"bgcolor\":\"white\",\"landcolor\":\"#E5ECF6\",\"subunitcolor\":\"white\",\"showland\":true,\"showlakes\":true,\"lakecolor\":\"white\"},\"title\":{\"x\":0.05},\"mapbox\":{\"style\":\"light\"}}},\"xaxis\":{\"anchor\":\"y\",\"domain\":[0.0,1.0],\"title\":{\"text\":\"round\"},\"categoryorder\":\"array\",\"categoryarray\":[\"0\",\"1\",\"2\",\"3\",\"4\",\"5\",\"6\",\"7\",\"8\",\"9\",\"Final Round\"]},\"yaxis\":{\"anchor\":\"x\",\"domain\":[0.0,1.0],\"title\":{\"text\":\"Yield (%)\"}},\"legend\":{\"title\":{\"text\":\"round\"},\"tracegroupgap\":0,\"itemsizing\":\"constant\"},\"margin\":{\"t\":60},\"title\":{\"text\":\"Yield of Each Iteration for the Continuous Flow Reaction\",\"y\":0.95,\"x\":0.5,\"xanchor\":\"center\",\"yanchor\":\"top\"}},                        {\"responsive\": true}                    ).then(function(){\n",
       "                            \n",
       "var gd = document.getElementById('118d4b68-a2b6-4232-9c8b-61450e15597d');\n",
       "var x = new MutationObserver(function (mutations, observer) {{\n",
       "        var display = window.getComputedStyle(gd).display;\n",
       "        if (!display || display === 'none') {{\n",
       "            console.log([gd, 'removed!']);\n",
       "            Plotly.purge(gd);\n",
       "            observer.disconnect();\n",
       "        }}\n",
       "}});\n",
       "\n",
       "// Listen for the removal of the full notebook cells\n",
       "var notebookContainer = gd.closest('#notebook-container');\n",
       "if (notebookContainer) {{\n",
       "    x.observe(notebookContainer, {childList: true});\n",
       "}}\n",
       "\n",
       "// Listen for the clearing of the current output cell\n",
       "var outputEl = gd.closest('.output');\n",
       "if (outputEl) {{\n",
       "    x.observe(outputEl, {childList: true});\n",
       "}}\n",
       "\n",
       "                        })                };                });            </script>        </div>"
      ]
     },
     "metadata": {},
     "output_type": "display_data"
    },
    {
     "name": "stdout",
     "output_type": "stream",
     "text": [
      "Highest yield is 90.24%\n"
     ]
    },
    {
     "data": {
      "application/vnd.plotly.v1+json": {
       "config": {
        "plotlyServerURL": "https://plot.ly"
       },
       "data": [
        {
         "customdata": [
          [
           85,
           23,
           0.5
          ],
          [
           85,
           23,
           0.5
          ],
          [
           85,
           23,
           0.5
          ],
          [
           85,
           23,
           0.5
          ]
         ],
         "hovertemplate": "round=%{x}<br>Production Rate (g/hr)=%{y}<br>size=%{marker.size}<br>temperature=%{customdata[0]}<br>time=%{customdata[1]}<br>mfp=%{customdata[2]}<extra></extra>",
         "legendgroup": "0",
         "marker": {
          "color": "rgb(254, 254, 253)",
          "size": [
           5,
           5,
           5,
           5
          ],
          "sizemode": "area",
          "sizeref": 0.0125,
          "symbol": "circle"
         },
         "mode": "markers",
         "name": "0",
         "orientation": "v",
         "showlegend": true,
         "type": "scatter",
         "x": [
          "0",
          "0",
          "0",
          "0"
         ],
         "xaxis": "x",
         "y": [
          0.2506,
          0.2146,
          0.1962,
          0.1862
         ],
         "yaxis": "y"
        },
        {
         "customdata": [
          [
           135,
           23,
           0.36
          ],
          [
           132,
           3,
           0.36
          ],
          [
           123,
           23,
           0.46
          ]
         ],
         "hovertemplate": "round=%{x}<br>Production Rate (g/hr)=%{y}<br>size=%{marker.size}<br>temperature=%{customdata[0]}<br>time=%{customdata[1]}<br>mfp=%{customdata[2]}<extra></extra>",
         "legendgroup": "1",
         "marker": {
          "color": "rgb(224, 224, 223)",
          "size": [
           5,
           5,
           5
          ],
          "sizemode": "area",
          "sizeref": 0.0125,
          "symbol": "circle"
         },
         "mode": "markers",
         "name": "1",
         "orientation": "v",
         "showlegend": true,
         "type": "scatter",
         "x": [
          "1",
          "1",
          "1"
         ],
         "xaxis": "x",
         "y": [
          0.7788,
          1.638,
          0.7327
         ],
         "yaxis": "y"
        },
        {
         "customdata": [
          [
           135,
           29,
           0.63
          ],
          [
           138,
           13,
           0.63
          ],
          [
           138,
           15,
           0.56
          ]
         ],
         "hovertemplate": "round=%{x}<br>Production Rate (g/hr)=%{y}<br>size=%{marker.size}<br>temperature=%{customdata[0]}<br>time=%{customdata[1]}<br>mfp=%{customdata[2]}<extra></extra>",
         "legendgroup": "2",
         "marker": {
          "color": "rgb(197, 197, 195)",
          "size": [
           5,
           5,
           5
          ],
          "sizemode": "area",
          "sizeref": 0.0125,
          "symbol": "circle"
         },
         "mode": "markers",
         "name": "2",
         "orientation": "v",
         "showlegend": true,
         "type": "scatter",
         "x": [
          "2",
          "2",
          "2"
         ],
         "xaxis": "x",
         "y": [
          0.7245,
          1.3091,
          1.2948
         ],
         "yaxis": "y"
        },
        {
         "customdata": [
          [
           138,
           41,
           0.48
          ],
          [
           138,
           5,
           0.66
          ],
          [
           135,
           1,
           0.63
          ]
         ],
         "hovertemplate": "round=%{x}<br>Production Rate (g/hr)=%{y}<br>size=%{marker.size}<br>temperature=%{customdata[0]}<br>time=%{customdata[1]}<br>mfp=%{customdata[2]}<extra></extra>",
         "legendgroup": "3",
         "marker": {
          "color": "rgb(171, 171, 170)",
          "size": [
           5,
           5,
           5
          ],
          "sizemode": "area",
          "sizeref": 0.0125,
          "symbol": "circle"
         },
         "mode": "markers",
         "name": "3",
         "orientation": "v",
         "showlegend": true,
         "type": "scatter",
         "x": [
          "3",
          "3",
          "3"
         ],
         "xaxis": "x",
         "y": [
          0.6239,
          1.8241,
          2.22
         ],
         "yaxis": "y"
        },
        {
         "customdata": [
          [
           138,
           21,
           0.66
          ],
          [
           138,
           3,
           0.66
          ],
          [
           135,
           13,
           0.61
          ]
         ],
         "hovertemplate": "round=%{x}<br>Production Rate (g/hr)=%{y}<br>size=%{marker.size}<br>temperature=%{customdata[0]}<br>time=%{customdata[1]}<br>mfp=%{customdata[2]}<extra></extra>",
         "legendgroup": "4",
         "marker": {
          "color": "rgb(146, 146, 145)",
          "size": [
           5,
           5,
           5
          ],
          "sizemode": "area",
          "sizeref": 0.0125,
          "symbol": "circle"
         },
         "mode": "markers",
         "name": "4",
         "orientation": "v",
         "showlegend": true,
         "type": "scatter",
         "x": [
          "4",
          "4",
          "4"
         ],
         "xaxis": "x",
         "y": [
          0.9024,
          1.9502,
          1.2306
         ],
         "yaxis": "y"
        },
        {
         "customdata": [
          [
           138,
           5,
           0.51
          ],
          [
           138,
           15,
           0.48
          ],
          [
           138,
           9,
           0.48
          ]
         ],
         "hovertemplate": "round=%{x}<br>Production Rate (g/hr)=%{y}<br>size=%{marker.size}<br>temperature=%{customdata[0]}<br>time=%{customdata[1]}<br>mfp=%{customdata[2]}<extra></extra>",
         "legendgroup": "5",
         "marker": {
          "color": "rgb(124, 123, 122)",
          "size": [
           5,
           5,
           5
          ],
          "sizemode": "area",
          "sizeref": 0.0125,
          "symbol": "circle"
         },
         "mode": "markers",
         "name": "5",
         "orientation": "v",
         "showlegend": true,
         "type": "scatter",
         "x": [
          "5",
          "5",
          "5"
         ],
         "xaxis": "x",
         "y": [
          2.1045,
          1.3728,
          1.7707
         ],
         "yaxis": "y"
        },
        {
         "customdata": [
          [
           138,
           29,
           0.66
          ],
          [
           75,
           3,
           0.58
          ],
          [
           51,
           1,
           0.56
          ]
         ],
         "hovertemplate": "round=%{x}<br>Production Rate (g/hr)=%{y}<br>size=%{marker.size}<br>temperature=%{customdata[0]}<br>time=%{customdata[1]}<br>mfp=%{customdata[2]}<extra></extra>",
         "legendgroup": "6",
         "marker": {
          "color": "rgb(102, 101, 101)",
          "size": [
           5,
           5,
           5
          ],
          "sizemode": "area",
          "sizeref": 0.0125,
          "symbol": "circle"
         },
         "mode": "markers",
         "name": "6",
         "orientation": "v",
         "showlegend": true,
         "type": "scatter",
         "x": [
          "6",
          "6",
          "6"
         ],
         "xaxis": "x",
         "y": [
          0.6619,
          0.1463,
          0.4962
         ],
         "yaxis": "y"
        },
        {
         "customdata": [
          [
           63,
           33,
           0.56
          ],
          [
           54,
           41,
           0.51
          ],
          [
           45,
           35,
           0.61
          ]
         ],
         "hovertemplate": "round=%{x}<br>Production Rate (g/hr)=%{y}<br>size=%{marker.size}<br>temperature=%{customdata[0]}<br>time=%{customdata[1]}<br>mfp=%{customdata[2]}<extra></extra>",
         "legendgroup": "7",
         "marker": {
          "color": "rgb(81, 80, 80)",
          "size": [
           5,
           5,
           5
          ],
          "sizemode": "area",
          "sizeref": 0.0125,
          "symbol": "circle"
         },
         "mode": "markers",
         "name": "7",
         "orientation": "v",
         "showlegend": true,
         "type": "scatter",
         "x": [
          "7",
          "7",
          "7"
         ],
         "xaxis": "x",
         "y": [
          0.0736,
          0.0474,
          0.0408
         ],
         "yaxis": "y"
        },
        {
         "customdata": [
          [
           138,
           15,
           0.43
          ],
          [
           138,
           13,
           0.48
          ],
          [
           138,
           1,
           0.33
          ]
         ],
         "hovertemplate": "round=%{x}<br>Production Rate (g/hr)=%{y}<br>size=%{marker.size}<br>temperature=%{customdata[0]}<br>time=%{customdata[1]}<br>mfp=%{customdata[2]}<extra></extra>",
         "legendgroup": "8",
         "marker": {
          "color": "rgb(59, 59, 59)",
          "size": [
           5,
           5,
           5
          ],
          "sizemode": "area",
          "sizeref": 0.0125,
          "symbol": "circle"
         },
         "mode": "markers",
         "name": "8",
         "orientation": "v",
         "showlegend": true,
         "type": "scatter",
         "x": [
          "8",
          "8",
          "8"
         ],
         "xaxis": "x",
         "y": [
          1.3657,
          1.4984,
          2.2082
         ],
         "yaxis": "y"
        },
        {
         "customdata": [
          [
           138,
           33,
           0.63
          ],
          [
           138,
           23,
           0.41
          ],
          [
           138,
           13,
           0.41
          ]
         ],
         "hovertemplate": "round=%{x}<br>Production Rate (g/hr)=%{y}<br>size=%{marker.size}<br>temperature=%{customdata[0]}<br>time=%{customdata[1]}<br>mfp=%{customdata[2]}<extra></extra>",
         "legendgroup": "9",
         "marker": {
          "color": "rgb(38, 38, 38)",
          "size": [
           5,
           5,
           5
          ],
          "sizemode": "area",
          "sizeref": 0.0125,
          "symbol": "circle"
         },
         "mode": "markers",
         "name": "9",
         "orientation": "v",
         "showlegend": true,
         "type": "scatter",
         "x": [
          "9",
          "9",
          "9"
         ],
         "xaxis": "x",
         "y": [
          0.6575,
          0.885,
          1.4285
         ],
         "yaxis": "y"
        },
        {
         "customdata": [
          [
           138,
           11,
           0.58
          ],
          [
           138,
           19,
           0.56
          ],
          [
           138,
           7,
           0.56
          ]
         ],
         "hovertemplate": "round=%{x}<br>Production Rate (g/hr)=%{y}<br>size=%{marker.size}<br>temperature=%{customdata[0]}<br>time=%{customdata[1]}<br>mfp=%{customdata[2]}<extra></extra>",
         "legendgroup": "Final Round",
         "marker": {
          "color": "rgb(16, 16, 16)",
          "size": [
           5,
           5,
           5
          ],
          "sizemode": "area",
          "sizeref": 0.0125,
          "symbol": "circle"
         },
         "mode": "markers",
         "name": "Final Round",
         "orientation": "v",
         "showlegend": true,
         "type": "scatter",
         "x": [
          "Final Round",
          "Final Round",
          "Final Round"
         ],
         "xaxis": "x",
         "y": [
          1.6026,
          1.1462,
          2.0117
         ],
         "yaxis": "y"
        }
       ],
       "layout": {
        "legend": {
         "itemsizing": "constant",
         "title": {
          "text": "round"
         },
         "tracegroupgap": 0
        },
        "margin": {
         "t": 60
        },
        "template": {
         "data": {
          "bar": [
           {
            "error_x": {
             "color": "#2a3f5f"
            },
            "error_y": {
             "color": "#2a3f5f"
            },
            "marker": {
             "line": {
              "color": "#E5ECF6",
              "width": 0.5
             },
             "pattern": {
              "fillmode": "overlay",
              "size": 10,
              "solidity": 0.2
             }
            },
            "type": "bar"
           }
          ],
          "barpolar": [
           {
            "marker": {
             "line": {
              "color": "#E5ECF6",
              "width": 0.5
             },
             "pattern": {
              "fillmode": "overlay",
              "size": 10,
              "solidity": 0.2
             }
            },
            "type": "barpolar"
           }
          ],
          "carpet": [
           {
            "aaxis": {
             "endlinecolor": "#2a3f5f",
             "gridcolor": "white",
             "linecolor": "white",
             "minorgridcolor": "white",
             "startlinecolor": "#2a3f5f"
            },
            "baxis": {
             "endlinecolor": "#2a3f5f",
             "gridcolor": "white",
             "linecolor": "white",
             "minorgridcolor": "white",
             "startlinecolor": "#2a3f5f"
            },
            "type": "carpet"
           }
          ],
          "choropleth": [
           {
            "colorbar": {
             "outlinewidth": 0,
             "ticks": ""
            },
            "type": "choropleth"
           }
          ],
          "contour": [
           {
            "colorbar": {
             "outlinewidth": 0,
             "ticks": ""
            },
            "colorscale": [
             [
              0,
              "#0d0887"
             ],
             [
              0.1111111111111111,
              "#46039f"
             ],
             [
              0.2222222222222222,
              "#7201a8"
             ],
             [
              0.3333333333333333,
              "#9c179e"
             ],
             [
              0.4444444444444444,
              "#bd3786"
             ],
             [
              0.5555555555555556,
              "#d8576b"
             ],
             [
              0.6666666666666666,
              "#ed7953"
             ],
             [
              0.7777777777777778,
              "#fb9f3a"
             ],
             [
              0.8888888888888888,
              "#fdca26"
             ],
             [
              1,
              "#f0f921"
             ]
            ],
            "type": "contour"
           }
          ],
          "contourcarpet": [
           {
            "colorbar": {
             "outlinewidth": 0,
             "ticks": ""
            },
            "type": "contourcarpet"
           }
          ],
          "heatmap": [
           {
            "colorbar": {
             "outlinewidth": 0,
             "ticks": ""
            },
            "colorscale": [
             [
              0,
              "#0d0887"
             ],
             [
              0.1111111111111111,
              "#46039f"
             ],
             [
              0.2222222222222222,
              "#7201a8"
             ],
             [
              0.3333333333333333,
              "#9c179e"
             ],
             [
              0.4444444444444444,
              "#bd3786"
             ],
             [
              0.5555555555555556,
              "#d8576b"
             ],
             [
              0.6666666666666666,
              "#ed7953"
             ],
             [
              0.7777777777777778,
              "#fb9f3a"
             ],
             [
              0.8888888888888888,
              "#fdca26"
             ],
             [
              1,
              "#f0f921"
             ]
            ],
            "type": "heatmap"
           }
          ],
          "heatmapgl": [
           {
            "colorbar": {
             "outlinewidth": 0,
             "ticks": ""
            },
            "colorscale": [
             [
              0,
              "#0d0887"
             ],
             [
              0.1111111111111111,
              "#46039f"
             ],
             [
              0.2222222222222222,
              "#7201a8"
             ],
             [
              0.3333333333333333,
              "#9c179e"
             ],
             [
              0.4444444444444444,
              "#bd3786"
             ],
             [
              0.5555555555555556,
              "#d8576b"
             ],
             [
              0.6666666666666666,
              "#ed7953"
             ],
             [
              0.7777777777777778,
              "#fb9f3a"
             ],
             [
              0.8888888888888888,
              "#fdca26"
             ],
             [
              1,
              "#f0f921"
             ]
            ],
            "type": "heatmapgl"
           }
          ],
          "histogram": [
           {
            "marker": {
             "pattern": {
              "fillmode": "overlay",
              "size": 10,
              "solidity": 0.2
             }
            },
            "type": "histogram"
           }
          ],
          "histogram2d": [
           {
            "colorbar": {
             "outlinewidth": 0,
             "ticks": ""
            },
            "colorscale": [
             [
              0,
              "#0d0887"
             ],
             [
              0.1111111111111111,
              "#46039f"
             ],
             [
              0.2222222222222222,
              "#7201a8"
             ],
             [
              0.3333333333333333,
              "#9c179e"
             ],
             [
              0.4444444444444444,
              "#bd3786"
             ],
             [
              0.5555555555555556,
              "#d8576b"
             ],
             [
              0.6666666666666666,
              "#ed7953"
             ],
             [
              0.7777777777777778,
              "#fb9f3a"
             ],
             [
              0.8888888888888888,
              "#fdca26"
             ],
             [
              1,
              "#f0f921"
             ]
            ],
            "type": "histogram2d"
           }
          ],
          "histogram2dcontour": [
           {
            "colorbar": {
             "outlinewidth": 0,
             "ticks": ""
            },
            "colorscale": [
             [
              0,
              "#0d0887"
             ],
             [
              0.1111111111111111,
              "#46039f"
             ],
             [
              0.2222222222222222,
              "#7201a8"
             ],
             [
              0.3333333333333333,
              "#9c179e"
             ],
             [
              0.4444444444444444,
              "#bd3786"
             ],
             [
              0.5555555555555556,
              "#d8576b"
             ],
             [
              0.6666666666666666,
              "#ed7953"
             ],
             [
              0.7777777777777778,
              "#fb9f3a"
             ],
             [
              0.8888888888888888,
              "#fdca26"
             ],
             [
              1,
              "#f0f921"
             ]
            ],
            "type": "histogram2dcontour"
           }
          ],
          "mesh3d": [
           {
            "colorbar": {
             "outlinewidth": 0,
             "ticks": ""
            },
            "type": "mesh3d"
           }
          ],
          "parcoords": [
           {
            "line": {
             "colorbar": {
              "outlinewidth": 0,
              "ticks": ""
             }
            },
            "type": "parcoords"
           }
          ],
          "pie": [
           {
            "automargin": true,
            "type": "pie"
           }
          ],
          "scatter": [
           {
            "fillpattern": {
             "fillmode": "overlay",
             "size": 10,
             "solidity": 0.2
            },
            "type": "scatter"
           }
          ],
          "scatter3d": [
           {
            "line": {
             "colorbar": {
              "outlinewidth": 0,
              "ticks": ""
             }
            },
            "marker": {
             "colorbar": {
              "outlinewidth": 0,
              "ticks": ""
             }
            },
            "type": "scatter3d"
           }
          ],
          "scattercarpet": [
           {
            "marker": {
             "colorbar": {
              "outlinewidth": 0,
              "ticks": ""
             }
            },
            "type": "scattercarpet"
           }
          ],
          "scattergeo": [
           {
            "marker": {
             "colorbar": {
              "outlinewidth": 0,
              "ticks": ""
             }
            },
            "type": "scattergeo"
           }
          ],
          "scattergl": [
           {
            "marker": {
             "colorbar": {
              "outlinewidth": 0,
              "ticks": ""
             }
            },
            "type": "scattergl"
           }
          ],
          "scattermapbox": [
           {
            "marker": {
             "colorbar": {
              "outlinewidth": 0,
              "ticks": ""
             }
            },
            "type": "scattermapbox"
           }
          ],
          "scatterpolar": [
           {
            "marker": {
             "colorbar": {
              "outlinewidth": 0,
              "ticks": ""
             }
            },
            "type": "scatterpolar"
           }
          ],
          "scatterpolargl": [
           {
            "marker": {
             "colorbar": {
              "outlinewidth": 0,
              "ticks": ""
             }
            },
            "type": "scatterpolargl"
           }
          ],
          "scatterternary": [
           {
            "marker": {
             "colorbar": {
              "outlinewidth": 0,
              "ticks": ""
             }
            },
            "type": "scatterternary"
           }
          ],
          "surface": [
           {
            "colorbar": {
             "outlinewidth": 0,
             "ticks": ""
            },
            "colorscale": [
             [
              0,
              "#0d0887"
             ],
             [
              0.1111111111111111,
              "#46039f"
             ],
             [
              0.2222222222222222,
              "#7201a8"
             ],
             [
              0.3333333333333333,
              "#9c179e"
             ],
             [
              0.4444444444444444,
              "#bd3786"
             ],
             [
              0.5555555555555556,
              "#d8576b"
             ],
             [
              0.6666666666666666,
              "#ed7953"
             ],
             [
              0.7777777777777778,
              "#fb9f3a"
             ],
             [
              0.8888888888888888,
              "#fdca26"
             ],
             [
              1,
              "#f0f921"
             ]
            ],
            "type": "surface"
           }
          ],
          "table": [
           {
            "cells": {
             "fill": {
              "color": "#EBF0F8"
             },
             "line": {
              "color": "white"
             }
            },
            "header": {
             "fill": {
              "color": "#C8D4E3"
             },
             "line": {
              "color": "white"
             }
            },
            "type": "table"
           }
          ]
         },
         "layout": {
          "annotationdefaults": {
           "arrowcolor": "#2a3f5f",
           "arrowhead": 0,
           "arrowwidth": 1
          },
          "autotypenumbers": "strict",
          "coloraxis": {
           "colorbar": {
            "outlinewidth": 0,
            "ticks": ""
           }
          },
          "colorscale": {
           "diverging": [
            [
             0,
             "#8e0152"
            ],
            [
             0.1,
             "#c51b7d"
            ],
            [
             0.2,
             "#de77ae"
            ],
            [
             0.3,
             "#f1b6da"
            ],
            [
             0.4,
             "#fde0ef"
            ],
            [
             0.5,
             "#f7f7f7"
            ],
            [
             0.6,
             "#e6f5d0"
            ],
            [
             0.7,
             "#b8e186"
            ],
            [
             0.8,
             "#7fbc41"
            ],
            [
             0.9,
             "#4d9221"
            ],
            [
             1,
             "#276419"
            ]
           ],
           "sequential": [
            [
             0,
             "#0d0887"
            ],
            [
             0.1111111111111111,
             "#46039f"
            ],
            [
             0.2222222222222222,
             "#7201a8"
            ],
            [
             0.3333333333333333,
             "#9c179e"
            ],
            [
             0.4444444444444444,
             "#bd3786"
            ],
            [
             0.5555555555555556,
             "#d8576b"
            ],
            [
             0.6666666666666666,
             "#ed7953"
            ],
            [
             0.7777777777777778,
             "#fb9f3a"
            ],
            [
             0.8888888888888888,
             "#fdca26"
            ],
            [
             1,
             "#f0f921"
            ]
           ],
           "sequentialminus": [
            [
             0,
             "#0d0887"
            ],
            [
             0.1111111111111111,
             "#46039f"
            ],
            [
             0.2222222222222222,
             "#7201a8"
            ],
            [
             0.3333333333333333,
             "#9c179e"
            ],
            [
             0.4444444444444444,
             "#bd3786"
            ],
            [
             0.5555555555555556,
             "#d8576b"
            ],
            [
             0.6666666666666666,
             "#ed7953"
            ],
            [
             0.7777777777777778,
             "#fb9f3a"
            ],
            [
             0.8888888888888888,
             "#fdca26"
            ],
            [
             1,
             "#f0f921"
            ]
           ]
          },
          "colorway": [
           "#636efa",
           "#EF553B",
           "#00cc96",
           "#ab63fa",
           "#FFA15A",
           "#19d3f3",
           "#FF6692",
           "#B6E880",
           "#FF97FF",
           "#FECB52"
          ],
          "font": {
           "color": "#2a3f5f"
          },
          "geo": {
           "bgcolor": "white",
           "lakecolor": "white",
           "landcolor": "#E5ECF6",
           "showlakes": true,
           "showland": true,
           "subunitcolor": "white"
          },
          "hoverlabel": {
           "align": "left"
          },
          "hovermode": "closest",
          "mapbox": {
           "style": "light"
          },
          "paper_bgcolor": "white",
          "plot_bgcolor": "#E5ECF6",
          "polar": {
           "angularaxis": {
            "gridcolor": "white",
            "linecolor": "white",
            "ticks": ""
           },
           "bgcolor": "#E5ECF6",
           "radialaxis": {
            "gridcolor": "white",
            "linecolor": "white",
            "ticks": ""
           }
          },
          "scene": {
           "xaxis": {
            "backgroundcolor": "#E5ECF6",
            "gridcolor": "white",
            "gridwidth": 2,
            "linecolor": "white",
            "showbackground": true,
            "ticks": "",
            "zerolinecolor": "white"
           },
           "yaxis": {
            "backgroundcolor": "#E5ECF6",
            "gridcolor": "white",
            "gridwidth": 2,
            "linecolor": "white",
            "showbackground": true,
            "ticks": "",
            "zerolinecolor": "white"
           },
           "zaxis": {
            "backgroundcolor": "#E5ECF6",
            "gridcolor": "white",
            "gridwidth": 2,
            "linecolor": "white",
            "showbackground": true,
            "ticks": "",
            "zerolinecolor": "white"
           }
          },
          "shapedefaults": {
           "line": {
            "color": "#2a3f5f"
           }
          },
          "ternary": {
           "aaxis": {
            "gridcolor": "white",
            "linecolor": "white",
            "ticks": ""
           },
           "baxis": {
            "gridcolor": "white",
            "linecolor": "white",
            "ticks": ""
           },
           "bgcolor": "#E5ECF6",
           "caxis": {
            "gridcolor": "white",
            "linecolor": "white",
            "ticks": ""
           }
          },
          "title": {
           "x": 0.05
          },
          "xaxis": {
           "automargin": true,
           "gridcolor": "white",
           "linecolor": "white",
           "ticks": "",
           "title": {
            "standoff": 15
           },
           "zerolinecolor": "white",
           "zerolinewidth": 2
          },
          "yaxis": {
           "automargin": true,
           "gridcolor": "white",
           "linecolor": "white",
           "ticks": "",
           "title": {
            "standoff": 15
           },
           "zerolinecolor": "white",
           "zerolinewidth": 2
          }
         }
        },
        "title": {
         "text": "Production Rate for Each Iteration for the Continuous Flow Reaction",
         "x": 0.5,
         "xanchor": "center",
         "y": 0.95,
         "yanchor": "top"
        },
        "xaxis": {
         "anchor": "y",
         "categoryarray": [
          "0",
          "1",
          "2",
          "3",
          "4",
          "5",
          "6",
          "7",
          "8",
          "9",
          "Final Round"
         ],
         "categoryorder": "array",
         "domain": [
          0,
          1
         ],
         "title": {
          "text": "round"
         }
        },
        "yaxis": {
         "anchor": "x",
         "domain": [
          0,
          1
         ],
         "title": {
          "text": "Production Rate (g/hr)"
         }
        }
       }
      },
      "text/html": [
       "<div>                            <div id=\"fe1c73a4-0c1b-4eba-b4ce-bcaa0b24a6eb\" class=\"plotly-graph-div\" style=\"height:525px; width:100%;\"></div>            <script type=\"text/javascript\">                require([\"plotly\"], function(Plotly) {                    window.PLOTLYENV=window.PLOTLYENV || {};                                    if (document.getElementById(\"fe1c73a4-0c1b-4eba-b4ce-bcaa0b24a6eb\")) {                    Plotly.newPlot(                        \"fe1c73a4-0c1b-4eba-b4ce-bcaa0b24a6eb\",                        [{\"customdata\":[[85.0,23.0,0.5],[85.0,23.0,0.5],[85.0,23.0,0.5],[85.0,23.0,0.5]],\"hovertemplate\":\"round=%{x}<br>Production Rate (g/hr)=%{y}<br>size=%{marker.size}<br>temperature=%{customdata[0]}<br>time=%{customdata[1]}<br>mfp=%{customdata[2]}<extra></extra>\",\"legendgroup\":\"0\",\"marker\":{\"color\":\"rgb(254, 254, 253)\",\"size\":[5.0,5.0,5.0,5.0],\"sizemode\":\"area\",\"sizeref\":0.0125,\"symbol\":\"circle\"},\"mode\":\"markers\",\"name\":\"0\",\"orientation\":\"v\",\"showlegend\":true,\"x\":[\"0\",\"0\",\"0\",\"0\"],\"xaxis\":\"x\",\"y\":[0.2506,0.2146,0.1962,0.1862],\"yaxis\":\"y\",\"type\":\"scatter\"},{\"customdata\":[[135.0,23.0,0.36],[132.0,3.0,0.36],[123.0,23.0,0.46]],\"hovertemplate\":\"round=%{x}<br>Production Rate (g/hr)=%{y}<br>size=%{marker.size}<br>temperature=%{customdata[0]}<br>time=%{customdata[1]}<br>mfp=%{customdata[2]}<extra></extra>\",\"legendgroup\":\"1\",\"marker\":{\"color\":\"rgb(224, 224, 223)\",\"size\":[5.0,5.0,5.0],\"sizemode\":\"area\",\"sizeref\":0.0125,\"symbol\":\"circle\"},\"mode\":\"markers\",\"name\":\"1\",\"orientation\":\"v\",\"showlegend\":true,\"x\":[\"1\",\"1\",\"1\"],\"xaxis\":\"x\",\"y\":[0.7788,1.638,0.7327],\"yaxis\":\"y\",\"type\":\"scatter\"},{\"customdata\":[[135.0,29.0,0.63],[138.0,13.0,0.63],[138.0,15.0,0.56]],\"hovertemplate\":\"round=%{x}<br>Production Rate (g/hr)=%{y}<br>size=%{marker.size}<br>temperature=%{customdata[0]}<br>time=%{customdata[1]}<br>mfp=%{customdata[2]}<extra></extra>\",\"legendgroup\":\"2\",\"marker\":{\"color\":\"rgb(197, 197, 195)\",\"size\":[5.0,5.0,5.0],\"sizemode\":\"area\",\"sizeref\":0.0125,\"symbol\":\"circle\"},\"mode\":\"markers\",\"name\":\"2\",\"orientation\":\"v\",\"showlegend\":true,\"x\":[\"2\",\"2\",\"2\"],\"xaxis\":\"x\",\"y\":[0.7245,1.3091,1.2948],\"yaxis\":\"y\",\"type\":\"scatter\"},{\"customdata\":[[138.0,41.0,0.48],[138.0,5.0,0.66],[135.0,1.0,0.63]],\"hovertemplate\":\"round=%{x}<br>Production Rate (g/hr)=%{y}<br>size=%{marker.size}<br>temperature=%{customdata[0]}<br>time=%{customdata[1]}<br>mfp=%{customdata[2]}<extra></extra>\",\"legendgroup\":\"3\",\"marker\":{\"color\":\"rgb(171, 171, 170)\",\"size\":[5.0,5.0,5.0],\"sizemode\":\"area\",\"sizeref\":0.0125,\"symbol\":\"circle\"},\"mode\":\"markers\",\"name\":\"3\",\"orientation\":\"v\",\"showlegend\":true,\"x\":[\"3\",\"3\",\"3\"],\"xaxis\":\"x\",\"y\":[0.6239,1.8241,2.22],\"yaxis\":\"y\",\"type\":\"scatter\"},{\"customdata\":[[138.0,21.0,0.66],[138.0,3.0,0.66],[135.0,13.0,0.61]],\"hovertemplate\":\"round=%{x}<br>Production Rate (g/hr)=%{y}<br>size=%{marker.size}<br>temperature=%{customdata[0]}<br>time=%{customdata[1]}<br>mfp=%{customdata[2]}<extra></extra>\",\"legendgroup\":\"4\",\"marker\":{\"color\":\"rgb(146, 146, 145)\",\"size\":[5.0,5.0,5.0],\"sizemode\":\"area\",\"sizeref\":0.0125,\"symbol\":\"circle\"},\"mode\":\"markers\",\"name\":\"4\",\"orientation\":\"v\",\"showlegend\":true,\"x\":[\"4\",\"4\",\"4\"],\"xaxis\":\"x\",\"y\":[0.9024,1.9502,1.2306],\"yaxis\":\"y\",\"type\":\"scatter\"},{\"customdata\":[[138.0,5.0,0.51],[138.0,15.0,0.48],[138.0,9.0,0.48]],\"hovertemplate\":\"round=%{x}<br>Production Rate (g/hr)=%{y}<br>size=%{marker.size}<br>temperature=%{customdata[0]}<br>time=%{customdata[1]}<br>mfp=%{customdata[2]}<extra></extra>\",\"legendgroup\":\"5\",\"marker\":{\"color\":\"rgb(124, 123, 122)\",\"size\":[5.0,5.0,5.0],\"sizemode\":\"area\",\"sizeref\":0.0125,\"symbol\":\"circle\"},\"mode\":\"markers\",\"name\":\"5\",\"orientation\":\"v\",\"showlegend\":true,\"x\":[\"5\",\"5\",\"5\"],\"xaxis\":\"x\",\"y\":[2.1045,1.3728,1.7707],\"yaxis\":\"y\",\"type\":\"scatter\"},{\"customdata\":[[138.0,29.0,0.66],[75.0,3.0,0.58],[51.0,1.0,0.56]],\"hovertemplate\":\"round=%{x}<br>Production Rate (g/hr)=%{y}<br>size=%{marker.size}<br>temperature=%{customdata[0]}<br>time=%{customdata[1]}<br>mfp=%{customdata[2]}<extra></extra>\",\"legendgroup\":\"6\",\"marker\":{\"color\":\"rgb(102, 101, 101)\",\"size\":[5.0,5.0,5.0],\"sizemode\":\"area\",\"sizeref\":0.0125,\"symbol\":\"circle\"},\"mode\":\"markers\",\"name\":\"6\",\"orientation\":\"v\",\"showlegend\":true,\"x\":[\"6\",\"6\",\"6\"],\"xaxis\":\"x\",\"y\":[0.6619,0.1463,0.4962],\"yaxis\":\"y\",\"type\":\"scatter\"},{\"customdata\":[[63.0,33.0,0.56],[54.0,41.0,0.51],[45.0,35.0,0.61]],\"hovertemplate\":\"round=%{x}<br>Production Rate (g/hr)=%{y}<br>size=%{marker.size}<br>temperature=%{customdata[0]}<br>time=%{customdata[1]}<br>mfp=%{customdata[2]}<extra></extra>\",\"legendgroup\":\"7\",\"marker\":{\"color\":\"rgb(81, 80, 80)\",\"size\":[5.0,5.0,5.0],\"sizemode\":\"area\",\"sizeref\":0.0125,\"symbol\":\"circle\"},\"mode\":\"markers\",\"name\":\"7\",\"orientation\":\"v\",\"showlegend\":true,\"x\":[\"7\",\"7\",\"7\"],\"xaxis\":\"x\",\"y\":[0.0736,0.0474,0.0408],\"yaxis\":\"y\",\"type\":\"scatter\"},{\"customdata\":[[138.0,15.0,0.43],[138.0,13.0,0.48],[138.0,1.0,0.33]],\"hovertemplate\":\"round=%{x}<br>Production Rate (g/hr)=%{y}<br>size=%{marker.size}<br>temperature=%{customdata[0]}<br>time=%{customdata[1]}<br>mfp=%{customdata[2]}<extra></extra>\",\"legendgroup\":\"8\",\"marker\":{\"color\":\"rgb(59, 59, 59)\",\"size\":[5.0,5.0,5.0],\"sizemode\":\"area\",\"sizeref\":0.0125,\"symbol\":\"circle\"},\"mode\":\"markers\",\"name\":\"8\",\"orientation\":\"v\",\"showlegend\":true,\"x\":[\"8\",\"8\",\"8\"],\"xaxis\":\"x\",\"y\":[1.3657,1.4984,2.2082],\"yaxis\":\"y\",\"type\":\"scatter\"},{\"customdata\":[[138.0,33.0,0.63],[138.0,23.0,0.41],[138.0,13.0,0.41]],\"hovertemplate\":\"round=%{x}<br>Production Rate (g/hr)=%{y}<br>size=%{marker.size}<br>temperature=%{customdata[0]}<br>time=%{customdata[1]}<br>mfp=%{customdata[2]}<extra></extra>\",\"legendgroup\":\"9\",\"marker\":{\"color\":\"rgb(38, 38, 38)\",\"size\":[5.0,5.0,5.0],\"sizemode\":\"area\",\"sizeref\":0.0125,\"symbol\":\"circle\"},\"mode\":\"markers\",\"name\":\"9\",\"orientation\":\"v\",\"showlegend\":true,\"x\":[\"9\",\"9\",\"9\"],\"xaxis\":\"x\",\"y\":[0.6575,0.885,1.4285],\"yaxis\":\"y\",\"type\":\"scatter\"},{\"customdata\":[[138.0,11.0,0.58],[138.0,19.0,0.56],[138.0,7.0,0.56]],\"hovertemplate\":\"round=%{x}<br>Production Rate (g/hr)=%{y}<br>size=%{marker.size}<br>temperature=%{customdata[0]}<br>time=%{customdata[1]}<br>mfp=%{customdata[2]}<extra></extra>\",\"legendgroup\":\"Final Round\",\"marker\":{\"color\":\"rgb(16, 16, 16)\",\"size\":[5.0,5.0,5.0],\"sizemode\":\"area\",\"sizeref\":0.0125,\"symbol\":\"circle\"},\"mode\":\"markers\",\"name\":\"Final Round\",\"orientation\":\"v\",\"showlegend\":true,\"x\":[\"Final Round\",\"Final Round\",\"Final Round\"],\"xaxis\":\"x\",\"y\":[1.6026,1.1462,2.0117],\"yaxis\":\"y\",\"type\":\"scatter\"}],                        {\"template\":{\"data\":{\"histogram2dcontour\":[{\"type\":\"histogram2dcontour\",\"colorbar\":{\"outlinewidth\":0,\"ticks\":\"\"},\"colorscale\":[[0.0,\"#0d0887\"],[0.1111111111111111,\"#46039f\"],[0.2222222222222222,\"#7201a8\"],[0.3333333333333333,\"#9c179e\"],[0.4444444444444444,\"#bd3786\"],[0.5555555555555556,\"#d8576b\"],[0.6666666666666666,\"#ed7953\"],[0.7777777777777778,\"#fb9f3a\"],[0.8888888888888888,\"#fdca26\"],[1.0,\"#f0f921\"]]}],\"choropleth\":[{\"type\":\"choropleth\",\"colorbar\":{\"outlinewidth\":0,\"ticks\":\"\"}}],\"histogram2d\":[{\"type\":\"histogram2d\",\"colorbar\":{\"outlinewidth\":0,\"ticks\":\"\"},\"colorscale\":[[0.0,\"#0d0887\"],[0.1111111111111111,\"#46039f\"],[0.2222222222222222,\"#7201a8\"],[0.3333333333333333,\"#9c179e\"],[0.4444444444444444,\"#bd3786\"],[0.5555555555555556,\"#d8576b\"],[0.6666666666666666,\"#ed7953\"],[0.7777777777777778,\"#fb9f3a\"],[0.8888888888888888,\"#fdca26\"],[1.0,\"#f0f921\"]]}],\"heatmap\":[{\"type\":\"heatmap\",\"colorbar\":{\"outlinewidth\":0,\"ticks\":\"\"},\"colorscale\":[[0.0,\"#0d0887\"],[0.1111111111111111,\"#46039f\"],[0.2222222222222222,\"#7201a8\"],[0.3333333333333333,\"#9c179e\"],[0.4444444444444444,\"#bd3786\"],[0.5555555555555556,\"#d8576b\"],[0.6666666666666666,\"#ed7953\"],[0.7777777777777778,\"#fb9f3a\"],[0.8888888888888888,\"#fdca26\"],[1.0,\"#f0f921\"]]}],\"heatmapgl\":[{\"type\":\"heatmapgl\",\"colorbar\":{\"outlinewidth\":0,\"ticks\":\"\"},\"colorscale\":[[0.0,\"#0d0887\"],[0.1111111111111111,\"#46039f\"],[0.2222222222222222,\"#7201a8\"],[0.3333333333333333,\"#9c179e\"],[0.4444444444444444,\"#bd3786\"],[0.5555555555555556,\"#d8576b\"],[0.6666666666666666,\"#ed7953\"],[0.7777777777777778,\"#fb9f3a\"],[0.8888888888888888,\"#fdca26\"],[1.0,\"#f0f921\"]]}],\"contourcarpet\":[{\"type\":\"contourcarpet\",\"colorbar\":{\"outlinewidth\":0,\"ticks\":\"\"}}],\"contour\":[{\"type\":\"contour\",\"colorbar\":{\"outlinewidth\":0,\"ticks\":\"\"},\"colorscale\":[[0.0,\"#0d0887\"],[0.1111111111111111,\"#46039f\"],[0.2222222222222222,\"#7201a8\"],[0.3333333333333333,\"#9c179e\"],[0.4444444444444444,\"#bd3786\"],[0.5555555555555556,\"#d8576b\"],[0.6666666666666666,\"#ed7953\"],[0.7777777777777778,\"#fb9f3a\"],[0.8888888888888888,\"#fdca26\"],[1.0,\"#f0f921\"]]}],\"surface\":[{\"type\":\"surface\",\"colorbar\":{\"outlinewidth\":0,\"ticks\":\"\"},\"colorscale\":[[0.0,\"#0d0887\"],[0.1111111111111111,\"#46039f\"],[0.2222222222222222,\"#7201a8\"],[0.3333333333333333,\"#9c179e\"],[0.4444444444444444,\"#bd3786\"],[0.5555555555555556,\"#d8576b\"],[0.6666666666666666,\"#ed7953\"],[0.7777777777777778,\"#fb9f3a\"],[0.8888888888888888,\"#fdca26\"],[1.0,\"#f0f921\"]]}],\"mesh3d\":[{\"type\":\"mesh3d\",\"colorbar\":{\"outlinewidth\":0,\"ticks\":\"\"}}],\"scatter\":[{\"fillpattern\":{\"fillmode\":\"overlay\",\"size\":10,\"solidity\":0.2},\"type\":\"scatter\"}],\"parcoords\":[{\"type\":\"parcoords\",\"line\":{\"colorbar\":{\"outlinewidth\":0,\"ticks\":\"\"}}}],\"scatterpolargl\":[{\"type\":\"scatterpolargl\",\"marker\":{\"colorbar\":{\"outlinewidth\":0,\"ticks\":\"\"}}}],\"bar\":[{\"error_x\":{\"color\":\"#2a3f5f\"},\"error_y\":{\"color\":\"#2a3f5f\"},\"marker\":{\"line\":{\"color\":\"#E5ECF6\",\"width\":0.5},\"pattern\":{\"fillmode\":\"overlay\",\"size\":10,\"solidity\":0.2}},\"type\":\"bar\"}],\"scattergeo\":[{\"type\":\"scattergeo\",\"marker\":{\"colorbar\":{\"outlinewidth\":0,\"ticks\":\"\"}}}],\"scatterpolar\":[{\"type\":\"scatterpolar\",\"marker\":{\"colorbar\":{\"outlinewidth\":0,\"ticks\":\"\"}}}],\"histogram\":[{\"marker\":{\"pattern\":{\"fillmode\":\"overlay\",\"size\":10,\"solidity\":0.2}},\"type\":\"histogram\"}],\"scattergl\":[{\"type\":\"scattergl\",\"marker\":{\"colorbar\":{\"outlinewidth\":0,\"ticks\":\"\"}}}],\"scatter3d\":[{\"type\":\"scatter3d\",\"line\":{\"colorbar\":{\"outlinewidth\":0,\"ticks\":\"\"}},\"marker\":{\"colorbar\":{\"outlinewidth\":0,\"ticks\":\"\"}}}],\"scattermapbox\":[{\"type\":\"scattermapbox\",\"marker\":{\"colorbar\":{\"outlinewidth\":0,\"ticks\":\"\"}}}],\"scatterternary\":[{\"type\":\"scatterternary\",\"marker\":{\"colorbar\":{\"outlinewidth\":0,\"ticks\":\"\"}}}],\"scattercarpet\":[{\"type\":\"scattercarpet\",\"marker\":{\"colorbar\":{\"outlinewidth\":0,\"ticks\":\"\"}}}],\"carpet\":[{\"aaxis\":{\"endlinecolor\":\"#2a3f5f\",\"gridcolor\":\"white\",\"linecolor\":\"white\",\"minorgridcolor\":\"white\",\"startlinecolor\":\"#2a3f5f\"},\"baxis\":{\"endlinecolor\":\"#2a3f5f\",\"gridcolor\":\"white\",\"linecolor\":\"white\",\"minorgridcolor\":\"white\",\"startlinecolor\":\"#2a3f5f\"},\"type\":\"carpet\"}],\"table\":[{\"cells\":{\"fill\":{\"color\":\"#EBF0F8\"},\"line\":{\"color\":\"white\"}},\"header\":{\"fill\":{\"color\":\"#C8D4E3\"},\"line\":{\"color\":\"white\"}},\"type\":\"table\"}],\"barpolar\":[{\"marker\":{\"line\":{\"color\":\"#E5ECF6\",\"width\":0.5},\"pattern\":{\"fillmode\":\"overlay\",\"size\":10,\"solidity\":0.2}},\"type\":\"barpolar\"}],\"pie\":[{\"automargin\":true,\"type\":\"pie\"}]},\"layout\":{\"autotypenumbers\":\"strict\",\"colorway\":[\"#636efa\",\"#EF553B\",\"#00cc96\",\"#ab63fa\",\"#FFA15A\",\"#19d3f3\",\"#FF6692\",\"#B6E880\",\"#FF97FF\",\"#FECB52\"],\"font\":{\"color\":\"#2a3f5f\"},\"hovermode\":\"closest\",\"hoverlabel\":{\"align\":\"left\"},\"paper_bgcolor\":\"white\",\"plot_bgcolor\":\"#E5ECF6\",\"polar\":{\"bgcolor\":\"#E5ECF6\",\"angularaxis\":{\"gridcolor\":\"white\",\"linecolor\":\"white\",\"ticks\":\"\"},\"radialaxis\":{\"gridcolor\":\"white\",\"linecolor\":\"white\",\"ticks\":\"\"}},\"ternary\":{\"bgcolor\":\"#E5ECF6\",\"aaxis\":{\"gridcolor\":\"white\",\"linecolor\":\"white\",\"ticks\":\"\"},\"baxis\":{\"gridcolor\":\"white\",\"linecolor\":\"white\",\"ticks\":\"\"},\"caxis\":{\"gridcolor\":\"white\",\"linecolor\":\"white\",\"ticks\":\"\"}},\"coloraxis\":{\"colorbar\":{\"outlinewidth\":0,\"ticks\":\"\"}},\"colorscale\":{\"sequential\":[[0.0,\"#0d0887\"],[0.1111111111111111,\"#46039f\"],[0.2222222222222222,\"#7201a8\"],[0.3333333333333333,\"#9c179e\"],[0.4444444444444444,\"#bd3786\"],[0.5555555555555556,\"#d8576b\"],[0.6666666666666666,\"#ed7953\"],[0.7777777777777778,\"#fb9f3a\"],[0.8888888888888888,\"#fdca26\"],[1.0,\"#f0f921\"]],\"sequentialminus\":[[0.0,\"#0d0887\"],[0.1111111111111111,\"#46039f\"],[0.2222222222222222,\"#7201a8\"],[0.3333333333333333,\"#9c179e\"],[0.4444444444444444,\"#bd3786\"],[0.5555555555555556,\"#d8576b\"],[0.6666666666666666,\"#ed7953\"],[0.7777777777777778,\"#fb9f3a\"],[0.8888888888888888,\"#fdca26\"],[1.0,\"#f0f921\"]],\"diverging\":[[0,\"#8e0152\"],[0.1,\"#c51b7d\"],[0.2,\"#de77ae\"],[0.3,\"#f1b6da\"],[0.4,\"#fde0ef\"],[0.5,\"#f7f7f7\"],[0.6,\"#e6f5d0\"],[0.7,\"#b8e186\"],[0.8,\"#7fbc41\"],[0.9,\"#4d9221\"],[1,\"#276419\"]]},\"xaxis\":{\"gridcolor\":\"white\",\"linecolor\":\"white\",\"ticks\":\"\",\"title\":{\"standoff\":15},\"zerolinecolor\":\"white\",\"automargin\":true,\"zerolinewidth\":2},\"yaxis\":{\"gridcolor\":\"white\",\"linecolor\":\"white\",\"ticks\":\"\",\"title\":{\"standoff\":15},\"zerolinecolor\":\"white\",\"automargin\":true,\"zerolinewidth\":2},\"scene\":{\"xaxis\":{\"backgroundcolor\":\"#E5ECF6\",\"gridcolor\":\"white\",\"linecolor\":\"white\",\"showbackground\":true,\"ticks\":\"\",\"zerolinecolor\":\"white\",\"gridwidth\":2},\"yaxis\":{\"backgroundcolor\":\"#E5ECF6\",\"gridcolor\":\"white\",\"linecolor\":\"white\",\"showbackground\":true,\"ticks\":\"\",\"zerolinecolor\":\"white\",\"gridwidth\":2},\"zaxis\":{\"backgroundcolor\":\"#E5ECF6\",\"gridcolor\":\"white\",\"linecolor\":\"white\",\"showbackground\":true,\"ticks\":\"\",\"zerolinecolor\":\"white\",\"gridwidth\":2}},\"shapedefaults\":{\"line\":{\"color\":\"#2a3f5f\"}},\"annotationdefaults\":{\"arrowcolor\":\"#2a3f5f\",\"arrowhead\":0,\"arrowwidth\":1},\"geo\":{\"bgcolor\":\"white\",\"landcolor\":\"#E5ECF6\",\"subunitcolor\":\"white\",\"showland\":true,\"showlakes\":true,\"lakecolor\":\"white\"},\"title\":{\"x\":0.05},\"mapbox\":{\"style\":\"light\"}}},\"xaxis\":{\"anchor\":\"y\",\"domain\":[0.0,1.0],\"title\":{\"text\":\"round\"},\"categoryorder\":\"array\",\"categoryarray\":[\"0\",\"1\",\"2\",\"3\",\"4\",\"5\",\"6\",\"7\",\"8\",\"9\",\"Final Round\"]},\"yaxis\":{\"anchor\":\"x\",\"domain\":[0.0,1.0],\"title\":{\"text\":\"Production Rate (g/hr)\"}},\"legend\":{\"title\":{\"text\":\"round\"},\"tracegroupgap\":0,\"itemsizing\":\"constant\"},\"margin\":{\"t\":60},\"title\":{\"text\":\"Production Rate for Each Iteration for the Continuous Flow Reaction\",\"y\":0.95,\"x\":0.5,\"xanchor\":\"center\",\"yanchor\":\"top\"}},                        {\"responsive\": true}                    ).then(function(){\n",
       "                            \n",
       "var gd = document.getElementById('fe1c73a4-0c1b-4eba-b4ce-bcaa0b24a6eb');\n",
       "var x = new MutationObserver(function (mutations, observer) {{\n",
       "        var display = window.getComputedStyle(gd).display;\n",
       "        if (!display || display === 'none') {{\n",
       "            console.log([gd, 'removed!']);\n",
       "            Plotly.purge(gd);\n",
       "            observer.disconnect();\n",
       "        }}\n",
       "}});\n",
       "\n",
       "// Listen for the removal of the full notebook cells\n",
       "var notebookContainer = gd.closest('#notebook-container');\n",
       "if (notebookContainer) {{\n",
       "    x.observe(notebookContainer, {childList: true});\n",
       "}}\n",
       "\n",
       "// Listen for the clearing of the current output cell\n",
       "var outputEl = gd.closest('.output');\n",
       "if (outputEl) {{\n",
       "    x.observe(outputEl, {childList: true});\n",
       "}}\n",
       "\n",
       "                        })                };                });            </script>        </div>"
      ]
     },
     "metadata": {},
     "output_type": "display_data"
    },
    {
     "name": "stdout",
     "output_type": "stream",
     "text": [
      "Highest production rate is 2.22g/hr\n"
     ]
    }
   ],
   "source": [
    "fig_3d_animation = px.scatter_3d(data_frame=df, x='temperature', y='time', z='mfp', animation_frame = 'round', color = 'yield', hover_name = 'yield', hover_data = ['yield'])\n",
    "fig_3d_animation.update_traces(marker=dict(size=7))\n",
    "fig_3d_animation.update_layout(\n",
    "scene = dict(\n",
    "        xaxis=dict(nticks=6,range=[140,30]),\n",
    "        yaxis=dict(nticks=6,range=[45,1]),\n",
    "        zaxis=dict(nticks=6,range=[0.33,0.66])\n",
    "    ),\n",
    "    title={\n",
    "        'text': \"3D Plot of the Inputs for the Continuous Flow Reaction\",\n",
    "        'y':0.9,\n",
    "        'x':0.5,\n",
    "        'xanchor': 'center',\n",
    "        'yanchor': 'top'},\n",
    "        title_y=0.95,\n",
    "        margin=dict(l=0,r=0,b=0,t=1)\n",
    "        )   \n",
    "fig_3d_animation.show() \n",
    "\n",
    "fig_3d_animation.write_html('plots/3d_plots/final_round/3d_plot_animation.html')\n",
    "\n",
    "fig_yield_iterations = px.scatter(df,x='round', y='yield',\n",
    "size='size',\n",
    "color='round',\n",
    "color_discrete_sequence= px.colors.sequential.gray_r,#px.colors.diverging.balance,\n",
    " color_continuous_scale=px.colors.sequential.Greys,\n",
    "hover_data=['temperature','time','mfp'],\n",
    "labels={'yield':'Yield (%)'})\n",
    "fig_yield_iterations.update_layout(\n",
    "    title={\n",
    "        'text': \"Yield of Each Iteration for the Continuous Flow Reaction\",\n",
    "        'y':0.9,\n",
    "        'x':0.5,\n",
    "        'xanchor': 'center',\n",
    "        'yanchor': 'top'},\n",
    "        title_y=0.95,\n",
    "        \n",
    "        )\n",
    "fig_yield_iterations.show()\n",
    "print('Highest yield is {}%'.format(df['yield'].max()))\n",
    "    \n",
    "\n",
    "fig_production_iterations = px.scatter(df,x='round', y='production_rate_(g/hr)',\n",
    "size='size',\n",
    "color='round',\n",
    "color_discrete_sequence= px.colors.sequential.gray_r,#px.colors.diverging.balance,\n",
    " color_continuous_scale=px.colors.sequential.Greys,\n",
    "hover_data=['temperature','time','mfp'],\n",
    "labels={'production_rate_(g/hr)':'Production Rate (g/hr)'})\n",
    "fig_production_iterations.update_layout(\n",
    "    title={\n",
    "        'text': \"Production Rate for Each Iteration for the Continuous Flow Reaction\",\n",
    "        'y':0.9,\n",
    "        'x':0.5,\n",
    "        'xanchor': 'center',\n",
    "        'yanchor': 'top'},\n",
    "        title_y=0.95,\n",
    "        \n",
    "        )\n",
    "fig_production_iterations.show()\n",
    "print('Highest production rate is {}g/hr'.format(df['production_rate_(g/hr)'].max()))\n"
   ]
  },
  {
   "cell_type": "code",
   "execution_count": 5,
   "metadata": {},
   "outputs": [
    {
     "data": {
      "application/vnd.plotly.v1+json": {
       "config": {
        "plotlyServerURL": "https://plot.ly"
       },
       "data": [
        {
         "customdata": [
          [
           17.78
          ],
          [
           15.23
          ],
          [
           13.92
          ],
          [
           13.21
          ]
         ],
         "hovertemplate": "<b>%{hovertext}</b><br><br>round=0<br>temperature=%{x}<br>time=%{y}<br>mfp=%{z}<br>yield=%{customdata[0]}<extra></extra>",
         "hovertext": [
          17.78,
          15.23,
          13.92,
          13.21
         ],
         "legendgroup": "0",
         "marker": {
          "color": "rgb(254, 254, 253)",
          "size": 7,
          "symbol": "circle"
         },
         "mode": "markers",
         "name": "0",
         "scene": "scene",
         "showlegend": true,
         "type": "scatter3d",
         "x": [
          85,
          85,
          85,
          85
         ],
         "y": [
          23,
          23,
          23,
          23
         ],
         "z": [
          0.5,
          0.5,
          0.5,
          0.5
         ]
        },
        {
         "customdata": [
          [
           77.16
          ],
          [
           21.22
          ],
          [
           56.93
          ]
         ],
         "hovertemplate": "<b>%{hovertext}</b><br><br>round=1<br>temperature=%{x}<br>time=%{y}<br>mfp=%{z}<br>yield=%{customdata[0]}<extra></extra>",
         "hovertext": [
          77.16,
          21.22,
          56.93
         ],
         "legendgroup": "1",
         "marker": {
          "color": "rgb(224, 224, 223)",
          "size": 7,
          "symbol": "circle"
         },
         "mode": "markers",
         "name": "1",
         "scene": "scene",
         "showlegend": true,
         "type": "scatter3d",
         "x": [
          135,
          132,
          123
         ],
         "y": [
          23,
          3,
          23
         ],
         "z": [
          0.36,
          0.36,
          0.46
         ]
        },
        {
         "customdata": [
          [
           87.6
          ],
          [
           70.98
          ],
          [
           67.86
          ]
         ],
         "hovertemplate": "<b>%{hovertext}</b><br><br>round=2<br>temperature=%{x}<br>time=%{y}<br>mfp=%{z}<br>yield=%{customdata[0]}<extra></extra>",
         "hovertext": [
          87.6,
          70.98,
          67.86
         ],
         "legendgroup": "2",
         "marker": {
          "color": "rgb(197, 197, 195)",
          "size": 7,
          "symbol": "circle"
         },
         "mode": "markers",
         "name": "2",
         "scene": "scene",
         "showlegend": true,
         "type": "scatter3d",
         "x": [
          135,
          138,
          138
         ],
         "y": [
          29,
          13,
          15
         ],
         "z": [
          0.63,
          0.63,
          0.56
         ]
        },
        {
         "customdata": [
          [
           81.59
          ],
          [
           41.12
          ],
          [
           9.252
          ]
         ],
         "hovertemplate": "<b>%{hovertext}</b><br><br>round=3<br>temperature=%{x}<br>time=%{y}<br>mfp=%{z}<br>yield=%{customdata[0]}<extra></extra>",
         "hovertext": [
          81.59,
          41.12,
          9.252
         ],
         "legendgroup": "3",
         "marker": {
          "color": "rgb(171, 171, 170)",
          "size": 7,
          "symbol": "circle"
         },
         "mode": "markers",
         "name": "3",
         "scene": "scene",
         "showlegend": true,
         "type": "scatter3d",
         "x": [
          138,
          138,
          135
         ],
         "y": [
          41,
          5,
          1
         ],
         "z": [
          0.48,
          0.66,
          0.63
         ]
        },
        {
         "customdata": [
          [
           85.86
          ],
          [
           26.38
          ],
          [
           62.9
          ]
         ],
         "hovertemplate": "<b>%{hovertext}</b><br><br>round=4<br>temperature=%{x}<br>time=%{y}<br>mfp=%{z}<br>yield=%{customdata[0]}<extra></extra>",
         "hovertext": [
          85.86,
          26.38,
          62.9
         ],
         "legendgroup": "4",
         "marker": {
          "color": "rgb(146, 146, 145)",
          "size": 7,
          "symbol": "circle"
         },
         "mode": "markers",
         "name": "4",
         "scene": "scene",
         "showlegend": true,
         "type": "scatter3d",
         "x": [
          138,
          138,
          135
         ],
         "y": [
          21,
          3,
          13
         ],
         "z": [
          0.66,
          0.66,
          0.61
         ]
        },
        {
         "customdata": [
          [
           32.96
          ],
          [
           66.05
          ],
          [
           51.14
          ]
         ],
         "hovertemplate": "<b>%{hovertext}</b><br><br>round=5<br>temperature=%{x}<br>time=%{y}<br>mfp=%{z}<br>yield=%{customdata[0]}<extra></extra>",
         "hovertext": [
          32.96,
          66.05,
          51.14
         ],
         "legendgroup": "5",
         "marker": {
          "color": "rgb(124, 123, 122)",
          "size": 7,
          "symbol": "circle"
         },
         "mode": "markers",
         "name": "5",
         "scene": "scene",
         "showlegend": true,
         "type": "scatter3d",
         "x": [
          138,
          138,
          138
         ],
         "y": [
          5,
          15,
          9
         ],
         "z": [
          0.51,
          0.48,
          0.48
         ]
        },
        {
         "customdata": [
          [
           86.31
          ],
          [
           1.61
          ],
          [
           1.73
          ]
         ],
         "hovertemplate": "<b>%{hovertext}</b><br><br>round=6<br>temperature=%{x}<br>time=%{y}<br>mfp=%{z}<br>yield=%{customdata[0]}<extra></extra>",
         "hovertext": [
          86.31,
          1.61,
          1.73
         ],
         "legendgroup": "6",
         "marker": {
          "color": "rgb(102, 101, 101)",
          "size": 7,
          "symbol": "circle"
         },
         "mode": "markers",
         "name": "6",
         "scene": "scene",
         "showlegend": true,
         "type": "scatter3d",
         "x": [
          138,
          75,
          51
         ],
         "y": [
          29,
          3,
          1
         ],
         "z": [
          0.66,
          0.58,
          0.56
         ]
        },
        {
         "customdata": [
          [
           8.49
          ],
          [
           6.1
          ],
          [
           5.62
          ]
         ],
         "hovertemplate": "<b>%{hovertext}</b><br><br>round=7<br>temperature=%{x}<br>time=%{y}<br>mfp=%{z}<br>yield=%{customdata[0]}<extra></extra>",
         "hovertext": [
          8.49,
          6.1,
          5.62
         ],
         "legendgroup": "7",
         "marker": {
          "color": "rgb(81, 80, 80)",
          "size": 7,
          "symbol": "circle"
         },
         "mode": "markers",
         "name": "7",
         "scene": "scene",
         "showlegend": true,
         "type": "scatter3d",
         "x": [
          63,
          54,
          45
         ],
         "y": [
          33,
          41,
          35
         ],
         "z": [
          0.56,
          0.51,
          0.61
         ]
        },
        {
         "customdata": [
          [
           73.57
          ],
          [
           62.52
          ],
          [
           10.32
          ]
         ],
         "hovertemplate": "<b>%{hovertext}</b><br><br>round=8<br>temperature=%{x}<br>time=%{y}<br>mfp=%{z}<br>yield=%{customdata[0]}<extra></extra>",
         "hovertext": [
          73.57,
          62.52,
          10.32
         ],
         "legendgroup": "8",
         "marker": {
          "color": "rgb(59, 59, 59)",
          "size": 7,
          "symbol": "circle"
         },
         "mode": "markers",
         "name": "8",
         "scene": "scene",
         "showlegend": true,
         "type": "scatter3d",
         "x": [
          138,
          138,
          138
         ],
         "y": [
          15,
          13,
          1
         ],
         "z": [
          0.43,
          0.48,
          0.33
         ]
        },
        {
         "customdata": [
          [
           90.24
          ],
          [
           77.41
          ],
          [
           69.79
          ]
         ],
         "hovertemplate": "<b>%{hovertext}</b><br><br>round=9<br>temperature=%{x}<br>time=%{y}<br>mfp=%{z}<br>yield=%{customdata[0]}<extra></extra>",
         "hovertext": [
          90.24,
          77.41,
          69.79
         ],
         "legendgroup": "9",
         "marker": {
          "color": "rgb(38, 38, 38)",
          "size": 7,
          "symbol": "circle"
         },
         "mode": "markers",
         "name": "9",
         "scene": "scene",
         "showlegend": true,
         "type": "scatter3d",
         "x": [
          138,
          138,
          138
         ],
         "y": [
          33,
          23,
          13
         ],
         "z": [
          0.63,
          0.41,
          0.41
         ]
        },
        {
         "customdata": [
          [
           64.76
          ],
          [
           76.14
          ],
          [
           49.38
          ]
         ],
         "hovertemplate": "<b>%{hovertext}</b><br><br>round=Final Round<br>temperature=%{x}<br>time=%{y}<br>mfp=%{z}<br>yield=%{customdata[0]}<extra></extra>",
         "hovertext": [
          64.76,
          76.14,
          49.38
         ],
         "legendgroup": "Final Round",
         "marker": {
          "color": "rgb(16, 16, 16)",
          "size": 7,
          "symbol": "circle"
         },
         "mode": "markers",
         "name": "Final Round",
         "scene": "scene",
         "showlegend": true,
         "type": "scatter3d",
         "x": [
          138,
          138,
          138
         ],
         "y": [
          11,
          19,
          7
         ],
         "z": [
          0.58,
          0.56,
          0.56
         ]
        }
       ],
       "layout": {
        "legend": {
         "title": {
          "text": "round"
         },
         "tracegroupgap": 0
        },
        "margin": {
         "b": 0,
         "l": 0,
         "r": 0,
         "t": 1
        },
        "scene": {
         "domain": {
          "x": [
           0,
           1
          ],
          "y": [
           0,
           1
          ]
         },
         "xaxis": {
          "nticks": 6,
          "range": [
           140,
           30
          ],
          "title": {
           "text": "temperature"
          }
         },
         "yaxis": {
          "nticks": 6,
          "range": [
           45,
           1
          ],
          "title": {
           "text": "time"
          }
         },
         "zaxis": {
          "nticks": 6,
          "range": [
           0.33,
           0.66
          ],
          "title": {
           "text": "mfp"
          }
         }
        },
        "template": {
         "data": {
          "bar": [
           {
            "error_x": {
             "color": "#2a3f5f"
            },
            "error_y": {
             "color": "#2a3f5f"
            },
            "marker": {
             "line": {
              "color": "#E5ECF6",
              "width": 0.5
             },
             "pattern": {
              "fillmode": "overlay",
              "size": 10,
              "solidity": 0.2
             }
            },
            "type": "bar"
           }
          ],
          "barpolar": [
           {
            "marker": {
             "line": {
              "color": "#E5ECF6",
              "width": 0.5
             },
             "pattern": {
              "fillmode": "overlay",
              "size": 10,
              "solidity": 0.2
             }
            },
            "type": "barpolar"
           }
          ],
          "carpet": [
           {
            "aaxis": {
             "endlinecolor": "#2a3f5f",
             "gridcolor": "white",
             "linecolor": "white",
             "minorgridcolor": "white",
             "startlinecolor": "#2a3f5f"
            },
            "baxis": {
             "endlinecolor": "#2a3f5f",
             "gridcolor": "white",
             "linecolor": "white",
             "minorgridcolor": "white",
             "startlinecolor": "#2a3f5f"
            },
            "type": "carpet"
           }
          ],
          "choropleth": [
           {
            "colorbar": {
             "outlinewidth": 0,
             "ticks": ""
            },
            "type": "choropleth"
           }
          ],
          "contour": [
           {
            "colorbar": {
             "outlinewidth": 0,
             "ticks": ""
            },
            "colorscale": [
             [
              0,
              "#0d0887"
             ],
             [
              0.1111111111111111,
              "#46039f"
             ],
             [
              0.2222222222222222,
              "#7201a8"
             ],
             [
              0.3333333333333333,
              "#9c179e"
             ],
             [
              0.4444444444444444,
              "#bd3786"
             ],
             [
              0.5555555555555556,
              "#d8576b"
             ],
             [
              0.6666666666666666,
              "#ed7953"
             ],
             [
              0.7777777777777778,
              "#fb9f3a"
             ],
             [
              0.8888888888888888,
              "#fdca26"
             ],
             [
              1,
              "#f0f921"
             ]
            ],
            "type": "contour"
           }
          ],
          "contourcarpet": [
           {
            "colorbar": {
             "outlinewidth": 0,
             "ticks": ""
            },
            "type": "contourcarpet"
           }
          ],
          "heatmap": [
           {
            "colorbar": {
             "outlinewidth": 0,
             "ticks": ""
            },
            "colorscale": [
             [
              0,
              "#0d0887"
             ],
             [
              0.1111111111111111,
              "#46039f"
             ],
             [
              0.2222222222222222,
              "#7201a8"
             ],
             [
              0.3333333333333333,
              "#9c179e"
             ],
             [
              0.4444444444444444,
              "#bd3786"
             ],
             [
              0.5555555555555556,
              "#d8576b"
             ],
             [
              0.6666666666666666,
              "#ed7953"
             ],
             [
              0.7777777777777778,
              "#fb9f3a"
             ],
             [
              0.8888888888888888,
              "#fdca26"
             ],
             [
              1,
              "#f0f921"
             ]
            ],
            "type": "heatmap"
           }
          ],
          "heatmapgl": [
           {
            "colorbar": {
             "outlinewidth": 0,
             "ticks": ""
            },
            "colorscale": [
             [
              0,
              "#0d0887"
             ],
             [
              0.1111111111111111,
              "#46039f"
             ],
             [
              0.2222222222222222,
              "#7201a8"
             ],
             [
              0.3333333333333333,
              "#9c179e"
             ],
             [
              0.4444444444444444,
              "#bd3786"
             ],
             [
              0.5555555555555556,
              "#d8576b"
             ],
             [
              0.6666666666666666,
              "#ed7953"
             ],
             [
              0.7777777777777778,
              "#fb9f3a"
             ],
             [
              0.8888888888888888,
              "#fdca26"
             ],
             [
              1,
              "#f0f921"
             ]
            ],
            "type": "heatmapgl"
           }
          ],
          "histogram": [
           {
            "marker": {
             "pattern": {
              "fillmode": "overlay",
              "size": 10,
              "solidity": 0.2
             }
            },
            "type": "histogram"
           }
          ],
          "histogram2d": [
           {
            "colorbar": {
             "outlinewidth": 0,
             "ticks": ""
            },
            "colorscale": [
             [
              0,
              "#0d0887"
             ],
             [
              0.1111111111111111,
              "#46039f"
             ],
             [
              0.2222222222222222,
              "#7201a8"
             ],
             [
              0.3333333333333333,
              "#9c179e"
             ],
             [
              0.4444444444444444,
              "#bd3786"
             ],
             [
              0.5555555555555556,
              "#d8576b"
             ],
             [
              0.6666666666666666,
              "#ed7953"
             ],
             [
              0.7777777777777778,
              "#fb9f3a"
             ],
             [
              0.8888888888888888,
              "#fdca26"
             ],
             [
              1,
              "#f0f921"
             ]
            ],
            "type": "histogram2d"
           }
          ],
          "histogram2dcontour": [
           {
            "colorbar": {
             "outlinewidth": 0,
             "ticks": ""
            },
            "colorscale": [
             [
              0,
              "#0d0887"
             ],
             [
              0.1111111111111111,
              "#46039f"
             ],
             [
              0.2222222222222222,
              "#7201a8"
             ],
             [
              0.3333333333333333,
              "#9c179e"
             ],
             [
              0.4444444444444444,
              "#bd3786"
             ],
             [
              0.5555555555555556,
              "#d8576b"
             ],
             [
              0.6666666666666666,
              "#ed7953"
             ],
             [
              0.7777777777777778,
              "#fb9f3a"
             ],
             [
              0.8888888888888888,
              "#fdca26"
             ],
             [
              1,
              "#f0f921"
             ]
            ],
            "type": "histogram2dcontour"
           }
          ],
          "mesh3d": [
           {
            "colorbar": {
             "outlinewidth": 0,
             "ticks": ""
            },
            "type": "mesh3d"
           }
          ],
          "parcoords": [
           {
            "line": {
             "colorbar": {
              "outlinewidth": 0,
              "ticks": ""
             }
            },
            "type": "parcoords"
           }
          ],
          "pie": [
           {
            "automargin": true,
            "type": "pie"
           }
          ],
          "scatter": [
           {
            "fillpattern": {
             "fillmode": "overlay",
             "size": 10,
             "solidity": 0.2
            },
            "type": "scatter"
           }
          ],
          "scatter3d": [
           {
            "line": {
             "colorbar": {
              "outlinewidth": 0,
              "ticks": ""
             }
            },
            "marker": {
             "colorbar": {
              "outlinewidth": 0,
              "ticks": ""
             }
            },
            "type": "scatter3d"
           }
          ],
          "scattercarpet": [
           {
            "marker": {
             "colorbar": {
              "outlinewidth": 0,
              "ticks": ""
             }
            },
            "type": "scattercarpet"
           }
          ],
          "scattergeo": [
           {
            "marker": {
             "colorbar": {
              "outlinewidth": 0,
              "ticks": ""
             }
            },
            "type": "scattergeo"
           }
          ],
          "scattergl": [
           {
            "marker": {
             "colorbar": {
              "outlinewidth": 0,
              "ticks": ""
             }
            },
            "type": "scattergl"
           }
          ],
          "scattermapbox": [
           {
            "marker": {
             "colorbar": {
              "outlinewidth": 0,
              "ticks": ""
             }
            },
            "type": "scattermapbox"
           }
          ],
          "scatterpolar": [
           {
            "marker": {
             "colorbar": {
              "outlinewidth": 0,
              "ticks": ""
             }
            },
            "type": "scatterpolar"
           }
          ],
          "scatterpolargl": [
           {
            "marker": {
             "colorbar": {
              "outlinewidth": 0,
              "ticks": ""
             }
            },
            "type": "scatterpolargl"
           }
          ],
          "scatterternary": [
           {
            "marker": {
             "colorbar": {
              "outlinewidth": 0,
              "ticks": ""
             }
            },
            "type": "scatterternary"
           }
          ],
          "surface": [
           {
            "colorbar": {
             "outlinewidth": 0,
             "ticks": ""
            },
            "colorscale": [
             [
              0,
              "#0d0887"
             ],
             [
              0.1111111111111111,
              "#46039f"
             ],
             [
              0.2222222222222222,
              "#7201a8"
             ],
             [
              0.3333333333333333,
              "#9c179e"
             ],
             [
              0.4444444444444444,
              "#bd3786"
             ],
             [
              0.5555555555555556,
              "#d8576b"
             ],
             [
              0.6666666666666666,
              "#ed7953"
             ],
             [
              0.7777777777777778,
              "#fb9f3a"
             ],
             [
              0.8888888888888888,
              "#fdca26"
             ],
             [
              1,
              "#f0f921"
             ]
            ],
            "type": "surface"
           }
          ],
          "table": [
           {
            "cells": {
             "fill": {
              "color": "#EBF0F8"
             },
             "line": {
              "color": "white"
             }
            },
            "header": {
             "fill": {
              "color": "#C8D4E3"
             },
             "line": {
              "color": "white"
             }
            },
            "type": "table"
           }
          ]
         },
         "layout": {
          "annotationdefaults": {
           "arrowcolor": "#2a3f5f",
           "arrowhead": 0,
           "arrowwidth": 1
          },
          "autotypenumbers": "strict",
          "coloraxis": {
           "colorbar": {
            "outlinewidth": 0,
            "ticks": ""
           }
          },
          "colorscale": {
           "diverging": [
            [
             0,
             "#8e0152"
            ],
            [
             0.1,
             "#c51b7d"
            ],
            [
             0.2,
             "#de77ae"
            ],
            [
             0.3,
             "#f1b6da"
            ],
            [
             0.4,
             "#fde0ef"
            ],
            [
             0.5,
             "#f7f7f7"
            ],
            [
             0.6,
             "#e6f5d0"
            ],
            [
             0.7,
             "#b8e186"
            ],
            [
             0.8,
             "#7fbc41"
            ],
            [
             0.9,
             "#4d9221"
            ],
            [
             1,
             "#276419"
            ]
           ],
           "sequential": [
            [
             0,
             "#0d0887"
            ],
            [
             0.1111111111111111,
             "#46039f"
            ],
            [
             0.2222222222222222,
             "#7201a8"
            ],
            [
             0.3333333333333333,
             "#9c179e"
            ],
            [
             0.4444444444444444,
             "#bd3786"
            ],
            [
             0.5555555555555556,
             "#d8576b"
            ],
            [
             0.6666666666666666,
             "#ed7953"
            ],
            [
             0.7777777777777778,
             "#fb9f3a"
            ],
            [
             0.8888888888888888,
             "#fdca26"
            ],
            [
             1,
             "#f0f921"
            ]
           ],
           "sequentialminus": [
            [
             0,
             "#0d0887"
            ],
            [
             0.1111111111111111,
             "#46039f"
            ],
            [
             0.2222222222222222,
             "#7201a8"
            ],
            [
             0.3333333333333333,
             "#9c179e"
            ],
            [
             0.4444444444444444,
             "#bd3786"
            ],
            [
             0.5555555555555556,
             "#d8576b"
            ],
            [
             0.6666666666666666,
             "#ed7953"
            ],
            [
             0.7777777777777778,
             "#fb9f3a"
            ],
            [
             0.8888888888888888,
             "#fdca26"
            ],
            [
             1,
             "#f0f921"
            ]
           ]
          },
          "colorway": [
           "#636efa",
           "#EF553B",
           "#00cc96",
           "#ab63fa",
           "#FFA15A",
           "#19d3f3",
           "#FF6692",
           "#B6E880",
           "#FF97FF",
           "#FECB52"
          ],
          "font": {
           "color": "#2a3f5f"
          },
          "geo": {
           "bgcolor": "white",
           "lakecolor": "white",
           "landcolor": "#E5ECF6",
           "showlakes": true,
           "showland": true,
           "subunitcolor": "white"
          },
          "hoverlabel": {
           "align": "left"
          },
          "hovermode": "closest",
          "mapbox": {
           "style": "light"
          },
          "paper_bgcolor": "white",
          "plot_bgcolor": "#E5ECF6",
          "polar": {
           "angularaxis": {
            "gridcolor": "white",
            "linecolor": "white",
            "ticks": ""
           },
           "bgcolor": "#E5ECF6",
           "radialaxis": {
            "gridcolor": "white",
            "linecolor": "white",
            "ticks": ""
           }
          },
          "scene": {
           "xaxis": {
            "backgroundcolor": "#E5ECF6",
            "gridcolor": "white",
            "gridwidth": 2,
            "linecolor": "white",
            "showbackground": true,
            "ticks": "",
            "zerolinecolor": "white"
           },
           "yaxis": {
            "backgroundcolor": "#E5ECF6",
            "gridcolor": "white",
            "gridwidth": 2,
            "linecolor": "white",
            "showbackground": true,
            "ticks": "",
            "zerolinecolor": "white"
           },
           "zaxis": {
            "backgroundcolor": "#E5ECF6",
            "gridcolor": "white",
            "gridwidth": 2,
            "linecolor": "white",
            "showbackground": true,
            "ticks": "",
            "zerolinecolor": "white"
           }
          },
          "shapedefaults": {
           "line": {
            "color": "#2a3f5f"
           }
          },
          "ternary": {
           "aaxis": {
            "gridcolor": "white",
            "linecolor": "white",
            "ticks": ""
           },
           "baxis": {
            "gridcolor": "white",
            "linecolor": "white",
            "ticks": ""
           },
           "bgcolor": "#E5ECF6",
           "caxis": {
            "gridcolor": "white",
            "linecolor": "white",
            "ticks": ""
           }
          },
          "title": {
           "x": 0.05
          },
          "xaxis": {
           "automargin": true,
           "gridcolor": "white",
           "linecolor": "white",
           "ticks": "",
           "title": {
            "standoff": 15
           },
           "zerolinecolor": "white",
           "zerolinewidth": 2
          },
          "yaxis": {
           "automargin": true,
           "gridcolor": "white",
           "linecolor": "white",
           "ticks": "",
           "title": {
            "standoff": 15
           },
           "zerolinecolor": "white",
           "zerolinewidth": 2
          }
         }
        },
        "title": {
         "text": "3D Plot of the Inputs for the Continuous Flow Reaction",
         "x": 0.5,
         "xanchor": "center",
         "y": 0.95,
         "yanchor": "top"
        }
       }
      },
      "text/html": [
       "<div>                            <div id=\"a8ffabf0-33ba-4986-a431-280c71f60a7b\" class=\"plotly-graph-div\" style=\"height:525px; width:100%;\"></div>            <script type=\"text/javascript\">                require([\"plotly\"], function(Plotly) {                    window.PLOTLYENV=window.PLOTLYENV || {};                                    if (document.getElementById(\"a8ffabf0-33ba-4986-a431-280c71f60a7b\")) {                    Plotly.newPlot(                        \"a8ffabf0-33ba-4986-a431-280c71f60a7b\",                        [{\"customdata\":[[17.78],[15.23],[13.92],[13.21]],\"hovertemplate\":\"<b>%{hovertext}</b><br><br>round=0<br>temperature=%{x}<br>time=%{y}<br>mfp=%{z}<br>yield=%{customdata[0]}<extra></extra>\",\"hovertext\":[17.78,15.23,13.92,13.21],\"legendgroup\":\"0\",\"marker\":{\"color\":\"rgb(254, 254, 253)\",\"symbol\":\"circle\",\"size\":7},\"mode\":\"markers\",\"name\":\"0\",\"scene\":\"scene\",\"showlegend\":true,\"x\":[85,85,85,85],\"y\":[23,23,23,23],\"z\":[0.5,0.5,0.5,0.5],\"type\":\"scatter3d\"},{\"customdata\":[[77.16],[21.22],[56.93]],\"hovertemplate\":\"<b>%{hovertext}</b><br><br>round=1<br>temperature=%{x}<br>time=%{y}<br>mfp=%{z}<br>yield=%{customdata[0]}<extra></extra>\",\"hovertext\":[77.16,21.22,56.93],\"legendgroup\":\"1\",\"marker\":{\"color\":\"rgb(224, 224, 223)\",\"symbol\":\"circle\",\"size\":7},\"mode\":\"markers\",\"name\":\"1\",\"scene\":\"scene\",\"showlegend\":true,\"x\":[135,132,123],\"y\":[23,3,23],\"z\":[0.36,0.36,0.46],\"type\":\"scatter3d\"},{\"customdata\":[[87.6],[70.98],[67.86]],\"hovertemplate\":\"<b>%{hovertext}</b><br><br>round=2<br>temperature=%{x}<br>time=%{y}<br>mfp=%{z}<br>yield=%{customdata[0]}<extra></extra>\",\"hovertext\":[87.6,70.98,67.86],\"legendgroup\":\"2\",\"marker\":{\"color\":\"rgb(197, 197, 195)\",\"symbol\":\"circle\",\"size\":7},\"mode\":\"markers\",\"name\":\"2\",\"scene\":\"scene\",\"showlegend\":true,\"x\":[135,138,138],\"y\":[29,13,15],\"z\":[0.63,0.63,0.56],\"type\":\"scatter3d\"},{\"customdata\":[[81.59],[41.12],[9.252]],\"hovertemplate\":\"<b>%{hovertext}</b><br><br>round=3<br>temperature=%{x}<br>time=%{y}<br>mfp=%{z}<br>yield=%{customdata[0]}<extra></extra>\",\"hovertext\":[81.59,41.12,9.252],\"legendgroup\":\"3\",\"marker\":{\"color\":\"rgb(171, 171, 170)\",\"symbol\":\"circle\",\"size\":7},\"mode\":\"markers\",\"name\":\"3\",\"scene\":\"scene\",\"showlegend\":true,\"x\":[138,138,135],\"y\":[41,5,1],\"z\":[0.48,0.66,0.63],\"type\":\"scatter3d\"},{\"customdata\":[[85.86],[26.38],[62.9]],\"hovertemplate\":\"<b>%{hovertext}</b><br><br>round=4<br>temperature=%{x}<br>time=%{y}<br>mfp=%{z}<br>yield=%{customdata[0]}<extra></extra>\",\"hovertext\":[85.86,26.38,62.9],\"legendgroup\":\"4\",\"marker\":{\"color\":\"rgb(146, 146, 145)\",\"symbol\":\"circle\",\"size\":7},\"mode\":\"markers\",\"name\":\"4\",\"scene\":\"scene\",\"showlegend\":true,\"x\":[138,138,135],\"y\":[21,3,13],\"z\":[0.66,0.66,0.61],\"type\":\"scatter3d\"},{\"customdata\":[[32.96],[66.05],[51.14]],\"hovertemplate\":\"<b>%{hovertext}</b><br><br>round=5<br>temperature=%{x}<br>time=%{y}<br>mfp=%{z}<br>yield=%{customdata[0]}<extra></extra>\",\"hovertext\":[32.96,66.05,51.14],\"legendgroup\":\"5\",\"marker\":{\"color\":\"rgb(124, 123, 122)\",\"symbol\":\"circle\",\"size\":7},\"mode\":\"markers\",\"name\":\"5\",\"scene\":\"scene\",\"showlegend\":true,\"x\":[138,138,138],\"y\":[5,15,9],\"z\":[0.51,0.48,0.48],\"type\":\"scatter3d\"},{\"customdata\":[[86.31],[1.61],[1.73]],\"hovertemplate\":\"<b>%{hovertext}</b><br><br>round=6<br>temperature=%{x}<br>time=%{y}<br>mfp=%{z}<br>yield=%{customdata[0]}<extra></extra>\",\"hovertext\":[86.31,1.61,1.73],\"legendgroup\":\"6\",\"marker\":{\"color\":\"rgb(102, 101, 101)\",\"symbol\":\"circle\",\"size\":7},\"mode\":\"markers\",\"name\":\"6\",\"scene\":\"scene\",\"showlegend\":true,\"x\":[138,75,51],\"y\":[29,3,1],\"z\":[0.66,0.58,0.56],\"type\":\"scatter3d\"},{\"customdata\":[[8.49],[6.1],[5.62]],\"hovertemplate\":\"<b>%{hovertext}</b><br><br>round=7<br>temperature=%{x}<br>time=%{y}<br>mfp=%{z}<br>yield=%{customdata[0]}<extra></extra>\",\"hovertext\":[8.49,6.1,5.62],\"legendgroup\":\"7\",\"marker\":{\"color\":\"rgb(81, 80, 80)\",\"symbol\":\"circle\",\"size\":7},\"mode\":\"markers\",\"name\":\"7\",\"scene\":\"scene\",\"showlegend\":true,\"x\":[63,54,45],\"y\":[33,41,35],\"z\":[0.56,0.51,0.61],\"type\":\"scatter3d\"},{\"customdata\":[[73.57],[62.52],[10.32]],\"hovertemplate\":\"<b>%{hovertext}</b><br><br>round=8<br>temperature=%{x}<br>time=%{y}<br>mfp=%{z}<br>yield=%{customdata[0]}<extra></extra>\",\"hovertext\":[73.57,62.52,10.32],\"legendgroup\":\"8\",\"marker\":{\"color\":\"rgb(59, 59, 59)\",\"symbol\":\"circle\",\"size\":7},\"mode\":\"markers\",\"name\":\"8\",\"scene\":\"scene\",\"showlegend\":true,\"x\":[138,138,138],\"y\":[15,13,1],\"z\":[0.43,0.48,0.33],\"type\":\"scatter3d\"},{\"customdata\":[[90.24],[77.41],[69.79]],\"hovertemplate\":\"<b>%{hovertext}</b><br><br>round=9<br>temperature=%{x}<br>time=%{y}<br>mfp=%{z}<br>yield=%{customdata[0]}<extra></extra>\",\"hovertext\":[90.24,77.41,69.79],\"legendgroup\":\"9\",\"marker\":{\"color\":\"rgb(38, 38, 38)\",\"symbol\":\"circle\",\"size\":7},\"mode\":\"markers\",\"name\":\"9\",\"scene\":\"scene\",\"showlegend\":true,\"x\":[138,138,138],\"y\":[33,23,13],\"z\":[0.63,0.41,0.41],\"type\":\"scatter3d\"},{\"customdata\":[[64.76],[76.14],[49.38]],\"hovertemplate\":\"<b>%{hovertext}</b><br><br>round=Final Round<br>temperature=%{x}<br>time=%{y}<br>mfp=%{z}<br>yield=%{customdata[0]}<extra></extra>\",\"hovertext\":[64.76,76.14,49.38],\"legendgroup\":\"Final Round\",\"marker\":{\"color\":\"rgb(16, 16, 16)\",\"symbol\":\"circle\",\"size\":7},\"mode\":\"markers\",\"name\":\"Final Round\",\"scene\":\"scene\",\"showlegend\":true,\"x\":[138,138,138],\"y\":[11,19,7],\"z\":[0.58,0.56,0.56],\"type\":\"scatter3d\"}],                        {\"template\":{\"data\":{\"histogram2dcontour\":[{\"type\":\"histogram2dcontour\",\"colorbar\":{\"outlinewidth\":0,\"ticks\":\"\"},\"colorscale\":[[0.0,\"#0d0887\"],[0.1111111111111111,\"#46039f\"],[0.2222222222222222,\"#7201a8\"],[0.3333333333333333,\"#9c179e\"],[0.4444444444444444,\"#bd3786\"],[0.5555555555555556,\"#d8576b\"],[0.6666666666666666,\"#ed7953\"],[0.7777777777777778,\"#fb9f3a\"],[0.8888888888888888,\"#fdca26\"],[1.0,\"#f0f921\"]]}],\"choropleth\":[{\"type\":\"choropleth\",\"colorbar\":{\"outlinewidth\":0,\"ticks\":\"\"}}],\"histogram2d\":[{\"type\":\"histogram2d\",\"colorbar\":{\"outlinewidth\":0,\"ticks\":\"\"},\"colorscale\":[[0.0,\"#0d0887\"],[0.1111111111111111,\"#46039f\"],[0.2222222222222222,\"#7201a8\"],[0.3333333333333333,\"#9c179e\"],[0.4444444444444444,\"#bd3786\"],[0.5555555555555556,\"#d8576b\"],[0.6666666666666666,\"#ed7953\"],[0.7777777777777778,\"#fb9f3a\"],[0.8888888888888888,\"#fdca26\"],[1.0,\"#f0f921\"]]}],\"heatmap\":[{\"type\":\"heatmap\",\"colorbar\":{\"outlinewidth\":0,\"ticks\":\"\"},\"colorscale\":[[0.0,\"#0d0887\"],[0.1111111111111111,\"#46039f\"],[0.2222222222222222,\"#7201a8\"],[0.3333333333333333,\"#9c179e\"],[0.4444444444444444,\"#bd3786\"],[0.5555555555555556,\"#d8576b\"],[0.6666666666666666,\"#ed7953\"],[0.7777777777777778,\"#fb9f3a\"],[0.8888888888888888,\"#fdca26\"],[1.0,\"#f0f921\"]]}],\"heatmapgl\":[{\"type\":\"heatmapgl\",\"colorbar\":{\"outlinewidth\":0,\"ticks\":\"\"},\"colorscale\":[[0.0,\"#0d0887\"],[0.1111111111111111,\"#46039f\"],[0.2222222222222222,\"#7201a8\"],[0.3333333333333333,\"#9c179e\"],[0.4444444444444444,\"#bd3786\"],[0.5555555555555556,\"#d8576b\"],[0.6666666666666666,\"#ed7953\"],[0.7777777777777778,\"#fb9f3a\"],[0.8888888888888888,\"#fdca26\"],[1.0,\"#f0f921\"]]}],\"contourcarpet\":[{\"type\":\"contourcarpet\",\"colorbar\":{\"outlinewidth\":0,\"ticks\":\"\"}}],\"contour\":[{\"type\":\"contour\",\"colorbar\":{\"outlinewidth\":0,\"ticks\":\"\"},\"colorscale\":[[0.0,\"#0d0887\"],[0.1111111111111111,\"#46039f\"],[0.2222222222222222,\"#7201a8\"],[0.3333333333333333,\"#9c179e\"],[0.4444444444444444,\"#bd3786\"],[0.5555555555555556,\"#d8576b\"],[0.6666666666666666,\"#ed7953\"],[0.7777777777777778,\"#fb9f3a\"],[0.8888888888888888,\"#fdca26\"],[1.0,\"#f0f921\"]]}],\"surface\":[{\"type\":\"surface\",\"colorbar\":{\"outlinewidth\":0,\"ticks\":\"\"},\"colorscale\":[[0.0,\"#0d0887\"],[0.1111111111111111,\"#46039f\"],[0.2222222222222222,\"#7201a8\"],[0.3333333333333333,\"#9c179e\"],[0.4444444444444444,\"#bd3786\"],[0.5555555555555556,\"#d8576b\"],[0.6666666666666666,\"#ed7953\"],[0.7777777777777778,\"#fb9f3a\"],[0.8888888888888888,\"#fdca26\"],[1.0,\"#f0f921\"]]}],\"mesh3d\":[{\"type\":\"mesh3d\",\"colorbar\":{\"outlinewidth\":0,\"ticks\":\"\"}}],\"scatter\":[{\"fillpattern\":{\"fillmode\":\"overlay\",\"size\":10,\"solidity\":0.2},\"type\":\"scatter\"}],\"parcoords\":[{\"type\":\"parcoords\",\"line\":{\"colorbar\":{\"outlinewidth\":0,\"ticks\":\"\"}}}],\"scatterpolargl\":[{\"type\":\"scatterpolargl\",\"marker\":{\"colorbar\":{\"outlinewidth\":0,\"ticks\":\"\"}}}],\"bar\":[{\"error_x\":{\"color\":\"#2a3f5f\"},\"error_y\":{\"color\":\"#2a3f5f\"},\"marker\":{\"line\":{\"color\":\"#E5ECF6\",\"width\":0.5},\"pattern\":{\"fillmode\":\"overlay\",\"size\":10,\"solidity\":0.2}},\"type\":\"bar\"}],\"scattergeo\":[{\"type\":\"scattergeo\",\"marker\":{\"colorbar\":{\"outlinewidth\":0,\"ticks\":\"\"}}}],\"scatterpolar\":[{\"type\":\"scatterpolar\",\"marker\":{\"colorbar\":{\"outlinewidth\":0,\"ticks\":\"\"}}}],\"histogram\":[{\"marker\":{\"pattern\":{\"fillmode\":\"overlay\",\"size\":10,\"solidity\":0.2}},\"type\":\"histogram\"}],\"scattergl\":[{\"type\":\"scattergl\",\"marker\":{\"colorbar\":{\"outlinewidth\":0,\"ticks\":\"\"}}}],\"scatter3d\":[{\"type\":\"scatter3d\",\"line\":{\"colorbar\":{\"outlinewidth\":0,\"ticks\":\"\"}},\"marker\":{\"colorbar\":{\"outlinewidth\":0,\"ticks\":\"\"}}}],\"scattermapbox\":[{\"type\":\"scattermapbox\",\"marker\":{\"colorbar\":{\"outlinewidth\":0,\"ticks\":\"\"}}}],\"scatterternary\":[{\"type\":\"scatterternary\",\"marker\":{\"colorbar\":{\"outlinewidth\":0,\"ticks\":\"\"}}}],\"scattercarpet\":[{\"type\":\"scattercarpet\",\"marker\":{\"colorbar\":{\"outlinewidth\":0,\"ticks\":\"\"}}}],\"carpet\":[{\"aaxis\":{\"endlinecolor\":\"#2a3f5f\",\"gridcolor\":\"white\",\"linecolor\":\"white\",\"minorgridcolor\":\"white\",\"startlinecolor\":\"#2a3f5f\"},\"baxis\":{\"endlinecolor\":\"#2a3f5f\",\"gridcolor\":\"white\",\"linecolor\":\"white\",\"minorgridcolor\":\"white\",\"startlinecolor\":\"#2a3f5f\"},\"type\":\"carpet\"}],\"table\":[{\"cells\":{\"fill\":{\"color\":\"#EBF0F8\"},\"line\":{\"color\":\"white\"}},\"header\":{\"fill\":{\"color\":\"#C8D4E3\"},\"line\":{\"color\":\"white\"}},\"type\":\"table\"}],\"barpolar\":[{\"marker\":{\"line\":{\"color\":\"#E5ECF6\",\"width\":0.5},\"pattern\":{\"fillmode\":\"overlay\",\"size\":10,\"solidity\":0.2}},\"type\":\"barpolar\"}],\"pie\":[{\"automargin\":true,\"type\":\"pie\"}]},\"layout\":{\"autotypenumbers\":\"strict\",\"colorway\":[\"#636efa\",\"#EF553B\",\"#00cc96\",\"#ab63fa\",\"#FFA15A\",\"#19d3f3\",\"#FF6692\",\"#B6E880\",\"#FF97FF\",\"#FECB52\"],\"font\":{\"color\":\"#2a3f5f\"},\"hovermode\":\"closest\",\"hoverlabel\":{\"align\":\"left\"},\"paper_bgcolor\":\"white\",\"plot_bgcolor\":\"#E5ECF6\",\"polar\":{\"bgcolor\":\"#E5ECF6\",\"angularaxis\":{\"gridcolor\":\"white\",\"linecolor\":\"white\",\"ticks\":\"\"},\"radialaxis\":{\"gridcolor\":\"white\",\"linecolor\":\"white\",\"ticks\":\"\"}},\"ternary\":{\"bgcolor\":\"#E5ECF6\",\"aaxis\":{\"gridcolor\":\"white\",\"linecolor\":\"white\",\"ticks\":\"\"},\"baxis\":{\"gridcolor\":\"white\",\"linecolor\":\"white\",\"ticks\":\"\"},\"caxis\":{\"gridcolor\":\"white\",\"linecolor\":\"white\",\"ticks\":\"\"}},\"coloraxis\":{\"colorbar\":{\"outlinewidth\":0,\"ticks\":\"\"}},\"colorscale\":{\"sequential\":[[0.0,\"#0d0887\"],[0.1111111111111111,\"#46039f\"],[0.2222222222222222,\"#7201a8\"],[0.3333333333333333,\"#9c179e\"],[0.4444444444444444,\"#bd3786\"],[0.5555555555555556,\"#d8576b\"],[0.6666666666666666,\"#ed7953\"],[0.7777777777777778,\"#fb9f3a\"],[0.8888888888888888,\"#fdca26\"],[1.0,\"#f0f921\"]],\"sequentialminus\":[[0.0,\"#0d0887\"],[0.1111111111111111,\"#46039f\"],[0.2222222222222222,\"#7201a8\"],[0.3333333333333333,\"#9c179e\"],[0.4444444444444444,\"#bd3786\"],[0.5555555555555556,\"#d8576b\"],[0.6666666666666666,\"#ed7953\"],[0.7777777777777778,\"#fb9f3a\"],[0.8888888888888888,\"#fdca26\"],[1.0,\"#f0f921\"]],\"diverging\":[[0,\"#8e0152\"],[0.1,\"#c51b7d\"],[0.2,\"#de77ae\"],[0.3,\"#f1b6da\"],[0.4,\"#fde0ef\"],[0.5,\"#f7f7f7\"],[0.6,\"#e6f5d0\"],[0.7,\"#b8e186\"],[0.8,\"#7fbc41\"],[0.9,\"#4d9221\"],[1,\"#276419\"]]},\"xaxis\":{\"gridcolor\":\"white\",\"linecolor\":\"white\",\"ticks\":\"\",\"title\":{\"standoff\":15},\"zerolinecolor\":\"white\",\"automargin\":true,\"zerolinewidth\":2},\"yaxis\":{\"gridcolor\":\"white\",\"linecolor\":\"white\",\"ticks\":\"\",\"title\":{\"standoff\":15},\"zerolinecolor\":\"white\",\"automargin\":true,\"zerolinewidth\":2},\"scene\":{\"xaxis\":{\"backgroundcolor\":\"#E5ECF6\",\"gridcolor\":\"white\",\"linecolor\":\"white\",\"showbackground\":true,\"ticks\":\"\",\"zerolinecolor\":\"white\",\"gridwidth\":2},\"yaxis\":{\"backgroundcolor\":\"#E5ECF6\",\"gridcolor\":\"white\",\"linecolor\":\"white\",\"showbackground\":true,\"ticks\":\"\",\"zerolinecolor\":\"white\",\"gridwidth\":2},\"zaxis\":{\"backgroundcolor\":\"#E5ECF6\",\"gridcolor\":\"white\",\"linecolor\":\"white\",\"showbackground\":true,\"ticks\":\"\",\"zerolinecolor\":\"white\",\"gridwidth\":2}},\"shapedefaults\":{\"line\":{\"color\":\"#2a3f5f\"}},\"annotationdefaults\":{\"arrowcolor\":\"#2a3f5f\",\"arrowhead\":0,\"arrowwidth\":1},\"geo\":{\"bgcolor\":\"white\",\"landcolor\":\"#E5ECF6\",\"subunitcolor\":\"white\",\"showland\":true,\"showlakes\":true,\"lakecolor\":\"white\"},\"title\":{\"x\":0.05},\"mapbox\":{\"style\":\"light\"}}},\"scene\":{\"domain\":{\"x\":[0.0,1.0],\"y\":[0.0,1.0]},\"xaxis\":{\"title\":{\"text\":\"temperature\"},\"nticks\":6,\"range\":[140,30]},\"yaxis\":{\"title\":{\"text\":\"time\"},\"nticks\":6,\"range\":[45,1]},\"zaxis\":{\"title\":{\"text\":\"mfp\"},\"nticks\":6,\"range\":[0.33,0.66]}},\"legend\":{\"title\":{\"text\":\"round\"},\"tracegroupgap\":0},\"margin\":{\"t\":1,\"l\":0,\"r\":0,\"b\":0},\"title\":{\"text\":\"3D Plot of the Inputs for the Continuous Flow Reaction\",\"y\":0.95,\"x\":0.5,\"xanchor\":\"center\",\"yanchor\":\"top\"}},                        {\"responsive\": true}                    ).then(function(){\n",
       "                            \n",
       "var gd = document.getElementById('a8ffabf0-33ba-4986-a431-280c71f60a7b');\n",
       "var x = new MutationObserver(function (mutations, observer) {{\n",
       "        var display = window.getComputedStyle(gd).display;\n",
       "        if (!display || display === 'none') {{\n",
       "            console.log([gd, 'removed!']);\n",
       "            Plotly.purge(gd);\n",
       "            observer.disconnect();\n",
       "        }}\n",
       "}});\n",
       "\n",
       "// Listen for the removal of the full notebook cells\n",
       "var notebookContainer = gd.closest('#notebook-container');\n",
       "if (notebookContainer) {{\n",
       "    x.observe(notebookContainer, {childList: true});\n",
       "}}\n",
       "\n",
       "// Listen for the clearing of the current output cell\n",
       "var outputEl = gd.closest('.output');\n",
       "if (outputEl) {{\n",
       "    x.observe(outputEl, {childList: true});\n",
       "}}\n",
       "\n",
       "                        })                };                });            </script>        </div>"
      ]
     },
     "metadata": {},
     "output_type": "display_data"
    },
    {
     "name": "stdout",
     "output_type": "stream",
     "text": [
      "iteration 0 already exists\n",
      "iteration 1 already exists\n",
      "iteration 2 already exists\n",
      "iteration 3 already exists\n",
      "iteration 4 already exists\n",
      "iteration 5 already exists\n"
     ]
    },
    {
     "data": {
      "application/vnd.plotly.v1+json": {
       "config": {
        "plotlyServerURL": "https://plot.ly"
       },
       "data": [
        {
         "customdata": [
          [
           17.78
          ],
          [
           15.23
          ],
          [
           13.92
          ],
          [
           13.21
          ],
          [
           77.16
          ],
          [
           21.22
          ],
          [
           56.93
          ],
          [
           87.6
          ],
          [
           70.98
          ],
          [
           67.86
          ],
          [
           81.59
          ],
          [
           41.12
          ],
          [
           9.252
          ],
          [
           85.86
          ],
          [
           26.38
          ],
          [
           62.9
          ],
          [
           32.96
          ],
          [
           66.05
          ],
          [
           51.14
          ],
          [
           86.31
          ],
          [
           1.61
          ],
          [
           1.73
          ],
          [
           8.49
          ],
          [
           6.1
          ],
          [
           5.62
          ],
          [
           73.57
          ],
          [
           62.52
          ],
          [
           10.32
          ],
          [
           90.24
          ],
          [
           77.41
          ],
          [
           69.79
          ]
         ],
         "hovertemplate": "<b>%{hovertext}</b><br><br>Round=Previous<br>temperature=%{x}<br>time=%{y}<br>mfp=%{z}<br>yield=%{customdata[0]}<extra></extra>",
         "hovertext": [
          17.78,
          15.23,
          13.92,
          13.21,
          77.16,
          21.22,
          56.93,
          87.6,
          70.98,
          67.86,
          81.59,
          41.12,
          9.252,
          85.86,
          26.38,
          62.9,
          32.96,
          66.05,
          51.14,
          86.31,
          1.61,
          1.73,
          8.49,
          6.1,
          5.62,
          73.57,
          62.52,
          10.32,
          90.24,
          77.41,
          69.79
         ],
         "legendgroup": "Previous",
         "marker": {
          "color": "#636efa",
          "size": 7,
          "symbol": "circle"
         },
         "mode": "markers",
         "name": "Previous",
         "scene": "scene",
         "showlegend": true,
         "type": "scatter3d",
         "x": [
          85,
          85,
          85,
          85,
          135,
          132,
          123,
          135,
          138,
          138,
          138,
          138,
          135,
          138,
          138,
          135,
          138,
          138,
          138,
          138,
          75,
          51,
          63,
          54,
          45,
          138,
          138,
          138,
          138,
          138,
          138
         ],
         "y": [
          23,
          23,
          23,
          23,
          23,
          3,
          23,
          29,
          13,
          15,
          41,
          5,
          1,
          21,
          3,
          13,
          5,
          15,
          9,
          29,
          3,
          1,
          33,
          41,
          35,
          15,
          13,
          1,
          33,
          23,
          13
         ],
         "z": [
          0.5,
          0.5,
          0.5,
          0.5,
          0.36,
          0.36,
          0.46,
          0.63,
          0.63,
          0.56,
          0.48,
          0.66,
          0.63,
          0.66,
          0.66,
          0.61,
          0.51,
          0.48,
          0.48,
          0.66,
          0.58,
          0.56,
          0.56,
          0.51,
          0.61,
          0.43,
          0.48,
          0.33,
          0.63,
          0.41,
          0.41
         ]
        },
        {
         "customdata": [
          [
           64.76
          ],
          [
           76.14
          ],
          [
           49.38
          ]
         ],
         "hovertemplate": "<b>%{hovertext}</b><br><br>Round=Final Round<br>temperature=%{x}<br>time=%{y}<br>mfp=%{z}<br>yield=%{customdata[0]}<extra></extra>",
         "hovertext": [
          64.76,
          76.14,
          49.38
         ],
         "legendgroup": "Final Round",
         "marker": {
          "color": "#EF553B",
          "size": 7,
          "symbol": "circle"
         },
         "mode": "markers",
         "name": "Final Round",
         "scene": "scene",
         "showlegend": true,
         "type": "scatter3d",
         "x": [
          138,
          138,
          138
         ],
         "y": [
          11,
          19,
          7
         ],
         "z": [
          0.58,
          0.56,
          0.56
         ]
        }
       ],
       "layout": {
        "legend": {
         "title": {
          "text": "Round"
         },
         "tracegroupgap": 0
        },
        "margin": {
         "b": 0,
         "l": 0,
         "r": 0,
         "t": 1
        },
        "scene": {
         "domain": {
          "x": [
           0,
           1
          ],
          "y": [
           0,
           1
          ]
         },
         "xaxis": {
          "nticks": 6,
          "range": [
           140,
           30
          ],
          "title": {
           "text": "temperature"
          }
         },
         "yaxis": {
          "nticks": 6,
          "range": [
           45,
           1
          ],
          "title": {
           "text": "time"
          }
         },
         "zaxis": {
          "nticks": 6,
          "range": [
           0.33,
           0.66
          ],
          "title": {
           "text": "mfp"
          }
         }
        },
        "template": {
         "data": {
          "bar": [
           {
            "error_x": {
             "color": "#2a3f5f"
            },
            "error_y": {
             "color": "#2a3f5f"
            },
            "marker": {
             "line": {
              "color": "#E5ECF6",
              "width": 0.5
             },
             "pattern": {
              "fillmode": "overlay",
              "size": 10,
              "solidity": 0.2
             }
            },
            "type": "bar"
           }
          ],
          "barpolar": [
           {
            "marker": {
             "line": {
              "color": "#E5ECF6",
              "width": 0.5
             },
             "pattern": {
              "fillmode": "overlay",
              "size": 10,
              "solidity": 0.2
             }
            },
            "type": "barpolar"
           }
          ],
          "carpet": [
           {
            "aaxis": {
             "endlinecolor": "#2a3f5f",
             "gridcolor": "white",
             "linecolor": "white",
             "minorgridcolor": "white",
             "startlinecolor": "#2a3f5f"
            },
            "baxis": {
             "endlinecolor": "#2a3f5f",
             "gridcolor": "white",
             "linecolor": "white",
             "minorgridcolor": "white",
             "startlinecolor": "#2a3f5f"
            },
            "type": "carpet"
           }
          ],
          "choropleth": [
           {
            "colorbar": {
             "outlinewidth": 0,
             "ticks": ""
            },
            "type": "choropleth"
           }
          ],
          "contour": [
           {
            "colorbar": {
             "outlinewidth": 0,
             "ticks": ""
            },
            "colorscale": [
             [
              0,
              "#0d0887"
             ],
             [
              0.1111111111111111,
              "#46039f"
             ],
             [
              0.2222222222222222,
              "#7201a8"
             ],
             [
              0.3333333333333333,
              "#9c179e"
             ],
             [
              0.4444444444444444,
              "#bd3786"
             ],
             [
              0.5555555555555556,
              "#d8576b"
             ],
             [
              0.6666666666666666,
              "#ed7953"
             ],
             [
              0.7777777777777778,
              "#fb9f3a"
             ],
             [
              0.8888888888888888,
              "#fdca26"
             ],
             [
              1,
              "#f0f921"
             ]
            ],
            "type": "contour"
           }
          ],
          "contourcarpet": [
           {
            "colorbar": {
             "outlinewidth": 0,
             "ticks": ""
            },
            "type": "contourcarpet"
           }
          ],
          "heatmap": [
           {
            "colorbar": {
             "outlinewidth": 0,
             "ticks": ""
            },
            "colorscale": [
             [
              0,
              "#0d0887"
             ],
             [
              0.1111111111111111,
              "#46039f"
             ],
             [
              0.2222222222222222,
              "#7201a8"
             ],
             [
              0.3333333333333333,
              "#9c179e"
             ],
             [
              0.4444444444444444,
              "#bd3786"
             ],
             [
              0.5555555555555556,
              "#d8576b"
             ],
             [
              0.6666666666666666,
              "#ed7953"
             ],
             [
              0.7777777777777778,
              "#fb9f3a"
             ],
             [
              0.8888888888888888,
              "#fdca26"
             ],
             [
              1,
              "#f0f921"
             ]
            ],
            "type": "heatmap"
           }
          ],
          "heatmapgl": [
           {
            "colorbar": {
             "outlinewidth": 0,
             "ticks": ""
            },
            "colorscale": [
             [
              0,
              "#0d0887"
             ],
             [
              0.1111111111111111,
              "#46039f"
             ],
             [
              0.2222222222222222,
              "#7201a8"
             ],
             [
              0.3333333333333333,
              "#9c179e"
             ],
             [
              0.4444444444444444,
              "#bd3786"
             ],
             [
              0.5555555555555556,
              "#d8576b"
             ],
             [
              0.6666666666666666,
              "#ed7953"
             ],
             [
              0.7777777777777778,
              "#fb9f3a"
             ],
             [
              0.8888888888888888,
              "#fdca26"
             ],
             [
              1,
              "#f0f921"
             ]
            ],
            "type": "heatmapgl"
           }
          ],
          "histogram": [
           {
            "marker": {
             "pattern": {
              "fillmode": "overlay",
              "size": 10,
              "solidity": 0.2
             }
            },
            "type": "histogram"
           }
          ],
          "histogram2d": [
           {
            "colorbar": {
             "outlinewidth": 0,
             "ticks": ""
            },
            "colorscale": [
             [
              0,
              "#0d0887"
             ],
             [
              0.1111111111111111,
              "#46039f"
             ],
             [
              0.2222222222222222,
              "#7201a8"
             ],
             [
              0.3333333333333333,
              "#9c179e"
             ],
             [
              0.4444444444444444,
              "#bd3786"
             ],
             [
              0.5555555555555556,
              "#d8576b"
             ],
             [
              0.6666666666666666,
              "#ed7953"
             ],
             [
              0.7777777777777778,
              "#fb9f3a"
             ],
             [
              0.8888888888888888,
              "#fdca26"
             ],
             [
              1,
              "#f0f921"
             ]
            ],
            "type": "histogram2d"
           }
          ],
          "histogram2dcontour": [
           {
            "colorbar": {
             "outlinewidth": 0,
             "ticks": ""
            },
            "colorscale": [
             [
              0,
              "#0d0887"
             ],
             [
              0.1111111111111111,
              "#46039f"
             ],
             [
              0.2222222222222222,
              "#7201a8"
             ],
             [
              0.3333333333333333,
              "#9c179e"
             ],
             [
              0.4444444444444444,
              "#bd3786"
             ],
             [
              0.5555555555555556,
              "#d8576b"
             ],
             [
              0.6666666666666666,
              "#ed7953"
             ],
             [
              0.7777777777777778,
              "#fb9f3a"
             ],
             [
              0.8888888888888888,
              "#fdca26"
             ],
             [
              1,
              "#f0f921"
             ]
            ],
            "type": "histogram2dcontour"
           }
          ],
          "mesh3d": [
           {
            "colorbar": {
             "outlinewidth": 0,
             "ticks": ""
            },
            "type": "mesh3d"
           }
          ],
          "parcoords": [
           {
            "line": {
             "colorbar": {
              "outlinewidth": 0,
              "ticks": ""
             }
            },
            "type": "parcoords"
           }
          ],
          "pie": [
           {
            "automargin": true,
            "type": "pie"
           }
          ],
          "scatter": [
           {
            "fillpattern": {
             "fillmode": "overlay",
             "size": 10,
             "solidity": 0.2
            },
            "type": "scatter"
           }
          ],
          "scatter3d": [
           {
            "line": {
             "colorbar": {
              "outlinewidth": 0,
              "ticks": ""
             }
            },
            "marker": {
             "colorbar": {
              "outlinewidth": 0,
              "ticks": ""
             }
            },
            "type": "scatter3d"
           }
          ],
          "scattercarpet": [
           {
            "marker": {
             "colorbar": {
              "outlinewidth": 0,
              "ticks": ""
             }
            },
            "type": "scattercarpet"
           }
          ],
          "scattergeo": [
           {
            "marker": {
             "colorbar": {
              "outlinewidth": 0,
              "ticks": ""
             }
            },
            "type": "scattergeo"
           }
          ],
          "scattergl": [
           {
            "marker": {
             "colorbar": {
              "outlinewidth": 0,
              "ticks": ""
             }
            },
            "type": "scattergl"
           }
          ],
          "scattermapbox": [
           {
            "marker": {
             "colorbar": {
              "outlinewidth": 0,
              "ticks": ""
             }
            },
            "type": "scattermapbox"
           }
          ],
          "scatterpolar": [
           {
            "marker": {
             "colorbar": {
              "outlinewidth": 0,
              "ticks": ""
             }
            },
            "type": "scatterpolar"
           }
          ],
          "scatterpolargl": [
           {
            "marker": {
             "colorbar": {
              "outlinewidth": 0,
              "ticks": ""
             }
            },
            "type": "scatterpolargl"
           }
          ],
          "scatterternary": [
           {
            "marker": {
             "colorbar": {
              "outlinewidth": 0,
              "ticks": ""
             }
            },
            "type": "scatterternary"
           }
          ],
          "surface": [
           {
            "colorbar": {
             "outlinewidth": 0,
             "ticks": ""
            },
            "colorscale": [
             [
              0,
              "#0d0887"
             ],
             [
              0.1111111111111111,
              "#46039f"
             ],
             [
              0.2222222222222222,
              "#7201a8"
             ],
             [
              0.3333333333333333,
              "#9c179e"
             ],
             [
              0.4444444444444444,
              "#bd3786"
             ],
             [
              0.5555555555555556,
              "#d8576b"
             ],
             [
              0.6666666666666666,
              "#ed7953"
             ],
             [
              0.7777777777777778,
              "#fb9f3a"
             ],
             [
              0.8888888888888888,
              "#fdca26"
             ],
             [
              1,
              "#f0f921"
             ]
            ],
            "type": "surface"
           }
          ],
          "table": [
           {
            "cells": {
             "fill": {
              "color": "#EBF0F8"
             },
             "line": {
              "color": "white"
             }
            },
            "header": {
             "fill": {
              "color": "#C8D4E3"
             },
             "line": {
              "color": "white"
             }
            },
            "type": "table"
           }
          ]
         },
         "layout": {
          "annotationdefaults": {
           "arrowcolor": "#2a3f5f",
           "arrowhead": 0,
           "arrowwidth": 1
          },
          "autotypenumbers": "strict",
          "coloraxis": {
           "colorbar": {
            "outlinewidth": 0,
            "ticks": ""
           }
          },
          "colorscale": {
           "diverging": [
            [
             0,
             "#8e0152"
            ],
            [
             0.1,
             "#c51b7d"
            ],
            [
             0.2,
             "#de77ae"
            ],
            [
             0.3,
             "#f1b6da"
            ],
            [
             0.4,
             "#fde0ef"
            ],
            [
             0.5,
             "#f7f7f7"
            ],
            [
             0.6,
             "#e6f5d0"
            ],
            [
             0.7,
             "#b8e186"
            ],
            [
             0.8,
             "#7fbc41"
            ],
            [
             0.9,
             "#4d9221"
            ],
            [
             1,
             "#276419"
            ]
           ],
           "sequential": [
            [
             0,
             "#0d0887"
            ],
            [
             0.1111111111111111,
             "#46039f"
            ],
            [
             0.2222222222222222,
             "#7201a8"
            ],
            [
             0.3333333333333333,
             "#9c179e"
            ],
            [
             0.4444444444444444,
             "#bd3786"
            ],
            [
             0.5555555555555556,
             "#d8576b"
            ],
            [
             0.6666666666666666,
             "#ed7953"
            ],
            [
             0.7777777777777778,
             "#fb9f3a"
            ],
            [
             0.8888888888888888,
             "#fdca26"
            ],
            [
             1,
             "#f0f921"
            ]
           ],
           "sequentialminus": [
            [
             0,
             "#0d0887"
            ],
            [
             0.1111111111111111,
             "#46039f"
            ],
            [
             0.2222222222222222,
             "#7201a8"
            ],
            [
             0.3333333333333333,
             "#9c179e"
            ],
            [
             0.4444444444444444,
             "#bd3786"
            ],
            [
             0.5555555555555556,
             "#d8576b"
            ],
            [
             0.6666666666666666,
             "#ed7953"
            ],
            [
             0.7777777777777778,
             "#fb9f3a"
            ],
            [
             0.8888888888888888,
             "#fdca26"
            ],
            [
             1,
             "#f0f921"
            ]
           ]
          },
          "colorway": [
           "#636efa",
           "#EF553B",
           "#00cc96",
           "#ab63fa",
           "#FFA15A",
           "#19d3f3",
           "#FF6692",
           "#B6E880",
           "#FF97FF",
           "#FECB52"
          ],
          "font": {
           "color": "#2a3f5f"
          },
          "geo": {
           "bgcolor": "white",
           "lakecolor": "white",
           "landcolor": "#E5ECF6",
           "showlakes": true,
           "showland": true,
           "subunitcolor": "white"
          },
          "hoverlabel": {
           "align": "left"
          },
          "hovermode": "closest",
          "mapbox": {
           "style": "light"
          },
          "paper_bgcolor": "white",
          "plot_bgcolor": "#E5ECF6",
          "polar": {
           "angularaxis": {
            "gridcolor": "white",
            "linecolor": "white",
            "ticks": ""
           },
           "bgcolor": "#E5ECF6",
           "radialaxis": {
            "gridcolor": "white",
            "linecolor": "white",
            "ticks": ""
           }
          },
          "scene": {
           "xaxis": {
            "backgroundcolor": "#E5ECF6",
            "gridcolor": "white",
            "gridwidth": 2,
            "linecolor": "white",
            "showbackground": true,
            "ticks": "",
            "zerolinecolor": "white"
           },
           "yaxis": {
            "backgroundcolor": "#E5ECF6",
            "gridcolor": "white",
            "gridwidth": 2,
            "linecolor": "white",
            "showbackground": true,
            "ticks": "",
            "zerolinecolor": "white"
           },
           "zaxis": {
            "backgroundcolor": "#E5ECF6",
            "gridcolor": "white",
            "gridwidth": 2,
            "linecolor": "white",
            "showbackground": true,
            "ticks": "",
            "zerolinecolor": "white"
           }
          },
          "shapedefaults": {
           "line": {
            "color": "#2a3f5f"
           }
          },
          "ternary": {
           "aaxis": {
            "gridcolor": "white",
            "linecolor": "white",
            "ticks": ""
           },
           "baxis": {
            "gridcolor": "white",
            "linecolor": "white",
            "ticks": ""
           },
           "bgcolor": "#E5ECF6",
           "caxis": {
            "gridcolor": "white",
            "linecolor": "white",
            "ticks": ""
           }
          },
          "title": {
           "x": 0.05
          },
          "xaxis": {
           "automargin": true,
           "gridcolor": "white",
           "linecolor": "white",
           "ticks": "",
           "title": {
            "standoff": 15
           },
           "zerolinecolor": "white",
           "zerolinewidth": 2
          },
          "yaxis": {
           "automargin": true,
           "gridcolor": "white",
           "linecolor": "white",
           "ticks": "",
           "title": {
            "standoff": 15
           },
           "zerolinecolor": "white",
           "zerolinewidth": 2
          }
         }
        },
        "title": {
         "text": "3D Plot of the Inputs for the Continuous Flow Reaction",
         "x": 0.5,
         "xanchor": "center",
         "y": 0.95,
         "yanchor": "top"
        }
       }
      },
      "text/html": [
       "<div>                            <div id=\"0e35f9f8-280e-4c2c-9623-4e89ecb0bc87\" class=\"plotly-graph-div\" style=\"height:525px; width:100%;\"></div>            <script type=\"text/javascript\">                require([\"plotly\"], function(Plotly) {                    window.PLOTLYENV=window.PLOTLYENV || {};                                    if (document.getElementById(\"0e35f9f8-280e-4c2c-9623-4e89ecb0bc87\")) {                    Plotly.newPlot(                        \"0e35f9f8-280e-4c2c-9623-4e89ecb0bc87\",                        [{\"customdata\":[[17.78],[15.23],[13.92],[13.21],[77.16],[21.22],[56.93],[87.6],[70.98],[67.86],[81.59],[41.12],[9.252],[85.86],[26.38],[62.9],[32.96],[66.05],[51.14],[86.31],[1.61],[1.73],[8.49],[6.1],[5.62],[73.57],[62.52],[10.32],[90.24],[77.41],[69.79]],\"hovertemplate\":\"<b>%{hovertext}</b><br><br>Round=Previous<br>temperature=%{x}<br>time=%{y}<br>mfp=%{z}<br>yield=%{customdata[0]}<extra></extra>\",\"hovertext\":[17.78,15.23,13.92,13.21,77.16,21.22,56.93,87.6,70.98,67.86,81.59,41.12,9.252,85.86,26.38,62.9,32.96,66.05,51.14,86.31,1.61,1.73,8.49,6.1,5.62,73.57,62.52,10.32,90.24,77.41,69.79],\"legendgroup\":\"Previous\",\"marker\":{\"color\":\"#636efa\",\"symbol\":\"circle\",\"size\":7},\"mode\":\"markers\",\"name\":\"Previous\",\"scene\":\"scene\",\"showlegend\":true,\"x\":[85,85,85,85,135,132,123,135,138,138,138,138,135,138,138,135,138,138,138,138,75,51,63,54,45,138,138,138,138,138,138],\"y\":[23,23,23,23,23,3,23,29,13,15,41,5,1,21,3,13,5,15,9,29,3,1,33,41,35,15,13,1,33,23,13],\"z\":[0.5,0.5,0.5,0.5,0.36,0.36,0.46,0.63,0.63,0.56,0.48,0.66,0.63,0.66,0.66,0.61,0.51,0.48,0.48,0.66,0.58,0.56,0.56,0.51,0.61,0.43,0.48,0.33,0.63,0.41,0.41],\"type\":\"scatter3d\"},{\"customdata\":[[64.76],[76.14],[49.38]],\"hovertemplate\":\"<b>%{hovertext}</b><br><br>Round=Final Round<br>temperature=%{x}<br>time=%{y}<br>mfp=%{z}<br>yield=%{customdata[0]}<extra></extra>\",\"hovertext\":[64.76,76.14,49.38],\"legendgroup\":\"Final Round\",\"marker\":{\"color\":\"#EF553B\",\"symbol\":\"circle\",\"size\":7},\"mode\":\"markers\",\"name\":\"Final Round\",\"scene\":\"scene\",\"showlegend\":true,\"x\":[138,138,138],\"y\":[11,19,7],\"z\":[0.58,0.56,0.56],\"type\":\"scatter3d\"}],                        {\"template\":{\"data\":{\"histogram2dcontour\":[{\"type\":\"histogram2dcontour\",\"colorbar\":{\"outlinewidth\":0,\"ticks\":\"\"},\"colorscale\":[[0.0,\"#0d0887\"],[0.1111111111111111,\"#46039f\"],[0.2222222222222222,\"#7201a8\"],[0.3333333333333333,\"#9c179e\"],[0.4444444444444444,\"#bd3786\"],[0.5555555555555556,\"#d8576b\"],[0.6666666666666666,\"#ed7953\"],[0.7777777777777778,\"#fb9f3a\"],[0.8888888888888888,\"#fdca26\"],[1.0,\"#f0f921\"]]}],\"choropleth\":[{\"type\":\"choropleth\",\"colorbar\":{\"outlinewidth\":0,\"ticks\":\"\"}}],\"histogram2d\":[{\"type\":\"histogram2d\",\"colorbar\":{\"outlinewidth\":0,\"ticks\":\"\"},\"colorscale\":[[0.0,\"#0d0887\"],[0.1111111111111111,\"#46039f\"],[0.2222222222222222,\"#7201a8\"],[0.3333333333333333,\"#9c179e\"],[0.4444444444444444,\"#bd3786\"],[0.5555555555555556,\"#d8576b\"],[0.6666666666666666,\"#ed7953\"],[0.7777777777777778,\"#fb9f3a\"],[0.8888888888888888,\"#fdca26\"],[1.0,\"#f0f921\"]]}],\"heatmap\":[{\"type\":\"heatmap\",\"colorbar\":{\"outlinewidth\":0,\"ticks\":\"\"},\"colorscale\":[[0.0,\"#0d0887\"],[0.1111111111111111,\"#46039f\"],[0.2222222222222222,\"#7201a8\"],[0.3333333333333333,\"#9c179e\"],[0.4444444444444444,\"#bd3786\"],[0.5555555555555556,\"#d8576b\"],[0.6666666666666666,\"#ed7953\"],[0.7777777777777778,\"#fb9f3a\"],[0.8888888888888888,\"#fdca26\"],[1.0,\"#f0f921\"]]}],\"heatmapgl\":[{\"type\":\"heatmapgl\",\"colorbar\":{\"outlinewidth\":0,\"ticks\":\"\"},\"colorscale\":[[0.0,\"#0d0887\"],[0.1111111111111111,\"#46039f\"],[0.2222222222222222,\"#7201a8\"],[0.3333333333333333,\"#9c179e\"],[0.4444444444444444,\"#bd3786\"],[0.5555555555555556,\"#d8576b\"],[0.6666666666666666,\"#ed7953\"],[0.7777777777777778,\"#fb9f3a\"],[0.8888888888888888,\"#fdca26\"],[1.0,\"#f0f921\"]]}],\"contourcarpet\":[{\"type\":\"contourcarpet\",\"colorbar\":{\"outlinewidth\":0,\"ticks\":\"\"}}],\"contour\":[{\"type\":\"contour\",\"colorbar\":{\"outlinewidth\":0,\"ticks\":\"\"},\"colorscale\":[[0.0,\"#0d0887\"],[0.1111111111111111,\"#46039f\"],[0.2222222222222222,\"#7201a8\"],[0.3333333333333333,\"#9c179e\"],[0.4444444444444444,\"#bd3786\"],[0.5555555555555556,\"#d8576b\"],[0.6666666666666666,\"#ed7953\"],[0.7777777777777778,\"#fb9f3a\"],[0.8888888888888888,\"#fdca26\"],[1.0,\"#f0f921\"]]}],\"surface\":[{\"type\":\"surface\",\"colorbar\":{\"outlinewidth\":0,\"ticks\":\"\"},\"colorscale\":[[0.0,\"#0d0887\"],[0.1111111111111111,\"#46039f\"],[0.2222222222222222,\"#7201a8\"],[0.3333333333333333,\"#9c179e\"],[0.4444444444444444,\"#bd3786\"],[0.5555555555555556,\"#d8576b\"],[0.6666666666666666,\"#ed7953\"],[0.7777777777777778,\"#fb9f3a\"],[0.8888888888888888,\"#fdca26\"],[1.0,\"#f0f921\"]]}],\"mesh3d\":[{\"type\":\"mesh3d\",\"colorbar\":{\"outlinewidth\":0,\"ticks\":\"\"}}],\"scatter\":[{\"fillpattern\":{\"fillmode\":\"overlay\",\"size\":10,\"solidity\":0.2},\"type\":\"scatter\"}],\"parcoords\":[{\"type\":\"parcoords\",\"line\":{\"colorbar\":{\"outlinewidth\":0,\"ticks\":\"\"}}}],\"scatterpolargl\":[{\"type\":\"scatterpolargl\",\"marker\":{\"colorbar\":{\"outlinewidth\":0,\"ticks\":\"\"}}}],\"bar\":[{\"error_x\":{\"color\":\"#2a3f5f\"},\"error_y\":{\"color\":\"#2a3f5f\"},\"marker\":{\"line\":{\"color\":\"#E5ECF6\",\"width\":0.5},\"pattern\":{\"fillmode\":\"overlay\",\"size\":10,\"solidity\":0.2}},\"type\":\"bar\"}],\"scattergeo\":[{\"type\":\"scattergeo\",\"marker\":{\"colorbar\":{\"outlinewidth\":0,\"ticks\":\"\"}}}],\"scatterpolar\":[{\"type\":\"scatterpolar\",\"marker\":{\"colorbar\":{\"outlinewidth\":0,\"ticks\":\"\"}}}],\"histogram\":[{\"marker\":{\"pattern\":{\"fillmode\":\"overlay\",\"size\":10,\"solidity\":0.2}},\"type\":\"histogram\"}],\"scattergl\":[{\"type\":\"scattergl\",\"marker\":{\"colorbar\":{\"outlinewidth\":0,\"ticks\":\"\"}}}],\"scatter3d\":[{\"type\":\"scatter3d\",\"line\":{\"colorbar\":{\"outlinewidth\":0,\"ticks\":\"\"}},\"marker\":{\"colorbar\":{\"outlinewidth\":0,\"ticks\":\"\"}}}],\"scattermapbox\":[{\"type\":\"scattermapbox\",\"marker\":{\"colorbar\":{\"outlinewidth\":0,\"ticks\":\"\"}}}],\"scatterternary\":[{\"type\":\"scatterternary\",\"marker\":{\"colorbar\":{\"outlinewidth\":0,\"ticks\":\"\"}}}],\"scattercarpet\":[{\"type\":\"scattercarpet\",\"marker\":{\"colorbar\":{\"outlinewidth\":0,\"ticks\":\"\"}}}],\"carpet\":[{\"aaxis\":{\"endlinecolor\":\"#2a3f5f\",\"gridcolor\":\"white\",\"linecolor\":\"white\",\"minorgridcolor\":\"white\",\"startlinecolor\":\"#2a3f5f\"},\"baxis\":{\"endlinecolor\":\"#2a3f5f\",\"gridcolor\":\"white\",\"linecolor\":\"white\",\"minorgridcolor\":\"white\",\"startlinecolor\":\"#2a3f5f\"},\"type\":\"carpet\"}],\"table\":[{\"cells\":{\"fill\":{\"color\":\"#EBF0F8\"},\"line\":{\"color\":\"white\"}},\"header\":{\"fill\":{\"color\":\"#C8D4E3\"},\"line\":{\"color\":\"white\"}},\"type\":\"table\"}],\"barpolar\":[{\"marker\":{\"line\":{\"color\":\"#E5ECF6\",\"width\":0.5},\"pattern\":{\"fillmode\":\"overlay\",\"size\":10,\"solidity\":0.2}},\"type\":\"barpolar\"}],\"pie\":[{\"automargin\":true,\"type\":\"pie\"}]},\"layout\":{\"autotypenumbers\":\"strict\",\"colorway\":[\"#636efa\",\"#EF553B\",\"#00cc96\",\"#ab63fa\",\"#FFA15A\",\"#19d3f3\",\"#FF6692\",\"#B6E880\",\"#FF97FF\",\"#FECB52\"],\"font\":{\"color\":\"#2a3f5f\"},\"hovermode\":\"closest\",\"hoverlabel\":{\"align\":\"left\"},\"paper_bgcolor\":\"white\",\"plot_bgcolor\":\"#E5ECF6\",\"polar\":{\"bgcolor\":\"#E5ECF6\",\"angularaxis\":{\"gridcolor\":\"white\",\"linecolor\":\"white\",\"ticks\":\"\"},\"radialaxis\":{\"gridcolor\":\"white\",\"linecolor\":\"white\",\"ticks\":\"\"}},\"ternary\":{\"bgcolor\":\"#E5ECF6\",\"aaxis\":{\"gridcolor\":\"white\",\"linecolor\":\"white\",\"ticks\":\"\"},\"baxis\":{\"gridcolor\":\"white\",\"linecolor\":\"white\",\"ticks\":\"\"},\"caxis\":{\"gridcolor\":\"white\",\"linecolor\":\"white\",\"ticks\":\"\"}},\"coloraxis\":{\"colorbar\":{\"outlinewidth\":0,\"ticks\":\"\"}},\"colorscale\":{\"sequential\":[[0.0,\"#0d0887\"],[0.1111111111111111,\"#46039f\"],[0.2222222222222222,\"#7201a8\"],[0.3333333333333333,\"#9c179e\"],[0.4444444444444444,\"#bd3786\"],[0.5555555555555556,\"#d8576b\"],[0.6666666666666666,\"#ed7953\"],[0.7777777777777778,\"#fb9f3a\"],[0.8888888888888888,\"#fdca26\"],[1.0,\"#f0f921\"]],\"sequentialminus\":[[0.0,\"#0d0887\"],[0.1111111111111111,\"#46039f\"],[0.2222222222222222,\"#7201a8\"],[0.3333333333333333,\"#9c179e\"],[0.4444444444444444,\"#bd3786\"],[0.5555555555555556,\"#d8576b\"],[0.6666666666666666,\"#ed7953\"],[0.7777777777777778,\"#fb9f3a\"],[0.8888888888888888,\"#fdca26\"],[1.0,\"#f0f921\"]],\"diverging\":[[0,\"#8e0152\"],[0.1,\"#c51b7d\"],[0.2,\"#de77ae\"],[0.3,\"#f1b6da\"],[0.4,\"#fde0ef\"],[0.5,\"#f7f7f7\"],[0.6,\"#e6f5d0\"],[0.7,\"#b8e186\"],[0.8,\"#7fbc41\"],[0.9,\"#4d9221\"],[1,\"#276419\"]]},\"xaxis\":{\"gridcolor\":\"white\",\"linecolor\":\"white\",\"ticks\":\"\",\"title\":{\"standoff\":15},\"zerolinecolor\":\"white\",\"automargin\":true,\"zerolinewidth\":2},\"yaxis\":{\"gridcolor\":\"white\",\"linecolor\":\"white\",\"ticks\":\"\",\"title\":{\"standoff\":15},\"zerolinecolor\":\"white\",\"automargin\":true,\"zerolinewidth\":2},\"scene\":{\"xaxis\":{\"backgroundcolor\":\"#E5ECF6\",\"gridcolor\":\"white\",\"linecolor\":\"white\",\"showbackground\":true,\"ticks\":\"\",\"zerolinecolor\":\"white\",\"gridwidth\":2},\"yaxis\":{\"backgroundcolor\":\"#E5ECF6\",\"gridcolor\":\"white\",\"linecolor\":\"white\",\"showbackground\":true,\"ticks\":\"\",\"zerolinecolor\":\"white\",\"gridwidth\":2},\"zaxis\":{\"backgroundcolor\":\"#E5ECF6\",\"gridcolor\":\"white\",\"linecolor\":\"white\",\"showbackground\":true,\"ticks\":\"\",\"zerolinecolor\":\"white\",\"gridwidth\":2}},\"shapedefaults\":{\"line\":{\"color\":\"#2a3f5f\"}},\"annotationdefaults\":{\"arrowcolor\":\"#2a3f5f\",\"arrowhead\":0,\"arrowwidth\":1},\"geo\":{\"bgcolor\":\"white\",\"landcolor\":\"#E5ECF6\",\"subunitcolor\":\"white\",\"showland\":true,\"showlakes\":true,\"lakecolor\":\"white\"},\"title\":{\"x\":0.05},\"mapbox\":{\"style\":\"light\"}}},\"scene\":{\"domain\":{\"x\":[0.0,1.0],\"y\":[0.0,1.0]},\"xaxis\":{\"title\":{\"text\":\"temperature\"},\"nticks\":6,\"range\":[140,30]},\"yaxis\":{\"title\":{\"text\":\"time\"},\"nticks\":6,\"range\":[45,1]},\"zaxis\":{\"title\":{\"text\":\"mfp\"},\"nticks\":6,\"range\":[0.33,0.66]}},\"legend\":{\"title\":{\"text\":\"Round\"},\"tracegroupgap\":0},\"margin\":{\"t\":1,\"l\":0,\"r\":0,\"b\":0},\"title\":{\"text\":\"3D Plot of the Inputs for the Continuous Flow Reaction\",\"y\":0.95,\"x\":0.5,\"xanchor\":\"center\",\"yanchor\":\"top\"}},                        {\"responsive\": true}                    ).then(function(){\n",
       "                            \n",
       "var gd = document.getElementById('0e35f9f8-280e-4c2c-9623-4e89ecb0bc87');\n",
       "var x = new MutationObserver(function (mutations, observer) {{\n",
       "        var display = window.getComputedStyle(gd).display;\n",
       "        if (!display || display === 'none') {{\n",
       "            console.log([gd, 'removed!']);\n",
       "            Plotly.purge(gd);\n",
       "            observer.disconnect();\n",
       "        }}\n",
       "}});\n",
       "\n",
       "// Listen for the removal of the full notebook cells\n",
       "var notebookContainer = gd.closest('#notebook-container');\n",
       "if (notebookContainer) {{\n",
       "    x.observe(notebookContainer, {childList: true});\n",
       "}}\n",
       "\n",
       "// Listen for the clearing of the current output cell\n",
       "var outputEl = gd.closest('.output');\n",
       "if (outputEl) {{\n",
       "    x.observe(outputEl, {childList: true});\n",
       "}}\n",
       "\n",
       "                        })                };                });            </script>        </div>"
      ]
     },
     "metadata": {},
     "output_type": "display_data"
    },
    {
     "name": "stdout",
     "output_type": "stream",
     "text": [
      "iteration 0 already exists\n",
      "iteration 1 already exists\n",
      "iteration 2 already exists\n",
      "iteration 3 already exists\n",
      "iteration 4 already exists\n",
      "iteration 5 already exists\n",
      "iteration 6 already exists\n",
      "iteration 7 already exists\n",
      "iteration 8 already exists\n",
      "iteration 9 already exists\n",
      "iteration 10 already exists\n",
      "iteration 11 already exists\n",
      "iteration 12 already exists\n",
      "iteration 13 already exists\n",
      "iteration 14 already exists\n",
      "iteration 15 already exists\n",
      "iteration 16 already exists\n",
      "iteration 17 already exists\n",
      "iteration 18 already exists\n"
     ]
    }
   ],
   "source": [
    "#convert csv into df\n",
    "\n",
    "#df of reaction data\n",
    "df = pd.read_csv('reaction.csv')\n",
    "\n",
    "#Create a df to plot points \n",
    "\n",
    "#turn all pending data to NaN\n",
    "df = df.replace('PENDING',pd.NaT)\n",
    "#delete all the NaN data points \n",
    "df = df.dropna(axis=0)\n",
    "\n",
    "\n",
    "#turn data from string to numeric (the pending made them strings)\n",
    "df['production_rate_(g/hr)'] = df['production_rate_(g/hr)'].apply(pd.to_numeric)\n",
    "df['yield'] = df['yield'].apply(pd.to_numeric)\n",
    "#df['round'] = df['round'].apply(pd.to_numeric)\n",
    "df = df.sort_values(by='round', ascending=True)\n",
    "\n",
    "#print(df.iloc[10,6])\n",
    "#length of results\n",
    "results_length = []\n",
    "#loop through all results (-1 means it is a result)\n",
    "for i in range(len(df['priority']==-1)):\n",
    "    results_length.append(i)\n",
    "#max value of yield and production\n",
    "max_value_yield = df['yield'].max()\n",
    "max_value_production_rate = df['production_rate_(g/hr)'].max()\n",
    "\n",
    "#convert to numpy array for plotting in plotly\n",
    "pareto_x = df['yield'].to_numpy()\n",
    "pareto_y =df['production_rate_(g/hr)'].to_numpy()\n",
    "\n",
    "\n",
    "################################\n",
    "fig_3d = px.scatter_3d(data_frame=df, x='temperature', y='time', z='mfp', color = 'round', hover_name = 'yield', hover_data = ['yield'],color_continuous_scale=px.colors.sequential.Greys,color_discrete_sequence= px.colors.sequential.gray_r)\n",
    "fig_3d.update_traces(marker=dict(size=7))\n",
    "fig_3d.update_layout(\n",
    "    scene = dict(\n",
    "        xaxis=dict(nticks=6,range=[140,30]),\n",
    "        yaxis=dict(nticks=6,range=[45,1]),\n",
    "        zaxis=dict(nticks=6,range=[0.33,0.66])\n",
    "    ),\n",
    "    title={\n",
    "        'text': \"3D Plot of the Inputs for the Continuous Flow Reaction\",\n",
    "        'y':0.9,\n",
    "        'x':0.5,\n",
    "        'xanchor': 'center',\n",
    "        'yanchor': 'top'},\n",
    "        title_y=0.95,\n",
    "        margin=dict(l=0,r=0,b=0,t=1)\n",
    "        )   \n",
    "fig_3d.show() \n",
    "\n",
    "fig_3d.write_html(\"plots/3d_plots/final_round/3d_final_round.html\")\n",
    "if not os.path.exists(\"plots/3d_plots/final_round\"):\n",
    "    os.mkdir(\"plots/3d_plots/final_round\")\n",
    "for i in range(0,100):\n",
    "    if not os.path.exists(\"plots/3d_plots/final_round/3d_final_round{}.png\".format(i)):\n",
    "        fig_3d.write_image(\"plots/3d_plots/final_round/3d_final_round{}.png\".format(i))\n",
    "        break\n",
    "    else:\n",
    "        print('iteration {} already exists'.format(i))\n",
    "\n",
    "\n",
    "fig_3d_total = px.scatter_3d(data_frame=df, x='temperature', y='time', z='mfp', color = 'Round', hover_name = 'yield', hover_data = ['yield'],\n",
    ")#color_continuous_scale=px.colors.sequential.Greys,color_discrete_sequence= px.colors.sequential.gray_r)\n",
    "#fig_3d_total.add_trace((go.Scatter(df,x='temperature', y='time',z='mfp', name= 'Current Round',)))\n",
    "fig_3d_total.update_traces(marker=dict(size=7))\n",
    "#fig_3d_total.update_yaxes(range=[1,45])\n",
    "#fig_3d_total.update_xaxes(range=[30,140])\n",
    "fig_3d_total.update_layout(\n",
    "    scene = dict(\n",
    "        xaxis=dict(nticks=6,range=[140,30]),\n",
    "        yaxis=dict(nticks=6,range=[45,1]),\n",
    "        zaxis=dict(nticks=6,range=[0.33,0.66])\n",
    "    ),\n",
    "    title={\n",
    "        'text': \"3D Plot of the Inputs for the Continuous Flow Reaction\",\n",
    "        'y':0.9,\n",
    "        'x':0.5,\n",
    "        'xanchor': 'center',\n",
    "        'yanchor': 'top'},\n",
    "        title_y=0.95,\n",
    "        margin=dict(l=0,r=0,b=0,t=1)\n",
    "        )   \n",
    "fig_3d_total.show() \n",
    "\n",
    "\n",
    "if not os.path.exists(\"plots/3d_plots\"):\n",
    "    os.mkdir(\"plots/3d_plots\")\n",
    "for i in range(0,100):\n",
    "    if not os.path.exists(\"plots/3d_plots/3d_fig{}.png\".format(i)):\n",
    "        fig_3d_total.write_image(\"plots/3d_plots/3d_fig{}.png\".format(i))\n",
    "        break\n",
    "    else:\n",
    "        print('iteration {} already exists'.format(i))"
   ]
  },
  {
   "cell_type": "code",
   "execution_count": 4,
   "metadata": {},
   "outputs": [
    {
     "data": {
      "application/vnd.plotly.v1+json": {
       "config": {
        "plotlyServerURL": "https://plot.ly"
       },
       "data": [
        {
         "customdata": [
          [
           17.78
          ],
          [
           15.23
          ],
          [
           13.92
          ],
          [
           13.21
          ]
         ],
         "hovertemplate": "<b>%{hovertext}</b><br><br>round=0<br>temperature=%{x}<br>time=%{y}<br>mfp=%{z}<br>yield=%{customdata[0]}<extra></extra>",
         "hovertext": [
          17.78,
          15.23,
          13.92,
          13.21
         ],
         "legendgroup": "0",
         "marker": {
          "color": "rgb(254, 254, 253)",
          "size": 7,
          "symbol": "circle"
         },
         "mode": "markers",
         "name": "0",
         "scene": "scene",
         "showlegend": true,
         "type": "scatter3d",
         "x": [
          85,
          85,
          85,
          85
         ],
         "y": [
          23,
          23,
          23,
          23
         ],
         "z": [
          0.5,
          0.5,
          0.5,
          0.5
         ]
        },
        {
         "customdata": [
          [
           77.16
          ],
          [
           21.22
          ],
          [
           56.93
          ]
         ],
         "hovertemplate": "<b>%{hovertext}</b><br><br>round=1<br>temperature=%{x}<br>time=%{y}<br>mfp=%{z}<br>yield=%{customdata[0]}<extra></extra>",
         "hovertext": [
          77.16,
          21.22,
          56.93
         ],
         "legendgroup": "1",
         "marker": {
          "color": "rgb(224, 224, 223)",
          "size": 7,
          "symbol": "circle"
         },
         "mode": "markers",
         "name": "1",
         "scene": "scene",
         "showlegend": true,
         "type": "scatter3d",
         "x": [
          135,
          132,
          123
         ],
         "y": [
          23,
          3,
          23
         ],
         "z": [
          0.36,
          0.36,
          0.46
         ]
        },
        {
         "customdata": [
          [
           87.6
          ],
          [
           70.98
          ],
          [
           67.86
          ]
         ],
         "hovertemplate": "<b>%{hovertext}</b><br><br>round=2<br>temperature=%{x}<br>time=%{y}<br>mfp=%{z}<br>yield=%{customdata[0]}<extra></extra>",
         "hovertext": [
          87.6,
          70.98,
          67.86
         ],
         "legendgroup": "2",
         "marker": {
          "color": "rgb(197, 197, 195)",
          "size": 7,
          "symbol": "circle"
         },
         "mode": "markers",
         "name": "2",
         "scene": "scene",
         "showlegend": true,
         "type": "scatter3d",
         "x": [
          135,
          138,
          138
         ],
         "y": [
          29,
          13,
          15
         ],
         "z": [
          0.63,
          0.63,
          0.56
         ]
        },
        {
         "customdata": [
          [
           81.59
          ],
          [
           41.12
          ],
          [
           9.252
          ]
         ],
         "hovertemplate": "<b>%{hovertext}</b><br><br>round=3<br>temperature=%{x}<br>time=%{y}<br>mfp=%{z}<br>yield=%{customdata[0]}<extra></extra>",
         "hovertext": [
          81.59,
          41.12,
          9.252
         ],
         "legendgroup": "3",
         "marker": {
          "color": "rgb(171, 171, 170)",
          "size": 7,
          "symbol": "circle"
         },
         "mode": "markers",
         "name": "3",
         "scene": "scene",
         "showlegend": true,
         "type": "scatter3d",
         "x": [
          138,
          138,
          135
         ],
         "y": [
          41,
          5,
          1
         ],
         "z": [
          0.48,
          0.66,
          0.63
         ]
        },
        {
         "customdata": [
          [
           85.86
          ],
          [
           26.38
          ],
          [
           62.9
          ]
         ],
         "hovertemplate": "<b>%{hovertext}</b><br><br>round=4<br>temperature=%{x}<br>time=%{y}<br>mfp=%{z}<br>yield=%{customdata[0]}<extra></extra>",
         "hovertext": [
          85.86,
          26.38,
          62.9
         ],
         "legendgroup": "4",
         "marker": {
          "color": "rgb(146, 146, 145)",
          "size": 7,
          "symbol": "circle"
         },
         "mode": "markers",
         "name": "4",
         "scene": "scene",
         "showlegend": true,
         "type": "scatter3d",
         "x": [
          138,
          138,
          135
         ],
         "y": [
          21,
          3,
          13
         ],
         "z": [
          0.66,
          0.66,
          0.61
         ]
        },
        {
         "customdata": [
          [
           32.96
          ],
          [
           66.05
          ],
          [
           51.14
          ]
         ],
         "hovertemplate": "<b>%{hovertext}</b><br><br>round=5<br>temperature=%{x}<br>time=%{y}<br>mfp=%{z}<br>yield=%{customdata[0]}<extra></extra>",
         "hovertext": [
          32.96,
          66.05,
          51.14
         ],
         "legendgroup": "5",
         "marker": {
          "color": "rgb(124, 123, 122)",
          "size": 7,
          "symbol": "circle"
         },
         "mode": "markers",
         "name": "5",
         "scene": "scene",
         "showlegend": true,
         "type": "scatter3d",
         "x": [
          138,
          138,
          138
         ],
         "y": [
          5,
          15,
          9
         ],
         "z": [
          0.51,
          0.48,
          0.48
         ]
        },
        {
         "customdata": [
          [
           86.31
          ],
          [
           1.61
          ],
          [
           1.73
          ]
         ],
         "hovertemplate": "<b>%{hovertext}</b><br><br>round=6<br>temperature=%{x}<br>time=%{y}<br>mfp=%{z}<br>yield=%{customdata[0]}<extra></extra>",
         "hovertext": [
          86.31,
          1.61,
          1.73
         ],
         "legendgroup": "6",
         "marker": {
          "color": "rgb(102, 101, 101)",
          "size": 7,
          "symbol": "circle"
         },
         "mode": "markers",
         "name": "6",
         "scene": "scene",
         "showlegend": true,
         "type": "scatter3d",
         "x": [
          138,
          75,
          51
         ],
         "y": [
          29,
          3,
          1
         ],
         "z": [
          0.66,
          0.58,
          0.56
         ]
        },
        {
         "customdata": [
          [
           8.49
          ],
          [
           6.1
          ],
          [
           5.62
          ]
         ],
         "hovertemplate": "<b>%{hovertext}</b><br><br>round=7<br>temperature=%{x}<br>time=%{y}<br>mfp=%{z}<br>yield=%{customdata[0]}<extra></extra>",
         "hovertext": [
          8.49,
          6.1,
          5.62
         ],
         "legendgroup": "7",
         "marker": {
          "color": "rgb(81, 80, 80)",
          "size": 7,
          "symbol": "circle"
         },
         "mode": "markers",
         "name": "7",
         "scene": "scene",
         "showlegend": true,
         "type": "scatter3d",
         "x": [
          63,
          54,
          45
         ],
         "y": [
          33,
          41,
          35
         ],
         "z": [
          0.56,
          0.51,
          0.61
         ]
        },
        {
         "customdata": [
          [
           73.57
          ],
          [
           62.52
          ],
          [
           10.32
          ]
         ],
         "hovertemplate": "<b>%{hovertext}</b><br><br>round=8<br>temperature=%{x}<br>time=%{y}<br>mfp=%{z}<br>yield=%{customdata[0]}<extra></extra>",
         "hovertext": [
          73.57,
          62.52,
          10.32
         ],
         "legendgroup": "8",
         "marker": {
          "color": "rgb(59, 59, 59)",
          "size": 7,
          "symbol": "circle"
         },
         "mode": "markers",
         "name": "8",
         "scene": "scene",
         "showlegend": true,
         "type": "scatter3d",
         "x": [
          138,
          138,
          138
         ],
         "y": [
          15,
          13,
          1
         ],
         "z": [
          0.43,
          0.48,
          0.33
         ]
        },
        {
         "customdata": [
          [
           90.24
          ],
          [
           77.41
          ],
          [
           69.79
          ]
         ],
         "hovertemplate": "<b>%{hovertext}</b><br><br>round=9<br>temperature=%{x}<br>time=%{y}<br>mfp=%{z}<br>yield=%{customdata[0]}<extra></extra>",
         "hovertext": [
          90.24,
          77.41,
          69.79
         ],
         "legendgroup": "9",
         "marker": {
          "color": "rgb(38, 38, 38)",
          "size": 7,
          "symbol": "circle"
         },
         "mode": "markers",
         "name": "9",
         "scene": "scene",
         "showlegend": true,
         "type": "scatter3d",
         "x": [
          138,
          138,
          138
         ],
         "y": [
          33,
          23,
          13
         ],
         "z": [
          0.63,
          0.41,
          0.41
         ]
        },
        {
         "customdata": [
          [
           64.76
          ],
          [
           76.14
          ],
          [
           49.38
          ]
         ],
         "hovertemplate": "<b>%{hovertext}</b><br><br>round=Final Round<br>temperature=%{x}<br>time=%{y}<br>mfp=%{z}<br>yield=%{customdata[0]}<extra></extra>",
         "hovertext": [
          64.76,
          76.14,
          49.38
         ],
         "legendgroup": "Final Round",
         "marker": {
          "color": "rgb(16, 16, 16)",
          "size": 7,
          "symbol": "circle"
         },
         "mode": "markers",
         "name": "Final Round",
         "scene": "scene",
         "showlegend": true,
         "type": "scatter3d",
         "x": [
          138,
          138,
          138
         ],
         "y": [
          11,
          19,
          7
         ],
         "z": [
          0.58,
          0.56,
          0.56
         ]
        }
       ],
       "layout": {
        "legend": {
         "title": {
          "text": "round"
         },
         "tracegroupgap": 0
        },
        "margin": {
         "b": 0,
         "l": 0,
         "r": 0,
         "t": 1
        },
        "scene": {
         "domain": {
          "x": [
           0,
           1
          ],
          "y": [
           0,
           1
          ]
         },
         "xaxis": {
          "nticks": 6,
          "range": [
           140,
           30
          ],
          "title": {
           "text": "temperature"
          }
         },
         "yaxis": {
          "nticks": 6,
          "range": [
           45,
           1
          ],
          "title": {
           "text": "time"
          }
         },
         "zaxis": {
          "nticks": 6,
          "range": [
           0.33,
           0.66
          ],
          "title": {
           "text": "mfp"
          }
         }
        },
        "template": {
         "data": {
          "bar": [
           {
            "error_x": {
             "color": "#2a3f5f"
            },
            "error_y": {
             "color": "#2a3f5f"
            },
            "marker": {
             "line": {
              "color": "#E5ECF6",
              "width": 0.5
             },
             "pattern": {
              "fillmode": "overlay",
              "size": 10,
              "solidity": 0.2
             }
            },
            "type": "bar"
           }
          ],
          "barpolar": [
           {
            "marker": {
             "line": {
              "color": "#E5ECF6",
              "width": 0.5
             },
             "pattern": {
              "fillmode": "overlay",
              "size": 10,
              "solidity": 0.2
             }
            },
            "type": "barpolar"
           }
          ],
          "carpet": [
           {
            "aaxis": {
             "endlinecolor": "#2a3f5f",
             "gridcolor": "white",
             "linecolor": "white",
             "minorgridcolor": "white",
             "startlinecolor": "#2a3f5f"
            },
            "baxis": {
             "endlinecolor": "#2a3f5f",
             "gridcolor": "white",
             "linecolor": "white",
             "minorgridcolor": "white",
             "startlinecolor": "#2a3f5f"
            },
            "type": "carpet"
           }
          ],
          "choropleth": [
           {
            "colorbar": {
             "outlinewidth": 0,
             "ticks": ""
            },
            "type": "choropleth"
           }
          ],
          "contour": [
           {
            "colorbar": {
             "outlinewidth": 0,
             "ticks": ""
            },
            "colorscale": [
             [
              0,
              "#0d0887"
             ],
             [
              0.1111111111111111,
              "#46039f"
             ],
             [
              0.2222222222222222,
              "#7201a8"
             ],
             [
              0.3333333333333333,
              "#9c179e"
             ],
             [
              0.4444444444444444,
              "#bd3786"
             ],
             [
              0.5555555555555556,
              "#d8576b"
             ],
             [
              0.6666666666666666,
              "#ed7953"
             ],
             [
              0.7777777777777778,
              "#fb9f3a"
             ],
             [
              0.8888888888888888,
              "#fdca26"
             ],
             [
              1,
              "#f0f921"
             ]
            ],
            "type": "contour"
           }
          ],
          "contourcarpet": [
           {
            "colorbar": {
             "outlinewidth": 0,
             "ticks": ""
            },
            "type": "contourcarpet"
           }
          ],
          "heatmap": [
           {
            "colorbar": {
             "outlinewidth": 0,
             "ticks": ""
            },
            "colorscale": [
             [
              0,
              "#0d0887"
             ],
             [
              0.1111111111111111,
              "#46039f"
             ],
             [
              0.2222222222222222,
              "#7201a8"
             ],
             [
              0.3333333333333333,
              "#9c179e"
             ],
             [
              0.4444444444444444,
              "#bd3786"
             ],
             [
              0.5555555555555556,
              "#d8576b"
             ],
             [
              0.6666666666666666,
              "#ed7953"
             ],
             [
              0.7777777777777778,
              "#fb9f3a"
             ],
             [
              0.8888888888888888,
              "#fdca26"
             ],
             [
              1,
              "#f0f921"
             ]
            ],
            "type": "heatmap"
           }
          ],
          "heatmapgl": [
           {
            "colorbar": {
             "outlinewidth": 0,
             "ticks": ""
            },
            "colorscale": [
             [
              0,
              "#0d0887"
             ],
             [
              0.1111111111111111,
              "#46039f"
             ],
             [
              0.2222222222222222,
              "#7201a8"
             ],
             [
              0.3333333333333333,
              "#9c179e"
             ],
             [
              0.4444444444444444,
              "#bd3786"
             ],
             [
              0.5555555555555556,
              "#d8576b"
             ],
             [
              0.6666666666666666,
              "#ed7953"
             ],
             [
              0.7777777777777778,
              "#fb9f3a"
             ],
             [
              0.8888888888888888,
              "#fdca26"
             ],
             [
              1,
              "#f0f921"
             ]
            ],
            "type": "heatmapgl"
           }
          ],
          "histogram": [
           {
            "marker": {
             "pattern": {
              "fillmode": "overlay",
              "size": 10,
              "solidity": 0.2
             }
            },
            "type": "histogram"
           }
          ],
          "histogram2d": [
           {
            "colorbar": {
             "outlinewidth": 0,
             "ticks": ""
            },
            "colorscale": [
             [
              0,
              "#0d0887"
             ],
             [
              0.1111111111111111,
              "#46039f"
             ],
             [
              0.2222222222222222,
              "#7201a8"
             ],
             [
              0.3333333333333333,
              "#9c179e"
             ],
             [
              0.4444444444444444,
              "#bd3786"
             ],
             [
              0.5555555555555556,
              "#d8576b"
             ],
             [
              0.6666666666666666,
              "#ed7953"
             ],
             [
              0.7777777777777778,
              "#fb9f3a"
             ],
             [
              0.8888888888888888,
              "#fdca26"
             ],
             [
              1,
              "#f0f921"
             ]
            ],
            "type": "histogram2d"
           }
          ],
          "histogram2dcontour": [
           {
            "colorbar": {
             "outlinewidth": 0,
             "ticks": ""
            },
            "colorscale": [
             [
              0,
              "#0d0887"
             ],
             [
              0.1111111111111111,
              "#46039f"
             ],
             [
              0.2222222222222222,
              "#7201a8"
             ],
             [
              0.3333333333333333,
              "#9c179e"
             ],
             [
              0.4444444444444444,
              "#bd3786"
             ],
             [
              0.5555555555555556,
              "#d8576b"
             ],
             [
              0.6666666666666666,
              "#ed7953"
             ],
             [
              0.7777777777777778,
              "#fb9f3a"
             ],
             [
              0.8888888888888888,
              "#fdca26"
             ],
             [
              1,
              "#f0f921"
             ]
            ],
            "type": "histogram2dcontour"
           }
          ],
          "mesh3d": [
           {
            "colorbar": {
             "outlinewidth": 0,
             "ticks": ""
            },
            "type": "mesh3d"
           }
          ],
          "parcoords": [
           {
            "line": {
             "colorbar": {
              "outlinewidth": 0,
              "ticks": ""
             }
            },
            "type": "parcoords"
           }
          ],
          "pie": [
           {
            "automargin": true,
            "type": "pie"
           }
          ],
          "scatter": [
           {
            "fillpattern": {
             "fillmode": "overlay",
             "size": 10,
             "solidity": 0.2
            },
            "type": "scatter"
           }
          ],
          "scatter3d": [
           {
            "line": {
             "colorbar": {
              "outlinewidth": 0,
              "ticks": ""
             }
            },
            "marker": {
             "colorbar": {
              "outlinewidth": 0,
              "ticks": ""
             }
            },
            "type": "scatter3d"
           }
          ],
          "scattercarpet": [
           {
            "marker": {
             "colorbar": {
              "outlinewidth": 0,
              "ticks": ""
             }
            },
            "type": "scattercarpet"
           }
          ],
          "scattergeo": [
           {
            "marker": {
             "colorbar": {
              "outlinewidth": 0,
              "ticks": ""
             }
            },
            "type": "scattergeo"
           }
          ],
          "scattergl": [
           {
            "marker": {
             "colorbar": {
              "outlinewidth": 0,
              "ticks": ""
             }
            },
            "type": "scattergl"
           }
          ],
          "scattermapbox": [
           {
            "marker": {
             "colorbar": {
              "outlinewidth": 0,
              "ticks": ""
             }
            },
            "type": "scattermapbox"
           }
          ],
          "scatterpolar": [
           {
            "marker": {
             "colorbar": {
              "outlinewidth": 0,
              "ticks": ""
             }
            },
            "type": "scatterpolar"
           }
          ],
          "scatterpolargl": [
           {
            "marker": {
             "colorbar": {
              "outlinewidth": 0,
              "ticks": ""
             }
            },
            "type": "scatterpolargl"
           }
          ],
          "scatterternary": [
           {
            "marker": {
             "colorbar": {
              "outlinewidth": 0,
              "ticks": ""
             }
            },
            "type": "scatterternary"
           }
          ],
          "surface": [
           {
            "colorbar": {
             "outlinewidth": 0,
             "ticks": ""
            },
            "colorscale": [
             [
              0,
              "#0d0887"
             ],
             [
              0.1111111111111111,
              "#46039f"
             ],
             [
              0.2222222222222222,
              "#7201a8"
             ],
             [
              0.3333333333333333,
              "#9c179e"
             ],
             [
              0.4444444444444444,
              "#bd3786"
             ],
             [
              0.5555555555555556,
              "#d8576b"
             ],
             [
              0.6666666666666666,
              "#ed7953"
             ],
             [
              0.7777777777777778,
              "#fb9f3a"
             ],
             [
              0.8888888888888888,
              "#fdca26"
             ],
             [
              1,
              "#f0f921"
             ]
            ],
            "type": "surface"
           }
          ],
          "table": [
           {
            "cells": {
             "fill": {
              "color": "#EBF0F8"
             },
             "line": {
              "color": "white"
             }
            },
            "header": {
             "fill": {
              "color": "#C8D4E3"
             },
             "line": {
              "color": "white"
             }
            },
            "type": "table"
           }
          ]
         },
         "layout": {
          "annotationdefaults": {
           "arrowcolor": "#2a3f5f",
           "arrowhead": 0,
           "arrowwidth": 1
          },
          "autotypenumbers": "strict",
          "coloraxis": {
           "colorbar": {
            "outlinewidth": 0,
            "ticks": ""
           }
          },
          "colorscale": {
           "diverging": [
            [
             0,
             "#8e0152"
            ],
            [
             0.1,
             "#c51b7d"
            ],
            [
             0.2,
             "#de77ae"
            ],
            [
             0.3,
             "#f1b6da"
            ],
            [
             0.4,
             "#fde0ef"
            ],
            [
             0.5,
             "#f7f7f7"
            ],
            [
             0.6,
             "#e6f5d0"
            ],
            [
             0.7,
             "#b8e186"
            ],
            [
             0.8,
             "#7fbc41"
            ],
            [
             0.9,
             "#4d9221"
            ],
            [
             1,
             "#276419"
            ]
           ],
           "sequential": [
            [
             0,
             "#0d0887"
            ],
            [
             0.1111111111111111,
             "#46039f"
            ],
            [
             0.2222222222222222,
             "#7201a8"
            ],
            [
             0.3333333333333333,
             "#9c179e"
            ],
            [
             0.4444444444444444,
             "#bd3786"
            ],
            [
             0.5555555555555556,
             "#d8576b"
            ],
            [
             0.6666666666666666,
             "#ed7953"
            ],
            [
             0.7777777777777778,
             "#fb9f3a"
            ],
            [
             0.8888888888888888,
             "#fdca26"
            ],
            [
             1,
             "#f0f921"
            ]
           ],
           "sequentialminus": [
            [
             0,
             "#0d0887"
            ],
            [
             0.1111111111111111,
             "#46039f"
            ],
            [
             0.2222222222222222,
             "#7201a8"
            ],
            [
             0.3333333333333333,
             "#9c179e"
            ],
            [
             0.4444444444444444,
             "#bd3786"
            ],
            [
             0.5555555555555556,
             "#d8576b"
            ],
            [
             0.6666666666666666,
             "#ed7953"
            ],
            [
             0.7777777777777778,
             "#fb9f3a"
            ],
            [
             0.8888888888888888,
             "#fdca26"
            ],
            [
             1,
             "#f0f921"
            ]
           ]
          },
          "colorway": [
           "#636efa",
           "#EF553B",
           "#00cc96",
           "#ab63fa",
           "#FFA15A",
           "#19d3f3",
           "#FF6692",
           "#B6E880",
           "#FF97FF",
           "#FECB52"
          ],
          "font": {
           "color": "#2a3f5f"
          },
          "geo": {
           "bgcolor": "white",
           "lakecolor": "white",
           "landcolor": "#E5ECF6",
           "showlakes": true,
           "showland": true,
           "subunitcolor": "white"
          },
          "hoverlabel": {
           "align": "left"
          },
          "hovermode": "closest",
          "mapbox": {
           "style": "light"
          },
          "paper_bgcolor": "white",
          "plot_bgcolor": "#E5ECF6",
          "polar": {
           "angularaxis": {
            "gridcolor": "white",
            "linecolor": "white",
            "ticks": ""
           },
           "bgcolor": "#E5ECF6",
           "radialaxis": {
            "gridcolor": "white",
            "linecolor": "white",
            "ticks": ""
           }
          },
          "scene": {
           "xaxis": {
            "backgroundcolor": "#E5ECF6",
            "gridcolor": "white",
            "gridwidth": 2,
            "linecolor": "white",
            "showbackground": true,
            "ticks": "",
            "zerolinecolor": "white"
           },
           "yaxis": {
            "backgroundcolor": "#E5ECF6",
            "gridcolor": "white",
            "gridwidth": 2,
            "linecolor": "white",
            "showbackground": true,
            "ticks": "",
            "zerolinecolor": "white"
           },
           "zaxis": {
            "backgroundcolor": "#E5ECF6",
            "gridcolor": "white",
            "gridwidth": 2,
            "linecolor": "white",
            "showbackground": true,
            "ticks": "",
            "zerolinecolor": "white"
           }
          },
          "shapedefaults": {
           "line": {
            "color": "#2a3f5f"
           }
          },
          "ternary": {
           "aaxis": {
            "gridcolor": "white",
            "linecolor": "white",
            "ticks": ""
           },
           "baxis": {
            "gridcolor": "white",
            "linecolor": "white",
            "ticks": ""
           },
           "bgcolor": "#E5ECF6",
           "caxis": {
            "gridcolor": "white",
            "linecolor": "white",
            "ticks": ""
           }
          },
          "title": {
           "x": 0.05
          },
          "xaxis": {
           "automargin": true,
           "gridcolor": "white",
           "linecolor": "white",
           "ticks": "",
           "title": {
            "standoff": 15
           },
           "zerolinecolor": "white",
           "zerolinewidth": 2
          },
          "yaxis": {
           "automargin": true,
           "gridcolor": "white",
           "linecolor": "white",
           "ticks": "",
           "title": {
            "standoff": 15
           },
           "zerolinecolor": "white",
           "zerolinewidth": 2
          }
         }
        },
        "title": {
         "text": "3D Plot of the Inputs for the Continuous Flow Reaction",
         "x": 0.5,
         "xanchor": "center",
         "y": 0.95,
         "yanchor": "top"
        }
       }
      },
      "text/html": [
       "<div>                            <div id=\"3e23afa4-c7ea-43cb-8282-d47ce02414a0\" class=\"plotly-graph-div\" style=\"height:525px; width:100%;\"></div>            <script type=\"text/javascript\">                require([\"plotly\"], function(Plotly) {                    window.PLOTLYENV=window.PLOTLYENV || {};                                    if (document.getElementById(\"3e23afa4-c7ea-43cb-8282-d47ce02414a0\")) {                    Plotly.newPlot(                        \"3e23afa4-c7ea-43cb-8282-d47ce02414a0\",                        [{\"customdata\":[[17.78],[15.23],[13.92],[13.21]],\"hovertemplate\":\"<b>%{hovertext}</b><br><br>round=0<br>temperature=%{x}<br>time=%{y}<br>mfp=%{z}<br>yield=%{customdata[0]}<extra></extra>\",\"hovertext\":[17.78,15.23,13.92,13.21],\"legendgroup\":\"0\",\"marker\":{\"color\":\"rgb(254, 254, 253)\",\"symbol\":\"circle\",\"size\":7},\"mode\":\"markers\",\"name\":\"0\",\"scene\":\"scene\",\"showlegend\":true,\"x\":[85,85,85,85],\"y\":[23,23,23,23],\"z\":[0.5,0.5,0.5,0.5],\"type\":\"scatter3d\"},{\"customdata\":[[77.16],[21.22],[56.93]],\"hovertemplate\":\"<b>%{hovertext}</b><br><br>round=1<br>temperature=%{x}<br>time=%{y}<br>mfp=%{z}<br>yield=%{customdata[0]}<extra></extra>\",\"hovertext\":[77.16,21.22,56.93],\"legendgroup\":\"1\",\"marker\":{\"color\":\"rgb(224, 224, 223)\",\"symbol\":\"circle\",\"size\":7},\"mode\":\"markers\",\"name\":\"1\",\"scene\":\"scene\",\"showlegend\":true,\"x\":[135,132,123],\"y\":[23,3,23],\"z\":[0.36,0.36,0.46],\"type\":\"scatter3d\"},{\"customdata\":[[87.6],[70.98],[67.86]],\"hovertemplate\":\"<b>%{hovertext}</b><br><br>round=2<br>temperature=%{x}<br>time=%{y}<br>mfp=%{z}<br>yield=%{customdata[0]}<extra></extra>\",\"hovertext\":[87.6,70.98,67.86],\"legendgroup\":\"2\",\"marker\":{\"color\":\"rgb(197, 197, 195)\",\"symbol\":\"circle\",\"size\":7},\"mode\":\"markers\",\"name\":\"2\",\"scene\":\"scene\",\"showlegend\":true,\"x\":[135,138,138],\"y\":[29,13,15],\"z\":[0.63,0.63,0.56],\"type\":\"scatter3d\"},{\"customdata\":[[81.59],[41.12],[9.252]],\"hovertemplate\":\"<b>%{hovertext}</b><br><br>round=3<br>temperature=%{x}<br>time=%{y}<br>mfp=%{z}<br>yield=%{customdata[0]}<extra></extra>\",\"hovertext\":[81.59,41.12,9.252],\"legendgroup\":\"3\",\"marker\":{\"color\":\"rgb(171, 171, 170)\",\"symbol\":\"circle\",\"size\":7},\"mode\":\"markers\",\"name\":\"3\",\"scene\":\"scene\",\"showlegend\":true,\"x\":[138,138,135],\"y\":[41,5,1],\"z\":[0.48,0.66,0.63],\"type\":\"scatter3d\"},{\"customdata\":[[85.86],[26.38],[62.9]],\"hovertemplate\":\"<b>%{hovertext}</b><br><br>round=4<br>temperature=%{x}<br>time=%{y}<br>mfp=%{z}<br>yield=%{customdata[0]}<extra></extra>\",\"hovertext\":[85.86,26.38,62.9],\"legendgroup\":\"4\",\"marker\":{\"color\":\"rgb(146, 146, 145)\",\"symbol\":\"circle\",\"size\":7},\"mode\":\"markers\",\"name\":\"4\",\"scene\":\"scene\",\"showlegend\":true,\"x\":[138,138,135],\"y\":[21,3,13],\"z\":[0.66,0.66,0.61],\"type\":\"scatter3d\"},{\"customdata\":[[32.96],[66.05],[51.14]],\"hovertemplate\":\"<b>%{hovertext}</b><br><br>round=5<br>temperature=%{x}<br>time=%{y}<br>mfp=%{z}<br>yield=%{customdata[0]}<extra></extra>\",\"hovertext\":[32.96,66.05,51.14],\"legendgroup\":\"5\",\"marker\":{\"color\":\"rgb(124, 123, 122)\",\"symbol\":\"circle\",\"size\":7},\"mode\":\"markers\",\"name\":\"5\",\"scene\":\"scene\",\"showlegend\":true,\"x\":[138,138,138],\"y\":[5,15,9],\"z\":[0.51,0.48,0.48],\"type\":\"scatter3d\"},{\"customdata\":[[86.31],[1.61],[1.73]],\"hovertemplate\":\"<b>%{hovertext}</b><br><br>round=6<br>temperature=%{x}<br>time=%{y}<br>mfp=%{z}<br>yield=%{customdata[0]}<extra></extra>\",\"hovertext\":[86.31,1.61,1.73],\"legendgroup\":\"6\",\"marker\":{\"color\":\"rgb(102, 101, 101)\",\"symbol\":\"circle\",\"size\":7},\"mode\":\"markers\",\"name\":\"6\",\"scene\":\"scene\",\"showlegend\":true,\"x\":[138,75,51],\"y\":[29,3,1],\"z\":[0.66,0.58,0.56],\"type\":\"scatter3d\"},{\"customdata\":[[8.49],[6.1],[5.62]],\"hovertemplate\":\"<b>%{hovertext}</b><br><br>round=7<br>temperature=%{x}<br>time=%{y}<br>mfp=%{z}<br>yield=%{customdata[0]}<extra></extra>\",\"hovertext\":[8.49,6.1,5.62],\"legendgroup\":\"7\",\"marker\":{\"color\":\"rgb(81, 80, 80)\",\"symbol\":\"circle\",\"size\":7},\"mode\":\"markers\",\"name\":\"7\",\"scene\":\"scene\",\"showlegend\":true,\"x\":[63,54,45],\"y\":[33,41,35],\"z\":[0.56,0.51,0.61],\"type\":\"scatter3d\"},{\"customdata\":[[73.57],[62.52],[10.32]],\"hovertemplate\":\"<b>%{hovertext}</b><br><br>round=8<br>temperature=%{x}<br>time=%{y}<br>mfp=%{z}<br>yield=%{customdata[0]}<extra></extra>\",\"hovertext\":[73.57,62.52,10.32],\"legendgroup\":\"8\",\"marker\":{\"color\":\"rgb(59, 59, 59)\",\"symbol\":\"circle\",\"size\":7},\"mode\":\"markers\",\"name\":\"8\",\"scene\":\"scene\",\"showlegend\":true,\"x\":[138,138,138],\"y\":[15,13,1],\"z\":[0.43,0.48,0.33],\"type\":\"scatter3d\"},{\"customdata\":[[90.24],[77.41],[69.79]],\"hovertemplate\":\"<b>%{hovertext}</b><br><br>round=9<br>temperature=%{x}<br>time=%{y}<br>mfp=%{z}<br>yield=%{customdata[0]}<extra></extra>\",\"hovertext\":[90.24,77.41,69.79],\"legendgroup\":\"9\",\"marker\":{\"color\":\"rgb(38, 38, 38)\",\"symbol\":\"circle\",\"size\":7},\"mode\":\"markers\",\"name\":\"9\",\"scene\":\"scene\",\"showlegend\":true,\"x\":[138,138,138],\"y\":[33,23,13],\"z\":[0.63,0.41,0.41],\"type\":\"scatter3d\"},{\"customdata\":[[64.76],[76.14],[49.38]],\"hovertemplate\":\"<b>%{hovertext}</b><br><br>round=Final Round<br>temperature=%{x}<br>time=%{y}<br>mfp=%{z}<br>yield=%{customdata[0]}<extra></extra>\",\"hovertext\":[64.76,76.14,49.38],\"legendgroup\":\"Final Round\",\"marker\":{\"color\":\"rgb(16, 16, 16)\",\"symbol\":\"circle\",\"size\":7},\"mode\":\"markers\",\"name\":\"Final Round\",\"scene\":\"scene\",\"showlegend\":true,\"x\":[138,138,138],\"y\":[11,19,7],\"z\":[0.58,0.56,0.56],\"type\":\"scatter3d\"}],                        {\"template\":{\"data\":{\"histogram2dcontour\":[{\"type\":\"histogram2dcontour\",\"colorbar\":{\"outlinewidth\":0,\"ticks\":\"\"},\"colorscale\":[[0.0,\"#0d0887\"],[0.1111111111111111,\"#46039f\"],[0.2222222222222222,\"#7201a8\"],[0.3333333333333333,\"#9c179e\"],[0.4444444444444444,\"#bd3786\"],[0.5555555555555556,\"#d8576b\"],[0.6666666666666666,\"#ed7953\"],[0.7777777777777778,\"#fb9f3a\"],[0.8888888888888888,\"#fdca26\"],[1.0,\"#f0f921\"]]}],\"choropleth\":[{\"type\":\"choropleth\",\"colorbar\":{\"outlinewidth\":0,\"ticks\":\"\"}}],\"histogram2d\":[{\"type\":\"histogram2d\",\"colorbar\":{\"outlinewidth\":0,\"ticks\":\"\"},\"colorscale\":[[0.0,\"#0d0887\"],[0.1111111111111111,\"#46039f\"],[0.2222222222222222,\"#7201a8\"],[0.3333333333333333,\"#9c179e\"],[0.4444444444444444,\"#bd3786\"],[0.5555555555555556,\"#d8576b\"],[0.6666666666666666,\"#ed7953\"],[0.7777777777777778,\"#fb9f3a\"],[0.8888888888888888,\"#fdca26\"],[1.0,\"#f0f921\"]]}],\"heatmap\":[{\"type\":\"heatmap\",\"colorbar\":{\"outlinewidth\":0,\"ticks\":\"\"},\"colorscale\":[[0.0,\"#0d0887\"],[0.1111111111111111,\"#46039f\"],[0.2222222222222222,\"#7201a8\"],[0.3333333333333333,\"#9c179e\"],[0.4444444444444444,\"#bd3786\"],[0.5555555555555556,\"#d8576b\"],[0.6666666666666666,\"#ed7953\"],[0.7777777777777778,\"#fb9f3a\"],[0.8888888888888888,\"#fdca26\"],[1.0,\"#f0f921\"]]}],\"heatmapgl\":[{\"type\":\"heatmapgl\",\"colorbar\":{\"outlinewidth\":0,\"ticks\":\"\"},\"colorscale\":[[0.0,\"#0d0887\"],[0.1111111111111111,\"#46039f\"],[0.2222222222222222,\"#7201a8\"],[0.3333333333333333,\"#9c179e\"],[0.4444444444444444,\"#bd3786\"],[0.5555555555555556,\"#d8576b\"],[0.6666666666666666,\"#ed7953\"],[0.7777777777777778,\"#fb9f3a\"],[0.8888888888888888,\"#fdca26\"],[1.0,\"#f0f921\"]]}],\"contourcarpet\":[{\"type\":\"contourcarpet\",\"colorbar\":{\"outlinewidth\":0,\"ticks\":\"\"}}],\"contour\":[{\"type\":\"contour\",\"colorbar\":{\"outlinewidth\":0,\"ticks\":\"\"},\"colorscale\":[[0.0,\"#0d0887\"],[0.1111111111111111,\"#46039f\"],[0.2222222222222222,\"#7201a8\"],[0.3333333333333333,\"#9c179e\"],[0.4444444444444444,\"#bd3786\"],[0.5555555555555556,\"#d8576b\"],[0.6666666666666666,\"#ed7953\"],[0.7777777777777778,\"#fb9f3a\"],[0.8888888888888888,\"#fdca26\"],[1.0,\"#f0f921\"]]}],\"surface\":[{\"type\":\"surface\",\"colorbar\":{\"outlinewidth\":0,\"ticks\":\"\"},\"colorscale\":[[0.0,\"#0d0887\"],[0.1111111111111111,\"#46039f\"],[0.2222222222222222,\"#7201a8\"],[0.3333333333333333,\"#9c179e\"],[0.4444444444444444,\"#bd3786\"],[0.5555555555555556,\"#d8576b\"],[0.6666666666666666,\"#ed7953\"],[0.7777777777777778,\"#fb9f3a\"],[0.8888888888888888,\"#fdca26\"],[1.0,\"#f0f921\"]]}],\"mesh3d\":[{\"type\":\"mesh3d\",\"colorbar\":{\"outlinewidth\":0,\"ticks\":\"\"}}],\"scatter\":[{\"fillpattern\":{\"fillmode\":\"overlay\",\"size\":10,\"solidity\":0.2},\"type\":\"scatter\"}],\"parcoords\":[{\"type\":\"parcoords\",\"line\":{\"colorbar\":{\"outlinewidth\":0,\"ticks\":\"\"}}}],\"scatterpolargl\":[{\"type\":\"scatterpolargl\",\"marker\":{\"colorbar\":{\"outlinewidth\":0,\"ticks\":\"\"}}}],\"bar\":[{\"error_x\":{\"color\":\"#2a3f5f\"},\"error_y\":{\"color\":\"#2a3f5f\"},\"marker\":{\"line\":{\"color\":\"#E5ECF6\",\"width\":0.5},\"pattern\":{\"fillmode\":\"overlay\",\"size\":10,\"solidity\":0.2}},\"type\":\"bar\"}],\"scattergeo\":[{\"type\":\"scattergeo\",\"marker\":{\"colorbar\":{\"outlinewidth\":0,\"ticks\":\"\"}}}],\"scatterpolar\":[{\"type\":\"scatterpolar\",\"marker\":{\"colorbar\":{\"outlinewidth\":0,\"ticks\":\"\"}}}],\"histogram\":[{\"marker\":{\"pattern\":{\"fillmode\":\"overlay\",\"size\":10,\"solidity\":0.2}},\"type\":\"histogram\"}],\"scattergl\":[{\"type\":\"scattergl\",\"marker\":{\"colorbar\":{\"outlinewidth\":0,\"ticks\":\"\"}}}],\"scatter3d\":[{\"type\":\"scatter3d\",\"line\":{\"colorbar\":{\"outlinewidth\":0,\"ticks\":\"\"}},\"marker\":{\"colorbar\":{\"outlinewidth\":0,\"ticks\":\"\"}}}],\"scattermapbox\":[{\"type\":\"scattermapbox\",\"marker\":{\"colorbar\":{\"outlinewidth\":0,\"ticks\":\"\"}}}],\"scatterternary\":[{\"type\":\"scatterternary\",\"marker\":{\"colorbar\":{\"outlinewidth\":0,\"ticks\":\"\"}}}],\"scattercarpet\":[{\"type\":\"scattercarpet\",\"marker\":{\"colorbar\":{\"outlinewidth\":0,\"ticks\":\"\"}}}],\"carpet\":[{\"aaxis\":{\"endlinecolor\":\"#2a3f5f\",\"gridcolor\":\"white\",\"linecolor\":\"white\",\"minorgridcolor\":\"white\",\"startlinecolor\":\"#2a3f5f\"},\"baxis\":{\"endlinecolor\":\"#2a3f5f\",\"gridcolor\":\"white\",\"linecolor\":\"white\",\"minorgridcolor\":\"white\",\"startlinecolor\":\"#2a3f5f\"},\"type\":\"carpet\"}],\"table\":[{\"cells\":{\"fill\":{\"color\":\"#EBF0F8\"},\"line\":{\"color\":\"white\"}},\"header\":{\"fill\":{\"color\":\"#C8D4E3\"},\"line\":{\"color\":\"white\"}},\"type\":\"table\"}],\"barpolar\":[{\"marker\":{\"line\":{\"color\":\"#E5ECF6\",\"width\":0.5},\"pattern\":{\"fillmode\":\"overlay\",\"size\":10,\"solidity\":0.2}},\"type\":\"barpolar\"}],\"pie\":[{\"automargin\":true,\"type\":\"pie\"}]},\"layout\":{\"autotypenumbers\":\"strict\",\"colorway\":[\"#636efa\",\"#EF553B\",\"#00cc96\",\"#ab63fa\",\"#FFA15A\",\"#19d3f3\",\"#FF6692\",\"#B6E880\",\"#FF97FF\",\"#FECB52\"],\"font\":{\"color\":\"#2a3f5f\"},\"hovermode\":\"closest\",\"hoverlabel\":{\"align\":\"left\"},\"paper_bgcolor\":\"white\",\"plot_bgcolor\":\"#E5ECF6\",\"polar\":{\"bgcolor\":\"#E5ECF6\",\"angularaxis\":{\"gridcolor\":\"white\",\"linecolor\":\"white\",\"ticks\":\"\"},\"radialaxis\":{\"gridcolor\":\"white\",\"linecolor\":\"white\",\"ticks\":\"\"}},\"ternary\":{\"bgcolor\":\"#E5ECF6\",\"aaxis\":{\"gridcolor\":\"white\",\"linecolor\":\"white\",\"ticks\":\"\"},\"baxis\":{\"gridcolor\":\"white\",\"linecolor\":\"white\",\"ticks\":\"\"},\"caxis\":{\"gridcolor\":\"white\",\"linecolor\":\"white\",\"ticks\":\"\"}},\"coloraxis\":{\"colorbar\":{\"outlinewidth\":0,\"ticks\":\"\"}},\"colorscale\":{\"sequential\":[[0.0,\"#0d0887\"],[0.1111111111111111,\"#46039f\"],[0.2222222222222222,\"#7201a8\"],[0.3333333333333333,\"#9c179e\"],[0.4444444444444444,\"#bd3786\"],[0.5555555555555556,\"#d8576b\"],[0.6666666666666666,\"#ed7953\"],[0.7777777777777778,\"#fb9f3a\"],[0.8888888888888888,\"#fdca26\"],[1.0,\"#f0f921\"]],\"sequentialminus\":[[0.0,\"#0d0887\"],[0.1111111111111111,\"#46039f\"],[0.2222222222222222,\"#7201a8\"],[0.3333333333333333,\"#9c179e\"],[0.4444444444444444,\"#bd3786\"],[0.5555555555555556,\"#d8576b\"],[0.6666666666666666,\"#ed7953\"],[0.7777777777777778,\"#fb9f3a\"],[0.8888888888888888,\"#fdca26\"],[1.0,\"#f0f921\"]],\"diverging\":[[0,\"#8e0152\"],[0.1,\"#c51b7d\"],[0.2,\"#de77ae\"],[0.3,\"#f1b6da\"],[0.4,\"#fde0ef\"],[0.5,\"#f7f7f7\"],[0.6,\"#e6f5d0\"],[0.7,\"#b8e186\"],[0.8,\"#7fbc41\"],[0.9,\"#4d9221\"],[1,\"#276419\"]]},\"xaxis\":{\"gridcolor\":\"white\",\"linecolor\":\"white\",\"ticks\":\"\",\"title\":{\"standoff\":15},\"zerolinecolor\":\"white\",\"automargin\":true,\"zerolinewidth\":2},\"yaxis\":{\"gridcolor\":\"white\",\"linecolor\":\"white\",\"ticks\":\"\",\"title\":{\"standoff\":15},\"zerolinecolor\":\"white\",\"automargin\":true,\"zerolinewidth\":2},\"scene\":{\"xaxis\":{\"backgroundcolor\":\"#E5ECF6\",\"gridcolor\":\"white\",\"linecolor\":\"white\",\"showbackground\":true,\"ticks\":\"\",\"zerolinecolor\":\"white\",\"gridwidth\":2},\"yaxis\":{\"backgroundcolor\":\"#E5ECF6\",\"gridcolor\":\"white\",\"linecolor\":\"white\",\"showbackground\":true,\"ticks\":\"\",\"zerolinecolor\":\"white\",\"gridwidth\":2},\"zaxis\":{\"backgroundcolor\":\"#E5ECF6\",\"gridcolor\":\"white\",\"linecolor\":\"white\",\"showbackground\":true,\"ticks\":\"\",\"zerolinecolor\":\"white\",\"gridwidth\":2}},\"shapedefaults\":{\"line\":{\"color\":\"#2a3f5f\"}},\"annotationdefaults\":{\"arrowcolor\":\"#2a3f5f\",\"arrowhead\":0,\"arrowwidth\":1},\"geo\":{\"bgcolor\":\"white\",\"landcolor\":\"#E5ECF6\",\"subunitcolor\":\"white\",\"showland\":true,\"showlakes\":true,\"lakecolor\":\"white\"},\"title\":{\"x\":0.05},\"mapbox\":{\"style\":\"light\"}}},\"scene\":{\"domain\":{\"x\":[0.0,1.0],\"y\":[0.0,1.0]},\"xaxis\":{\"title\":{\"text\":\"temperature\"},\"nticks\":6,\"range\":[140,30]},\"yaxis\":{\"title\":{\"text\":\"time\"},\"nticks\":6,\"range\":[45,1]},\"zaxis\":{\"title\":{\"text\":\"mfp\"},\"nticks\":6,\"range\":[0.33,0.66]}},\"legend\":{\"title\":{\"text\":\"round\"},\"tracegroupgap\":0},\"margin\":{\"t\":1,\"l\":0,\"r\":0,\"b\":0},\"title\":{\"text\":\"3D Plot of the Inputs for the Continuous Flow Reaction\",\"y\":0.95,\"x\":0.5,\"xanchor\":\"center\",\"yanchor\":\"top\"}},                        {\"responsive\": true}                    ).then(function(){\n",
       "                            \n",
       "var gd = document.getElementById('3e23afa4-c7ea-43cb-8282-d47ce02414a0');\n",
       "var x = new MutationObserver(function (mutations, observer) {{\n",
       "        var display = window.getComputedStyle(gd).display;\n",
       "        if (!display || display === 'none') {{\n",
       "            console.log([gd, 'removed!']);\n",
       "            Plotly.purge(gd);\n",
       "            observer.disconnect();\n",
       "        }}\n",
       "}});\n",
       "\n",
       "// Listen for the removal of the full notebook cells\n",
       "var notebookContainer = gd.closest('#notebook-container');\n",
       "if (notebookContainer) {{\n",
       "    x.observe(notebookContainer, {childList: true});\n",
       "}}\n",
       "\n",
       "// Listen for the clearing of the current output cell\n",
       "var outputEl = gd.closest('.output');\n",
       "if (outputEl) {{\n",
       "    x.observe(outputEl, {childList: true});\n",
       "}}\n",
       "\n",
       "                        })                };                });            </script>        </div>"
      ]
     },
     "metadata": {},
     "output_type": "display_data"
    },
    {
     "name": "stdout",
     "output_type": "stream",
     "text": [
      "iteration 0 already exists\n",
      "iteration 1 already exists\n",
      "iteration 2 already exists\n",
      "iteration 3 already exists\n",
      "iteration 4 already exists\n"
     ]
    },
    {
     "data": {
      "application/vnd.plotly.v1+json": {
       "config": {
        "plotlyServerURL": "https://plot.ly"
       },
       "data": [
        {
         "customdata": [
          [
           17.78
          ],
          [
           15.23
          ],
          [
           13.92
          ],
          [
           13.21
          ],
          [
           77.16
          ],
          [
           21.22
          ],
          [
           56.93
          ],
          [
           87.6
          ],
          [
           70.98
          ],
          [
           67.86
          ],
          [
           81.59
          ],
          [
           41.12
          ],
          [
           9.252
          ],
          [
           85.86
          ],
          [
           26.38
          ],
          [
           62.9
          ],
          [
           32.96
          ],
          [
           66.05
          ],
          [
           51.14
          ],
          [
           86.31
          ],
          [
           1.61
          ],
          [
           1.73
          ],
          [
           8.49
          ],
          [
           6.1
          ],
          [
           5.62
          ],
          [
           73.57
          ],
          [
           62.52
          ],
          [
           10.32
          ],
          [
           90.24
          ],
          [
           77.41
          ],
          [
           69.79
          ]
         ],
         "hovertemplate": "<b>%{hovertext}</b><br><br>Round=Previous<br>temperature=%{x}<br>time=%{y}<br>mfp=%{z}<br>yield=%{customdata[0]}<extra></extra>",
         "hovertext": [
          17.78,
          15.23,
          13.92,
          13.21,
          77.16,
          21.22,
          56.93,
          87.6,
          70.98,
          67.86,
          81.59,
          41.12,
          9.252,
          85.86,
          26.38,
          62.9,
          32.96,
          66.05,
          51.14,
          86.31,
          1.61,
          1.73,
          8.49,
          6.1,
          5.62,
          73.57,
          62.52,
          10.32,
          90.24,
          77.41,
          69.79
         ],
         "legendgroup": "Previous",
         "marker": {
          "color": "#636efa",
          "size": 7,
          "symbol": "circle"
         },
         "mode": "markers",
         "name": "Previous",
         "scene": "scene",
         "showlegend": true,
         "type": "scatter3d",
         "x": [
          85,
          85,
          85,
          85,
          135,
          132,
          123,
          135,
          138,
          138,
          138,
          138,
          135,
          138,
          138,
          135,
          138,
          138,
          138,
          138,
          75,
          51,
          63,
          54,
          45,
          138,
          138,
          138,
          138,
          138,
          138
         ],
         "y": [
          23,
          23,
          23,
          23,
          23,
          3,
          23,
          29,
          13,
          15,
          41,
          5,
          1,
          21,
          3,
          13,
          5,
          15,
          9,
          29,
          3,
          1,
          33,
          41,
          35,
          15,
          13,
          1,
          33,
          23,
          13
         ],
         "z": [
          0.5,
          0.5,
          0.5,
          0.5,
          0.36,
          0.36,
          0.46,
          0.63,
          0.63,
          0.56,
          0.48,
          0.66,
          0.63,
          0.66,
          0.66,
          0.61,
          0.51,
          0.48,
          0.48,
          0.66,
          0.58,
          0.56,
          0.56,
          0.51,
          0.61,
          0.43,
          0.48,
          0.33,
          0.63,
          0.41,
          0.41
         ]
        },
        {
         "customdata": [
          [
           64.76
          ],
          [
           76.14
          ],
          [
           49.38
          ]
         ],
         "hovertemplate": "<b>%{hovertext}</b><br><br>Round=Final Round<br>temperature=%{x}<br>time=%{y}<br>mfp=%{z}<br>yield=%{customdata[0]}<extra></extra>",
         "hovertext": [
          64.76,
          76.14,
          49.38
         ],
         "legendgroup": "Final Round",
         "marker": {
          "color": "#EF553B",
          "size": 7,
          "symbol": "circle"
         },
         "mode": "markers",
         "name": "Final Round",
         "scene": "scene",
         "showlegend": true,
         "type": "scatter3d",
         "x": [
          138,
          138,
          138
         ],
         "y": [
          11,
          19,
          7
         ],
         "z": [
          0.58,
          0.56,
          0.56
         ]
        }
       ],
       "layout": {
        "legend": {
         "title": {
          "text": "Round"
         },
         "tracegroupgap": 0
        },
        "margin": {
         "b": 0,
         "l": 0,
         "r": 0,
         "t": 1
        },
        "scene": {
         "domain": {
          "x": [
           0,
           1
          ],
          "y": [
           0,
           1
          ]
         },
         "xaxis": {
          "nticks": 6,
          "range": [
           140,
           30
          ],
          "title": {
           "text": "temperature"
          }
         },
         "yaxis": {
          "nticks": 6,
          "range": [
           45,
           1
          ],
          "title": {
           "text": "time"
          }
         },
         "zaxis": {
          "nticks": 6,
          "range": [
           0.33,
           0.66
          ],
          "title": {
           "text": "mfp"
          }
         }
        },
        "template": {
         "data": {
          "bar": [
           {
            "error_x": {
             "color": "#2a3f5f"
            },
            "error_y": {
             "color": "#2a3f5f"
            },
            "marker": {
             "line": {
              "color": "#E5ECF6",
              "width": 0.5
             },
             "pattern": {
              "fillmode": "overlay",
              "size": 10,
              "solidity": 0.2
             }
            },
            "type": "bar"
           }
          ],
          "barpolar": [
           {
            "marker": {
             "line": {
              "color": "#E5ECF6",
              "width": 0.5
             },
             "pattern": {
              "fillmode": "overlay",
              "size": 10,
              "solidity": 0.2
             }
            },
            "type": "barpolar"
           }
          ],
          "carpet": [
           {
            "aaxis": {
             "endlinecolor": "#2a3f5f",
             "gridcolor": "white",
             "linecolor": "white",
             "minorgridcolor": "white",
             "startlinecolor": "#2a3f5f"
            },
            "baxis": {
             "endlinecolor": "#2a3f5f",
             "gridcolor": "white",
             "linecolor": "white",
             "minorgridcolor": "white",
             "startlinecolor": "#2a3f5f"
            },
            "type": "carpet"
           }
          ],
          "choropleth": [
           {
            "colorbar": {
             "outlinewidth": 0,
             "ticks": ""
            },
            "type": "choropleth"
           }
          ],
          "contour": [
           {
            "colorbar": {
             "outlinewidth": 0,
             "ticks": ""
            },
            "colorscale": [
             [
              0,
              "#0d0887"
             ],
             [
              0.1111111111111111,
              "#46039f"
             ],
             [
              0.2222222222222222,
              "#7201a8"
             ],
             [
              0.3333333333333333,
              "#9c179e"
             ],
             [
              0.4444444444444444,
              "#bd3786"
             ],
             [
              0.5555555555555556,
              "#d8576b"
             ],
             [
              0.6666666666666666,
              "#ed7953"
             ],
             [
              0.7777777777777778,
              "#fb9f3a"
             ],
             [
              0.8888888888888888,
              "#fdca26"
             ],
             [
              1,
              "#f0f921"
             ]
            ],
            "type": "contour"
           }
          ],
          "contourcarpet": [
           {
            "colorbar": {
             "outlinewidth": 0,
             "ticks": ""
            },
            "type": "contourcarpet"
           }
          ],
          "heatmap": [
           {
            "colorbar": {
             "outlinewidth": 0,
             "ticks": ""
            },
            "colorscale": [
             [
              0,
              "#0d0887"
             ],
             [
              0.1111111111111111,
              "#46039f"
             ],
             [
              0.2222222222222222,
              "#7201a8"
             ],
             [
              0.3333333333333333,
              "#9c179e"
             ],
             [
              0.4444444444444444,
              "#bd3786"
             ],
             [
              0.5555555555555556,
              "#d8576b"
             ],
             [
              0.6666666666666666,
              "#ed7953"
             ],
             [
              0.7777777777777778,
              "#fb9f3a"
             ],
             [
              0.8888888888888888,
              "#fdca26"
             ],
             [
              1,
              "#f0f921"
             ]
            ],
            "type": "heatmap"
           }
          ],
          "heatmapgl": [
           {
            "colorbar": {
             "outlinewidth": 0,
             "ticks": ""
            },
            "colorscale": [
             [
              0,
              "#0d0887"
             ],
             [
              0.1111111111111111,
              "#46039f"
             ],
             [
              0.2222222222222222,
              "#7201a8"
             ],
             [
              0.3333333333333333,
              "#9c179e"
             ],
             [
              0.4444444444444444,
              "#bd3786"
             ],
             [
              0.5555555555555556,
              "#d8576b"
             ],
             [
              0.6666666666666666,
              "#ed7953"
             ],
             [
              0.7777777777777778,
              "#fb9f3a"
             ],
             [
              0.8888888888888888,
              "#fdca26"
             ],
             [
              1,
              "#f0f921"
             ]
            ],
            "type": "heatmapgl"
           }
          ],
          "histogram": [
           {
            "marker": {
             "pattern": {
              "fillmode": "overlay",
              "size": 10,
              "solidity": 0.2
             }
            },
            "type": "histogram"
           }
          ],
          "histogram2d": [
           {
            "colorbar": {
             "outlinewidth": 0,
             "ticks": ""
            },
            "colorscale": [
             [
              0,
              "#0d0887"
             ],
             [
              0.1111111111111111,
              "#46039f"
             ],
             [
              0.2222222222222222,
              "#7201a8"
             ],
             [
              0.3333333333333333,
              "#9c179e"
             ],
             [
              0.4444444444444444,
              "#bd3786"
             ],
             [
              0.5555555555555556,
              "#d8576b"
             ],
             [
              0.6666666666666666,
              "#ed7953"
             ],
             [
              0.7777777777777778,
              "#fb9f3a"
             ],
             [
              0.8888888888888888,
              "#fdca26"
             ],
             [
              1,
              "#f0f921"
             ]
            ],
            "type": "histogram2d"
           }
          ],
          "histogram2dcontour": [
           {
            "colorbar": {
             "outlinewidth": 0,
             "ticks": ""
            },
            "colorscale": [
             [
              0,
              "#0d0887"
             ],
             [
              0.1111111111111111,
              "#46039f"
             ],
             [
              0.2222222222222222,
              "#7201a8"
             ],
             [
              0.3333333333333333,
              "#9c179e"
             ],
             [
              0.4444444444444444,
              "#bd3786"
             ],
             [
              0.5555555555555556,
              "#d8576b"
             ],
             [
              0.6666666666666666,
              "#ed7953"
             ],
             [
              0.7777777777777778,
              "#fb9f3a"
             ],
             [
              0.8888888888888888,
              "#fdca26"
             ],
             [
              1,
              "#f0f921"
             ]
            ],
            "type": "histogram2dcontour"
           }
          ],
          "mesh3d": [
           {
            "colorbar": {
             "outlinewidth": 0,
             "ticks": ""
            },
            "type": "mesh3d"
           }
          ],
          "parcoords": [
           {
            "line": {
             "colorbar": {
              "outlinewidth": 0,
              "ticks": ""
             }
            },
            "type": "parcoords"
           }
          ],
          "pie": [
           {
            "automargin": true,
            "type": "pie"
           }
          ],
          "scatter": [
           {
            "fillpattern": {
             "fillmode": "overlay",
             "size": 10,
             "solidity": 0.2
            },
            "type": "scatter"
           }
          ],
          "scatter3d": [
           {
            "line": {
             "colorbar": {
              "outlinewidth": 0,
              "ticks": ""
             }
            },
            "marker": {
             "colorbar": {
              "outlinewidth": 0,
              "ticks": ""
             }
            },
            "type": "scatter3d"
           }
          ],
          "scattercarpet": [
           {
            "marker": {
             "colorbar": {
              "outlinewidth": 0,
              "ticks": ""
             }
            },
            "type": "scattercarpet"
           }
          ],
          "scattergeo": [
           {
            "marker": {
             "colorbar": {
              "outlinewidth": 0,
              "ticks": ""
             }
            },
            "type": "scattergeo"
           }
          ],
          "scattergl": [
           {
            "marker": {
             "colorbar": {
              "outlinewidth": 0,
              "ticks": ""
             }
            },
            "type": "scattergl"
           }
          ],
          "scattermapbox": [
           {
            "marker": {
             "colorbar": {
              "outlinewidth": 0,
              "ticks": ""
             }
            },
            "type": "scattermapbox"
           }
          ],
          "scatterpolar": [
           {
            "marker": {
             "colorbar": {
              "outlinewidth": 0,
              "ticks": ""
             }
            },
            "type": "scatterpolar"
           }
          ],
          "scatterpolargl": [
           {
            "marker": {
             "colorbar": {
              "outlinewidth": 0,
              "ticks": ""
             }
            },
            "type": "scatterpolargl"
           }
          ],
          "scatterternary": [
           {
            "marker": {
             "colorbar": {
              "outlinewidth": 0,
              "ticks": ""
             }
            },
            "type": "scatterternary"
           }
          ],
          "surface": [
           {
            "colorbar": {
             "outlinewidth": 0,
             "ticks": ""
            },
            "colorscale": [
             [
              0,
              "#0d0887"
             ],
             [
              0.1111111111111111,
              "#46039f"
             ],
             [
              0.2222222222222222,
              "#7201a8"
             ],
             [
              0.3333333333333333,
              "#9c179e"
             ],
             [
              0.4444444444444444,
              "#bd3786"
             ],
             [
              0.5555555555555556,
              "#d8576b"
             ],
             [
              0.6666666666666666,
              "#ed7953"
             ],
             [
              0.7777777777777778,
              "#fb9f3a"
             ],
             [
              0.8888888888888888,
              "#fdca26"
             ],
             [
              1,
              "#f0f921"
             ]
            ],
            "type": "surface"
           }
          ],
          "table": [
           {
            "cells": {
             "fill": {
              "color": "#EBF0F8"
             },
             "line": {
              "color": "white"
             }
            },
            "header": {
             "fill": {
              "color": "#C8D4E3"
             },
             "line": {
              "color": "white"
             }
            },
            "type": "table"
           }
          ]
         },
         "layout": {
          "annotationdefaults": {
           "arrowcolor": "#2a3f5f",
           "arrowhead": 0,
           "arrowwidth": 1
          },
          "autotypenumbers": "strict",
          "coloraxis": {
           "colorbar": {
            "outlinewidth": 0,
            "ticks": ""
           }
          },
          "colorscale": {
           "diverging": [
            [
             0,
             "#8e0152"
            ],
            [
             0.1,
             "#c51b7d"
            ],
            [
             0.2,
             "#de77ae"
            ],
            [
             0.3,
             "#f1b6da"
            ],
            [
             0.4,
             "#fde0ef"
            ],
            [
             0.5,
             "#f7f7f7"
            ],
            [
             0.6,
             "#e6f5d0"
            ],
            [
             0.7,
             "#b8e186"
            ],
            [
             0.8,
             "#7fbc41"
            ],
            [
             0.9,
             "#4d9221"
            ],
            [
             1,
             "#276419"
            ]
           ],
           "sequential": [
            [
             0,
             "#0d0887"
            ],
            [
             0.1111111111111111,
             "#46039f"
            ],
            [
             0.2222222222222222,
             "#7201a8"
            ],
            [
             0.3333333333333333,
             "#9c179e"
            ],
            [
             0.4444444444444444,
             "#bd3786"
            ],
            [
             0.5555555555555556,
             "#d8576b"
            ],
            [
             0.6666666666666666,
             "#ed7953"
            ],
            [
             0.7777777777777778,
             "#fb9f3a"
            ],
            [
             0.8888888888888888,
             "#fdca26"
            ],
            [
             1,
             "#f0f921"
            ]
           ],
           "sequentialminus": [
            [
             0,
             "#0d0887"
            ],
            [
             0.1111111111111111,
             "#46039f"
            ],
            [
             0.2222222222222222,
             "#7201a8"
            ],
            [
             0.3333333333333333,
             "#9c179e"
            ],
            [
             0.4444444444444444,
             "#bd3786"
            ],
            [
             0.5555555555555556,
             "#d8576b"
            ],
            [
             0.6666666666666666,
             "#ed7953"
            ],
            [
             0.7777777777777778,
             "#fb9f3a"
            ],
            [
             0.8888888888888888,
             "#fdca26"
            ],
            [
             1,
             "#f0f921"
            ]
           ]
          },
          "colorway": [
           "#636efa",
           "#EF553B",
           "#00cc96",
           "#ab63fa",
           "#FFA15A",
           "#19d3f3",
           "#FF6692",
           "#B6E880",
           "#FF97FF",
           "#FECB52"
          ],
          "font": {
           "color": "#2a3f5f"
          },
          "geo": {
           "bgcolor": "white",
           "lakecolor": "white",
           "landcolor": "#E5ECF6",
           "showlakes": true,
           "showland": true,
           "subunitcolor": "white"
          },
          "hoverlabel": {
           "align": "left"
          },
          "hovermode": "closest",
          "mapbox": {
           "style": "light"
          },
          "paper_bgcolor": "white",
          "plot_bgcolor": "#E5ECF6",
          "polar": {
           "angularaxis": {
            "gridcolor": "white",
            "linecolor": "white",
            "ticks": ""
           },
           "bgcolor": "#E5ECF6",
           "radialaxis": {
            "gridcolor": "white",
            "linecolor": "white",
            "ticks": ""
           }
          },
          "scene": {
           "xaxis": {
            "backgroundcolor": "#E5ECF6",
            "gridcolor": "white",
            "gridwidth": 2,
            "linecolor": "white",
            "showbackground": true,
            "ticks": "",
            "zerolinecolor": "white"
           },
           "yaxis": {
            "backgroundcolor": "#E5ECF6",
            "gridcolor": "white",
            "gridwidth": 2,
            "linecolor": "white",
            "showbackground": true,
            "ticks": "",
            "zerolinecolor": "white"
           },
           "zaxis": {
            "backgroundcolor": "#E5ECF6",
            "gridcolor": "white",
            "gridwidth": 2,
            "linecolor": "white",
            "showbackground": true,
            "ticks": "",
            "zerolinecolor": "white"
           }
          },
          "shapedefaults": {
           "line": {
            "color": "#2a3f5f"
           }
          },
          "ternary": {
           "aaxis": {
            "gridcolor": "white",
            "linecolor": "white",
            "ticks": ""
           },
           "baxis": {
            "gridcolor": "white",
            "linecolor": "white",
            "ticks": ""
           },
           "bgcolor": "#E5ECF6",
           "caxis": {
            "gridcolor": "white",
            "linecolor": "white",
            "ticks": ""
           }
          },
          "title": {
           "x": 0.05
          },
          "xaxis": {
           "automargin": true,
           "gridcolor": "white",
           "linecolor": "white",
           "ticks": "",
           "title": {
            "standoff": 15
           },
           "zerolinecolor": "white",
           "zerolinewidth": 2
          },
          "yaxis": {
           "automargin": true,
           "gridcolor": "white",
           "linecolor": "white",
           "ticks": "",
           "title": {
            "standoff": 15
           },
           "zerolinecolor": "white",
           "zerolinewidth": 2
          }
         }
        },
        "title": {
         "text": "3D Plot of the Inputs for the Continuous Flow Reaction",
         "x": 0.5,
         "xanchor": "center",
         "y": 0.95,
         "yanchor": "top"
        }
       }
      },
      "text/html": [
       "<div>                            <div id=\"7faeeb91-5828-490d-8ce0-2fa4152f4ba9\" class=\"plotly-graph-div\" style=\"height:525px; width:100%;\"></div>            <script type=\"text/javascript\">                require([\"plotly\"], function(Plotly) {                    window.PLOTLYENV=window.PLOTLYENV || {};                                    if (document.getElementById(\"7faeeb91-5828-490d-8ce0-2fa4152f4ba9\")) {                    Plotly.newPlot(                        \"7faeeb91-5828-490d-8ce0-2fa4152f4ba9\",                        [{\"customdata\":[[17.78],[15.23],[13.92],[13.21],[77.16],[21.22],[56.93],[87.6],[70.98],[67.86],[81.59],[41.12],[9.252],[85.86],[26.38],[62.9],[32.96],[66.05],[51.14],[86.31],[1.61],[1.73],[8.49],[6.1],[5.62],[73.57],[62.52],[10.32],[90.24],[77.41],[69.79]],\"hovertemplate\":\"<b>%{hovertext}</b><br><br>Round=Previous<br>temperature=%{x}<br>time=%{y}<br>mfp=%{z}<br>yield=%{customdata[0]}<extra></extra>\",\"hovertext\":[17.78,15.23,13.92,13.21,77.16,21.22,56.93,87.6,70.98,67.86,81.59,41.12,9.252,85.86,26.38,62.9,32.96,66.05,51.14,86.31,1.61,1.73,8.49,6.1,5.62,73.57,62.52,10.32,90.24,77.41,69.79],\"legendgroup\":\"Previous\",\"marker\":{\"color\":\"#636efa\",\"symbol\":\"circle\",\"size\":7},\"mode\":\"markers\",\"name\":\"Previous\",\"scene\":\"scene\",\"showlegend\":true,\"x\":[85,85,85,85,135,132,123,135,138,138,138,138,135,138,138,135,138,138,138,138,75,51,63,54,45,138,138,138,138,138,138],\"y\":[23,23,23,23,23,3,23,29,13,15,41,5,1,21,3,13,5,15,9,29,3,1,33,41,35,15,13,1,33,23,13],\"z\":[0.5,0.5,0.5,0.5,0.36,0.36,0.46,0.63,0.63,0.56,0.48,0.66,0.63,0.66,0.66,0.61,0.51,0.48,0.48,0.66,0.58,0.56,0.56,0.51,0.61,0.43,0.48,0.33,0.63,0.41,0.41],\"type\":\"scatter3d\"},{\"customdata\":[[64.76],[76.14],[49.38]],\"hovertemplate\":\"<b>%{hovertext}</b><br><br>Round=Final Round<br>temperature=%{x}<br>time=%{y}<br>mfp=%{z}<br>yield=%{customdata[0]}<extra></extra>\",\"hovertext\":[64.76,76.14,49.38],\"legendgroup\":\"Final Round\",\"marker\":{\"color\":\"#EF553B\",\"symbol\":\"circle\",\"size\":7},\"mode\":\"markers\",\"name\":\"Final Round\",\"scene\":\"scene\",\"showlegend\":true,\"x\":[138,138,138],\"y\":[11,19,7],\"z\":[0.58,0.56,0.56],\"type\":\"scatter3d\"}],                        {\"template\":{\"data\":{\"histogram2dcontour\":[{\"type\":\"histogram2dcontour\",\"colorbar\":{\"outlinewidth\":0,\"ticks\":\"\"},\"colorscale\":[[0.0,\"#0d0887\"],[0.1111111111111111,\"#46039f\"],[0.2222222222222222,\"#7201a8\"],[0.3333333333333333,\"#9c179e\"],[0.4444444444444444,\"#bd3786\"],[0.5555555555555556,\"#d8576b\"],[0.6666666666666666,\"#ed7953\"],[0.7777777777777778,\"#fb9f3a\"],[0.8888888888888888,\"#fdca26\"],[1.0,\"#f0f921\"]]}],\"choropleth\":[{\"type\":\"choropleth\",\"colorbar\":{\"outlinewidth\":0,\"ticks\":\"\"}}],\"histogram2d\":[{\"type\":\"histogram2d\",\"colorbar\":{\"outlinewidth\":0,\"ticks\":\"\"},\"colorscale\":[[0.0,\"#0d0887\"],[0.1111111111111111,\"#46039f\"],[0.2222222222222222,\"#7201a8\"],[0.3333333333333333,\"#9c179e\"],[0.4444444444444444,\"#bd3786\"],[0.5555555555555556,\"#d8576b\"],[0.6666666666666666,\"#ed7953\"],[0.7777777777777778,\"#fb9f3a\"],[0.8888888888888888,\"#fdca26\"],[1.0,\"#f0f921\"]]}],\"heatmap\":[{\"type\":\"heatmap\",\"colorbar\":{\"outlinewidth\":0,\"ticks\":\"\"},\"colorscale\":[[0.0,\"#0d0887\"],[0.1111111111111111,\"#46039f\"],[0.2222222222222222,\"#7201a8\"],[0.3333333333333333,\"#9c179e\"],[0.4444444444444444,\"#bd3786\"],[0.5555555555555556,\"#d8576b\"],[0.6666666666666666,\"#ed7953\"],[0.7777777777777778,\"#fb9f3a\"],[0.8888888888888888,\"#fdca26\"],[1.0,\"#f0f921\"]]}],\"heatmapgl\":[{\"type\":\"heatmapgl\",\"colorbar\":{\"outlinewidth\":0,\"ticks\":\"\"},\"colorscale\":[[0.0,\"#0d0887\"],[0.1111111111111111,\"#46039f\"],[0.2222222222222222,\"#7201a8\"],[0.3333333333333333,\"#9c179e\"],[0.4444444444444444,\"#bd3786\"],[0.5555555555555556,\"#d8576b\"],[0.6666666666666666,\"#ed7953\"],[0.7777777777777778,\"#fb9f3a\"],[0.8888888888888888,\"#fdca26\"],[1.0,\"#f0f921\"]]}],\"contourcarpet\":[{\"type\":\"contourcarpet\",\"colorbar\":{\"outlinewidth\":0,\"ticks\":\"\"}}],\"contour\":[{\"type\":\"contour\",\"colorbar\":{\"outlinewidth\":0,\"ticks\":\"\"},\"colorscale\":[[0.0,\"#0d0887\"],[0.1111111111111111,\"#46039f\"],[0.2222222222222222,\"#7201a8\"],[0.3333333333333333,\"#9c179e\"],[0.4444444444444444,\"#bd3786\"],[0.5555555555555556,\"#d8576b\"],[0.6666666666666666,\"#ed7953\"],[0.7777777777777778,\"#fb9f3a\"],[0.8888888888888888,\"#fdca26\"],[1.0,\"#f0f921\"]]}],\"surface\":[{\"type\":\"surface\",\"colorbar\":{\"outlinewidth\":0,\"ticks\":\"\"},\"colorscale\":[[0.0,\"#0d0887\"],[0.1111111111111111,\"#46039f\"],[0.2222222222222222,\"#7201a8\"],[0.3333333333333333,\"#9c179e\"],[0.4444444444444444,\"#bd3786\"],[0.5555555555555556,\"#d8576b\"],[0.6666666666666666,\"#ed7953\"],[0.7777777777777778,\"#fb9f3a\"],[0.8888888888888888,\"#fdca26\"],[1.0,\"#f0f921\"]]}],\"mesh3d\":[{\"type\":\"mesh3d\",\"colorbar\":{\"outlinewidth\":0,\"ticks\":\"\"}}],\"scatter\":[{\"fillpattern\":{\"fillmode\":\"overlay\",\"size\":10,\"solidity\":0.2},\"type\":\"scatter\"}],\"parcoords\":[{\"type\":\"parcoords\",\"line\":{\"colorbar\":{\"outlinewidth\":0,\"ticks\":\"\"}}}],\"scatterpolargl\":[{\"type\":\"scatterpolargl\",\"marker\":{\"colorbar\":{\"outlinewidth\":0,\"ticks\":\"\"}}}],\"bar\":[{\"error_x\":{\"color\":\"#2a3f5f\"},\"error_y\":{\"color\":\"#2a3f5f\"},\"marker\":{\"line\":{\"color\":\"#E5ECF6\",\"width\":0.5},\"pattern\":{\"fillmode\":\"overlay\",\"size\":10,\"solidity\":0.2}},\"type\":\"bar\"}],\"scattergeo\":[{\"type\":\"scattergeo\",\"marker\":{\"colorbar\":{\"outlinewidth\":0,\"ticks\":\"\"}}}],\"scatterpolar\":[{\"type\":\"scatterpolar\",\"marker\":{\"colorbar\":{\"outlinewidth\":0,\"ticks\":\"\"}}}],\"histogram\":[{\"marker\":{\"pattern\":{\"fillmode\":\"overlay\",\"size\":10,\"solidity\":0.2}},\"type\":\"histogram\"}],\"scattergl\":[{\"type\":\"scattergl\",\"marker\":{\"colorbar\":{\"outlinewidth\":0,\"ticks\":\"\"}}}],\"scatter3d\":[{\"type\":\"scatter3d\",\"line\":{\"colorbar\":{\"outlinewidth\":0,\"ticks\":\"\"}},\"marker\":{\"colorbar\":{\"outlinewidth\":0,\"ticks\":\"\"}}}],\"scattermapbox\":[{\"type\":\"scattermapbox\",\"marker\":{\"colorbar\":{\"outlinewidth\":0,\"ticks\":\"\"}}}],\"scatterternary\":[{\"type\":\"scatterternary\",\"marker\":{\"colorbar\":{\"outlinewidth\":0,\"ticks\":\"\"}}}],\"scattercarpet\":[{\"type\":\"scattercarpet\",\"marker\":{\"colorbar\":{\"outlinewidth\":0,\"ticks\":\"\"}}}],\"carpet\":[{\"aaxis\":{\"endlinecolor\":\"#2a3f5f\",\"gridcolor\":\"white\",\"linecolor\":\"white\",\"minorgridcolor\":\"white\",\"startlinecolor\":\"#2a3f5f\"},\"baxis\":{\"endlinecolor\":\"#2a3f5f\",\"gridcolor\":\"white\",\"linecolor\":\"white\",\"minorgridcolor\":\"white\",\"startlinecolor\":\"#2a3f5f\"},\"type\":\"carpet\"}],\"table\":[{\"cells\":{\"fill\":{\"color\":\"#EBF0F8\"},\"line\":{\"color\":\"white\"}},\"header\":{\"fill\":{\"color\":\"#C8D4E3\"},\"line\":{\"color\":\"white\"}},\"type\":\"table\"}],\"barpolar\":[{\"marker\":{\"line\":{\"color\":\"#E5ECF6\",\"width\":0.5},\"pattern\":{\"fillmode\":\"overlay\",\"size\":10,\"solidity\":0.2}},\"type\":\"barpolar\"}],\"pie\":[{\"automargin\":true,\"type\":\"pie\"}]},\"layout\":{\"autotypenumbers\":\"strict\",\"colorway\":[\"#636efa\",\"#EF553B\",\"#00cc96\",\"#ab63fa\",\"#FFA15A\",\"#19d3f3\",\"#FF6692\",\"#B6E880\",\"#FF97FF\",\"#FECB52\"],\"font\":{\"color\":\"#2a3f5f\"},\"hovermode\":\"closest\",\"hoverlabel\":{\"align\":\"left\"},\"paper_bgcolor\":\"white\",\"plot_bgcolor\":\"#E5ECF6\",\"polar\":{\"bgcolor\":\"#E5ECF6\",\"angularaxis\":{\"gridcolor\":\"white\",\"linecolor\":\"white\",\"ticks\":\"\"},\"radialaxis\":{\"gridcolor\":\"white\",\"linecolor\":\"white\",\"ticks\":\"\"}},\"ternary\":{\"bgcolor\":\"#E5ECF6\",\"aaxis\":{\"gridcolor\":\"white\",\"linecolor\":\"white\",\"ticks\":\"\"},\"baxis\":{\"gridcolor\":\"white\",\"linecolor\":\"white\",\"ticks\":\"\"},\"caxis\":{\"gridcolor\":\"white\",\"linecolor\":\"white\",\"ticks\":\"\"}},\"coloraxis\":{\"colorbar\":{\"outlinewidth\":0,\"ticks\":\"\"}},\"colorscale\":{\"sequential\":[[0.0,\"#0d0887\"],[0.1111111111111111,\"#46039f\"],[0.2222222222222222,\"#7201a8\"],[0.3333333333333333,\"#9c179e\"],[0.4444444444444444,\"#bd3786\"],[0.5555555555555556,\"#d8576b\"],[0.6666666666666666,\"#ed7953\"],[0.7777777777777778,\"#fb9f3a\"],[0.8888888888888888,\"#fdca26\"],[1.0,\"#f0f921\"]],\"sequentialminus\":[[0.0,\"#0d0887\"],[0.1111111111111111,\"#46039f\"],[0.2222222222222222,\"#7201a8\"],[0.3333333333333333,\"#9c179e\"],[0.4444444444444444,\"#bd3786\"],[0.5555555555555556,\"#d8576b\"],[0.6666666666666666,\"#ed7953\"],[0.7777777777777778,\"#fb9f3a\"],[0.8888888888888888,\"#fdca26\"],[1.0,\"#f0f921\"]],\"diverging\":[[0,\"#8e0152\"],[0.1,\"#c51b7d\"],[0.2,\"#de77ae\"],[0.3,\"#f1b6da\"],[0.4,\"#fde0ef\"],[0.5,\"#f7f7f7\"],[0.6,\"#e6f5d0\"],[0.7,\"#b8e186\"],[0.8,\"#7fbc41\"],[0.9,\"#4d9221\"],[1,\"#276419\"]]},\"xaxis\":{\"gridcolor\":\"white\",\"linecolor\":\"white\",\"ticks\":\"\",\"title\":{\"standoff\":15},\"zerolinecolor\":\"white\",\"automargin\":true,\"zerolinewidth\":2},\"yaxis\":{\"gridcolor\":\"white\",\"linecolor\":\"white\",\"ticks\":\"\",\"title\":{\"standoff\":15},\"zerolinecolor\":\"white\",\"automargin\":true,\"zerolinewidth\":2},\"scene\":{\"xaxis\":{\"backgroundcolor\":\"#E5ECF6\",\"gridcolor\":\"white\",\"linecolor\":\"white\",\"showbackground\":true,\"ticks\":\"\",\"zerolinecolor\":\"white\",\"gridwidth\":2},\"yaxis\":{\"backgroundcolor\":\"#E5ECF6\",\"gridcolor\":\"white\",\"linecolor\":\"white\",\"showbackground\":true,\"ticks\":\"\",\"zerolinecolor\":\"white\",\"gridwidth\":2},\"zaxis\":{\"backgroundcolor\":\"#E5ECF6\",\"gridcolor\":\"white\",\"linecolor\":\"white\",\"showbackground\":true,\"ticks\":\"\",\"zerolinecolor\":\"white\",\"gridwidth\":2}},\"shapedefaults\":{\"line\":{\"color\":\"#2a3f5f\"}},\"annotationdefaults\":{\"arrowcolor\":\"#2a3f5f\",\"arrowhead\":0,\"arrowwidth\":1},\"geo\":{\"bgcolor\":\"white\",\"landcolor\":\"#E5ECF6\",\"subunitcolor\":\"white\",\"showland\":true,\"showlakes\":true,\"lakecolor\":\"white\"},\"title\":{\"x\":0.05},\"mapbox\":{\"style\":\"light\"}}},\"scene\":{\"domain\":{\"x\":[0.0,1.0],\"y\":[0.0,1.0]},\"xaxis\":{\"title\":{\"text\":\"temperature\"},\"nticks\":6,\"range\":[140,30]},\"yaxis\":{\"title\":{\"text\":\"time\"},\"nticks\":6,\"range\":[45,1]},\"zaxis\":{\"title\":{\"text\":\"mfp\"},\"nticks\":6,\"range\":[0.33,0.66]}},\"legend\":{\"title\":{\"text\":\"Round\"},\"tracegroupgap\":0},\"margin\":{\"t\":1,\"l\":0,\"r\":0,\"b\":0},\"title\":{\"text\":\"3D Plot of the Inputs for the Continuous Flow Reaction\",\"y\":0.95,\"x\":0.5,\"xanchor\":\"center\",\"yanchor\":\"top\"}},                        {\"responsive\": true}                    ).then(function(){\n",
       "                            \n",
       "var gd = document.getElementById('7faeeb91-5828-490d-8ce0-2fa4152f4ba9');\n",
       "var x = new MutationObserver(function (mutations, observer) {{\n",
       "        var display = window.getComputedStyle(gd).display;\n",
       "        if (!display || display === 'none') {{\n",
       "            console.log([gd, 'removed!']);\n",
       "            Plotly.purge(gd);\n",
       "            observer.disconnect();\n",
       "        }}\n",
       "}});\n",
       "\n",
       "// Listen for the removal of the full notebook cells\n",
       "var notebookContainer = gd.closest('#notebook-container');\n",
       "if (notebookContainer) {{\n",
       "    x.observe(notebookContainer, {childList: true});\n",
       "}}\n",
       "\n",
       "// Listen for the clearing of the current output cell\n",
       "var outputEl = gd.closest('.output');\n",
       "if (outputEl) {{\n",
       "    x.observe(outputEl, {childList: true});\n",
       "}}\n",
       "\n",
       "                        })                };                });            </script>        </div>"
      ]
     },
     "metadata": {},
     "output_type": "display_data"
    },
    {
     "name": "stdout",
     "output_type": "stream",
     "text": [
      "iteration 0 already exists\n",
      "iteration 1 already exists\n",
      "iteration 2 already exists\n",
      "iteration 3 already exists\n",
      "iteration 4 already exists\n",
      "iteration 5 already exists\n",
      "iteration 6 already exists\n",
      "iteration 7 already exists\n",
      "iteration 8 already exists\n",
      "iteration 9 already exists\n",
      "iteration 10 already exists\n",
      "iteration 11 already exists\n",
      "iteration 12 already exists\n",
      "iteration 13 already exists\n",
      "iteration 14 already exists\n",
      "iteration 15 already exists\n",
      "iteration 16 already exists\n",
      "iteration 17 already exists\n"
     ]
    },
    {
     "data": {
      "application/vnd.plotly.v1+json": {
       "config": {
        "plotlyServerURL": "https://plot.ly"
       },
       "data": [
        {
         "customdata": [
          [
           17.78
          ],
          [
           15.23
          ],
          [
           13.92
          ],
          [
           13.21
          ],
          [
           77.16
          ],
          [
           21.22
          ],
          [
           56.93
          ],
          [
           87.6
          ],
          [
           70.98
          ],
          [
           67.86
          ],
          [
           81.59
          ],
          [
           41.12
          ],
          [
           9.252
          ],
          [
           85.86
          ],
          [
           26.38
          ],
          [
           62.9
          ],
          [
           32.96
          ],
          [
           66.05
          ],
          [
           51.14
          ],
          [
           86.31
          ],
          [
           1.61
          ],
          [
           1.73
          ],
          [
           8.49
          ],
          [
           6.1
          ],
          [
           5.62
          ],
          [
           73.57
          ],
          [
           62.52
          ],
          [
           10.32
          ],
          [
           90.24
          ],
          [
           77.41
          ],
          [
           69.79
          ],
          [
           64.76
          ],
          [
           76.14
          ],
          [
           49.38
          ]
         ],
         "hovertemplate": "<b>%{hovertext}</b><br><br>temperature=%{x}<br>time=%{y}<br>mfp=%{z}<br>yield=%{marker.color}<extra></extra>",
         "hovertext": [
          17.78,
          15.23,
          13.92,
          13.21,
          77.16,
          21.22,
          56.93,
          87.6,
          70.98,
          67.86,
          81.59,
          41.12,
          9.252,
          85.86,
          26.38,
          62.9,
          32.96,
          66.05,
          51.14,
          86.31,
          1.61,
          1.73,
          8.49,
          6.1,
          5.62,
          73.57,
          62.52,
          10.32,
          90.24,
          77.41,
          69.79,
          64.76,
          76.14,
          49.38
         ],
         "legendgroup": "",
         "marker": {
          "color": [
           17.78,
           15.23,
           13.92,
           13.21,
           77.16,
           21.22,
           56.93,
           87.6,
           70.98,
           67.86,
           81.59,
           41.12,
           9.252,
           85.86,
           26.38,
           62.9,
           32.96,
           66.05,
           51.14,
           86.31,
           1.61,
           1.73,
           8.49,
           6.1,
           5.62,
           73.57,
           62.52,
           10.32,
           90.24,
           77.41,
           69.79,
           64.76,
           76.14,
           49.38
          ],
          "coloraxis": "coloraxis",
          "size": 7,
          "symbol": "circle"
         },
         "mode": "markers",
         "name": "",
         "scene": "scene",
         "showlegend": false,
         "type": "scatter3d",
         "x": [
          85,
          85,
          85,
          85,
          135,
          132,
          123,
          135,
          138,
          138,
          138,
          138,
          135,
          138,
          138,
          135,
          138,
          138,
          138,
          138,
          75,
          51,
          63,
          54,
          45,
          138,
          138,
          138,
          138,
          138,
          138,
          138,
          138,
          138
         ],
         "y": [
          23,
          23,
          23,
          23,
          23,
          3,
          23,
          29,
          13,
          15,
          41,
          5,
          1,
          21,
          3,
          13,
          5,
          15,
          9,
          29,
          3,
          1,
          33,
          41,
          35,
          15,
          13,
          1,
          33,
          23,
          13,
          11,
          19,
          7
         ],
         "z": [
          0.5,
          0.5,
          0.5,
          0.5,
          0.36,
          0.36,
          0.46,
          0.63,
          0.63,
          0.56,
          0.48,
          0.66,
          0.63,
          0.66,
          0.66,
          0.61,
          0.51,
          0.48,
          0.48,
          0.66,
          0.58,
          0.56,
          0.56,
          0.51,
          0.61,
          0.43,
          0.48,
          0.33,
          0.63,
          0.41,
          0.41,
          0.58,
          0.56,
          0.56
         ]
        }
       ],
       "layout": {
        "coloraxis": {
         "colorbar": {
          "title": {
           "text": "yield"
          }
         },
         "colorscale": [
          [
           0,
           "rgb(255,255,255)"
          ],
          [
           0.125,
           "rgb(240,240,240)"
          ],
          [
           0.25,
           "rgb(217,217,217)"
          ],
          [
           0.375,
           "rgb(189,189,189)"
          ],
          [
           0.5,
           "rgb(150,150,150)"
          ],
          [
           0.625,
           "rgb(115,115,115)"
          ],
          [
           0.75,
           "rgb(82,82,82)"
          ],
          [
           0.875,
           "rgb(37,37,37)"
          ],
          [
           1,
           "rgb(0,0,0)"
          ]
         ]
        },
        "legend": {
         "tracegroupgap": 0
        },
        "margin": {
         "b": 0,
         "l": 0,
         "r": 0,
         "t": 1
        },
        "scene": {
         "domain": {
          "x": [
           0,
           1
          ],
          "y": [
           0,
           1
          ]
         },
         "xaxis": {
          "nticks": 6,
          "range": [
           140,
           30
          ],
          "title": {
           "text": "temperature"
          }
         },
         "yaxis": {
          "nticks": 6,
          "range": [
           45,
           1
          ],
          "title": {
           "text": "time"
          }
         },
         "zaxis": {
          "nticks": 6,
          "range": [
           0.33,
           0.66
          ],
          "title": {
           "text": "mfp"
          }
         }
        },
        "template": {
         "data": {
          "bar": [
           {
            "error_x": {
             "color": "#2a3f5f"
            },
            "error_y": {
             "color": "#2a3f5f"
            },
            "marker": {
             "line": {
              "color": "#E5ECF6",
              "width": 0.5
             },
             "pattern": {
              "fillmode": "overlay",
              "size": 10,
              "solidity": 0.2
             }
            },
            "type": "bar"
           }
          ],
          "barpolar": [
           {
            "marker": {
             "line": {
              "color": "#E5ECF6",
              "width": 0.5
             },
             "pattern": {
              "fillmode": "overlay",
              "size": 10,
              "solidity": 0.2
             }
            },
            "type": "barpolar"
           }
          ],
          "carpet": [
           {
            "aaxis": {
             "endlinecolor": "#2a3f5f",
             "gridcolor": "white",
             "linecolor": "white",
             "minorgridcolor": "white",
             "startlinecolor": "#2a3f5f"
            },
            "baxis": {
             "endlinecolor": "#2a3f5f",
             "gridcolor": "white",
             "linecolor": "white",
             "minorgridcolor": "white",
             "startlinecolor": "#2a3f5f"
            },
            "type": "carpet"
           }
          ],
          "choropleth": [
           {
            "colorbar": {
             "outlinewidth": 0,
             "ticks": ""
            },
            "type": "choropleth"
           }
          ],
          "contour": [
           {
            "colorbar": {
             "outlinewidth": 0,
             "ticks": ""
            },
            "colorscale": [
             [
              0,
              "#0d0887"
             ],
             [
              0.1111111111111111,
              "#46039f"
             ],
             [
              0.2222222222222222,
              "#7201a8"
             ],
             [
              0.3333333333333333,
              "#9c179e"
             ],
             [
              0.4444444444444444,
              "#bd3786"
             ],
             [
              0.5555555555555556,
              "#d8576b"
             ],
             [
              0.6666666666666666,
              "#ed7953"
             ],
             [
              0.7777777777777778,
              "#fb9f3a"
             ],
             [
              0.8888888888888888,
              "#fdca26"
             ],
             [
              1,
              "#f0f921"
             ]
            ],
            "type": "contour"
           }
          ],
          "contourcarpet": [
           {
            "colorbar": {
             "outlinewidth": 0,
             "ticks": ""
            },
            "type": "contourcarpet"
           }
          ],
          "heatmap": [
           {
            "colorbar": {
             "outlinewidth": 0,
             "ticks": ""
            },
            "colorscale": [
             [
              0,
              "#0d0887"
             ],
             [
              0.1111111111111111,
              "#46039f"
             ],
             [
              0.2222222222222222,
              "#7201a8"
             ],
             [
              0.3333333333333333,
              "#9c179e"
             ],
             [
              0.4444444444444444,
              "#bd3786"
             ],
             [
              0.5555555555555556,
              "#d8576b"
             ],
             [
              0.6666666666666666,
              "#ed7953"
             ],
             [
              0.7777777777777778,
              "#fb9f3a"
             ],
             [
              0.8888888888888888,
              "#fdca26"
             ],
             [
              1,
              "#f0f921"
             ]
            ],
            "type": "heatmap"
           }
          ],
          "heatmapgl": [
           {
            "colorbar": {
             "outlinewidth": 0,
             "ticks": ""
            },
            "colorscale": [
             [
              0,
              "#0d0887"
             ],
             [
              0.1111111111111111,
              "#46039f"
             ],
             [
              0.2222222222222222,
              "#7201a8"
             ],
             [
              0.3333333333333333,
              "#9c179e"
             ],
             [
              0.4444444444444444,
              "#bd3786"
             ],
             [
              0.5555555555555556,
              "#d8576b"
             ],
             [
              0.6666666666666666,
              "#ed7953"
             ],
             [
              0.7777777777777778,
              "#fb9f3a"
             ],
             [
              0.8888888888888888,
              "#fdca26"
             ],
             [
              1,
              "#f0f921"
             ]
            ],
            "type": "heatmapgl"
           }
          ],
          "histogram": [
           {
            "marker": {
             "pattern": {
              "fillmode": "overlay",
              "size": 10,
              "solidity": 0.2
             }
            },
            "type": "histogram"
           }
          ],
          "histogram2d": [
           {
            "colorbar": {
             "outlinewidth": 0,
             "ticks": ""
            },
            "colorscale": [
             [
              0,
              "#0d0887"
             ],
             [
              0.1111111111111111,
              "#46039f"
             ],
             [
              0.2222222222222222,
              "#7201a8"
             ],
             [
              0.3333333333333333,
              "#9c179e"
             ],
             [
              0.4444444444444444,
              "#bd3786"
             ],
             [
              0.5555555555555556,
              "#d8576b"
             ],
             [
              0.6666666666666666,
              "#ed7953"
             ],
             [
              0.7777777777777778,
              "#fb9f3a"
             ],
             [
              0.8888888888888888,
              "#fdca26"
             ],
             [
              1,
              "#f0f921"
             ]
            ],
            "type": "histogram2d"
           }
          ],
          "histogram2dcontour": [
           {
            "colorbar": {
             "outlinewidth": 0,
             "ticks": ""
            },
            "colorscale": [
             [
              0,
              "#0d0887"
             ],
             [
              0.1111111111111111,
              "#46039f"
             ],
             [
              0.2222222222222222,
              "#7201a8"
             ],
             [
              0.3333333333333333,
              "#9c179e"
             ],
             [
              0.4444444444444444,
              "#bd3786"
             ],
             [
              0.5555555555555556,
              "#d8576b"
             ],
             [
              0.6666666666666666,
              "#ed7953"
             ],
             [
              0.7777777777777778,
              "#fb9f3a"
             ],
             [
              0.8888888888888888,
              "#fdca26"
             ],
             [
              1,
              "#f0f921"
             ]
            ],
            "type": "histogram2dcontour"
           }
          ],
          "mesh3d": [
           {
            "colorbar": {
             "outlinewidth": 0,
             "ticks": ""
            },
            "type": "mesh3d"
           }
          ],
          "parcoords": [
           {
            "line": {
             "colorbar": {
              "outlinewidth": 0,
              "ticks": ""
             }
            },
            "type": "parcoords"
           }
          ],
          "pie": [
           {
            "automargin": true,
            "type": "pie"
           }
          ],
          "scatter": [
           {
            "fillpattern": {
             "fillmode": "overlay",
             "size": 10,
             "solidity": 0.2
            },
            "type": "scatter"
           }
          ],
          "scatter3d": [
           {
            "line": {
             "colorbar": {
              "outlinewidth": 0,
              "ticks": ""
             }
            },
            "marker": {
             "colorbar": {
              "outlinewidth": 0,
              "ticks": ""
             }
            },
            "type": "scatter3d"
           }
          ],
          "scattercarpet": [
           {
            "marker": {
             "colorbar": {
              "outlinewidth": 0,
              "ticks": ""
             }
            },
            "type": "scattercarpet"
           }
          ],
          "scattergeo": [
           {
            "marker": {
             "colorbar": {
              "outlinewidth": 0,
              "ticks": ""
             }
            },
            "type": "scattergeo"
           }
          ],
          "scattergl": [
           {
            "marker": {
             "colorbar": {
              "outlinewidth": 0,
              "ticks": ""
             }
            },
            "type": "scattergl"
           }
          ],
          "scattermapbox": [
           {
            "marker": {
             "colorbar": {
              "outlinewidth": 0,
              "ticks": ""
             }
            },
            "type": "scattermapbox"
           }
          ],
          "scatterpolar": [
           {
            "marker": {
             "colorbar": {
              "outlinewidth": 0,
              "ticks": ""
             }
            },
            "type": "scatterpolar"
           }
          ],
          "scatterpolargl": [
           {
            "marker": {
             "colorbar": {
              "outlinewidth": 0,
              "ticks": ""
             }
            },
            "type": "scatterpolargl"
           }
          ],
          "scatterternary": [
           {
            "marker": {
             "colorbar": {
              "outlinewidth": 0,
              "ticks": ""
             }
            },
            "type": "scatterternary"
           }
          ],
          "surface": [
           {
            "colorbar": {
             "outlinewidth": 0,
             "ticks": ""
            },
            "colorscale": [
             [
              0,
              "#0d0887"
             ],
             [
              0.1111111111111111,
              "#46039f"
             ],
             [
              0.2222222222222222,
              "#7201a8"
             ],
             [
              0.3333333333333333,
              "#9c179e"
             ],
             [
              0.4444444444444444,
              "#bd3786"
             ],
             [
              0.5555555555555556,
              "#d8576b"
             ],
             [
              0.6666666666666666,
              "#ed7953"
             ],
             [
              0.7777777777777778,
              "#fb9f3a"
             ],
             [
              0.8888888888888888,
              "#fdca26"
             ],
             [
              1,
              "#f0f921"
             ]
            ],
            "type": "surface"
           }
          ],
          "table": [
           {
            "cells": {
             "fill": {
              "color": "#EBF0F8"
             },
             "line": {
              "color": "white"
             }
            },
            "header": {
             "fill": {
              "color": "#C8D4E3"
             },
             "line": {
              "color": "white"
             }
            },
            "type": "table"
           }
          ]
         },
         "layout": {
          "annotationdefaults": {
           "arrowcolor": "#2a3f5f",
           "arrowhead": 0,
           "arrowwidth": 1
          },
          "autotypenumbers": "strict",
          "coloraxis": {
           "colorbar": {
            "outlinewidth": 0,
            "ticks": ""
           }
          },
          "colorscale": {
           "diverging": [
            [
             0,
             "#8e0152"
            ],
            [
             0.1,
             "#c51b7d"
            ],
            [
             0.2,
             "#de77ae"
            ],
            [
             0.3,
             "#f1b6da"
            ],
            [
             0.4,
             "#fde0ef"
            ],
            [
             0.5,
             "#f7f7f7"
            ],
            [
             0.6,
             "#e6f5d0"
            ],
            [
             0.7,
             "#b8e186"
            ],
            [
             0.8,
             "#7fbc41"
            ],
            [
             0.9,
             "#4d9221"
            ],
            [
             1,
             "#276419"
            ]
           ],
           "sequential": [
            [
             0,
             "#0d0887"
            ],
            [
             0.1111111111111111,
             "#46039f"
            ],
            [
             0.2222222222222222,
             "#7201a8"
            ],
            [
             0.3333333333333333,
             "#9c179e"
            ],
            [
             0.4444444444444444,
             "#bd3786"
            ],
            [
             0.5555555555555556,
             "#d8576b"
            ],
            [
             0.6666666666666666,
             "#ed7953"
            ],
            [
             0.7777777777777778,
             "#fb9f3a"
            ],
            [
             0.8888888888888888,
             "#fdca26"
            ],
            [
             1,
             "#f0f921"
            ]
           ],
           "sequentialminus": [
            [
             0,
             "#0d0887"
            ],
            [
             0.1111111111111111,
             "#46039f"
            ],
            [
             0.2222222222222222,
             "#7201a8"
            ],
            [
             0.3333333333333333,
             "#9c179e"
            ],
            [
             0.4444444444444444,
             "#bd3786"
            ],
            [
             0.5555555555555556,
             "#d8576b"
            ],
            [
             0.6666666666666666,
             "#ed7953"
            ],
            [
             0.7777777777777778,
             "#fb9f3a"
            ],
            [
             0.8888888888888888,
             "#fdca26"
            ],
            [
             1,
             "#f0f921"
            ]
           ]
          },
          "colorway": [
           "#636efa",
           "#EF553B",
           "#00cc96",
           "#ab63fa",
           "#FFA15A",
           "#19d3f3",
           "#FF6692",
           "#B6E880",
           "#FF97FF",
           "#FECB52"
          ],
          "font": {
           "color": "#2a3f5f"
          },
          "geo": {
           "bgcolor": "white",
           "lakecolor": "white",
           "landcolor": "#E5ECF6",
           "showlakes": true,
           "showland": true,
           "subunitcolor": "white"
          },
          "hoverlabel": {
           "align": "left"
          },
          "hovermode": "closest",
          "mapbox": {
           "style": "light"
          },
          "paper_bgcolor": "white",
          "plot_bgcolor": "#E5ECF6",
          "polar": {
           "angularaxis": {
            "gridcolor": "white",
            "linecolor": "white",
            "ticks": ""
           },
           "bgcolor": "#E5ECF6",
           "radialaxis": {
            "gridcolor": "white",
            "linecolor": "white",
            "ticks": ""
           }
          },
          "scene": {
           "xaxis": {
            "backgroundcolor": "#E5ECF6",
            "gridcolor": "white",
            "gridwidth": 2,
            "linecolor": "white",
            "showbackground": true,
            "ticks": "",
            "zerolinecolor": "white"
           },
           "yaxis": {
            "backgroundcolor": "#E5ECF6",
            "gridcolor": "white",
            "gridwidth": 2,
            "linecolor": "white",
            "showbackground": true,
            "ticks": "",
            "zerolinecolor": "white"
           },
           "zaxis": {
            "backgroundcolor": "#E5ECF6",
            "gridcolor": "white",
            "gridwidth": 2,
            "linecolor": "white",
            "showbackground": true,
            "ticks": "",
            "zerolinecolor": "white"
           }
          },
          "shapedefaults": {
           "line": {
            "color": "#2a3f5f"
           }
          },
          "ternary": {
           "aaxis": {
            "gridcolor": "white",
            "linecolor": "white",
            "ticks": ""
           },
           "baxis": {
            "gridcolor": "white",
            "linecolor": "white",
            "ticks": ""
           },
           "bgcolor": "#E5ECF6",
           "caxis": {
            "gridcolor": "white",
            "linecolor": "white",
            "ticks": ""
           }
          },
          "title": {
           "x": 0.05
          },
          "xaxis": {
           "automargin": true,
           "gridcolor": "white",
           "linecolor": "white",
           "ticks": "",
           "title": {
            "standoff": 15
           },
           "zerolinecolor": "white",
           "zerolinewidth": 2
          },
          "yaxis": {
           "automargin": true,
           "gridcolor": "white",
           "linecolor": "white",
           "ticks": "",
           "title": {
            "standoff": 15
           },
           "zerolinecolor": "white",
           "zerolinewidth": 2
          }
         }
        },
        "title": {
         "text": "3D Plot of the Inputs for the Continuous Flow Reaction",
         "x": 0.5,
         "xanchor": "center",
         "y": 0.95,
         "yanchor": "top"
        }
       }
      },
      "text/html": [
       "<div>                            <div id=\"c97a1aba-df7e-434b-9b0a-d8c63e498fcf\" class=\"plotly-graph-div\" style=\"height:525px; width:100%;\"></div>            <script type=\"text/javascript\">                require([\"plotly\"], function(Plotly) {                    window.PLOTLYENV=window.PLOTLYENV || {};                                    if (document.getElementById(\"c97a1aba-df7e-434b-9b0a-d8c63e498fcf\")) {                    Plotly.newPlot(                        \"c97a1aba-df7e-434b-9b0a-d8c63e498fcf\",                        [{\"customdata\":[[17.78],[15.23],[13.92],[13.21],[77.16],[21.22],[56.93],[87.6],[70.98],[67.86],[81.59],[41.12],[9.252],[85.86],[26.38],[62.9],[32.96],[66.05],[51.14],[86.31],[1.61],[1.73],[8.49],[6.1],[5.62],[73.57],[62.52],[10.32],[90.24],[77.41],[69.79],[64.76],[76.14],[49.38]],\"hovertemplate\":\"<b>%{hovertext}</b><br><br>temperature=%{x}<br>time=%{y}<br>mfp=%{z}<br>yield=%{marker.color}<extra></extra>\",\"hovertext\":[17.78,15.23,13.92,13.21,77.16,21.22,56.93,87.6,70.98,67.86,81.59,41.12,9.252,85.86,26.38,62.9,32.96,66.05,51.14,86.31,1.61,1.73,8.49,6.1,5.62,73.57,62.52,10.32,90.24,77.41,69.79,64.76,76.14,49.38],\"legendgroup\":\"\",\"marker\":{\"color\":[17.78,15.23,13.92,13.21,77.16,21.22,56.93,87.6,70.98,67.86,81.59,41.12,9.252,85.86,26.38,62.9,32.96,66.05,51.14,86.31,1.61,1.73,8.49,6.1,5.62,73.57,62.52,10.32,90.24,77.41,69.79,64.76,76.14,49.38],\"coloraxis\":\"coloraxis\",\"symbol\":\"circle\",\"size\":7},\"mode\":\"markers\",\"name\":\"\",\"scene\":\"scene\",\"showlegend\":false,\"x\":[85,85,85,85,135,132,123,135,138,138,138,138,135,138,138,135,138,138,138,138,75,51,63,54,45,138,138,138,138,138,138,138,138,138],\"y\":[23,23,23,23,23,3,23,29,13,15,41,5,1,21,3,13,5,15,9,29,3,1,33,41,35,15,13,1,33,23,13,11,19,7],\"z\":[0.5,0.5,0.5,0.5,0.36,0.36,0.46,0.63,0.63,0.56,0.48,0.66,0.63,0.66,0.66,0.61,0.51,0.48,0.48,0.66,0.58,0.56,0.56,0.51,0.61,0.43,0.48,0.33,0.63,0.41,0.41,0.58,0.56,0.56],\"type\":\"scatter3d\"}],                        {\"template\":{\"data\":{\"histogram2dcontour\":[{\"type\":\"histogram2dcontour\",\"colorbar\":{\"outlinewidth\":0,\"ticks\":\"\"},\"colorscale\":[[0.0,\"#0d0887\"],[0.1111111111111111,\"#46039f\"],[0.2222222222222222,\"#7201a8\"],[0.3333333333333333,\"#9c179e\"],[0.4444444444444444,\"#bd3786\"],[0.5555555555555556,\"#d8576b\"],[0.6666666666666666,\"#ed7953\"],[0.7777777777777778,\"#fb9f3a\"],[0.8888888888888888,\"#fdca26\"],[1.0,\"#f0f921\"]]}],\"choropleth\":[{\"type\":\"choropleth\",\"colorbar\":{\"outlinewidth\":0,\"ticks\":\"\"}}],\"histogram2d\":[{\"type\":\"histogram2d\",\"colorbar\":{\"outlinewidth\":0,\"ticks\":\"\"},\"colorscale\":[[0.0,\"#0d0887\"],[0.1111111111111111,\"#46039f\"],[0.2222222222222222,\"#7201a8\"],[0.3333333333333333,\"#9c179e\"],[0.4444444444444444,\"#bd3786\"],[0.5555555555555556,\"#d8576b\"],[0.6666666666666666,\"#ed7953\"],[0.7777777777777778,\"#fb9f3a\"],[0.8888888888888888,\"#fdca26\"],[1.0,\"#f0f921\"]]}],\"heatmap\":[{\"type\":\"heatmap\",\"colorbar\":{\"outlinewidth\":0,\"ticks\":\"\"},\"colorscale\":[[0.0,\"#0d0887\"],[0.1111111111111111,\"#46039f\"],[0.2222222222222222,\"#7201a8\"],[0.3333333333333333,\"#9c179e\"],[0.4444444444444444,\"#bd3786\"],[0.5555555555555556,\"#d8576b\"],[0.6666666666666666,\"#ed7953\"],[0.7777777777777778,\"#fb9f3a\"],[0.8888888888888888,\"#fdca26\"],[1.0,\"#f0f921\"]]}],\"heatmapgl\":[{\"type\":\"heatmapgl\",\"colorbar\":{\"outlinewidth\":0,\"ticks\":\"\"},\"colorscale\":[[0.0,\"#0d0887\"],[0.1111111111111111,\"#46039f\"],[0.2222222222222222,\"#7201a8\"],[0.3333333333333333,\"#9c179e\"],[0.4444444444444444,\"#bd3786\"],[0.5555555555555556,\"#d8576b\"],[0.6666666666666666,\"#ed7953\"],[0.7777777777777778,\"#fb9f3a\"],[0.8888888888888888,\"#fdca26\"],[1.0,\"#f0f921\"]]}],\"contourcarpet\":[{\"type\":\"contourcarpet\",\"colorbar\":{\"outlinewidth\":0,\"ticks\":\"\"}}],\"contour\":[{\"type\":\"contour\",\"colorbar\":{\"outlinewidth\":0,\"ticks\":\"\"},\"colorscale\":[[0.0,\"#0d0887\"],[0.1111111111111111,\"#46039f\"],[0.2222222222222222,\"#7201a8\"],[0.3333333333333333,\"#9c179e\"],[0.4444444444444444,\"#bd3786\"],[0.5555555555555556,\"#d8576b\"],[0.6666666666666666,\"#ed7953\"],[0.7777777777777778,\"#fb9f3a\"],[0.8888888888888888,\"#fdca26\"],[1.0,\"#f0f921\"]]}],\"surface\":[{\"type\":\"surface\",\"colorbar\":{\"outlinewidth\":0,\"ticks\":\"\"},\"colorscale\":[[0.0,\"#0d0887\"],[0.1111111111111111,\"#46039f\"],[0.2222222222222222,\"#7201a8\"],[0.3333333333333333,\"#9c179e\"],[0.4444444444444444,\"#bd3786\"],[0.5555555555555556,\"#d8576b\"],[0.6666666666666666,\"#ed7953\"],[0.7777777777777778,\"#fb9f3a\"],[0.8888888888888888,\"#fdca26\"],[1.0,\"#f0f921\"]]}],\"mesh3d\":[{\"type\":\"mesh3d\",\"colorbar\":{\"outlinewidth\":0,\"ticks\":\"\"}}],\"scatter\":[{\"fillpattern\":{\"fillmode\":\"overlay\",\"size\":10,\"solidity\":0.2},\"type\":\"scatter\"}],\"parcoords\":[{\"type\":\"parcoords\",\"line\":{\"colorbar\":{\"outlinewidth\":0,\"ticks\":\"\"}}}],\"scatterpolargl\":[{\"type\":\"scatterpolargl\",\"marker\":{\"colorbar\":{\"outlinewidth\":0,\"ticks\":\"\"}}}],\"bar\":[{\"error_x\":{\"color\":\"#2a3f5f\"},\"error_y\":{\"color\":\"#2a3f5f\"},\"marker\":{\"line\":{\"color\":\"#E5ECF6\",\"width\":0.5},\"pattern\":{\"fillmode\":\"overlay\",\"size\":10,\"solidity\":0.2}},\"type\":\"bar\"}],\"scattergeo\":[{\"type\":\"scattergeo\",\"marker\":{\"colorbar\":{\"outlinewidth\":0,\"ticks\":\"\"}}}],\"scatterpolar\":[{\"type\":\"scatterpolar\",\"marker\":{\"colorbar\":{\"outlinewidth\":0,\"ticks\":\"\"}}}],\"histogram\":[{\"marker\":{\"pattern\":{\"fillmode\":\"overlay\",\"size\":10,\"solidity\":0.2}},\"type\":\"histogram\"}],\"scattergl\":[{\"type\":\"scattergl\",\"marker\":{\"colorbar\":{\"outlinewidth\":0,\"ticks\":\"\"}}}],\"scatter3d\":[{\"type\":\"scatter3d\",\"line\":{\"colorbar\":{\"outlinewidth\":0,\"ticks\":\"\"}},\"marker\":{\"colorbar\":{\"outlinewidth\":0,\"ticks\":\"\"}}}],\"scattermapbox\":[{\"type\":\"scattermapbox\",\"marker\":{\"colorbar\":{\"outlinewidth\":0,\"ticks\":\"\"}}}],\"scatterternary\":[{\"type\":\"scatterternary\",\"marker\":{\"colorbar\":{\"outlinewidth\":0,\"ticks\":\"\"}}}],\"scattercarpet\":[{\"type\":\"scattercarpet\",\"marker\":{\"colorbar\":{\"outlinewidth\":0,\"ticks\":\"\"}}}],\"carpet\":[{\"aaxis\":{\"endlinecolor\":\"#2a3f5f\",\"gridcolor\":\"white\",\"linecolor\":\"white\",\"minorgridcolor\":\"white\",\"startlinecolor\":\"#2a3f5f\"},\"baxis\":{\"endlinecolor\":\"#2a3f5f\",\"gridcolor\":\"white\",\"linecolor\":\"white\",\"minorgridcolor\":\"white\",\"startlinecolor\":\"#2a3f5f\"},\"type\":\"carpet\"}],\"table\":[{\"cells\":{\"fill\":{\"color\":\"#EBF0F8\"},\"line\":{\"color\":\"white\"}},\"header\":{\"fill\":{\"color\":\"#C8D4E3\"},\"line\":{\"color\":\"white\"}},\"type\":\"table\"}],\"barpolar\":[{\"marker\":{\"line\":{\"color\":\"#E5ECF6\",\"width\":0.5},\"pattern\":{\"fillmode\":\"overlay\",\"size\":10,\"solidity\":0.2}},\"type\":\"barpolar\"}],\"pie\":[{\"automargin\":true,\"type\":\"pie\"}]},\"layout\":{\"autotypenumbers\":\"strict\",\"colorway\":[\"#636efa\",\"#EF553B\",\"#00cc96\",\"#ab63fa\",\"#FFA15A\",\"#19d3f3\",\"#FF6692\",\"#B6E880\",\"#FF97FF\",\"#FECB52\"],\"font\":{\"color\":\"#2a3f5f\"},\"hovermode\":\"closest\",\"hoverlabel\":{\"align\":\"left\"},\"paper_bgcolor\":\"white\",\"plot_bgcolor\":\"#E5ECF6\",\"polar\":{\"bgcolor\":\"#E5ECF6\",\"angularaxis\":{\"gridcolor\":\"white\",\"linecolor\":\"white\",\"ticks\":\"\"},\"radialaxis\":{\"gridcolor\":\"white\",\"linecolor\":\"white\",\"ticks\":\"\"}},\"ternary\":{\"bgcolor\":\"#E5ECF6\",\"aaxis\":{\"gridcolor\":\"white\",\"linecolor\":\"white\",\"ticks\":\"\"},\"baxis\":{\"gridcolor\":\"white\",\"linecolor\":\"white\",\"ticks\":\"\"},\"caxis\":{\"gridcolor\":\"white\",\"linecolor\":\"white\",\"ticks\":\"\"}},\"coloraxis\":{\"colorbar\":{\"outlinewidth\":0,\"ticks\":\"\"}},\"colorscale\":{\"sequential\":[[0.0,\"#0d0887\"],[0.1111111111111111,\"#46039f\"],[0.2222222222222222,\"#7201a8\"],[0.3333333333333333,\"#9c179e\"],[0.4444444444444444,\"#bd3786\"],[0.5555555555555556,\"#d8576b\"],[0.6666666666666666,\"#ed7953\"],[0.7777777777777778,\"#fb9f3a\"],[0.8888888888888888,\"#fdca26\"],[1.0,\"#f0f921\"]],\"sequentialminus\":[[0.0,\"#0d0887\"],[0.1111111111111111,\"#46039f\"],[0.2222222222222222,\"#7201a8\"],[0.3333333333333333,\"#9c179e\"],[0.4444444444444444,\"#bd3786\"],[0.5555555555555556,\"#d8576b\"],[0.6666666666666666,\"#ed7953\"],[0.7777777777777778,\"#fb9f3a\"],[0.8888888888888888,\"#fdca26\"],[1.0,\"#f0f921\"]],\"diverging\":[[0,\"#8e0152\"],[0.1,\"#c51b7d\"],[0.2,\"#de77ae\"],[0.3,\"#f1b6da\"],[0.4,\"#fde0ef\"],[0.5,\"#f7f7f7\"],[0.6,\"#e6f5d0\"],[0.7,\"#b8e186\"],[0.8,\"#7fbc41\"],[0.9,\"#4d9221\"],[1,\"#276419\"]]},\"xaxis\":{\"gridcolor\":\"white\",\"linecolor\":\"white\",\"ticks\":\"\",\"title\":{\"standoff\":15},\"zerolinecolor\":\"white\",\"automargin\":true,\"zerolinewidth\":2},\"yaxis\":{\"gridcolor\":\"white\",\"linecolor\":\"white\",\"ticks\":\"\",\"title\":{\"standoff\":15},\"zerolinecolor\":\"white\",\"automargin\":true,\"zerolinewidth\":2},\"scene\":{\"xaxis\":{\"backgroundcolor\":\"#E5ECF6\",\"gridcolor\":\"white\",\"linecolor\":\"white\",\"showbackground\":true,\"ticks\":\"\",\"zerolinecolor\":\"white\",\"gridwidth\":2},\"yaxis\":{\"backgroundcolor\":\"#E5ECF6\",\"gridcolor\":\"white\",\"linecolor\":\"white\",\"showbackground\":true,\"ticks\":\"\",\"zerolinecolor\":\"white\",\"gridwidth\":2},\"zaxis\":{\"backgroundcolor\":\"#E5ECF6\",\"gridcolor\":\"white\",\"linecolor\":\"white\",\"showbackground\":true,\"ticks\":\"\",\"zerolinecolor\":\"white\",\"gridwidth\":2}},\"shapedefaults\":{\"line\":{\"color\":\"#2a3f5f\"}},\"annotationdefaults\":{\"arrowcolor\":\"#2a3f5f\",\"arrowhead\":0,\"arrowwidth\":1},\"geo\":{\"bgcolor\":\"white\",\"landcolor\":\"#E5ECF6\",\"subunitcolor\":\"white\",\"showland\":true,\"showlakes\":true,\"lakecolor\":\"white\"},\"title\":{\"x\":0.05},\"mapbox\":{\"style\":\"light\"}}},\"scene\":{\"domain\":{\"x\":[0.0,1.0],\"y\":[0.0,1.0]},\"xaxis\":{\"title\":{\"text\":\"temperature\"},\"nticks\":6,\"range\":[140,30]},\"yaxis\":{\"title\":{\"text\":\"time\"},\"nticks\":6,\"range\":[45,1]},\"zaxis\":{\"title\":{\"text\":\"mfp\"},\"nticks\":6,\"range\":[0.33,0.66]}},\"coloraxis\":{\"colorbar\":{\"title\":{\"text\":\"yield\"}},\"colorscale\":[[0.0,\"rgb(255,255,255)\"],[0.125,\"rgb(240,240,240)\"],[0.25,\"rgb(217,217,217)\"],[0.375,\"rgb(189,189,189)\"],[0.5,\"rgb(150,150,150)\"],[0.625,\"rgb(115,115,115)\"],[0.75,\"rgb(82,82,82)\"],[0.875,\"rgb(37,37,37)\"],[1.0,\"rgb(0,0,0)\"]]},\"legend\":{\"tracegroupgap\":0},\"margin\":{\"t\":1,\"l\":0,\"r\":0,\"b\":0},\"title\":{\"text\":\"3D Plot of the Inputs for the Continuous Flow Reaction\",\"y\":0.95,\"x\":0.5,\"xanchor\":\"center\",\"yanchor\":\"top\"}},                        {\"responsive\": true}                    ).then(function(){\n",
       "                            \n",
       "var gd = document.getElementById('c97a1aba-df7e-434b-9b0a-d8c63e498fcf');\n",
       "var x = new MutationObserver(function (mutations, observer) {{\n",
       "        var display = window.getComputedStyle(gd).display;\n",
       "        if (!display || display === 'none') {{\n",
       "            console.log([gd, 'removed!']);\n",
       "            Plotly.purge(gd);\n",
       "            observer.disconnect();\n",
       "        }}\n",
       "}});\n",
       "\n",
       "// Listen for the removal of the full notebook cells\n",
       "var notebookContainer = gd.closest('#notebook-container');\n",
       "if (notebookContainer) {{\n",
       "    x.observe(notebookContainer, {childList: true});\n",
       "}}\n",
       "\n",
       "// Listen for the clearing of the current output cell\n",
       "var outputEl = gd.closest('.output');\n",
       "if (outputEl) {{\n",
       "    x.observe(outputEl, {childList: true});\n",
       "}}\n",
       "\n",
       "                        })                };                });            </script>        </div>"
      ]
     },
     "metadata": {},
     "output_type": "display_data"
    },
    {
     "name": "stdout",
     "output_type": "stream",
     "text": [
      "iteration 0 already exists\n",
      "iteration 1 already exists\n",
      "iteration 2 already exists\n",
      "iteration 3 already exists\n",
      "iteration 4 already exists\n"
     ]
    },
    {
     "data": {
      "application/vnd.plotly.v1+json": {
       "config": {
        "plotlyServerURL": "https://plot.ly"
       },
       "data": [
        {
         "customdata": [
          [
           17.78
          ],
          [
           15.23
          ],
          [
           13.92
          ],
          [
           13.21
          ],
          [
           77.16
          ],
          [
           21.22
          ],
          [
           56.93
          ],
          [
           87.6
          ],
          [
           70.98
          ],
          [
           67.86
          ],
          [
           81.59
          ],
          [
           41.12
          ],
          [
           9.252
          ],
          [
           85.86
          ],
          [
           26.38
          ],
          [
           62.9
          ],
          [
           32.96
          ],
          [
           66.05
          ],
          [
           51.14
          ],
          [
           86.31
          ],
          [
           1.61
          ],
          [
           1.73
          ],
          [
           8.49
          ],
          [
           6.1
          ],
          [
           5.62
          ],
          [
           73.57
          ],
          [
           62.52
          ],
          [
           10.32
          ],
          [
           90.24
          ],
          [
           77.41
          ],
          [
           69.79
          ],
          [
           64.76
          ],
          [
           76.14
          ],
          [
           49.38
          ]
         ],
         "hovertemplate": "<b>%{hovertext}</b><br><br>temperature=%{x}<br>time=%{y}<br>mfp=%{z}<br>yield=%{customdata[0]}<br>production_rate_(g/hr)=%{marker.color}<extra></extra>",
         "hovertext": [
          17.78,
          15.23,
          13.92,
          13.21,
          77.16,
          21.22,
          56.93,
          87.6,
          70.98,
          67.86,
          81.59,
          41.12,
          9.252,
          85.86,
          26.38,
          62.9,
          32.96,
          66.05,
          51.14,
          86.31,
          1.61,
          1.73,
          8.49,
          6.1,
          5.62,
          73.57,
          62.52,
          10.32,
          90.24,
          77.41,
          69.79,
          64.76,
          76.14,
          49.38
         ],
         "legendgroup": "",
         "marker": {
          "color": [
           0.2506,
           0.2146,
           0.1962,
           0.1862,
           0.7788,
           1.638,
           0.7327,
           0.7245,
           1.3091,
           1.2948,
           0.6239,
           1.8241,
           2.22,
           0.9024,
           1.9502,
           1.2306,
           2.1045,
           1.3728,
           1.7707,
           0.6619,
           0.1463,
           0.4962,
           0.0736,
           0.0474,
           0.0408,
           1.3657,
           1.4984,
           2.2082,
           0.6575,
           0.885,
           1.4285,
           1.6026,
           1.1462,
           2.0117
          ],
          "coloraxis": "coloraxis",
          "size": 7,
          "symbol": "circle"
         },
         "mode": "markers",
         "name": "",
         "scene": "scene",
         "showlegend": false,
         "type": "scatter3d",
         "x": [
          85,
          85,
          85,
          85,
          135,
          132,
          123,
          135,
          138,
          138,
          138,
          138,
          135,
          138,
          138,
          135,
          138,
          138,
          138,
          138,
          75,
          51,
          63,
          54,
          45,
          138,
          138,
          138,
          138,
          138,
          138,
          138,
          138,
          138
         ],
         "y": [
          23,
          23,
          23,
          23,
          23,
          3,
          23,
          29,
          13,
          15,
          41,
          5,
          1,
          21,
          3,
          13,
          5,
          15,
          9,
          29,
          3,
          1,
          33,
          41,
          35,
          15,
          13,
          1,
          33,
          23,
          13,
          11,
          19,
          7
         ],
         "z": [
          0.5,
          0.5,
          0.5,
          0.5,
          0.36,
          0.36,
          0.46,
          0.63,
          0.63,
          0.56,
          0.48,
          0.66,
          0.63,
          0.66,
          0.66,
          0.61,
          0.51,
          0.48,
          0.48,
          0.66,
          0.58,
          0.56,
          0.56,
          0.51,
          0.61,
          0.43,
          0.48,
          0.33,
          0.63,
          0.41,
          0.41,
          0.58,
          0.56,
          0.56
         ]
        }
       ],
       "layout": {
        "coloraxis": {
         "colorbar": {
          "title": {
           "text": "production_rate_(g/hr)"
          }
         },
         "colorscale": [
          [
           0,
           "rgb(255,255,255)"
          ],
          [
           0.125,
           "rgb(240,240,240)"
          ],
          [
           0.25,
           "rgb(217,217,217)"
          ],
          [
           0.375,
           "rgb(189,189,189)"
          ],
          [
           0.5,
           "rgb(150,150,150)"
          ],
          [
           0.625,
           "rgb(115,115,115)"
          ],
          [
           0.75,
           "rgb(82,82,82)"
          ],
          [
           0.875,
           "rgb(37,37,37)"
          ],
          [
           1,
           "rgb(0,0,0)"
          ]
         ]
        },
        "legend": {
         "tracegroupgap": 0
        },
        "margin": {
         "b": 0,
         "l": 0,
         "r": 0,
         "t": 1
        },
        "scene": {
         "domain": {
          "x": [
           0,
           1
          ],
          "y": [
           0,
           1
          ]
         },
         "xaxis": {
          "nticks": 6,
          "range": [
           140,
           30
          ],
          "title": {
           "text": "temperature"
          }
         },
         "yaxis": {
          "nticks": 6,
          "range": [
           45,
           1
          ],
          "title": {
           "text": "time"
          }
         },
         "zaxis": {
          "nticks": 6,
          "range": [
           0.33,
           0.66
          ],
          "title": {
           "text": "mfp"
          }
         }
        },
        "template": {
         "data": {
          "bar": [
           {
            "error_x": {
             "color": "#2a3f5f"
            },
            "error_y": {
             "color": "#2a3f5f"
            },
            "marker": {
             "line": {
              "color": "#E5ECF6",
              "width": 0.5
             },
             "pattern": {
              "fillmode": "overlay",
              "size": 10,
              "solidity": 0.2
             }
            },
            "type": "bar"
           }
          ],
          "barpolar": [
           {
            "marker": {
             "line": {
              "color": "#E5ECF6",
              "width": 0.5
             },
             "pattern": {
              "fillmode": "overlay",
              "size": 10,
              "solidity": 0.2
             }
            },
            "type": "barpolar"
           }
          ],
          "carpet": [
           {
            "aaxis": {
             "endlinecolor": "#2a3f5f",
             "gridcolor": "white",
             "linecolor": "white",
             "minorgridcolor": "white",
             "startlinecolor": "#2a3f5f"
            },
            "baxis": {
             "endlinecolor": "#2a3f5f",
             "gridcolor": "white",
             "linecolor": "white",
             "minorgridcolor": "white",
             "startlinecolor": "#2a3f5f"
            },
            "type": "carpet"
           }
          ],
          "choropleth": [
           {
            "colorbar": {
             "outlinewidth": 0,
             "ticks": ""
            },
            "type": "choropleth"
           }
          ],
          "contour": [
           {
            "colorbar": {
             "outlinewidth": 0,
             "ticks": ""
            },
            "colorscale": [
             [
              0,
              "#0d0887"
             ],
             [
              0.1111111111111111,
              "#46039f"
             ],
             [
              0.2222222222222222,
              "#7201a8"
             ],
             [
              0.3333333333333333,
              "#9c179e"
             ],
             [
              0.4444444444444444,
              "#bd3786"
             ],
             [
              0.5555555555555556,
              "#d8576b"
             ],
             [
              0.6666666666666666,
              "#ed7953"
             ],
             [
              0.7777777777777778,
              "#fb9f3a"
             ],
             [
              0.8888888888888888,
              "#fdca26"
             ],
             [
              1,
              "#f0f921"
             ]
            ],
            "type": "contour"
           }
          ],
          "contourcarpet": [
           {
            "colorbar": {
             "outlinewidth": 0,
             "ticks": ""
            },
            "type": "contourcarpet"
           }
          ],
          "heatmap": [
           {
            "colorbar": {
             "outlinewidth": 0,
             "ticks": ""
            },
            "colorscale": [
             [
              0,
              "#0d0887"
             ],
             [
              0.1111111111111111,
              "#46039f"
             ],
             [
              0.2222222222222222,
              "#7201a8"
             ],
             [
              0.3333333333333333,
              "#9c179e"
             ],
             [
              0.4444444444444444,
              "#bd3786"
             ],
             [
              0.5555555555555556,
              "#d8576b"
             ],
             [
              0.6666666666666666,
              "#ed7953"
             ],
             [
              0.7777777777777778,
              "#fb9f3a"
             ],
             [
              0.8888888888888888,
              "#fdca26"
             ],
             [
              1,
              "#f0f921"
             ]
            ],
            "type": "heatmap"
           }
          ],
          "heatmapgl": [
           {
            "colorbar": {
             "outlinewidth": 0,
             "ticks": ""
            },
            "colorscale": [
             [
              0,
              "#0d0887"
             ],
             [
              0.1111111111111111,
              "#46039f"
             ],
             [
              0.2222222222222222,
              "#7201a8"
             ],
             [
              0.3333333333333333,
              "#9c179e"
             ],
             [
              0.4444444444444444,
              "#bd3786"
             ],
             [
              0.5555555555555556,
              "#d8576b"
             ],
             [
              0.6666666666666666,
              "#ed7953"
             ],
             [
              0.7777777777777778,
              "#fb9f3a"
             ],
             [
              0.8888888888888888,
              "#fdca26"
             ],
             [
              1,
              "#f0f921"
             ]
            ],
            "type": "heatmapgl"
           }
          ],
          "histogram": [
           {
            "marker": {
             "pattern": {
              "fillmode": "overlay",
              "size": 10,
              "solidity": 0.2
             }
            },
            "type": "histogram"
           }
          ],
          "histogram2d": [
           {
            "colorbar": {
             "outlinewidth": 0,
             "ticks": ""
            },
            "colorscale": [
             [
              0,
              "#0d0887"
             ],
             [
              0.1111111111111111,
              "#46039f"
             ],
             [
              0.2222222222222222,
              "#7201a8"
             ],
             [
              0.3333333333333333,
              "#9c179e"
             ],
             [
              0.4444444444444444,
              "#bd3786"
             ],
             [
              0.5555555555555556,
              "#d8576b"
             ],
             [
              0.6666666666666666,
              "#ed7953"
             ],
             [
              0.7777777777777778,
              "#fb9f3a"
             ],
             [
              0.8888888888888888,
              "#fdca26"
             ],
             [
              1,
              "#f0f921"
             ]
            ],
            "type": "histogram2d"
           }
          ],
          "histogram2dcontour": [
           {
            "colorbar": {
             "outlinewidth": 0,
             "ticks": ""
            },
            "colorscale": [
             [
              0,
              "#0d0887"
             ],
             [
              0.1111111111111111,
              "#46039f"
             ],
             [
              0.2222222222222222,
              "#7201a8"
             ],
             [
              0.3333333333333333,
              "#9c179e"
             ],
             [
              0.4444444444444444,
              "#bd3786"
             ],
             [
              0.5555555555555556,
              "#d8576b"
             ],
             [
              0.6666666666666666,
              "#ed7953"
             ],
             [
              0.7777777777777778,
              "#fb9f3a"
             ],
             [
              0.8888888888888888,
              "#fdca26"
             ],
             [
              1,
              "#f0f921"
             ]
            ],
            "type": "histogram2dcontour"
           }
          ],
          "mesh3d": [
           {
            "colorbar": {
             "outlinewidth": 0,
             "ticks": ""
            },
            "type": "mesh3d"
           }
          ],
          "parcoords": [
           {
            "line": {
             "colorbar": {
              "outlinewidth": 0,
              "ticks": ""
             }
            },
            "type": "parcoords"
           }
          ],
          "pie": [
           {
            "automargin": true,
            "type": "pie"
           }
          ],
          "scatter": [
           {
            "fillpattern": {
             "fillmode": "overlay",
             "size": 10,
             "solidity": 0.2
            },
            "type": "scatter"
           }
          ],
          "scatter3d": [
           {
            "line": {
             "colorbar": {
              "outlinewidth": 0,
              "ticks": ""
             }
            },
            "marker": {
             "colorbar": {
              "outlinewidth": 0,
              "ticks": ""
             }
            },
            "type": "scatter3d"
           }
          ],
          "scattercarpet": [
           {
            "marker": {
             "colorbar": {
              "outlinewidth": 0,
              "ticks": ""
             }
            },
            "type": "scattercarpet"
           }
          ],
          "scattergeo": [
           {
            "marker": {
             "colorbar": {
              "outlinewidth": 0,
              "ticks": ""
             }
            },
            "type": "scattergeo"
           }
          ],
          "scattergl": [
           {
            "marker": {
             "colorbar": {
              "outlinewidth": 0,
              "ticks": ""
             }
            },
            "type": "scattergl"
           }
          ],
          "scattermapbox": [
           {
            "marker": {
             "colorbar": {
              "outlinewidth": 0,
              "ticks": ""
             }
            },
            "type": "scattermapbox"
           }
          ],
          "scatterpolar": [
           {
            "marker": {
             "colorbar": {
              "outlinewidth": 0,
              "ticks": ""
             }
            },
            "type": "scatterpolar"
           }
          ],
          "scatterpolargl": [
           {
            "marker": {
             "colorbar": {
              "outlinewidth": 0,
              "ticks": ""
             }
            },
            "type": "scatterpolargl"
           }
          ],
          "scatterternary": [
           {
            "marker": {
             "colorbar": {
              "outlinewidth": 0,
              "ticks": ""
             }
            },
            "type": "scatterternary"
           }
          ],
          "surface": [
           {
            "colorbar": {
             "outlinewidth": 0,
             "ticks": ""
            },
            "colorscale": [
             [
              0,
              "#0d0887"
             ],
             [
              0.1111111111111111,
              "#46039f"
             ],
             [
              0.2222222222222222,
              "#7201a8"
             ],
             [
              0.3333333333333333,
              "#9c179e"
             ],
             [
              0.4444444444444444,
              "#bd3786"
             ],
             [
              0.5555555555555556,
              "#d8576b"
             ],
             [
              0.6666666666666666,
              "#ed7953"
             ],
             [
              0.7777777777777778,
              "#fb9f3a"
             ],
             [
              0.8888888888888888,
              "#fdca26"
             ],
             [
              1,
              "#f0f921"
             ]
            ],
            "type": "surface"
           }
          ],
          "table": [
           {
            "cells": {
             "fill": {
              "color": "#EBF0F8"
             },
             "line": {
              "color": "white"
             }
            },
            "header": {
             "fill": {
              "color": "#C8D4E3"
             },
             "line": {
              "color": "white"
             }
            },
            "type": "table"
           }
          ]
         },
         "layout": {
          "annotationdefaults": {
           "arrowcolor": "#2a3f5f",
           "arrowhead": 0,
           "arrowwidth": 1
          },
          "autotypenumbers": "strict",
          "coloraxis": {
           "colorbar": {
            "outlinewidth": 0,
            "ticks": ""
           }
          },
          "colorscale": {
           "diverging": [
            [
             0,
             "#8e0152"
            ],
            [
             0.1,
             "#c51b7d"
            ],
            [
             0.2,
             "#de77ae"
            ],
            [
             0.3,
             "#f1b6da"
            ],
            [
             0.4,
             "#fde0ef"
            ],
            [
             0.5,
             "#f7f7f7"
            ],
            [
             0.6,
             "#e6f5d0"
            ],
            [
             0.7,
             "#b8e186"
            ],
            [
             0.8,
             "#7fbc41"
            ],
            [
             0.9,
             "#4d9221"
            ],
            [
             1,
             "#276419"
            ]
           ],
           "sequential": [
            [
             0,
             "#0d0887"
            ],
            [
             0.1111111111111111,
             "#46039f"
            ],
            [
             0.2222222222222222,
             "#7201a8"
            ],
            [
             0.3333333333333333,
             "#9c179e"
            ],
            [
             0.4444444444444444,
             "#bd3786"
            ],
            [
             0.5555555555555556,
             "#d8576b"
            ],
            [
             0.6666666666666666,
             "#ed7953"
            ],
            [
             0.7777777777777778,
             "#fb9f3a"
            ],
            [
             0.8888888888888888,
             "#fdca26"
            ],
            [
             1,
             "#f0f921"
            ]
           ],
           "sequentialminus": [
            [
             0,
             "#0d0887"
            ],
            [
             0.1111111111111111,
             "#46039f"
            ],
            [
             0.2222222222222222,
             "#7201a8"
            ],
            [
             0.3333333333333333,
             "#9c179e"
            ],
            [
             0.4444444444444444,
             "#bd3786"
            ],
            [
             0.5555555555555556,
             "#d8576b"
            ],
            [
             0.6666666666666666,
             "#ed7953"
            ],
            [
             0.7777777777777778,
             "#fb9f3a"
            ],
            [
             0.8888888888888888,
             "#fdca26"
            ],
            [
             1,
             "#f0f921"
            ]
           ]
          },
          "colorway": [
           "#636efa",
           "#EF553B",
           "#00cc96",
           "#ab63fa",
           "#FFA15A",
           "#19d3f3",
           "#FF6692",
           "#B6E880",
           "#FF97FF",
           "#FECB52"
          ],
          "font": {
           "color": "#2a3f5f"
          },
          "geo": {
           "bgcolor": "white",
           "lakecolor": "white",
           "landcolor": "#E5ECF6",
           "showlakes": true,
           "showland": true,
           "subunitcolor": "white"
          },
          "hoverlabel": {
           "align": "left"
          },
          "hovermode": "closest",
          "mapbox": {
           "style": "light"
          },
          "paper_bgcolor": "white",
          "plot_bgcolor": "#E5ECF6",
          "polar": {
           "angularaxis": {
            "gridcolor": "white",
            "linecolor": "white",
            "ticks": ""
           },
           "bgcolor": "#E5ECF6",
           "radialaxis": {
            "gridcolor": "white",
            "linecolor": "white",
            "ticks": ""
           }
          },
          "scene": {
           "xaxis": {
            "backgroundcolor": "#E5ECF6",
            "gridcolor": "white",
            "gridwidth": 2,
            "linecolor": "white",
            "showbackground": true,
            "ticks": "",
            "zerolinecolor": "white"
           },
           "yaxis": {
            "backgroundcolor": "#E5ECF6",
            "gridcolor": "white",
            "gridwidth": 2,
            "linecolor": "white",
            "showbackground": true,
            "ticks": "",
            "zerolinecolor": "white"
           },
           "zaxis": {
            "backgroundcolor": "#E5ECF6",
            "gridcolor": "white",
            "gridwidth": 2,
            "linecolor": "white",
            "showbackground": true,
            "ticks": "",
            "zerolinecolor": "white"
           }
          },
          "shapedefaults": {
           "line": {
            "color": "#2a3f5f"
           }
          },
          "ternary": {
           "aaxis": {
            "gridcolor": "white",
            "linecolor": "white",
            "ticks": ""
           },
           "baxis": {
            "gridcolor": "white",
            "linecolor": "white",
            "ticks": ""
           },
           "bgcolor": "#E5ECF6",
           "caxis": {
            "gridcolor": "white",
            "linecolor": "white",
            "ticks": ""
           }
          },
          "title": {
           "x": 0.05
          },
          "xaxis": {
           "automargin": true,
           "gridcolor": "white",
           "linecolor": "white",
           "ticks": "",
           "title": {
            "standoff": 15
           },
           "zerolinecolor": "white",
           "zerolinewidth": 2
          },
          "yaxis": {
           "automargin": true,
           "gridcolor": "white",
           "linecolor": "white",
           "ticks": "",
           "title": {
            "standoff": 15
           },
           "zerolinecolor": "white",
           "zerolinewidth": 2
          }
         }
        },
        "title": {
         "text": "3D Plot of the Inputs for the Continuous Flow Reaction",
         "x": 0.5,
         "xanchor": "center",
         "y": 0.95,
         "yanchor": "top"
        }
       }
      },
      "text/html": [
       "<div>                            <div id=\"cade765b-f8d9-4ca2-9f37-a416dfe9c03e\" class=\"plotly-graph-div\" style=\"height:525px; width:100%;\"></div>            <script type=\"text/javascript\">                require([\"plotly\"], function(Plotly) {                    window.PLOTLYENV=window.PLOTLYENV || {};                                    if (document.getElementById(\"cade765b-f8d9-4ca2-9f37-a416dfe9c03e\")) {                    Plotly.newPlot(                        \"cade765b-f8d9-4ca2-9f37-a416dfe9c03e\",                        [{\"customdata\":[[17.78],[15.23],[13.92],[13.21],[77.16],[21.22],[56.93],[87.6],[70.98],[67.86],[81.59],[41.12],[9.252],[85.86],[26.38],[62.9],[32.96],[66.05],[51.14],[86.31],[1.61],[1.73],[8.49],[6.1],[5.62],[73.57],[62.52],[10.32],[90.24],[77.41],[69.79],[64.76],[76.14],[49.38]],\"hovertemplate\":\"<b>%{hovertext}</b><br><br>temperature=%{x}<br>time=%{y}<br>mfp=%{z}<br>yield=%{customdata[0]}<br>production_rate_(g/hr)=%{marker.color}<extra></extra>\",\"hovertext\":[17.78,15.23,13.92,13.21,77.16,21.22,56.93,87.6,70.98,67.86,81.59,41.12,9.252,85.86,26.38,62.9,32.96,66.05,51.14,86.31,1.61,1.73,8.49,6.1,5.62,73.57,62.52,10.32,90.24,77.41,69.79,64.76,76.14,49.38],\"legendgroup\":\"\",\"marker\":{\"color\":[0.2506,0.2146,0.1962,0.1862,0.7788,1.638,0.7327,0.7245,1.3091,1.2948,0.6239,1.8241,2.22,0.9024,1.9502,1.2306,2.1045,1.3728,1.7707,0.6619,0.1463,0.4962,0.0736,0.0474,0.0408,1.3657,1.4984,2.2082,0.6575,0.885,1.4285,1.6026,1.1462,2.0117],\"coloraxis\":\"coloraxis\",\"symbol\":\"circle\",\"size\":7},\"mode\":\"markers\",\"name\":\"\",\"scene\":\"scene\",\"showlegend\":false,\"x\":[85,85,85,85,135,132,123,135,138,138,138,138,135,138,138,135,138,138,138,138,75,51,63,54,45,138,138,138,138,138,138,138,138,138],\"y\":[23,23,23,23,23,3,23,29,13,15,41,5,1,21,3,13,5,15,9,29,3,1,33,41,35,15,13,1,33,23,13,11,19,7],\"z\":[0.5,0.5,0.5,0.5,0.36,0.36,0.46,0.63,0.63,0.56,0.48,0.66,0.63,0.66,0.66,0.61,0.51,0.48,0.48,0.66,0.58,0.56,0.56,0.51,0.61,0.43,0.48,0.33,0.63,0.41,0.41,0.58,0.56,0.56],\"type\":\"scatter3d\"}],                        {\"template\":{\"data\":{\"histogram2dcontour\":[{\"type\":\"histogram2dcontour\",\"colorbar\":{\"outlinewidth\":0,\"ticks\":\"\"},\"colorscale\":[[0.0,\"#0d0887\"],[0.1111111111111111,\"#46039f\"],[0.2222222222222222,\"#7201a8\"],[0.3333333333333333,\"#9c179e\"],[0.4444444444444444,\"#bd3786\"],[0.5555555555555556,\"#d8576b\"],[0.6666666666666666,\"#ed7953\"],[0.7777777777777778,\"#fb9f3a\"],[0.8888888888888888,\"#fdca26\"],[1.0,\"#f0f921\"]]}],\"choropleth\":[{\"type\":\"choropleth\",\"colorbar\":{\"outlinewidth\":0,\"ticks\":\"\"}}],\"histogram2d\":[{\"type\":\"histogram2d\",\"colorbar\":{\"outlinewidth\":0,\"ticks\":\"\"},\"colorscale\":[[0.0,\"#0d0887\"],[0.1111111111111111,\"#46039f\"],[0.2222222222222222,\"#7201a8\"],[0.3333333333333333,\"#9c179e\"],[0.4444444444444444,\"#bd3786\"],[0.5555555555555556,\"#d8576b\"],[0.6666666666666666,\"#ed7953\"],[0.7777777777777778,\"#fb9f3a\"],[0.8888888888888888,\"#fdca26\"],[1.0,\"#f0f921\"]]}],\"heatmap\":[{\"type\":\"heatmap\",\"colorbar\":{\"outlinewidth\":0,\"ticks\":\"\"},\"colorscale\":[[0.0,\"#0d0887\"],[0.1111111111111111,\"#46039f\"],[0.2222222222222222,\"#7201a8\"],[0.3333333333333333,\"#9c179e\"],[0.4444444444444444,\"#bd3786\"],[0.5555555555555556,\"#d8576b\"],[0.6666666666666666,\"#ed7953\"],[0.7777777777777778,\"#fb9f3a\"],[0.8888888888888888,\"#fdca26\"],[1.0,\"#f0f921\"]]}],\"heatmapgl\":[{\"type\":\"heatmapgl\",\"colorbar\":{\"outlinewidth\":0,\"ticks\":\"\"},\"colorscale\":[[0.0,\"#0d0887\"],[0.1111111111111111,\"#46039f\"],[0.2222222222222222,\"#7201a8\"],[0.3333333333333333,\"#9c179e\"],[0.4444444444444444,\"#bd3786\"],[0.5555555555555556,\"#d8576b\"],[0.6666666666666666,\"#ed7953\"],[0.7777777777777778,\"#fb9f3a\"],[0.8888888888888888,\"#fdca26\"],[1.0,\"#f0f921\"]]}],\"contourcarpet\":[{\"type\":\"contourcarpet\",\"colorbar\":{\"outlinewidth\":0,\"ticks\":\"\"}}],\"contour\":[{\"type\":\"contour\",\"colorbar\":{\"outlinewidth\":0,\"ticks\":\"\"},\"colorscale\":[[0.0,\"#0d0887\"],[0.1111111111111111,\"#46039f\"],[0.2222222222222222,\"#7201a8\"],[0.3333333333333333,\"#9c179e\"],[0.4444444444444444,\"#bd3786\"],[0.5555555555555556,\"#d8576b\"],[0.6666666666666666,\"#ed7953\"],[0.7777777777777778,\"#fb9f3a\"],[0.8888888888888888,\"#fdca26\"],[1.0,\"#f0f921\"]]}],\"surface\":[{\"type\":\"surface\",\"colorbar\":{\"outlinewidth\":0,\"ticks\":\"\"},\"colorscale\":[[0.0,\"#0d0887\"],[0.1111111111111111,\"#46039f\"],[0.2222222222222222,\"#7201a8\"],[0.3333333333333333,\"#9c179e\"],[0.4444444444444444,\"#bd3786\"],[0.5555555555555556,\"#d8576b\"],[0.6666666666666666,\"#ed7953\"],[0.7777777777777778,\"#fb9f3a\"],[0.8888888888888888,\"#fdca26\"],[1.0,\"#f0f921\"]]}],\"mesh3d\":[{\"type\":\"mesh3d\",\"colorbar\":{\"outlinewidth\":0,\"ticks\":\"\"}}],\"scatter\":[{\"fillpattern\":{\"fillmode\":\"overlay\",\"size\":10,\"solidity\":0.2},\"type\":\"scatter\"}],\"parcoords\":[{\"type\":\"parcoords\",\"line\":{\"colorbar\":{\"outlinewidth\":0,\"ticks\":\"\"}}}],\"scatterpolargl\":[{\"type\":\"scatterpolargl\",\"marker\":{\"colorbar\":{\"outlinewidth\":0,\"ticks\":\"\"}}}],\"bar\":[{\"error_x\":{\"color\":\"#2a3f5f\"},\"error_y\":{\"color\":\"#2a3f5f\"},\"marker\":{\"line\":{\"color\":\"#E5ECF6\",\"width\":0.5},\"pattern\":{\"fillmode\":\"overlay\",\"size\":10,\"solidity\":0.2}},\"type\":\"bar\"}],\"scattergeo\":[{\"type\":\"scattergeo\",\"marker\":{\"colorbar\":{\"outlinewidth\":0,\"ticks\":\"\"}}}],\"scatterpolar\":[{\"type\":\"scatterpolar\",\"marker\":{\"colorbar\":{\"outlinewidth\":0,\"ticks\":\"\"}}}],\"histogram\":[{\"marker\":{\"pattern\":{\"fillmode\":\"overlay\",\"size\":10,\"solidity\":0.2}},\"type\":\"histogram\"}],\"scattergl\":[{\"type\":\"scattergl\",\"marker\":{\"colorbar\":{\"outlinewidth\":0,\"ticks\":\"\"}}}],\"scatter3d\":[{\"type\":\"scatter3d\",\"line\":{\"colorbar\":{\"outlinewidth\":0,\"ticks\":\"\"}},\"marker\":{\"colorbar\":{\"outlinewidth\":0,\"ticks\":\"\"}}}],\"scattermapbox\":[{\"type\":\"scattermapbox\",\"marker\":{\"colorbar\":{\"outlinewidth\":0,\"ticks\":\"\"}}}],\"scatterternary\":[{\"type\":\"scatterternary\",\"marker\":{\"colorbar\":{\"outlinewidth\":0,\"ticks\":\"\"}}}],\"scattercarpet\":[{\"type\":\"scattercarpet\",\"marker\":{\"colorbar\":{\"outlinewidth\":0,\"ticks\":\"\"}}}],\"carpet\":[{\"aaxis\":{\"endlinecolor\":\"#2a3f5f\",\"gridcolor\":\"white\",\"linecolor\":\"white\",\"minorgridcolor\":\"white\",\"startlinecolor\":\"#2a3f5f\"},\"baxis\":{\"endlinecolor\":\"#2a3f5f\",\"gridcolor\":\"white\",\"linecolor\":\"white\",\"minorgridcolor\":\"white\",\"startlinecolor\":\"#2a3f5f\"},\"type\":\"carpet\"}],\"table\":[{\"cells\":{\"fill\":{\"color\":\"#EBF0F8\"},\"line\":{\"color\":\"white\"}},\"header\":{\"fill\":{\"color\":\"#C8D4E3\"},\"line\":{\"color\":\"white\"}},\"type\":\"table\"}],\"barpolar\":[{\"marker\":{\"line\":{\"color\":\"#E5ECF6\",\"width\":0.5},\"pattern\":{\"fillmode\":\"overlay\",\"size\":10,\"solidity\":0.2}},\"type\":\"barpolar\"}],\"pie\":[{\"automargin\":true,\"type\":\"pie\"}]},\"layout\":{\"autotypenumbers\":\"strict\",\"colorway\":[\"#636efa\",\"#EF553B\",\"#00cc96\",\"#ab63fa\",\"#FFA15A\",\"#19d3f3\",\"#FF6692\",\"#B6E880\",\"#FF97FF\",\"#FECB52\"],\"font\":{\"color\":\"#2a3f5f\"},\"hovermode\":\"closest\",\"hoverlabel\":{\"align\":\"left\"},\"paper_bgcolor\":\"white\",\"plot_bgcolor\":\"#E5ECF6\",\"polar\":{\"bgcolor\":\"#E5ECF6\",\"angularaxis\":{\"gridcolor\":\"white\",\"linecolor\":\"white\",\"ticks\":\"\"},\"radialaxis\":{\"gridcolor\":\"white\",\"linecolor\":\"white\",\"ticks\":\"\"}},\"ternary\":{\"bgcolor\":\"#E5ECF6\",\"aaxis\":{\"gridcolor\":\"white\",\"linecolor\":\"white\",\"ticks\":\"\"},\"baxis\":{\"gridcolor\":\"white\",\"linecolor\":\"white\",\"ticks\":\"\"},\"caxis\":{\"gridcolor\":\"white\",\"linecolor\":\"white\",\"ticks\":\"\"}},\"coloraxis\":{\"colorbar\":{\"outlinewidth\":0,\"ticks\":\"\"}},\"colorscale\":{\"sequential\":[[0.0,\"#0d0887\"],[0.1111111111111111,\"#46039f\"],[0.2222222222222222,\"#7201a8\"],[0.3333333333333333,\"#9c179e\"],[0.4444444444444444,\"#bd3786\"],[0.5555555555555556,\"#d8576b\"],[0.6666666666666666,\"#ed7953\"],[0.7777777777777778,\"#fb9f3a\"],[0.8888888888888888,\"#fdca26\"],[1.0,\"#f0f921\"]],\"sequentialminus\":[[0.0,\"#0d0887\"],[0.1111111111111111,\"#46039f\"],[0.2222222222222222,\"#7201a8\"],[0.3333333333333333,\"#9c179e\"],[0.4444444444444444,\"#bd3786\"],[0.5555555555555556,\"#d8576b\"],[0.6666666666666666,\"#ed7953\"],[0.7777777777777778,\"#fb9f3a\"],[0.8888888888888888,\"#fdca26\"],[1.0,\"#f0f921\"]],\"diverging\":[[0,\"#8e0152\"],[0.1,\"#c51b7d\"],[0.2,\"#de77ae\"],[0.3,\"#f1b6da\"],[0.4,\"#fde0ef\"],[0.5,\"#f7f7f7\"],[0.6,\"#e6f5d0\"],[0.7,\"#b8e186\"],[0.8,\"#7fbc41\"],[0.9,\"#4d9221\"],[1,\"#276419\"]]},\"xaxis\":{\"gridcolor\":\"white\",\"linecolor\":\"white\",\"ticks\":\"\",\"title\":{\"standoff\":15},\"zerolinecolor\":\"white\",\"automargin\":true,\"zerolinewidth\":2},\"yaxis\":{\"gridcolor\":\"white\",\"linecolor\":\"white\",\"ticks\":\"\",\"title\":{\"standoff\":15},\"zerolinecolor\":\"white\",\"automargin\":true,\"zerolinewidth\":2},\"scene\":{\"xaxis\":{\"backgroundcolor\":\"#E5ECF6\",\"gridcolor\":\"white\",\"linecolor\":\"white\",\"showbackground\":true,\"ticks\":\"\",\"zerolinecolor\":\"white\",\"gridwidth\":2},\"yaxis\":{\"backgroundcolor\":\"#E5ECF6\",\"gridcolor\":\"white\",\"linecolor\":\"white\",\"showbackground\":true,\"ticks\":\"\",\"zerolinecolor\":\"white\",\"gridwidth\":2},\"zaxis\":{\"backgroundcolor\":\"#E5ECF6\",\"gridcolor\":\"white\",\"linecolor\":\"white\",\"showbackground\":true,\"ticks\":\"\",\"zerolinecolor\":\"white\",\"gridwidth\":2}},\"shapedefaults\":{\"line\":{\"color\":\"#2a3f5f\"}},\"annotationdefaults\":{\"arrowcolor\":\"#2a3f5f\",\"arrowhead\":0,\"arrowwidth\":1},\"geo\":{\"bgcolor\":\"white\",\"landcolor\":\"#E5ECF6\",\"subunitcolor\":\"white\",\"showland\":true,\"showlakes\":true,\"lakecolor\":\"white\"},\"title\":{\"x\":0.05},\"mapbox\":{\"style\":\"light\"}}},\"scene\":{\"domain\":{\"x\":[0.0,1.0],\"y\":[0.0,1.0]},\"xaxis\":{\"title\":{\"text\":\"temperature\"},\"nticks\":6,\"range\":[140,30]},\"yaxis\":{\"title\":{\"text\":\"time\"},\"nticks\":6,\"range\":[45,1]},\"zaxis\":{\"title\":{\"text\":\"mfp\"},\"nticks\":6,\"range\":[0.33,0.66]}},\"coloraxis\":{\"colorbar\":{\"title\":{\"text\":\"production_rate_(g/hr)\"}},\"colorscale\":[[0.0,\"rgb(255,255,255)\"],[0.125,\"rgb(240,240,240)\"],[0.25,\"rgb(217,217,217)\"],[0.375,\"rgb(189,189,189)\"],[0.5,\"rgb(150,150,150)\"],[0.625,\"rgb(115,115,115)\"],[0.75,\"rgb(82,82,82)\"],[0.875,\"rgb(37,37,37)\"],[1.0,\"rgb(0,0,0)\"]]},\"legend\":{\"tracegroupgap\":0},\"margin\":{\"t\":1,\"l\":0,\"r\":0,\"b\":0},\"title\":{\"text\":\"3D Plot of the Inputs for the Continuous Flow Reaction\",\"y\":0.95,\"x\":0.5,\"xanchor\":\"center\",\"yanchor\":\"top\"}},                        {\"responsive\": true}                    ).then(function(){\n",
       "                            \n",
       "var gd = document.getElementById('cade765b-f8d9-4ca2-9f37-a416dfe9c03e');\n",
       "var x = new MutationObserver(function (mutations, observer) {{\n",
       "        var display = window.getComputedStyle(gd).display;\n",
       "        if (!display || display === 'none') {{\n",
       "            console.log([gd, 'removed!']);\n",
       "            Plotly.purge(gd);\n",
       "            observer.disconnect();\n",
       "        }}\n",
       "}});\n",
       "\n",
       "// Listen for the removal of the full notebook cells\n",
       "var notebookContainer = gd.closest('#notebook-container');\n",
       "if (notebookContainer) {{\n",
       "    x.observe(notebookContainer, {childList: true});\n",
       "}}\n",
       "\n",
       "// Listen for the clearing of the current output cell\n",
       "var outputEl = gd.closest('.output');\n",
       "if (outputEl) {{\n",
       "    x.observe(outputEl, {childList: true});\n",
       "}}\n",
       "\n",
       "                        })                };                });            </script>        </div>"
      ]
     },
     "metadata": {},
     "output_type": "display_data"
    },
    {
     "name": "stdout",
     "output_type": "stream",
     "text": [
      "iteration 0 already exists\n",
      "iteration 1 already exists\n",
      "iteration 2 already exists\n",
      "iteration 3 already exists\n",
      "iteration 4 already exists\n"
     ]
    }
   ],
   "source": [
    "#convert csv into df\n",
    "\n",
    "#df of reaction data\n",
    "df = pd.read_csv('reaction.csv')\n",
    "\n",
    "#Create a df to plot points \n",
    "\n",
    "#turn all pending data to NaN\n",
    "df = df.replace('PENDING',pd.NaT)\n",
    "#delete all the NaN data points \n",
    "df = df.dropna(axis=0)\n",
    "\n",
    "\n",
    "#turn data from string to numeric (the pending made them strings)\n",
    "df['production_rate_(g/hr)'] = df['production_rate_(g/hr)'].apply(pd.to_numeric)\n",
    "df['yield'] = df['yield'].apply(pd.to_numeric)\n",
    "#df['round'] = df['round'].apply(pd.to_numeric)\n",
    "df = df.sort_values(by='round', ascending=True)\n",
    "\n",
    "#print(df.iloc[10,6])\n",
    "#length of results\n",
    "results_length = []\n",
    "#loop through all results (-1 means it is a result)\n",
    "for i in range(len(df['priority']==-1)):\n",
    "    results_length.append(i)\n",
    "#max value of yield and production\n",
    "max_value_yield = df['yield'].max()\n",
    "max_value_production_rate = df['production_rate_(g/hr)'].max()\n",
    "\n",
    "#convert to numpy array for plotting in plotly\n",
    "pareto_x = df['yield'].to_numpy()\n",
    "pareto_y =df['production_rate_(g/hr)'].to_numpy()\n",
    "\n",
    "\n",
    "################################\n",
    "fig_3d = px.scatter_3d(data_frame=df, x='temperature', y='time', z='mfp', color = 'round', hover_name = 'yield', hover_data = ['yield'],color_continuous_scale=px.colors.sequential.Greys,color_discrete_sequence= px.colors.sequential.gray_r)\n",
    "fig_3d.update_traces(marker=dict(size=7))\n",
    "fig_3d.update_layout(\n",
    "    scene = dict(\n",
    "        xaxis=dict(nticks=6,range=[140,30]),\n",
    "        yaxis=dict(nticks=6,range=[45,1]),\n",
    "        zaxis=dict(nticks=6,range=[0.33,0.66])\n",
    "    ),\n",
    "    title={\n",
    "        'text': \"3D Plot of the Inputs for the Continuous Flow Reaction\",\n",
    "        'y':0.9,\n",
    "        'x':0.5,\n",
    "        'xanchor': 'center',\n",
    "        'yanchor': 'top'},\n",
    "        title_y=0.95,\n",
    "        margin=dict(l=0,r=0,b=0,t=1)\n",
    "        )   \n",
    "fig_3d.show() \n",
    "\n",
    "fig_3d.write_html(\"plots/3d_plots/final_round/3d_final_round.html\")\n",
    "if not os.path.exists(\"plots/3d_plots/final_round\"):\n",
    "    os.mkdir(\"plots/3d_plots/final_round\")\n",
    "for i in range(0,100):\n",
    "    if not os.path.exists(\"plots/3d_plots/final_round/3d_final_round{}.png\".format(i)):\n",
    "        fig_3d.write_image(\"plots/3d_plots/final_round/3d_final_round{}.png\".format(i))\n",
    "        break\n",
    "    else:\n",
    "        print('iteration {} already exists'.format(i))\n",
    "\n",
    "\n",
    "fig_3d_total = px.scatter_3d(data_frame=df, x='temperature', y='time', z='mfp', color = 'Round', hover_name = 'yield', hover_data = ['yield'],\n",
    ")#color_continuous_scale=px.colors.sequential.Greys,color_discrete_sequence= px.colors.sequential.gray_r)\n",
    "#fig_3d_total.add_trace((go.Scatter(df,x='temperature', y='time',z='mfp', name= 'Current Round',)))\n",
    "fig_3d_total.update_traces(marker=dict(size=7))\n",
    "#fig_3d_total.update_yaxes(range=[1,45])\n",
    "#fig_3d_total.update_xaxes(range=[30,140])\n",
    "fig_3d_total.update_layout(\n",
    "    scene = dict(\n",
    "        xaxis=dict(nticks=6,range=[140,30]),\n",
    "        yaxis=dict(nticks=6,range=[45,1]),\n",
    "        zaxis=dict(nticks=6,range=[0.33,0.66])\n",
    "    ),\n",
    "    title={\n",
    "        'text': \"3D Plot of the Inputs for the Continuous Flow Reaction\",\n",
    "        'y':0.9,\n",
    "        'x':0.5,\n",
    "        'xanchor': 'center',\n",
    "        'yanchor': 'top'},\n",
    "        title_y=0.95,\n",
    "        margin=dict(l=0,r=0,b=0,t=1)\n",
    "        )   \n",
    "fig_3d_total.show() \n",
    "\n",
    "\n",
    "if not os.path.exists(\"plots/3d_plots\"):\n",
    "    os.mkdir(\"plots/3d_plots\")\n",
    "for i in range(0,100):\n",
    "    if not os.path.exists(\"plots/3d_plots/3d_fig{}.png\".format(i)):\n",
    "        fig_3d_total.write_image(\"plots/3d_plots/3d_fig{}.png\".format(i))\n",
    "        break\n",
    "    else:\n",
    "        print('iteration {} already exists'.format(i))\n",
    "\n",
    "\n",
    "fig_3d_yield = px.scatter_3d(data_frame=df, x='temperature', y='time', z='mfp', color = 'yield', hover_name = 'yield', hover_data = ['yield'],color_continuous_scale=px.colors.sequential.Greys,color_discrete_sequence= px.colors.sequential.gray_r)\n",
    "fig_3d_yield.update_traces(marker=dict(size=7))\n",
    "fig_3d_yield.update_layout(\n",
    "  scene = dict(\n",
    "        xaxis=dict(nticks=6,range=[140,30]),\n",
    "        yaxis=dict(nticks=6,range=[45,1]),\n",
    "        zaxis=dict(nticks=6,range=[0.33,0.66])\n",
    "    ),\n",
    "    title={\n",
    "        'text': \"3D Plot of the Inputs for the Continuous Flow Reaction\",\n",
    "        'y':0.9,\n",
    "        'x':0.5,\n",
    "        'xanchor': 'center',\n",
    "        'yanchor': 'top'},\n",
    "        title_y=0.95,\n",
    "        margin=dict(l=0,r=0,b=0,t=1)\n",
    "        )   \n",
    "fig_3d_yield.show() \n",
    "\n",
    "if not os.path.exists(\"plots/3d_plots/final_round\"):\n",
    "    os.mkdir(\"plots/3d_plots/final_round\")\n",
    "for i in range(0,20):\n",
    "    if not os.path.exists(\"plots/3d_plots/final_round/3d_final_round_yield{}.png\".format(i)):\n",
    "        fig_3d_yield.write_image(\"plots/3d_plots/final_round/3d_final_round_yield{}.png\".format(i))\n",
    "        break\n",
    "    else:\n",
    "        print('iteration {} already exists'.format(i))\n",
    "\n",
    "\n",
    "fig_3d_production = px.scatter_3d(data_frame=df, x='temperature', y='time', z='mfp', color = 'production_rate_(g/hr)', hover_name = 'yield', hover_data = ['yield'],color_continuous_scale=px.colors.sequential.Greys,color_discrete_sequence= px.colors.sequential.gray_r)\n",
    "fig_3d_production.update_traces(marker=dict(size=7))\n",
    "fig_3d_production.update_layout(\n",
    "   scene = dict(\n",
    "        xaxis=dict(nticks=6,range=[140,30]),\n",
    "        yaxis=dict(nticks=6,range=[45,1]),\n",
    "        zaxis=dict(nticks=6,range=[0.33,0.66])\n",
    "    ),\n",
    "    title={\n",
    "        'text': \"3D Plot of the Inputs for the Continuous Flow Reaction\",\n",
    "        'y':0.9,\n",
    "        'x':0.5,\n",
    "        'xanchor': 'center',\n",
    "        'yanchor': 'top'},\n",
    "        title_y=0.95,\n",
    "        margin=dict(l=0,r=0,b=0,t=1)\n",
    "        )   \n",
    "fig_3d_production.show() \n",
    "\n",
    "if not os.path.exists(\"plots/3d_plots/final_round\"):\n",
    "    os.mkdir(\"plots/3d_plots/final_round\")\n",
    "for i in range(0,100):\n",
    "    if not os.path.exists(\"plots/3d_plots/final_round/3d_final_round_production{}.png\".format(i)):\n",
    "        fig_3d_production.write_image(\"plots/3d_plots/final_round/3d_final_round_production{}.png\".format(i))\n",
    "        break\n",
    "    else:\n",
    "        print('iteration {} already exists'.format(i))"
   ]
  },
  {
   "cell_type": "code",
   "execution_count": 15,
   "metadata": {},
   "outputs": [],
   "source": [
    "#plotly scatter plot with pareto front\n",
    "\n",
    "def plot_pareto_frontier_animation(Xs, Ys, maxX=True, maxY=True):\n",
    "    '''Pareto frontier selection process'''\n",
    "    sorted_list = sorted([[Xs[i], Ys[i]] for i in range(len(Xs))], reverse=maxY)\n",
    "    pareto_front = [sorted_list[0]]\n",
    "    for pair in sorted_list[1:]:\n",
    "        if maxY:\n",
    "            if pair[1] >= pareto_front[-1][1]:\n",
    "                pareto_front.append(pair)\n",
    "        else:\n",
    "            if pair[1] <= pareto_front[-1][1]:\n",
    "                pareto_front.append(pair)\n",
    "    pf_X = [pair[0] for pair in pareto_front]\n",
    "    pf_Y = [pair[1] for pair in pareto_front]\n",
    "\n",
    "    fig = px.scatter(df,x='yield', y='production_rate_(g/hr)',\n",
    "   size='size',\n",
    "   color='round',\n",
    "   animation_frame='round',\n",
    "    color_discrete_sequence= px.colors.sequential.gray_r,#px.colors.diverging.balance,\n",
    "     color_continuous_scale=px.colors.sequential.Greys,\n",
    "    hover_data=['temperature','time','mfp'],\n",
    "    labels={'yield':'Yield (%)','production_rate_(g/hr)':'Production Rate (g/hr)'})\n",
    "    fig.add_trace(go.Scatter(x=pf_X, y=pf_Y, name= 'Pareto Front',\n",
    "                    line=dict(color='firebrick', width=2)))\n",
    "    fig.update_yaxes(range=[0,3])\n",
    "    fig.update_xaxes(range=[0,100])\n",
    "    fig.update_layout(\n",
    "        title={\n",
    "            'text': \"Multiobjective Optimization of a Continuous Flow Reaction\",\n",
    "            'y':0.9,\n",
    "            'x':0.5,\n",
    "            'xanchor': 'center',\n",
    "            'yanchor': 'top'},\n",
    "            title_y=0.95,\n",
    "           \n",
    "            )\n",
    "    fig.update_traces(marker=dict(line=dict(width=2,color='darkgreen')))\n",
    "    fig.show()\n",
    "    print('Highest yield is {}%'.format(df['yield'].max()))\n",
    "    print('Highest production rate is {}g/hr'.format(df['production_rate_(g/hr)'].max()))\n",
    "\n",
    "\n",
    "\n",
    "    "
   ]
  },
  {
   "cell_type": "markdown",
   "metadata": {},
   "source": [
    "### Animated version of the pareto plot"
   ]
  },
  {
   "cell_type": "code",
   "execution_count": 16,
   "metadata": {},
   "outputs": [
    {
     "data": {
      "application/vnd.plotly.v1+json": {
       "config": {
        "plotlyServerURL": "https://plot.ly"
       },
       "data": [
        {
         "customdata": [
          [
           85,
           23,
           0.5
          ],
          [
           85,
           23,
           0.5
          ],
          [
           85,
           23,
           0.5
          ],
          [
           85,
           23,
           0.5
          ]
         ],
         "hovertemplate": "round=0<br>Yield (%)=%{x}<br>Production Rate (g/hr)=%{y}<br>size=%{marker.size}<br>temperature=%{customdata[0]}<br>time=%{customdata[1]}<br>mfp=%{customdata[2]}<extra></extra>",
         "legendgroup": "0",
         "marker": {
          "color": "rgb(254, 254, 253)",
          "line": {
           "color": "darkgreen",
           "width": 2
          },
          "size": [
           5,
           5,
           5,
           5
          ],
          "sizemode": "area",
          "sizeref": 0.0125,
          "symbol": "circle"
         },
         "mode": "markers",
         "name": "0",
         "orientation": "v",
         "showlegend": true,
         "type": "scatter",
         "x": [
          17.78,
          15.23,
          13.92,
          13.21
         ],
         "xaxis": "x",
         "y": [
          0.2506,
          0.2146,
          0.1962,
          0.1862
         ],
         "yaxis": "y"
        },
        {
         "line": {
          "color": "firebrick",
          "width": 2
         },
         "marker": {
          "line": {
           "color": "darkgreen",
           "width": 2
          }
         },
         "name": "Pareto Front",
         "type": "scatter",
         "x": [
          90.24,
          87.6,
          85.86,
          76.14,
          73.57,
          69.79,
          64.76,
          51.14,
          49.38,
          32.96,
          10.32,
          9.252
         ],
         "y": [
          0.6575,
          0.7245,
          0.9024,
          1.1462,
          1.3657,
          1.4285,
          1.6026,
          1.7707,
          2.0117,
          2.1045,
          2.2082,
          2.22
         ]
        }
       ],
       "frames": [
        {
         "data": [
          {
           "customdata": [
            [
             85,
             23,
             0.5
            ],
            [
             85,
             23,
             0.5
            ],
            [
             85,
             23,
             0.5
            ],
            [
             85,
             23,
             0.5
            ]
           ],
           "hovertemplate": "round=0<br>Yield (%)=%{x}<br>Production Rate (g/hr)=%{y}<br>size=%{marker.size}<br>temperature=%{customdata[0]}<br>time=%{customdata[1]}<br>mfp=%{customdata[2]}<extra></extra>",
           "legendgroup": "0",
           "marker": {
            "color": "rgb(254, 254, 253)",
            "size": [
             5,
             5,
             5,
             5
            ],
            "sizemode": "area",
            "sizeref": 0.0125,
            "symbol": "circle"
           },
           "mode": "markers",
           "name": "0",
           "orientation": "v",
           "showlegend": true,
           "type": "scatter",
           "x": [
            17.78,
            15.23,
            13.92,
            13.21
           ],
           "xaxis": "x",
           "y": [
            0.2506,
            0.2146,
            0.1962,
            0.1862
           ],
           "yaxis": "y"
          }
         ],
         "name": "0"
        },
        {
         "data": [
          {
           "customdata": [
            [
             135,
             23,
             0.36
            ],
            [
             132,
             3,
             0.36
            ],
            [
             123,
             23,
             0.46
            ]
           ],
           "hovertemplate": "round=1<br>Yield (%)=%{x}<br>Production Rate (g/hr)=%{y}<br>size=%{marker.size}<br>temperature=%{customdata[0]}<br>time=%{customdata[1]}<br>mfp=%{customdata[2]}<extra></extra>",
           "legendgroup": "1",
           "marker": {
            "color": "rgb(224, 224, 223)",
            "size": [
             5,
             5,
             5
            ],
            "sizemode": "area",
            "sizeref": 0.0125,
            "symbol": "circle"
           },
           "mode": "markers",
           "name": "1",
           "orientation": "v",
           "showlegend": true,
           "type": "scatter",
           "x": [
            77.16,
            21.22,
            56.93
           ],
           "xaxis": "x",
           "y": [
            0.7788,
            1.638,
            0.7327
           ],
           "yaxis": "y"
          }
         ],
         "name": "1"
        },
        {
         "data": [
          {
           "customdata": [
            [
             135,
             29,
             0.63
            ],
            [
             138,
             13,
             0.63
            ],
            [
             138,
             15,
             0.56
            ]
           ],
           "hovertemplate": "round=2<br>Yield (%)=%{x}<br>Production Rate (g/hr)=%{y}<br>size=%{marker.size}<br>temperature=%{customdata[0]}<br>time=%{customdata[1]}<br>mfp=%{customdata[2]}<extra></extra>",
           "legendgroup": "2",
           "marker": {
            "color": "rgb(197, 197, 195)",
            "size": [
             5,
             5,
             5
            ],
            "sizemode": "area",
            "sizeref": 0.0125,
            "symbol": "circle"
           },
           "mode": "markers",
           "name": "2",
           "orientation": "v",
           "showlegend": true,
           "type": "scatter",
           "x": [
            87.6,
            70.98,
            67.86
           ],
           "xaxis": "x",
           "y": [
            0.7245,
            1.3091,
            1.2948
           ],
           "yaxis": "y"
          }
         ],
         "name": "2"
        },
        {
         "data": [
          {
           "customdata": [
            [
             138,
             41,
             0.48
            ],
            [
             138,
             5,
             0.66
            ],
            [
             135,
             1,
             0.63
            ]
           ],
           "hovertemplate": "round=3<br>Yield (%)=%{x}<br>Production Rate (g/hr)=%{y}<br>size=%{marker.size}<br>temperature=%{customdata[0]}<br>time=%{customdata[1]}<br>mfp=%{customdata[2]}<extra></extra>",
           "legendgroup": "3",
           "marker": {
            "color": "rgb(171, 171, 170)",
            "size": [
             5,
             5,
             5
            ],
            "sizemode": "area",
            "sizeref": 0.0125,
            "symbol": "circle"
           },
           "mode": "markers",
           "name": "3",
           "orientation": "v",
           "showlegend": true,
           "type": "scatter",
           "x": [
            81.59,
            41.12,
            9.252
           ],
           "xaxis": "x",
           "y": [
            0.6239,
            1.8241,
            2.22
           ],
           "yaxis": "y"
          }
         ],
         "name": "3"
        },
        {
         "data": [
          {
           "customdata": [
            [
             138,
             21,
             0.66
            ],
            [
             138,
             3,
             0.66
            ],
            [
             135,
             13,
             0.61
            ]
           ],
           "hovertemplate": "round=4<br>Yield (%)=%{x}<br>Production Rate (g/hr)=%{y}<br>size=%{marker.size}<br>temperature=%{customdata[0]}<br>time=%{customdata[1]}<br>mfp=%{customdata[2]}<extra></extra>",
           "legendgroup": "4",
           "marker": {
            "color": "rgb(146, 146, 145)",
            "size": [
             5,
             5,
             5
            ],
            "sizemode": "area",
            "sizeref": 0.0125,
            "symbol": "circle"
           },
           "mode": "markers",
           "name": "4",
           "orientation": "v",
           "showlegend": true,
           "type": "scatter",
           "x": [
            85.86,
            26.38,
            62.9
           ],
           "xaxis": "x",
           "y": [
            0.9024,
            1.9502,
            1.2306
           ],
           "yaxis": "y"
          }
         ],
         "name": "4"
        },
        {
         "data": [
          {
           "customdata": [
            [
             138,
             5,
             0.51
            ],
            [
             138,
             15,
             0.48
            ],
            [
             138,
             9,
             0.48
            ]
           ],
           "hovertemplate": "round=5<br>Yield (%)=%{x}<br>Production Rate (g/hr)=%{y}<br>size=%{marker.size}<br>temperature=%{customdata[0]}<br>time=%{customdata[1]}<br>mfp=%{customdata[2]}<extra></extra>",
           "legendgroup": "5",
           "marker": {
            "color": "rgb(124, 123, 122)",
            "size": [
             5,
             5,
             5
            ],
            "sizemode": "area",
            "sizeref": 0.0125,
            "symbol": "circle"
           },
           "mode": "markers",
           "name": "5",
           "orientation": "v",
           "showlegend": true,
           "type": "scatter",
           "x": [
            32.96,
            66.05,
            51.14
           ],
           "xaxis": "x",
           "y": [
            2.1045,
            1.3728,
            1.7707
           ],
           "yaxis": "y"
          }
         ],
         "name": "5"
        },
        {
         "data": [
          {
           "customdata": [
            [
             138,
             29,
             0.66
            ],
            [
             75,
             3,
             0.58
            ],
            [
             51,
             1,
             0.56
            ]
           ],
           "hovertemplate": "round=6<br>Yield (%)=%{x}<br>Production Rate (g/hr)=%{y}<br>size=%{marker.size}<br>temperature=%{customdata[0]}<br>time=%{customdata[1]}<br>mfp=%{customdata[2]}<extra></extra>",
           "legendgroup": "6",
           "marker": {
            "color": "rgb(102, 101, 101)",
            "size": [
             5,
             5,
             5
            ],
            "sizemode": "area",
            "sizeref": 0.0125,
            "symbol": "circle"
           },
           "mode": "markers",
           "name": "6",
           "orientation": "v",
           "showlegend": true,
           "type": "scatter",
           "x": [
            86.31,
            1.61,
            1.73
           ],
           "xaxis": "x",
           "y": [
            0.6619,
            0.1463,
            0.4962
           ],
           "yaxis": "y"
          }
         ],
         "name": "6"
        },
        {
         "data": [
          {
           "customdata": [
            [
             63,
             33,
             0.56
            ],
            [
             54,
             41,
             0.51
            ],
            [
             45,
             35,
             0.61
            ]
           ],
           "hovertemplate": "round=7<br>Yield (%)=%{x}<br>Production Rate (g/hr)=%{y}<br>size=%{marker.size}<br>temperature=%{customdata[0]}<br>time=%{customdata[1]}<br>mfp=%{customdata[2]}<extra></extra>",
           "legendgroup": "7",
           "marker": {
            "color": "rgb(81, 80, 80)",
            "size": [
             5,
             5,
             5
            ],
            "sizemode": "area",
            "sizeref": 0.0125,
            "symbol": "circle"
           },
           "mode": "markers",
           "name": "7",
           "orientation": "v",
           "showlegend": true,
           "type": "scatter",
           "x": [
            8.49,
            6.1,
            5.62
           ],
           "xaxis": "x",
           "y": [
            0.0736,
            0.0474,
            0.0408
           ],
           "yaxis": "y"
          }
         ],
         "name": "7"
        },
        {
         "data": [
          {
           "customdata": [
            [
             138,
             15,
             0.43
            ],
            [
             138,
             13,
             0.48
            ],
            [
             138,
             1,
             0.33
            ]
           ],
           "hovertemplate": "round=8<br>Yield (%)=%{x}<br>Production Rate (g/hr)=%{y}<br>size=%{marker.size}<br>temperature=%{customdata[0]}<br>time=%{customdata[1]}<br>mfp=%{customdata[2]}<extra></extra>",
           "legendgroup": "8",
           "marker": {
            "color": "rgb(59, 59, 59)",
            "size": [
             5,
             5,
             5
            ],
            "sizemode": "area",
            "sizeref": 0.0125,
            "symbol": "circle"
           },
           "mode": "markers",
           "name": "8",
           "orientation": "v",
           "showlegend": true,
           "type": "scatter",
           "x": [
            73.57,
            62.52,
            10.32
           ],
           "xaxis": "x",
           "y": [
            1.3657,
            1.4984,
            2.2082
           ],
           "yaxis": "y"
          }
         ],
         "name": "8"
        },
        {
         "data": [
          {
           "customdata": [
            [
             138,
             33,
             0.63
            ],
            [
             138,
             23,
             0.41
            ],
            [
             138,
             13,
             0.41
            ]
           ],
           "hovertemplate": "round=9<br>Yield (%)=%{x}<br>Production Rate (g/hr)=%{y}<br>size=%{marker.size}<br>temperature=%{customdata[0]}<br>time=%{customdata[1]}<br>mfp=%{customdata[2]}<extra></extra>",
           "legendgroup": "9",
           "marker": {
            "color": "rgb(38, 38, 38)",
            "size": [
             5,
             5,
             5
            ],
            "sizemode": "area",
            "sizeref": 0.0125,
            "symbol": "circle"
           },
           "mode": "markers",
           "name": "9",
           "orientation": "v",
           "showlegend": true,
           "type": "scatter",
           "x": [
            90.24,
            77.41,
            69.79
           ],
           "xaxis": "x",
           "y": [
            0.6575,
            0.885,
            1.4285
           ],
           "yaxis": "y"
          }
         ],
         "name": "9"
        },
        {
         "data": [
          {
           "customdata": [
            [
             138,
             11,
             0.58
            ],
            [
             138,
             19,
             0.56
            ],
            [
             138,
             7,
             0.56
            ]
           ],
           "hovertemplate": "round=Final Round<br>Yield (%)=%{x}<br>Production Rate (g/hr)=%{y}<br>size=%{marker.size}<br>temperature=%{customdata[0]}<br>time=%{customdata[1]}<br>mfp=%{customdata[2]}<extra></extra>",
           "legendgroup": "Final Round",
           "marker": {
            "color": "rgb(16, 16, 16)",
            "size": [
             5,
             5,
             5
            ],
            "sizemode": "area",
            "sizeref": 0.0125,
            "symbol": "circle"
           },
           "mode": "markers",
           "name": "Final Round",
           "orientation": "v",
           "showlegend": true,
           "type": "scatter",
           "x": [
            64.76,
            76.14,
            49.38
           ],
           "xaxis": "x",
           "y": [
            1.6026,
            1.1462,
            2.0117
           ],
           "yaxis": "y"
          }
         ],
         "name": "Final Round"
        }
       ],
       "layout": {
        "legend": {
         "itemsizing": "constant",
         "title": {
          "text": "round"
         },
         "tracegroupgap": 0
        },
        "margin": {
         "t": 60
        },
        "sliders": [
         {
          "active": 0,
          "currentvalue": {
           "prefix": "round="
          },
          "len": 0.9,
          "pad": {
           "b": 10,
           "t": 60
          },
          "steps": [
           {
            "args": [
             [
              "0"
             ],
             {
              "frame": {
               "duration": 0,
               "redraw": false
              },
              "fromcurrent": true,
              "mode": "immediate",
              "transition": {
               "duration": 0,
               "easing": "linear"
              }
             }
            ],
            "label": "0",
            "method": "animate"
           },
           {
            "args": [
             [
              "1"
             ],
             {
              "frame": {
               "duration": 0,
               "redraw": false
              },
              "fromcurrent": true,
              "mode": "immediate",
              "transition": {
               "duration": 0,
               "easing": "linear"
              }
             }
            ],
            "label": "1",
            "method": "animate"
           },
           {
            "args": [
             [
              "2"
             ],
             {
              "frame": {
               "duration": 0,
               "redraw": false
              },
              "fromcurrent": true,
              "mode": "immediate",
              "transition": {
               "duration": 0,
               "easing": "linear"
              }
             }
            ],
            "label": "2",
            "method": "animate"
           },
           {
            "args": [
             [
              "3"
             ],
             {
              "frame": {
               "duration": 0,
               "redraw": false
              },
              "fromcurrent": true,
              "mode": "immediate",
              "transition": {
               "duration": 0,
               "easing": "linear"
              }
             }
            ],
            "label": "3",
            "method": "animate"
           },
           {
            "args": [
             [
              "4"
             ],
             {
              "frame": {
               "duration": 0,
               "redraw": false
              },
              "fromcurrent": true,
              "mode": "immediate",
              "transition": {
               "duration": 0,
               "easing": "linear"
              }
             }
            ],
            "label": "4",
            "method": "animate"
           },
           {
            "args": [
             [
              "5"
             ],
             {
              "frame": {
               "duration": 0,
               "redraw": false
              },
              "fromcurrent": true,
              "mode": "immediate",
              "transition": {
               "duration": 0,
               "easing": "linear"
              }
             }
            ],
            "label": "5",
            "method": "animate"
           },
           {
            "args": [
             [
              "6"
             ],
             {
              "frame": {
               "duration": 0,
               "redraw": false
              },
              "fromcurrent": true,
              "mode": "immediate",
              "transition": {
               "duration": 0,
               "easing": "linear"
              }
             }
            ],
            "label": "6",
            "method": "animate"
           },
           {
            "args": [
             [
              "7"
             ],
             {
              "frame": {
               "duration": 0,
               "redraw": false
              },
              "fromcurrent": true,
              "mode": "immediate",
              "transition": {
               "duration": 0,
               "easing": "linear"
              }
             }
            ],
            "label": "7",
            "method": "animate"
           },
           {
            "args": [
             [
              "8"
             ],
             {
              "frame": {
               "duration": 0,
               "redraw": false
              },
              "fromcurrent": true,
              "mode": "immediate",
              "transition": {
               "duration": 0,
               "easing": "linear"
              }
             }
            ],
            "label": "8",
            "method": "animate"
           },
           {
            "args": [
             [
              "9"
             ],
             {
              "frame": {
               "duration": 0,
               "redraw": false
              },
              "fromcurrent": true,
              "mode": "immediate",
              "transition": {
               "duration": 0,
               "easing": "linear"
              }
             }
            ],
            "label": "9",
            "method": "animate"
           },
           {
            "args": [
             [
              "Final Round"
             ],
             {
              "frame": {
               "duration": 0,
               "redraw": false
              },
              "fromcurrent": true,
              "mode": "immediate",
              "transition": {
               "duration": 0,
               "easing": "linear"
              }
             }
            ],
            "label": "Final Round",
            "method": "animate"
           }
          ],
          "x": 0.1,
          "xanchor": "left",
          "y": 0,
          "yanchor": "top"
         }
        ],
        "template": {
         "data": {
          "bar": [
           {
            "error_x": {
             "color": "#2a3f5f"
            },
            "error_y": {
             "color": "#2a3f5f"
            },
            "marker": {
             "line": {
              "color": "#E5ECF6",
              "width": 0.5
             },
             "pattern": {
              "fillmode": "overlay",
              "size": 10,
              "solidity": 0.2
             }
            },
            "type": "bar"
           }
          ],
          "barpolar": [
           {
            "marker": {
             "line": {
              "color": "#E5ECF6",
              "width": 0.5
             },
             "pattern": {
              "fillmode": "overlay",
              "size": 10,
              "solidity": 0.2
             }
            },
            "type": "barpolar"
           }
          ],
          "carpet": [
           {
            "aaxis": {
             "endlinecolor": "#2a3f5f",
             "gridcolor": "white",
             "linecolor": "white",
             "minorgridcolor": "white",
             "startlinecolor": "#2a3f5f"
            },
            "baxis": {
             "endlinecolor": "#2a3f5f",
             "gridcolor": "white",
             "linecolor": "white",
             "minorgridcolor": "white",
             "startlinecolor": "#2a3f5f"
            },
            "type": "carpet"
           }
          ],
          "choropleth": [
           {
            "colorbar": {
             "outlinewidth": 0,
             "ticks": ""
            },
            "type": "choropleth"
           }
          ],
          "contour": [
           {
            "colorbar": {
             "outlinewidth": 0,
             "ticks": ""
            },
            "colorscale": [
             [
              0,
              "#0d0887"
             ],
             [
              0.1111111111111111,
              "#46039f"
             ],
             [
              0.2222222222222222,
              "#7201a8"
             ],
             [
              0.3333333333333333,
              "#9c179e"
             ],
             [
              0.4444444444444444,
              "#bd3786"
             ],
             [
              0.5555555555555556,
              "#d8576b"
             ],
             [
              0.6666666666666666,
              "#ed7953"
             ],
             [
              0.7777777777777778,
              "#fb9f3a"
             ],
             [
              0.8888888888888888,
              "#fdca26"
             ],
             [
              1,
              "#f0f921"
             ]
            ],
            "type": "contour"
           }
          ],
          "contourcarpet": [
           {
            "colorbar": {
             "outlinewidth": 0,
             "ticks": ""
            },
            "type": "contourcarpet"
           }
          ],
          "heatmap": [
           {
            "colorbar": {
             "outlinewidth": 0,
             "ticks": ""
            },
            "colorscale": [
             [
              0,
              "#0d0887"
             ],
             [
              0.1111111111111111,
              "#46039f"
             ],
             [
              0.2222222222222222,
              "#7201a8"
             ],
             [
              0.3333333333333333,
              "#9c179e"
             ],
             [
              0.4444444444444444,
              "#bd3786"
             ],
             [
              0.5555555555555556,
              "#d8576b"
             ],
             [
              0.6666666666666666,
              "#ed7953"
             ],
             [
              0.7777777777777778,
              "#fb9f3a"
             ],
             [
              0.8888888888888888,
              "#fdca26"
             ],
             [
              1,
              "#f0f921"
             ]
            ],
            "type": "heatmap"
           }
          ],
          "heatmapgl": [
           {
            "colorbar": {
             "outlinewidth": 0,
             "ticks": ""
            },
            "colorscale": [
             [
              0,
              "#0d0887"
             ],
             [
              0.1111111111111111,
              "#46039f"
             ],
             [
              0.2222222222222222,
              "#7201a8"
             ],
             [
              0.3333333333333333,
              "#9c179e"
             ],
             [
              0.4444444444444444,
              "#bd3786"
             ],
             [
              0.5555555555555556,
              "#d8576b"
             ],
             [
              0.6666666666666666,
              "#ed7953"
             ],
             [
              0.7777777777777778,
              "#fb9f3a"
             ],
             [
              0.8888888888888888,
              "#fdca26"
             ],
             [
              1,
              "#f0f921"
             ]
            ],
            "type": "heatmapgl"
           }
          ],
          "histogram": [
           {
            "marker": {
             "pattern": {
              "fillmode": "overlay",
              "size": 10,
              "solidity": 0.2
             }
            },
            "type": "histogram"
           }
          ],
          "histogram2d": [
           {
            "colorbar": {
             "outlinewidth": 0,
             "ticks": ""
            },
            "colorscale": [
             [
              0,
              "#0d0887"
             ],
             [
              0.1111111111111111,
              "#46039f"
             ],
             [
              0.2222222222222222,
              "#7201a8"
             ],
             [
              0.3333333333333333,
              "#9c179e"
             ],
             [
              0.4444444444444444,
              "#bd3786"
             ],
             [
              0.5555555555555556,
              "#d8576b"
             ],
             [
              0.6666666666666666,
              "#ed7953"
             ],
             [
              0.7777777777777778,
              "#fb9f3a"
             ],
             [
              0.8888888888888888,
              "#fdca26"
             ],
             [
              1,
              "#f0f921"
             ]
            ],
            "type": "histogram2d"
           }
          ],
          "histogram2dcontour": [
           {
            "colorbar": {
             "outlinewidth": 0,
             "ticks": ""
            },
            "colorscale": [
             [
              0,
              "#0d0887"
             ],
             [
              0.1111111111111111,
              "#46039f"
             ],
             [
              0.2222222222222222,
              "#7201a8"
             ],
             [
              0.3333333333333333,
              "#9c179e"
             ],
             [
              0.4444444444444444,
              "#bd3786"
             ],
             [
              0.5555555555555556,
              "#d8576b"
             ],
             [
              0.6666666666666666,
              "#ed7953"
             ],
             [
              0.7777777777777778,
              "#fb9f3a"
             ],
             [
              0.8888888888888888,
              "#fdca26"
             ],
             [
              1,
              "#f0f921"
             ]
            ],
            "type": "histogram2dcontour"
           }
          ],
          "mesh3d": [
           {
            "colorbar": {
             "outlinewidth": 0,
             "ticks": ""
            },
            "type": "mesh3d"
           }
          ],
          "parcoords": [
           {
            "line": {
             "colorbar": {
              "outlinewidth": 0,
              "ticks": ""
             }
            },
            "type": "parcoords"
           }
          ],
          "pie": [
           {
            "automargin": true,
            "type": "pie"
           }
          ],
          "scatter": [
           {
            "fillpattern": {
             "fillmode": "overlay",
             "size": 10,
             "solidity": 0.2
            },
            "type": "scatter"
           }
          ],
          "scatter3d": [
           {
            "line": {
             "colorbar": {
              "outlinewidth": 0,
              "ticks": ""
             }
            },
            "marker": {
             "colorbar": {
              "outlinewidth": 0,
              "ticks": ""
             }
            },
            "type": "scatter3d"
           }
          ],
          "scattercarpet": [
           {
            "marker": {
             "colorbar": {
              "outlinewidth": 0,
              "ticks": ""
             }
            },
            "type": "scattercarpet"
           }
          ],
          "scattergeo": [
           {
            "marker": {
             "colorbar": {
              "outlinewidth": 0,
              "ticks": ""
             }
            },
            "type": "scattergeo"
           }
          ],
          "scattergl": [
           {
            "marker": {
             "colorbar": {
              "outlinewidth": 0,
              "ticks": ""
             }
            },
            "type": "scattergl"
           }
          ],
          "scattermapbox": [
           {
            "marker": {
             "colorbar": {
              "outlinewidth": 0,
              "ticks": ""
             }
            },
            "type": "scattermapbox"
           }
          ],
          "scatterpolar": [
           {
            "marker": {
             "colorbar": {
              "outlinewidth": 0,
              "ticks": ""
             }
            },
            "type": "scatterpolar"
           }
          ],
          "scatterpolargl": [
           {
            "marker": {
             "colorbar": {
              "outlinewidth": 0,
              "ticks": ""
             }
            },
            "type": "scatterpolargl"
           }
          ],
          "scatterternary": [
           {
            "marker": {
             "colorbar": {
              "outlinewidth": 0,
              "ticks": ""
             }
            },
            "type": "scatterternary"
           }
          ],
          "surface": [
           {
            "colorbar": {
             "outlinewidth": 0,
             "ticks": ""
            },
            "colorscale": [
             [
              0,
              "#0d0887"
             ],
             [
              0.1111111111111111,
              "#46039f"
             ],
             [
              0.2222222222222222,
              "#7201a8"
             ],
             [
              0.3333333333333333,
              "#9c179e"
             ],
             [
              0.4444444444444444,
              "#bd3786"
             ],
             [
              0.5555555555555556,
              "#d8576b"
             ],
             [
              0.6666666666666666,
              "#ed7953"
             ],
             [
              0.7777777777777778,
              "#fb9f3a"
             ],
             [
              0.8888888888888888,
              "#fdca26"
             ],
             [
              1,
              "#f0f921"
             ]
            ],
            "type": "surface"
           }
          ],
          "table": [
           {
            "cells": {
             "fill": {
              "color": "#EBF0F8"
             },
             "line": {
              "color": "white"
             }
            },
            "header": {
             "fill": {
              "color": "#C8D4E3"
             },
             "line": {
              "color": "white"
             }
            },
            "type": "table"
           }
          ]
         },
         "layout": {
          "annotationdefaults": {
           "arrowcolor": "#2a3f5f",
           "arrowhead": 0,
           "arrowwidth": 1
          },
          "autotypenumbers": "strict",
          "coloraxis": {
           "colorbar": {
            "outlinewidth": 0,
            "ticks": ""
           }
          },
          "colorscale": {
           "diverging": [
            [
             0,
             "#8e0152"
            ],
            [
             0.1,
             "#c51b7d"
            ],
            [
             0.2,
             "#de77ae"
            ],
            [
             0.3,
             "#f1b6da"
            ],
            [
             0.4,
             "#fde0ef"
            ],
            [
             0.5,
             "#f7f7f7"
            ],
            [
             0.6,
             "#e6f5d0"
            ],
            [
             0.7,
             "#b8e186"
            ],
            [
             0.8,
             "#7fbc41"
            ],
            [
             0.9,
             "#4d9221"
            ],
            [
             1,
             "#276419"
            ]
           ],
           "sequential": [
            [
             0,
             "#0d0887"
            ],
            [
             0.1111111111111111,
             "#46039f"
            ],
            [
             0.2222222222222222,
             "#7201a8"
            ],
            [
             0.3333333333333333,
             "#9c179e"
            ],
            [
             0.4444444444444444,
             "#bd3786"
            ],
            [
             0.5555555555555556,
             "#d8576b"
            ],
            [
             0.6666666666666666,
             "#ed7953"
            ],
            [
             0.7777777777777778,
             "#fb9f3a"
            ],
            [
             0.8888888888888888,
             "#fdca26"
            ],
            [
             1,
             "#f0f921"
            ]
           ],
           "sequentialminus": [
            [
             0,
             "#0d0887"
            ],
            [
             0.1111111111111111,
             "#46039f"
            ],
            [
             0.2222222222222222,
             "#7201a8"
            ],
            [
             0.3333333333333333,
             "#9c179e"
            ],
            [
             0.4444444444444444,
             "#bd3786"
            ],
            [
             0.5555555555555556,
             "#d8576b"
            ],
            [
             0.6666666666666666,
             "#ed7953"
            ],
            [
             0.7777777777777778,
             "#fb9f3a"
            ],
            [
             0.8888888888888888,
             "#fdca26"
            ],
            [
             1,
             "#f0f921"
            ]
           ]
          },
          "colorway": [
           "#636efa",
           "#EF553B",
           "#00cc96",
           "#ab63fa",
           "#FFA15A",
           "#19d3f3",
           "#FF6692",
           "#B6E880",
           "#FF97FF",
           "#FECB52"
          ],
          "font": {
           "color": "#2a3f5f"
          },
          "geo": {
           "bgcolor": "white",
           "lakecolor": "white",
           "landcolor": "#E5ECF6",
           "showlakes": true,
           "showland": true,
           "subunitcolor": "white"
          },
          "hoverlabel": {
           "align": "left"
          },
          "hovermode": "closest",
          "mapbox": {
           "style": "light"
          },
          "paper_bgcolor": "white",
          "plot_bgcolor": "#E5ECF6",
          "polar": {
           "angularaxis": {
            "gridcolor": "white",
            "linecolor": "white",
            "ticks": ""
           },
           "bgcolor": "#E5ECF6",
           "radialaxis": {
            "gridcolor": "white",
            "linecolor": "white",
            "ticks": ""
           }
          },
          "scene": {
           "xaxis": {
            "backgroundcolor": "#E5ECF6",
            "gridcolor": "white",
            "gridwidth": 2,
            "linecolor": "white",
            "showbackground": true,
            "ticks": "",
            "zerolinecolor": "white"
           },
           "yaxis": {
            "backgroundcolor": "#E5ECF6",
            "gridcolor": "white",
            "gridwidth": 2,
            "linecolor": "white",
            "showbackground": true,
            "ticks": "",
            "zerolinecolor": "white"
           },
           "zaxis": {
            "backgroundcolor": "#E5ECF6",
            "gridcolor": "white",
            "gridwidth": 2,
            "linecolor": "white",
            "showbackground": true,
            "ticks": "",
            "zerolinecolor": "white"
           }
          },
          "shapedefaults": {
           "line": {
            "color": "#2a3f5f"
           }
          },
          "ternary": {
           "aaxis": {
            "gridcolor": "white",
            "linecolor": "white",
            "ticks": ""
           },
           "baxis": {
            "gridcolor": "white",
            "linecolor": "white",
            "ticks": ""
           },
           "bgcolor": "#E5ECF6",
           "caxis": {
            "gridcolor": "white",
            "linecolor": "white",
            "ticks": ""
           }
          },
          "title": {
           "x": 0.05
          },
          "xaxis": {
           "automargin": true,
           "gridcolor": "white",
           "linecolor": "white",
           "ticks": "",
           "title": {
            "standoff": 15
           },
           "zerolinecolor": "white",
           "zerolinewidth": 2
          },
          "yaxis": {
           "automargin": true,
           "gridcolor": "white",
           "linecolor": "white",
           "ticks": "",
           "title": {
            "standoff": 15
           },
           "zerolinecolor": "white",
           "zerolinewidth": 2
          }
         }
        },
        "title": {
         "text": "Multiobjective Optimization of a Continuous Flow Reaction",
         "x": 0.5,
         "xanchor": "center",
         "y": 0.95,
         "yanchor": "top"
        },
        "updatemenus": [
         {
          "buttons": [
           {
            "args": [
             null,
             {
              "frame": {
               "duration": 500,
               "redraw": false
              },
              "fromcurrent": true,
              "mode": "immediate",
              "transition": {
               "duration": 500,
               "easing": "linear"
              }
             }
            ],
            "label": "&#9654;",
            "method": "animate"
           },
           {
            "args": [
             [
              null
             ],
             {
              "frame": {
               "duration": 0,
               "redraw": false
              },
              "fromcurrent": true,
              "mode": "immediate",
              "transition": {
               "duration": 0,
               "easing": "linear"
              }
             }
            ],
            "label": "&#9724;",
            "method": "animate"
           }
          ],
          "direction": "left",
          "pad": {
           "r": 10,
           "t": 70
          },
          "showactive": false,
          "type": "buttons",
          "x": 0.1,
          "xanchor": "right",
          "y": 0,
          "yanchor": "top"
         }
        ],
        "xaxis": {
         "anchor": "y",
         "domain": [
          0,
          1
         ],
         "range": [
          0,
          100
         ],
         "title": {
          "text": "Yield (%)"
         }
        },
        "yaxis": {
         "anchor": "x",
         "domain": [
          0,
          1
         ],
         "range": [
          0,
          3
         ],
         "title": {
          "text": "Production Rate (g/hr)"
         }
        }
       }
      }
     },
     "metadata": {},
     "output_type": "display_data"
    },
    {
     "name": "stdout",
     "output_type": "stream",
     "text": [
      "Highest yield is 90.24%\n",
      "Highest production rate is 2.22g/hr\n"
     ]
    }
   ],
   "source": [
    "plot_pareto_frontier_animation(pareto_x, pareto_y)"
   ]
  },
  {
   "cell_type": "code",
   "execution_count": 5,
   "metadata": {},
   "outputs": [
    {
     "data": {
      "application/vnd.plotly.v1+json": {
       "config": {
        "plotlyServerURL": "https://plot.ly"
       },
       "data": [
        {
         "customdata": [
          [
           17.78
          ],
          [
           15.23
          ],
          [
           13.92
          ],
          [
           13.21
          ]
         ],
         "hovertemplate": "<b>%{hovertext}</b><br><br>round=0<br>temperature=%{x}<br>time=%{y}<br>mfp=%{z}<br>yield=%{customdata[0]}<extra></extra>",
         "hovertext": [
          17.78,
          15.23,
          13.92,
          13.21
         ],
         "legendgroup": "0",
         "marker": {
          "color": "rgb(254, 254, 253)",
          "size": 7,
          "symbol": "circle"
         },
         "mode": "markers",
         "name": "0",
         "scene": "scene",
         "showlegend": true,
         "type": "scatter3d",
         "x": [
          85,
          85,
          85,
          85
         ],
         "y": [
          23,
          23,
          23,
          23
         ],
         "z": [
          0.5,
          0.5,
          0.5,
          0.5
         ]
        },
        {
         "customdata": [
          [
           77.16
          ],
          [
           21.22
          ],
          [
           56.93
          ]
         ],
         "hovertemplate": "<b>%{hovertext}</b><br><br>round=1<br>temperature=%{x}<br>time=%{y}<br>mfp=%{z}<br>yield=%{customdata[0]}<extra></extra>",
         "hovertext": [
          77.16,
          21.22,
          56.93
         ],
         "legendgroup": "1",
         "marker": {
          "color": "rgb(224, 224, 223)",
          "size": 7,
          "symbol": "circle"
         },
         "mode": "markers",
         "name": "1",
         "scene": "scene",
         "showlegend": true,
         "type": "scatter3d",
         "x": [
          135,
          132,
          123
         ],
         "y": [
          23,
          3,
          23
         ],
         "z": [
          0.36,
          0.36,
          0.46
         ]
        },
        {
         "customdata": [
          [
           87.6
          ],
          [
           70.98
          ],
          [
           67.86
          ]
         ],
         "hovertemplate": "<b>%{hovertext}</b><br><br>round=2<br>temperature=%{x}<br>time=%{y}<br>mfp=%{z}<br>yield=%{customdata[0]}<extra></extra>",
         "hovertext": [
          87.6,
          70.98,
          67.86
         ],
         "legendgroup": "2",
         "marker": {
          "color": "rgb(197, 197, 195)",
          "size": 7,
          "symbol": "circle"
         },
         "mode": "markers",
         "name": "2",
         "scene": "scene",
         "showlegend": true,
         "type": "scatter3d",
         "x": [
          135,
          138,
          138
         ],
         "y": [
          29,
          13,
          15
         ],
         "z": [
          0.63,
          0.63,
          0.56
         ]
        },
        {
         "customdata": [
          [
           81.59
          ],
          [
           41.12
          ],
          [
           9.252
          ]
         ],
         "hovertemplate": "<b>%{hovertext}</b><br><br>round=3<br>temperature=%{x}<br>time=%{y}<br>mfp=%{z}<br>yield=%{customdata[0]}<extra></extra>",
         "hovertext": [
          81.59,
          41.12,
          9.252
         ],
         "legendgroup": "3",
         "marker": {
          "color": "rgb(171, 171, 170)",
          "size": 7,
          "symbol": "circle"
         },
         "mode": "markers",
         "name": "3",
         "scene": "scene",
         "showlegend": true,
         "type": "scatter3d",
         "x": [
          138,
          138,
          135
         ],
         "y": [
          41,
          5,
          1
         ],
         "z": [
          0.48,
          0.66,
          0.63
         ]
        },
        {
         "customdata": [
          [
           85.86
          ],
          [
           26.38
          ],
          [
           62.9
          ]
         ],
         "hovertemplate": "<b>%{hovertext}</b><br><br>round=4<br>temperature=%{x}<br>time=%{y}<br>mfp=%{z}<br>yield=%{customdata[0]}<extra></extra>",
         "hovertext": [
          85.86,
          26.38,
          62.9
         ],
         "legendgroup": "4",
         "marker": {
          "color": "rgb(146, 146, 145)",
          "size": 7,
          "symbol": "circle"
         },
         "mode": "markers",
         "name": "4",
         "scene": "scene",
         "showlegend": true,
         "type": "scatter3d",
         "x": [
          138,
          138,
          135
         ],
         "y": [
          21,
          3,
          13
         ],
         "z": [
          0.66,
          0.66,
          0.61
         ]
        },
        {
         "customdata": [
          [
           32.96
          ],
          [
           66.05
          ],
          [
           51.14
          ]
         ],
         "hovertemplate": "<b>%{hovertext}</b><br><br>round=5<br>temperature=%{x}<br>time=%{y}<br>mfp=%{z}<br>yield=%{customdata[0]}<extra></extra>",
         "hovertext": [
          32.96,
          66.05,
          51.14
         ],
         "legendgroup": "5",
         "marker": {
          "color": "rgb(124, 123, 122)",
          "size": 7,
          "symbol": "circle"
         },
         "mode": "markers",
         "name": "5",
         "scene": "scene",
         "showlegend": true,
         "type": "scatter3d",
         "x": [
          138,
          138,
          138
         ],
         "y": [
          5,
          15,
          9
         ],
         "z": [
          0.51,
          0.48,
          0.48
         ]
        },
        {
         "customdata": [
          [
           86.31
          ],
          [
           1.61
          ],
          [
           1.73
          ]
         ],
         "hovertemplate": "<b>%{hovertext}</b><br><br>round=6<br>temperature=%{x}<br>time=%{y}<br>mfp=%{z}<br>yield=%{customdata[0]}<extra></extra>",
         "hovertext": [
          86.31,
          1.61,
          1.73
         ],
         "legendgroup": "6",
         "marker": {
          "color": "rgb(102, 101, 101)",
          "size": 7,
          "symbol": "circle"
         },
         "mode": "markers",
         "name": "6",
         "scene": "scene",
         "showlegend": true,
         "type": "scatter3d",
         "x": [
          138,
          75,
          51
         ],
         "y": [
          29,
          3,
          1
         ],
         "z": [
          0.66,
          0.58,
          0.56
         ]
        },
        {
         "customdata": [
          [
           8.49
          ],
          [
           6.1
          ],
          [
           5.62
          ]
         ],
         "hovertemplate": "<b>%{hovertext}</b><br><br>round=7<br>temperature=%{x}<br>time=%{y}<br>mfp=%{z}<br>yield=%{customdata[0]}<extra></extra>",
         "hovertext": [
          8.49,
          6.1,
          5.62
         ],
         "legendgroup": "7",
         "marker": {
          "color": "rgb(81, 80, 80)",
          "size": 7,
          "symbol": "circle"
         },
         "mode": "markers",
         "name": "7",
         "scene": "scene",
         "showlegend": true,
         "type": "scatter3d",
         "x": [
          63,
          54,
          45
         ],
         "y": [
          33,
          41,
          35
         ],
         "z": [
          0.56,
          0.51,
          0.61
         ]
        },
        {
         "customdata": [
          [
           73.57
          ],
          [
           62.52
          ],
          [
           10.32
          ]
         ],
         "hovertemplate": "<b>%{hovertext}</b><br><br>round=8<br>temperature=%{x}<br>time=%{y}<br>mfp=%{z}<br>yield=%{customdata[0]}<extra></extra>",
         "hovertext": [
          73.57,
          62.52,
          10.32
         ],
         "legendgroup": "8",
         "marker": {
          "color": "rgb(59, 59, 59)",
          "size": 7,
          "symbol": "circle"
         },
         "mode": "markers",
         "name": "8",
         "scene": "scene",
         "showlegend": true,
         "type": "scatter3d",
         "x": [
          138,
          138,
          138
         ],
         "y": [
          15,
          13,
          1
         ],
         "z": [
          0.43,
          0.48,
          0.33
         ]
        },
        {
         "customdata": [
          [
           90.24
          ],
          [
           77.41
          ],
          [
           69.79
          ]
         ],
         "hovertemplate": "<b>%{hovertext}</b><br><br>round=9<br>temperature=%{x}<br>time=%{y}<br>mfp=%{z}<br>yield=%{customdata[0]}<extra></extra>",
         "hovertext": [
          90.24,
          77.41,
          69.79
         ],
         "legendgroup": "9",
         "marker": {
          "color": "rgb(38, 38, 38)",
          "size": 7,
          "symbol": "circle"
         },
         "mode": "markers",
         "name": "9",
         "scene": "scene",
         "showlegend": true,
         "type": "scatter3d",
         "x": [
          138,
          138,
          138
         ],
         "y": [
          33,
          23,
          13
         ],
         "z": [
          0.63,
          0.41,
          0.41
         ]
        },
        {
         "customdata": [
          [
           64.76
          ],
          [
           76.14
          ],
          [
           49.38
          ]
         ],
         "hovertemplate": "<b>%{hovertext}</b><br><br>round=Final Round<br>temperature=%{x}<br>time=%{y}<br>mfp=%{z}<br>yield=%{customdata[0]}<extra></extra>",
         "hovertext": [
          64.76,
          76.14,
          49.38
         ],
         "legendgroup": "Final Round",
         "marker": {
          "color": "rgb(16, 16, 16)",
          "size": 7,
          "symbol": "circle"
         },
         "mode": "markers",
         "name": "Final Round",
         "scene": "scene",
         "showlegend": true,
         "type": "scatter3d",
         "x": [
          138,
          138,
          138
         ],
         "y": [
          11,
          19,
          7
         ],
         "z": [
          0.58,
          0.56,
          0.56
         ]
        }
       ],
       "layout": {
        "legend": {
         "title": {
          "text": "round"
         },
         "tracegroupgap": 0
        },
        "margin": {
         "b": 0,
         "l": 0,
         "r": 0,
         "t": 1
        },
        "scene": {
         "domain": {
          "x": [
           0,
           1
          ],
          "y": [
           0,
           1
          ]
         },
         "xaxis": {
          "nticks": 6,
          "range": [
           140,
           30
          ],
          "title": {
           "text": "temperature"
          }
         },
         "yaxis": {
          "nticks": 6,
          "range": [
           45,
           1
          ],
          "title": {
           "text": "time"
          }
         },
         "zaxis": {
          "nticks": 6,
          "range": [
           0.33,
           0.66
          ],
          "title": {
           "text": "mfp"
          }
         }
        },
        "template": {
         "data": {
          "bar": [
           {
            "error_x": {
             "color": "#2a3f5f"
            },
            "error_y": {
             "color": "#2a3f5f"
            },
            "marker": {
             "line": {
              "color": "#E5ECF6",
              "width": 0.5
             },
             "pattern": {
              "fillmode": "overlay",
              "size": 10,
              "solidity": 0.2
             }
            },
            "type": "bar"
           }
          ],
          "barpolar": [
           {
            "marker": {
             "line": {
              "color": "#E5ECF6",
              "width": 0.5
             },
             "pattern": {
              "fillmode": "overlay",
              "size": 10,
              "solidity": 0.2
             }
            },
            "type": "barpolar"
           }
          ],
          "carpet": [
           {
            "aaxis": {
             "endlinecolor": "#2a3f5f",
             "gridcolor": "white",
             "linecolor": "white",
             "minorgridcolor": "white",
             "startlinecolor": "#2a3f5f"
            },
            "baxis": {
             "endlinecolor": "#2a3f5f",
             "gridcolor": "white",
             "linecolor": "white",
             "minorgridcolor": "white",
             "startlinecolor": "#2a3f5f"
            },
            "type": "carpet"
           }
          ],
          "choropleth": [
           {
            "colorbar": {
             "outlinewidth": 0,
             "ticks": ""
            },
            "type": "choropleth"
           }
          ],
          "contour": [
           {
            "colorbar": {
             "outlinewidth": 0,
             "ticks": ""
            },
            "colorscale": [
             [
              0,
              "#0d0887"
             ],
             [
              0.1111111111111111,
              "#46039f"
             ],
             [
              0.2222222222222222,
              "#7201a8"
             ],
             [
              0.3333333333333333,
              "#9c179e"
             ],
             [
              0.4444444444444444,
              "#bd3786"
             ],
             [
              0.5555555555555556,
              "#d8576b"
             ],
             [
              0.6666666666666666,
              "#ed7953"
             ],
             [
              0.7777777777777778,
              "#fb9f3a"
             ],
             [
              0.8888888888888888,
              "#fdca26"
             ],
             [
              1,
              "#f0f921"
             ]
            ],
            "type": "contour"
           }
          ],
          "contourcarpet": [
           {
            "colorbar": {
             "outlinewidth": 0,
             "ticks": ""
            },
            "type": "contourcarpet"
           }
          ],
          "heatmap": [
           {
            "colorbar": {
             "outlinewidth": 0,
             "ticks": ""
            },
            "colorscale": [
             [
              0,
              "#0d0887"
             ],
             [
              0.1111111111111111,
              "#46039f"
             ],
             [
              0.2222222222222222,
              "#7201a8"
             ],
             [
              0.3333333333333333,
              "#9c179e"
             ],
             [
              0.4444444444444444,
              "#bd3786"
             ],
             [
              0.5555555555555556,
              "#d8576b"
             ],
             [
              0.6666666666666666,
              "#ed7953"
             ],
             [
              0.7777777777777778,
              "#fb9f3a"
             ],
             [
              0.8888888888888888,
              "#fdca26"
             ],
             [
              1,
              "#f0f921"
             ]
            ],
            "type": "heatmap"
           }
          ],
          "heatmapgl": [
           {
            "colorbar": {
             "outlinewidth": 0,
             "ticks": ""
            },
            "colorscale": [
             [
              0,
              "#0d0887"
             ],
             [
              0.1111111111111111,
              "#46039f"
             ],
             [
              0.2222222222222222,
              "#7201a8"
             ],
             [
              0.3333333333333333,
              "#9c179e"
             ],
             [
              0.4444444444444444,
              "#bd3786"
             ],
             [
              0.5555555555555556,
              "#d8576b"
             ],
             [
              0.6666666666666666,
              "#ed7953"
             ],
             [
              0.7777777777777778,
              "#fb9f3a"
             ],
             [
              0.8888888888888888,
              "#fdca26"
             ],
             [
              1,
              "#f0f921"
             ]
            ],
            "type": "heatmapgl"
           }
          ],
          "histogram": [
           {
            "marker": {
             "pattern": {
              "fillmode": "overlay",
              "size": 10,
              "solidity": 0.2
             }
            },
            "type": "histogram"
           }
          ],
          "histogram2d": [
           {
            "colorbar": {
             "outlinewidth": 0,
             "ticks": ""
            },
            "colorscale": [
             [
              0,
              "#0d0887"
             ],
             [
              0.1111111111111111,
              "#46039f"
             ],
             [
              0.2222222222222222,
              "#7201a8"
             ],
             [
              0.3333333333333333,
              "#9c179e"
             ],
             [
              0.4444444444444444,
              "#bd3786"
             ],
             [
              0.5555555555555556,
              "#d8576b"
             ],
             [
              0.6666666666666666,
              "#ed7953"
             ],
             [
              0.7777777777777778,
              "#fb9f3a"
             ],
             [
              0.8888888888888888,
              "#fdca26"
             ],
             [
              1,
              "#f0f921"
             ]
            ],
            "type": "histogram2d"
           }
          ],
          "histogram2dcontour": [
           {
            "colorbar": {
             "outlinewidth": 0,
             "ticks": ""
            },
            "colorscale": [
             [
              0,
              "#0d0887"
             ],
             [
              0.1111111111111111,
              "#46039f"
             ],
             [
              0.2222222222222222,
              "#7201a8"
             ],
             [
              0.3333333333333333,
              "#9c179e"
             ],
             [
              0.4444444444444444,
              "#bd3786"
             ],
             [
              0.5555555555555556,
              "#d8576b"
             ],
             [
              0.6666666666666666,
              "#ed7953"
             ],
             [
              0.7777777777777778,
              "#fb9f3a"
             ],
             [
              0.8888888888888888,
              "#fdca26"
             ],
             [
              1,
              "#f0f921"
             ]
            ],
            "type": "histogram2dcontour"
           }
          ],
          "mesh3d": [
           {
            "colorbar": {
             "outlinewidth": 0,
             "ticks": ""
            },
            "type": "mesh3d"
           }
          ],
          "parcoords": [
           {
            "line": {
             "colorbar": {
              "outlinewidth": 0,
              "ticks": ""
             }
            },
            "type": "parcoords"
           }
          ],
          "pie": [
           {
            "automargin": true,
            "type": "pie"
           }
          ],
          "scatter": [
           {
            "fillpattern": {
             "fillmode": "overlay",
             "size": 10,
             "solidity": 0.2
            },
            "type": "scatter"
           }
          ],
          "scatter3d": [
           {
            "line": {
             "colorbar": {
              "outlinewidth": 0,
              "ticks": ""
             }
            },
            "marker": {
             "colorbar": {
              "outlinewidth": 0,
              "ticks": ""
             }
            },
            "type": "scatter3d"
           }
          ],
          "scattercarpet": [
           {
            "marker": {
             "colorbar": {
              "outlinewidth": 0,
              "ticks": ""
             }
            },
            "type": "scattercarpet"
           }
          ],
          "scattergeo": [
           {
            "marker": {
             "colorbar": {
              "outlinewidth": 0,
              "ticks": ""
             }
            },
            "type": "scattergeo"
           }
          ],
          "scattergl": [
           {
            "marker": {
             "colorbar": {
              "outlinewidth": 0,
              "ticks": ""
             }
            },
            "type": "scattergl"
           }
          ],
          "scattermapbox": [
           {
            "marker": {
             "colorbar": {
              "outlinewidth": 0,
              "ticks": ""
             }
            },
            "type": "scattermapbox"
           }
          ],
          "scatterpolar": [
           {
            "marker": {
             "colorbar": {
              "outlinewidth": 0,
              "ticks": ""
             }
            },
            "type": "scatterpolar"
           }
          ],
          "scatterpolargl": [
           {
            "marker": {
             "colorbar": {
              "outlinewidth": 0,
              "ticks": ""
             }
            },
            "type": "scatterpolargl"
           }
          ],
          "scatterternary": [
           {
            "marker": {
             "colorbar": {
              "outlinewidth": 0,
              "ticks": ""
             }
            },
            "type": "scatterternary"
           }
          ],
          "surface": [
           {
            "colorbar": {
             "outlinewidth": 0,
             "ticks": ""
            },
            "colorscale": [
             [
              0,
              "#0d0887"
             ],
             [
              0.1111111111111111,
              "#46039f"
             ],
             [
              0.2222222222222222,
              "#7201a8"
             ],
             [
              0.3333333333333333,
              "#9c179e"
             ],
             [
              0.4444444444444444,
              "#bd3786"
             ],
             [
              0.5555555555555556,
              "#d8576b"
             ],
             [
              0.6666666666666666,
              "#ed7953"
             ],
             [
              0.7777777777777778,
              "#fb9f3a"
             ],
             [
              0.8888888888888888,
              "#fdca26"
             ],
             [
              1,
              "#f0f921"
             ]
            ],
            "type": "surface"
           }
          ],
          "table": [
           {
            "cells": {
             "fill": {
              "color": "#EBF0F8"
             },
             "line": {
              "color": "white"
             }
            },
            "header": {
             "fill": {
              "color": "#C8D4E3"
             },
             "line": {
              "color": "white"
             }
            },
            "type": "table"
           }
          ]
         },
         "layout": {
          "annotationdefaults": {
           "arrowcolor": "#2a3f5f",
           "arrowhead": 0,
           "arrowwidth": 1
          },
          "autotypenumbers": "strict",
          "coloraxis": {
           "colorbar": {
            "outlinewidth": 0,
            "ticks": ""
           }
          },
          "colorscale": {
           "diverging": [
            [
             0,
             "#8e0152"
            ],
            [
             0.1,
             "#c51b7d"
            ],
            [
             0.2,
             "#de77ae"
            ],
            [
             0.3,
             "#f1b6da"
            ],
            [
             0.4,
             "#fde0ef"
            ],
            [
             0.5,
             "#f7f7f7"
            ],
            [
             0.6,
             "#e6f5d0"
            ],
            [
             0.7,
             "#b8e186"
            ],
            [
             0.8,
             "#7fbc41"
            ],
            [
             0.9,
             "#4d9221"
            ],
            [
             1,
             "#276419"
            ]
           ],
           "sequential": [
            [
             0,
             "#0d0887"
            ],
            [
             0.1111111111111111,
             "#46039f"
            ],
            [
             0.2222222222222222,
             "#7201a8"
            ],
            [
             0.3333333333333333,
             "#9c179e"
            ],
            [
             0.4444444444444444,
             "#bd3786"
            ],
            [
             0.5555555555555556,
             "#d8576b"
            ],
            [
             0.6666666666666666,
             "#ed7953"
            ],
            [
             0.7777777777777778,
             "#fb9f3a"
            ],
            [
             0.8888888888888888,
             "#fdca26"
            ],
            [
             1,
             "#f0f921"
            ]
           ],
           "sequentialminus": [
            [
             0,
             "#0d0887"
            ],
            [
             0.1111111111111111,
             "#46039f"
            ],
            [
             0.2222222222222222,
             "#7201a8"
            ],
            [
             0.3333333333333333,
             "#9c179e"
            ],
            [
             0.4444444444444444,
             "#bd3786"
            ],
            [
             0.5555555555555556,
             "#d8576b"
            ],
            [
             0.6666666666666666,
             "#ed7953"
            ],
            [
             0.7777777777777778,
             "#fb9f3a"
            ],
            [
             0.8888888888888888,
             "#fdca26"
            ],
            [
             1,
             "#f0f921"
            ]
           ]
          },
          "colorway": [
           "#636efa",
           "#EF553B",
           "#00cc96",
           "#ab63fa",
           "#FFA15A",
           "#19d3f3",
           "#FF6692",
           "#B6E880",
           "#FF97FF",
           "#FECB52"
          ],
          "font": {
           "color": "#2a3f5f"
          },
          "geo": {
           "bgcolor": "white",
           "lakecolor": "white",
           "landcolor": "#E5ECF6",
           "showlakes": true,
           "showland": true,
           "subunitcolor": "white"
          },
          "hoverlabel": {
           "align": "left"
          },
          "hovermode": "closest",
          "mapbox": {
           "style": "light"
          },
          "paper_bgcolor": "white",
          "plot_bgcolor": "#E5ECF6",
          "polar": {
           "angularaxis": {
            "gridcolor": "white",
            "linecolor": "white",
            "ticks": ""
           },
           "bgcolor": "#E5ECF6",
           "radialaxis": {
            "gridcolor": "white",
            "linecolor": "white",
            "ticks": ""
           }
          },
          "scene": {
           "xaxis": {
            "backgroundcolor": "#E5ECF6",
            "gridcolor": "white",
            "gridwidth": 2,
            "linecolor": "white",
            "showbackground": true,
            "ticks": "",
            "zerolinecolor": "white"
           },
           "yaxis": {
            "backgroundcolor": "#E5ECF6",
            "gridcolor": "white",
            "gridwidth": 2,
            "linecolor": "white",
            "showbackground": true,
            "ticks": "",
            "zerolinecolor": "white"
           },
           "zaxis": {
            "backgroundcolor": "#E5ECF6",
            "gridcolor": "white",
            "gridwidth": 2,
            "linecolor": "white",
            "showbackground": true,
            "ticks": "",
            "zerolinecolor": "white"
           }
          },
          "shapedefaults": {
           "line": {
            "color": "#2a3f5f"
           }
          },
          "ternary": {
           "aaxis": {
            "gridcolor": "white",
            "linecolor": "white",
            "ticks": ""
           },
           "baxis": {
            "gridcolor": "white",
            "linecolor": "white",
            "ticks": ""
           },
           "bgcolor": "#E5ECF6",
           "caxis": {
            "gridcolor": "white",
            "linecolor": "white",
            "ticks": ""
           }
          },
          "title": {
           "x": 0.05
          },
          "xaxis": {
           "automargin": true,
           "gridcolor": "white",
           "linecolor": "white",
           "ticks": "",
           "title": {
            "standoff": 15
           },
           "zerolinecolor": "white",
           "zerolinewidth": 2
          },
          "yaxis": {
           "automargin": true,
           "gridcolor": "white",
           "linecolor": "white",
           "ticks": "",
           "title": {
            "standoff": 15
           },
           "zerolinecolor": "white",
           "zerolinewidth": 2
          }
         }
        },
        "title": {
         "text": "3D Plot of the Inputs for the Continuous Flow Reaction",
         "x": 0.5,
         "xanchor": "center",
         "y": 0.95,
         "yanchor": "top"
        }
       }
      },
      "text/html": [
       "<div>                            <div id=\"4b0b3ade-b3c6-48e2-8eab-59241309521e\" class=\"plotly-graph-div\" style=\"height:525px; width:100%;\"></div>            <script type=\"text/javascript\">                require([\"plotly\"], function(Plotly) {                    window.PLOTLYENV=window.PLOTLYENV || {};                                    if (document.getElementById(\"4b0b3ade-b3c6-48e2-8eab-59241309521e\")) {                    Plotly.newPlot(                        \"4b0b3ade-b3c6-48e2-8eab-59241309521e\",                        [{\"customdata\":[[17.78],[15.23],[13.92],[13.21]],\"hovertemplate\":\"<b>%{hovertext}</b><br><br>round=0<br>temperature=%{x}<br>time=%{y}<br>mfp=%{z}<br>yield=%{customdata[0]}<extra></extra>\",\"hovertext\":[17.78,15.23,13.92,13.21],\"legendgroup\":\"0\",\"marker\":{\"color\":\"rgb(254, 254, 253)\",\"symbol\":\"circle\",\"size\":7},\"mode\":\"markers\",\"name\":\"0\",\"scene\":\"scene\",\"showlegend\":true,\"x\":[85,85,85,85],\"y\":[23,23,23,23],\"z\":[0.5,0.5,0.5,0.5],\"type\":\"scatter3d\"},{\"customdata\":[[77.16],[21.22],[56.93]],\"hovertemplate\":\"<b>%{hovertext}</b><br><br>round=1<br>temperature=%{x}<br>time=%{y}<br>mfp=%{z}<br>yield=%{customdata[0]}<extra></extra>\",\"hovertext\":[77.16,21.22,56.93],\"legendgroup\":\"1\",\"marker\":{\"color\":\"rgb(224, 224, 223)\",\"symbol\":\"circle\",\"size\":7},\"mode\":\"markers\",\"name\":\"1\",\"scene\":\"scene\",\"showlegend\":true,\"x\":[135,132,123],\"y\":[23,3,23],\"z\":[0.36,0.36,0.46],\"type\":\"scatter3d\"},{\"customdata\":[[87.6],[70.98],[67.86]],\"hovertemplate\":\"<b>%{hovertext}</b><br><br>round=2<br>temperature=%{x}<br>time=%{y}<br>mfp=%{z}<br>yield=%{customdata[0]}<extra></extra>\",\"hovertext\":[87.6,70.98,67.86],\"legendgroup\":\"2\",\"marker\":{\"color\":\"rgb(197, 197, 195)\",\"symbol\":\"circle\",\"size\":7},\"mode\":\"markers\",\"name\":\"2\",\"scene\":\"scene\",\"showlegend\":true,\"x\":[135,138,138],\"y\":[29,13,15],\"z\":[0.63,0.63,0.56],\"type\":\"scatter3d\"},{\"customdata\":[[81.59],[41.12],[9.252]],\"hovertemplate\":\"<b>%{hovertext}</b><br><br>round=3<br>temperature=%{x}<br>time=%{y}<br>mfp=%{z}<br>yield=%{customdata[0]}<extra></extra>\",\"hovertext\":[81.59,41.12,9.252],\"legendgroup\":\"3\",\"marker\":{\"color\":\"rgb(171, 171, 170)\",\"symbol\":\"circle\",\"size\":7},\"mode\":\"markers\",\"name\":\"3\",\"scene\":\"scene\",\"showlegend\":true,\"x\":[138,138,135],\"y\":[41,5,1],\"z\":[0.48,0.66,0.63],\"type\":\"scatter3d\"},{\"customdata\":[[85.86],[26.38],[62.9]],\"hovertemplate\":\"<b>%{hovertext}</b><br><br>round=4<br>temperature=%{x}<br>time=%{y}<br>mfp=%{z}<br>yield=%{customdata[0]}<extra></extra>\",\"hovertext\":[85.86,26.38,62.9],\"legendgroup\":\"4\",\"marker\":{\"color\":\"rgb(146, 146, 145)\",\"symbol\":\"circle\",\"size\":7},\"mode\":\"markers\",\"name\":\"4\",\"scene\":\"scene\",\"showlegend\":true,\"x\":[138,138,135],\"y\":[21,3,13],\"z\":[0.66,0.66,0.61],\"type\":\"scatter3d\"},{\"customdata\":[[32.96],[66.05],[51.14]],\"hovertemplate\":\"<b>%{hovertext}</b><br><br>round=5<br>temperature=%{x}<br>time=%{y}<br>mfp=%{z}<br>yield=%{customdata[0]}<extra></extra>\",\"hovertext\":[32.96,66.05,51.14],\"legendgroup\":\"5\",\"marker\":{\"color\":\"rgb(124, 123, 122)\",\"symbol\":\"circle\",\"size\":7},\"mode\":\"markers\",\"name\":\"5\",\"scene\":\"scene\",\"showlegend\":true,\"x\":[138,138,138],\"y\":[5,15,9],\"z\":[0.51,0.48,0.48],\"type\":\"scatter3d\"},{\"customdata\":[[86.31],[1.61],[1.73]],\"hovertemplate\":\"<b>%{hovertext}</b><br><br>round=6<br>temperature=%{x}<br>time=%{y}<br>mfp=%{z}<br>yield=%{customdata[0]}<extra></extra>\",\"hovertext\":[86.31,1.61,1.73],\"legendgroup\":\"6\",\"marker\":{\"color\":\"rgb(102, 101, 101)\",\"symbol\":\"circle\",\"size\":7},\"mode\":\"markers\",\"name\":\"6\",\"scene\":\"scene\",\"showlegend\":true,\"x\":[138,75,51],\"y\":[29,3,1],\"z\":[0.66,0.58,0.56],\"type\":\"scatter3d\"},{\"customdata\":[[8.49],[6.1],[5.62]],\"hovertemplate\":\"<b>%{hovertext}</b><br><br>round=7<br>temperature=%{x}<br>time=%{y}<br>mfp=%{z}<br>yield=%{customdata[0]}<extra></extra>\",\"hovertext\":[8.49,6.1,5.62],\"legendgroup\":\"7\",\"marker\":{\"color\":\"rgb(81, 80, 80)\",\"symbol\":\"circle\",\"size\":7},\"mode\":\"markers\",\"name\":\"7\",\"scene\":\"scene\",\"showlegend\":true,\"x\":[63,54,45],\"y\":[33,41,35],\"z\":[0.56,0.51,0.61],\"type\":\"scatter3d\"},{\"customdata\":[[73.57],[62.52],[10.32]],\"hovertemplate\":\"<b>%{hovertext}</b><br><br>round=8<br>temperature=%{x}<br>time=%{y}<br>mfp=%{z}<br>yield=%{customdata[0]}<extra></extra>\",\"hovertext\":[73.57,62.52,10.32],\"legendgroup\":\"8\",\"marker\":{\"color\":\"rgb(59, 59, 59)\",\"symbol\":\"circle\",\"size\":7},\"mode\":\"markers\",\"name\":\"8\",\"scene\":\"scene\",\"showlegend\":true,\"x\":[138,138,138],\"y\":[15,13,1],\"z\":[0.43,0.48,0.33],\"type\":\"scatter3d\"},{\"customdata\":[[90.24],[77.41],[69.79]],\"hovertemplate\":\"<b>%{hovertext}</b><br><br>round=9<br>temperature=%{x}<br>time=%{y}<br>mfp=%{z}<br>yield=%{customdata[0]}<extra></extra>\",\"hovertext\":[90.24,77.41,69.79],\"legendgroup\":\"9\",\"marker\":{\"color\":\"rgb(38, 38, 38)\",\"symbol\":\"circle\",\"size\":7},\"mode\":\"markers\",\"name\":\"9\",\"scene\":\"scene\",\"showlegend\":true,\"x\":[138,138,138],\"y\":[33,23,13],\"z\":[0.63,0.41,0.41],\"type\":\"scatter3d\"},{\"customdata\":[[64.76],[76.14],[49.38]],\"hovertemplate\":\"<b>%{hovertext}</b><br><br>round=Final Round<br>temperature=%{x}<br>time=%{y}<br>mfp=%{z}<br>yield=%{customdata[0]}<extra></extra>\",\"hovertext\":[64.76,76.14,49.38],\"legendgroup\":\"Final Round\",\"marker\":{\"color\":\"rgb(16, 16, 16)\",\"symbol\":\"circle\",\"size\":7},\"mode\":\"markers\",\"name\":\"Final Round\",\"scene\":\"scene\",\"showlegend\":true,\"x\":[138,138,138],\"y\":[11,19,7],\"z\":[0.58,0.56,0.56],\"type\":\"scatter3d\"}],                        {\"template\":{\"data\":{\"histogram2dcontour\":[{\"type\":\"histogram2dcontour\",\"colorbar\":{\"outlinewidth\":0,\"ticks\":\"\"},\"colorscale\":[[0.0,\"#0d0887\"],[0.1111111111111111,\"#46039f\"],[0.2222222222222222,\"#7201a8\"],[0.3333333333333333,\"#9c179e\"],[0.4444444444444444,\"#bd3786\"],[0.5555555555555556,\"#d8576b\"],[0.6666666666666666,\"#ed7953\"],[0.7777777777777778,\"#fb9f3a\"],[0.8888888888888888,\"#fdca26\"],[1.0,\"#f0f921\"]]}],\"choropleth\":[{\"type\":\"choropleth\",\"colorbar\":{\"outlinewidth\":0,\"ticks\":\"\"}}],\"histogram2d\":[{\"type\":\"histogram2d\",\"colorbar\":{\"outlinewidth\":0,\"ticks\":\"\"},\"colorscale\":[[0.0,\"#0d0887\"],[0.1111111111111111,\"#46039f\"],[0.2222222222222222,\"#7201a8\"],[0.3333333333333333,\"#9c179e\"],[0.4444444444444444,\"#bd3786\"],[0.5555555555555556,\"#d8576b\"],[0.6666666666666666,\"#ed7953\"],[0.7777777777777778,\"#fb9f3a\"],[0.8888888888888888,\"#fdca26\"],[1.0,\"#f0f921\"]]}],\"heatmap\":[{\"type\":\"heatmap\",\"colorbar\":{\"outlinewidth\":0,\"ticks\":\"\"},\"colorscale\":[[0.0,\"#0d0887\"],[0.1111111111111111,\"#46039f\"],[0.2222222222222222,\"#7201a8\"],[0.3333333333333333,\"#9c179e\"],[0.4444444444444444,\"#bd3786\"],[0.5555555555555556,\"#d8576b\"],[0.6666666666666666,\"#ed7953\"],[0.7777777777777778,\"#fb9f3a\"],[0.8888888888888888,\"#fdca26\"],[1.0,\"#f0f921\"]]}],\"heatmapgl\":[{\"type\":\"heatmapgl\",\"colorbar\":{\"outlinewidth\":0,\"ticks\":\"\"},\"colorscale\":[[0.0,\"#0d0887\"],[0.1111111111111111,\"#46039f\"],[0.2222222222222222,\"#7201a8\"],[0.3333333333333333,\"#9c179e\"],[0.4444444444444444,\"#bd3786\"],[0.5555555555555556,\"#d8576b\"],[0.6666666666666666,\"#ed7953\"],[0.7777777777777778,\"#fb9f3a\"],[0.8888888888888888,\"#fdca26\"],[1.0,\"#f0f921\"]]}],\"contourcarpet\":[{\"type\":\"contourcarpet\",\"colorbar\":{\"outlinewidth\":0,\"ticks\":\"\"}}],\"contour\":[{\"type\":\"contour\",\"colorbar\":{\"outlinewidth\":0,\"ticks\":\"\"},\"colorscale\":[[0.0,\"#0d0887\"],[0.1111111111111111,\"#46039f\"],[0.2222222222222222,\"#7201a8\"],[0.3333333333333333,\"#9c179e\"],[0.4444444444444444,\"#bd3786\"],[0.5555555555555556,\"#d8576b\"],[0.6666666666666666,\"#ed7953\"],[0.7777777777777778,\"#fb9f3a\"],[0.8888888888888888,\"#fdca26\"],[1.0,\"#f0f921\"]]}],\"surface\":[{\"type\":\"surface\",\"colorbar\":{\"outlinewidth\":0,\"ticks\":\"\"},\"colorscale\":[[0.0,\"#0d0887\"],[0.1111111111111111,\"#46039f\"],[0.2222222222222222,\"#7201a8\"],[0.3333333333333333,\"#9c179e\"],[0.4444444444444444,\"#bd3786\"],[0.5555555555555556,\"#d8576b\"],[0.6666666666666666,\"#ed7953\"],[0.7777777777777778,\"#fb9f3a\"],[0.8888888888888888,\"#fdca26\"],[1.0,\"#f0f921\"]]}],\"mesh3d\":[{\"type\":\"mesh3d\",\"colorbar\":{\"outlinewidth\":0,\"ticks\":\"\"}}],\"scatter\":[{\"fillpattern\":{\"fillmode\":\"overlay\",\"size\":10,\"solidity\":0.2},\"type\":\"scatter\"}],\"parcoords\":[{\"type\":\"parcoords\",\"line\":{\"colorbar\":{\"outlinewidth\":0,\"ticks\":\"\"}}}],\"scatterpolargl\":[{\"type\":\"scatterpolargl\",\"marker\":{\"colorbar\":{\"outlinewidth\":0,\"ticks\":\"\"}}}],\"bar\":[{\"error_x\":{\"color\":\"#2a3f5f\"},\"error_y\":{\"color\":\"#2a3f5f\"},\"marker\":{\"line\":{\"color\":\"#E5ECF6\",\"width\":0.5},\"pattern\":{\"fillmode\":\"overlay\",\"size\":10,\"solidity\":0.2}},\"type\":\"bar\"}],\"scattergeo\":[{\"type\":\"scattergeo\",\"marker\":{\"colorbar\":{\"outlinewidth\":0,\"ticks\":\"\"}}}],\"scatterpolar\":[{\"type\":\"scatterpolar\",\"marker\":{\"colorbar\":{\"outlinewidth\":0,\"ticks\":\"\"}}}],\"histogram\":[{\"marker\":{\"pattern\":{\"fillmode\":\"overlay\",\"size\":10,\"solidity\":0.2}},\"type\":\"histogram\"}],\"scattergl\":[{\"type\":\"scattergl\",\"marker\":{\"colorbar\":{\"outlinewidth\":0,\"ticks\":\"\"}}}],\"scatter3d\":[{\"type\":\"scatter3d\",\"line\":{\"colorbar\":{\"outlinewidth\":0,\"ticks\":\"\"}},\"marker\":{\"colorbar\":{\"outlinewidth\":0,\"ticks\":\"\"}}}],\"scattermapbox\":[{\"type\":\"scattermapbox\",\"marker\":{\"colorbar\":{\"outlinewidth\":0,\"ticks\":\"\"}}}],\"scatterternary\":[{\"type\":\"scatterternary\",\"marker\":{\"colorbar\":{\"outlinewidth\":0,\"ticks\":\"\"}}}],\"scattercarpet\":[{\"type\":\"scattercarpet\",\"marker\":{\"colorbar\":{\"outlinewidth\":0,\"ticks\":\"\"}}}],\"carpet\":[{\"aaxis\":{\"endlinecolor\":\"#2a3f5f\",\"gridcolor\":\"white\",\"linecolor\":\"white\",\"minorgridcolor\":\"white\",\"startlinecolor\":\"#2a3f5f\"},\"baxis\":{\"endlinecolor\":\"#2a3f5f\",\"gridcolor\":\"white\",\"linecolor\":\"white\",\"minorgridcolor\":\"white\",\"startlinecolor\":\"#2a3f5f\"},\"type\":\"carpet\"}],\"table\":[{\"cells\":{\"fill\":{\"color\":\"#EBF0F8\"},\"line\":{\"color\":\"white\"}},\"header\":{\"fill\":{\"color\":\"#C8D4E3\"},\"line\":{\"color\":\"white\"}},\"type\":\"table\"}],\"barpolar\":[{\"marker\":{\"line\":{\"color\":\"#E5ECF6\",\"width\":0.5},\"pattern\":{\"fillmode\":\"overlay\",\"size\":10,\"solidity\":0.2}},\"type\":\"barpolar\"}],\"pie\":[{\"automargin\":true,\"type\":\"pie\"}]},\"layout\":{\"autotypenumbers\":\"strict\",\"colorway\":[\"#636efa\",\"#EF553B\",\"#00cc96\",\"#ab63fa\",\"#FFA15A\",\"#19d3f3\",\"#FF6692\",\"#B6E880\",\"#FF97FF\",\"#FECB52\"],\"font\":{\"color\":\"#2a3f5f\"},\"hovermode\":\"closest\",\"hoverlabel\":{\"align\":\"left\"},\"paper_bgcolor\":\"white\",\"plot_bgcolor\":\"#E5ECF6\",\"polar\":{\"bgcolor\":\"#E5ECF6\",\"angularaxis\":{\"gridcolor\":\"white\",\"linecolor\":\"white\",\"ticks\":\"\"},\"radialaxis\":{\"gridcolor\":\"white\",\"linecolor\":\"white\",\"ticks\":\"\"}},\"ternary\":{\"bgcolor\":\"#E5ECF6\",\"aaxis\":{\"gridcolor\":\"white\",\"linecolor\":\"white\",\"ticks\":\"\"},\"baxis\":{\"gridcolor\":\"white\",\"linecolor\":\"white\",\"ticks\":\"\"},\"caxis\":{\"gridcolor\":\"white\",\"linecolor\":\"white\",\"ticks\":\"\"}},\"coloraxis\":{\"colorbar\":{\"outlinewidth\":0,\"ticks\":\"\"}},\"colorscale\":{\"sequential\":[[0.0,\"#0d0887\"],[0.1111111111111111,\"#46039f\"],[0.2222222222222222,\"#7201a8\"],[0.3333333333333333,\"#9c179e\"],[0.4444444444444444,\"#bd3786\"],[0.5555555555555556,\"#d8576b\"],[0.6666666666666666,\"#ed7953\"],[0.7777777777777778,\"#fb9f3a\"],[0.8888888888888888,\"#fdca26\"],[1.0,\"#f0f921\"]],\"sequentialminus\":[[0.0,\"#0d0887\"],[0.1111111111111111,\"#46039f\"],[0.2222222222222222,\"#7201a8\"],[0.3333333333333333,\"#9c179e\"],[0.4444444444444444,\"#bd3786\"],[0.5555555555555556,\"#d8576b\"],[0.6666666666666666,\"#ed7953\"],[0.7777777777777778,\"#fb9f3a\"],[0.8888888888888888,\"#fdca26\"],[1.0,\"#f0f921\"]],\"diverging\":[[0,\"#8e0152\"],[0.1,\"#c51b7d\"],[0.2,\"#de77ae\"],[0.3,\"#f1b6da\"],[0.4,\"#fde0ef\"],[0.5,\"#f7f7f7\"],[0.6,\"#e6f5d0\"],[0.7,\"#b8e186\"],[0.8,\"#7fbc41\"],[0.9,\"#4d9221\"],[1,\"#276419\"]]},\"xaxis\":{\"gridcolor\":\"white\",\"linecolor\":\"white\",\"ticks\":\"\",\"title\":{\"standoff\":15},\"zerolinecolor\":\"white\",\"automargin\":true,\"zerolinewidth\":2},\"yaxis\":{\"gridcolor\":\"white\",\"linecolor\":\"white\",\"ticks\":\"\",\"title\":{\"standoff\":15},\"zerolinecolor\":\"white\",\"automargin\":true,\"zerolinewidth\":2},\"scene\":{\"xaxis\":{\"backgroundcolor\":\"#E5ECF6\",\"gridcolor\":\"white\",\"linecolor\":\"white\",\"showbackground\":true,\"ticks\":\"\",\"zerolinecolor\":\"white\",\"gridwidth\":2},\"yaxis\":{\"backgroundcolor\":\"#E5ECF6\",\"gridcolor\":\"white\",\"linecolor\":\"white\",\"showbackground\":true,\"ticks\":\"\",\"zerolinecolor\":\"white\",\"gridwidth\":2},\"zaxis\":{\"backgroundcolor\":\"#E5ECF6\",\"gridcolor\":\"white\",\"linecolor\":\"white\",\"showbackground\":true,\"ticks\":\"\",\"zerolinecolor\":\"white\",\"gridwidth\":2}},\"shapedefaults\":{\"line\":{\"color\":\"#2a3f5f\"}},\"annotationdefaults\":{\"arrowcolor\":\"#2a3f5f\",\"arrowhead\":0,\"arrowwidth\":1},\"geo\":{\"bgcolor\":\"white\",\"landcolor\":\"#E5ECF6\",\"subunitcolor\":\"white\",\"showland\":true,\"showlakes\":true,\"lakecolor\":\"white\"},\"title\":{\"x\":0.05},\"mapbox\":{\"style\":\"light\"}}},\"scene\":{\"domain\":{\"x\":[0.0,1.0],\"y\":[0.0,1.0]},\"xaxis\":{\"title\":{\"text\":\"temperature\"},\"nticks\":6,\"range\":[140,30]},\"yaxis\":{\"title\":{\"text\":\"time\"},\"nticks\":6,\"range\":[45,1]},\"zaxis\":{\"title\":{\"text\":\"mfp\"},\"nticks\":6,\"range\":[0.33,0.66]}},\"legend\":{\"title\":{\"text\":\"round\"},\"tracegroupgap\":0},\"margin\":{\"t\":1,\"l\":0,\"r\":0,\"b\":0},\"title\":{\"text\":\"3D Plot of the Inputs for the Continuous Flow Reaction\",\"y\":0.95,\"x\":0.5,\"xanchor\":\"center\",\"yanchor\":\"top\"}},                        {\"responsive\": true}                    ).then(function(){\n",
       "                            \n",
       "var gd = document.getElementById('4b0b3ade-b3c6-48e2-8eab-59241309521e');\n",
       "var x = new MutationObserver(function (mutations, observer) {{\n",
       "        var display = window.getComputedStyle(gd).display;\n",
       "        if (!display || display === 'none') {{\n",
       "            console.log([gd, 'removed!']);\n",
       "            Plotly.purge(gd);\n",
       "            observer.disconnect();\n",
       "        }}\n",
       "}});\n",
       "\n",
       "// Listen for the removal of the full notebook cells\n",
       "var notebookContainer = gd.closest('#notebook-container');\n",
       "if (notebookContainer) {{\n",
       "    x.observe(notebookContainer, {childList: true});\n",
       "}}\n",
       "\n",
       "// Listen for the clearing of the current output cell\n",
       "var outputEl = gd.closest('.output');\n",
       "if (outputEl) {{\n",
       "    x.observe(outputEl, {childList: true});\n",
       "}}\n",
       "\n",
       "                        })                };                });            </script>        </div>"
      ]
     },
     "metadata": {},
     "output_type": "display_data"
    },
    {
     "name": "stdout",
     "output_type": "stream",
     "text": [
      "iteration 0 already exists\n",
      "iteration 1 already exists\n",
      "iteration 2 already exists\n",
      "iteration 3 already exists\n",
      "iteration 4 already exists\n",
      "iteration 5 already exists\n",
      "iteration 6 already exists\n",
      "iteration 7 already exists\n",
      "iteration 8 already exists\n",
      "iteration 9 already exists\n",
      "iteration 10 already exists\n",
      "iteration 11 already exists\n",
      "iteration 12 already exists\n",
      "iteration 13 already exists\n",
      "iteration 14 already exists\n",
      "iteration 15 already exists\n"
     ]
    }
   ],
   "source": [
    "#convert csv into df\n",
    "\n",
    "#df of reaction data\n",
    "df = pd.read_csv('reaction.csv')\n",
    "\n",
    "#Create a df to plot points \n",
    "\n",
    "#turn all pending data to NaN\n",
    "df = df.replace('PENDING',pd.NaT)\n",
    "#delete all the NaN data points \n",
    "df = df.dropna(axis=0)\n",
    "\n",
    "\n",
    "#turn data from string to numeric (the pending made them strings)\n",
    "df['production_rate_(g/hr)'] = df['production_rate_(g/hr)'].apply(pd.to_numeric)\n",
    "df['yield'] = df['yield'].apply(pd.to_numeric)\n",
    "#df['round'] = df['round'].apply(pd.to_numeric)\n",
    "df = df.sort_values(by='round', ascending=True)\n",
    "\n",
    "#print(df.iloc[10,6])\n",
    "#length of results\n",
    "results_length = []\n",
    "#loop through all results (-1 means it is a result)\n",
    "for i in range(len(df['priority']==-1)):\n",
    "    results_length.append(i)\n",
    "#max value of yield and production\n",
    "max_value_yield = df['yield'].max()\n",
    "max_value_production_rate = df['production_rate_(g/hr)'].max()\n",
    "\n",
    "#convert to numpy array for plotting in plotly\n",
    "pareto_x = df['yield'].to_numpy()\n",
    "pareto_y =df['production_rate_(g/hr)'].to_numpy()\n",
    "\n",
    "\n",
    "################################\n",
    "fig_3d = px.scatter_3d(data_frame=df, x='temperature', y='time', z='mfp', color = 'round', hover_name = 'yield', hover_data = ['yield'],color_continuous_scale=px.colors.sequential.Greys,color_discrete_sequence= px.colors.sequential.gray_r)\n",
    "fig_3d.update_traces(marker=dict(size=7))\n",
    "fig_3d.update_layout(\n",
    "    scene = dict(\n",
    "        xaxis=dict(nticks=6,range=[140,30]),\n",
    "        yaxis=dict(nticks=6,range=[45,1]),\n",
    "        zaxis=dict(nticks=6,range=[0.33,0.66])\n",
    "    ),\n",
    "    title={\n",
    "        'text': \"3D Plot of the Inputs for the Continuous Flow Reaction\",\n",
    "        'y':0.9,\n",
    "        'x':0.5,\n",
    "        'xanchor': 'center',\n",
    "        'yanchor': 'top'},\n",
    "        title_y=0.95,\n",
    "        margin=dict(l=0,r=0,b=0,t=1)\n",
    "        )   \n",
    "fig_3d.show() \n",
    "\n",
    "fig_3d.write_html(\"plots/3d_plots/final_round/3d_final_round.html\")\n",
    "if not os.path.exists(\"plots/3d_plots/final_round\"):\n",
    "    os.mkdir(\"plots/3d_plots/final_round\")\n",
    "for i in range(0,100):\n",
    "    if not os.path.exists(\"plots/3d_plots/final_round/3d_final_round{}.png\".format(i)):\n",
    "        fig_3d.write_image(\"plots/3d_plots/final_round/3d_final_round{}.png\".format(i))\n",
    "        break\n",
    "    else:\n",
    "        print('iteration {} already exists'.format(i))\n",
    "\n",
    "import plotly.io as pio\n",
    "pio.write_image(fig_3d, 'parameter_space9.png', width=900, height=900)"
   ]
  },
  {
   "cell_type": "code",
   "execution_count": null,
   "metadata": {},
   "outputs": [],
   "source": []
  },
  {
   "cell_type": "markdown",
   "metadata": {},
   "source": [
    "# Machine Learning Model\n",
    "#### Use the notebook CFR_ML_model to use the machine learning models"
   ]
  }
 ],
 "metadata": {
  "kernelspec": {
   "display_name": "Python 3.7.13 ('edbo': conda)",
   "language": "python",
   "name": "python3"
  },
  "language_info": {
   "codemirror_mode": {
    "name": "ipython",
    "version": 3
   },
   "file_extension": ".py",
   "mimetype": "text/x-python",
   "name": "python",
   "nbconvert_exporter": "python",
   "pygments_lexer": "ipython3",
   "version": "3.7.13"
  },
  "orig_nbformat": 2,
  "vscode": {
   "interpreter": {
    "hash": "688f7dd3551650c9559319d7c89d4a59166cbf33a15da892d7723f56b906c608"
   }
  }
 },
 "nbformat": 4,
 "nbformat_minor": 2
}
